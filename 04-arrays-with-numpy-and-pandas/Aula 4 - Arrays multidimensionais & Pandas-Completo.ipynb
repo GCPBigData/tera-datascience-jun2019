{
 "cells": [
  {
   "cell_type": "markdown",
   "metadata": {},
   "source": [
    "# Aula 6 - Análise de dados com ARRAYS Multidimensionais\n",
    "![image.png](https://somostera.com/wp-content/uploads/2017/08/Tera_logo_250.jpg)"
   ]
  },
  {
   "cell_type": "code",
   "execution_count": null,
   "metadata": {},
   "outputs": [],
   "source": []
  },
  {
   "cell_type": "markdown",
   "metadata": {
    "ExecuteTime": {
     "end_time": "2019-02-19T01:18:38.427639Z",
     "start_time": "2019-02-19T01:18:38.419642Z"
    }
   },
   "source": [
    "## Warm Up\n",
    "\n",
    "![image.png](https://media.giphy.com/media/xUA7b71qSL8niEMWU8/giphy.gif)"
   ]
  },
  {
   "cell_type": "markdown",
   "metadata": {},
   "source": [
    "## Expectativas!\n",
    "\n",
    "O que vocês esperam da aula de hoje?\n",
    "\n",
    "![image.png](https://img.buzzfeed.com/buzzfeed-static/static/enhanced/web04/2012/2/14/17/enhanced-buzz-8358-1329258536-95.jpg?downsize=800:*&output-format=auto&output-quality=auto)"
   ]
  },
  {
   "cell_type": "markdown",
   "metadata": {
    "ExecuteTime": {
     "end_time": "2019-02-19T01:25:09.915383Z",
     "start_time": "2019-02-19T01:25:09.907385Z"
    }
   },
   "source": [
    "# Índice\n",
    "\n",
    "- [WTF](#WTF??)\n",
    "- [Vantagem](#Tá,-qual-é-a-vantagem?)\n",
    "- [Universo Mágico das matrizes e álgebra linear](#NumPy-e-o-mágico-universo-das-matrizes-e-álgebra-linear)\n",
    "- [Mãos na massa](#Mãos-na-massa)\n",
    "- [Ferramentas legais](#Ferramentas-legais)\n",
    "- [Jogo rápido](#Jogo-rápido:)\n",
    "- [Array ou list?](#Array-ou-list?)\n",
    "- [Geradores](#Geradores)\n",
    "- [Indexação e atribuições](#Indexação-e-atribuições)\n",
    "- [Slicing](#Slicing)\n",
    "- [Bora trabalhar?](#Bora-trabalhar?)\n",
    "- [Máscaras Booleanas](#Acesso-com-máscaras-booleanas)\n",
    "- [Operações Matemáticas](#Operações-matemáticas-com-arrays)\n",
    "- [Operações Lógicas](#Operações-lógicas)\n",
    "- [Exercícios](#Exercícios!)\n",
    "- [Diferença entre View e Copy](#Views-vs-Copy)\n",
    "- [Usando imagens para explorar arrays](#Usando-imagens-para-explorar-arrays)\n",
    "- [Funções](#Funções)\n",
    "- [Gráficos](#Gráficos!)\n",
    "- [Exercícios](#Exercícios)\n",
    "- [Agregações](#Agregações)\n",
    "- [Outliers](#Outliers)"
   ]
  },
  {
   "cell_type": "markdown",
   "metadata": {
    "ExecuteTime": {
     "end_time": "2019-02-19T01:12:07.330827Z",
     "start_time": "2019-02-19T01:12:07.202841Z"
    }
   },
   "source": [
    "### WTF??\n",
    "\n",
    "![image.png](https://media.giphy.com/media/1PRfJv5tXRive/giphy.gif)"
   ]
  },
  {
   "cell_type": "markdown",
   "metadata": {},
   "source": [
    "Por partes:\n",
    "* _array_ é um vetor. Um vetor é uma lista!\n",
    "\n",
    "![image.png](https://imagens-revista.vivadecora.com.br/uploads/2018/04/Lista-de-compras-no-papel.jpg)\n",
    "\n",
    "* Um _array_ de duas dimensões é uma lista de listas.\n",
    "\n",
    "* _array_ multidimensional é um _array_ de _arrays_ ou uma lista de listas.\n",
    "![image.png](https://media.giphy.com/media/nMiaaz3g6SjrW/giphy.gif)\n",
    "\n",
    "### Tá, qual é a vantagem?"
   ]
  },
  {
   "cell_type": "code",
   "execution_count": null,
   "metadata": {
    "ExecuteTime": {
     "end_time": "2019-02-19T09:34:53.253960Z",
     "start_time": "2019-02-19T09:34:53.226972Z"
    }
   },
   "outputs": [],
   "source": [
    "\"\"\"\n",
    ".\n",
    ".\n",
    ".\n",
    ".\n",
    ".\n",
    ".\n",
    ".\n",
    ".\n",
    ".\n",
    ".\n",
    ".\n",
    ".\n",
    ".\n",
    ".\n",
    ".\n",
    ".\n",
    ".\n",
    ".\n",
    ".\n",
    ".\n",
    ".\n",
    ".\n",
    ".\n",
    ".\n",
    ".\n",
    ".\n",
    ".\n",
    ".\n",
    ".\n",
    ".\n",
    ".\n",
    ".\n",
    ".\n",
    ".\n",
    ".\n",
    ".\n",
    ".\n",
    ".\n",
    ".\n",
    ".\n",
    ".\n",
    ".\"\"\""
   ]
  },
  {
   "cell_type": "markdown",
   "metadata": {},
   "source": [
    "> - Alocação na memória\n",
    "- Operações com vetores\n",
    "- Seleções booleanas\n",
    "- Seleção e filtros\n",
    "\n",
    "![image.png](https://cdn-images-1.medium.com/max/1250/1*Ikn1J6siiiCSk4ivYUhdgw.png)\n",
    "\n",
    "\n",
    "## NumPy e o mágico universo das matrizes e álgebra linear\n",
    "NumPy vem de _Numerical Python_ e é uma biblioteca que permite a manipulação de dados em _arrays_.\n",
    "* Agora podemos ter sequências de valores n-dimensionais!\n",
    "* Construção de matrizes e, por sua vez, usar álgebra linear (cenas dos próximos episódios, em _machine learning_).\n",
    "    * Pandas <3\n",
    "* Um mundo de facilidade na manipulação de dados!\n",
    "\n",
    "Mais detalhes em: http://www.numpy.org/"
   ]
  },
  {
   "cell_type": "markdown",
   "metadata": {},
   "source": [
    ">Antes do NumPy, coisas muito simples ficavam consideravelmente complexas.\n",
    "Vamos criar um vetor e multiplicar cada um dos elementos dele por 2 e depois somar 5"
   ]
  },
  {
   "cell_type": "markdown",
   "metadata": {
    "ExecuteTime": {
     "end_time": "2019-02-16T21:05:22.681338Z",
     "start_time": "2019-02-16T21:05:22.677343Z"
    }
   },
   "source": [
    "### Ah! Sem NUMPY"
   ]
  },
  {
   "cell_type": "code",
   "execution_count": 1,
   "metadata": {
    "ExecuteTime": {
     "end_time": "2019-02-21T22:33:35.684512Z",
     "start_time": "2019-02-21T22:33:35.679520Z"
    }
   },
   "outputs": [],
   "source": [
    "vector = [-3, 10, 0, -15, -6]"
   ]
  },
  {
   "cell_type": "markdown",
   "metadata": {},
   "source": [
    "> Exercício"
   ]
  },
  {
   "cell_type": "code",
   "execution_count": 5,
   "metadata": {
    "ExecuteTime": {
     "end_time": "2019-02-21T22:43:44.856983Z",
     "start_time": "2019-02-21T22:43:44.837993Z"
    }
   },
   "outputs": [
    {
     "data": {
      "text/plain": [
       "[-1, 25, 5, -25, -7]"
      ]
     },
     "execution_count": 5,
     "metadata": {},
     "output_type": "execute_result"
    }
   ],
   "source": [
    "vector = [-3*2+5, 10*2+5, 0*2+5, -15*2+5, -6*2+5]\n",
    "vector"
   ]
  },
  {
   "cell_type": "code",
   "execution_count": 4,
   "metadata": {
    "ExecuteTime": {
     "end_time": "2019-02-21T22:43:22.874595Z",
     "start_time": "2019-02-21T22:43:22.869598Z"
    }
   },
   "outputs": [
    {
     "name": "stdout",
     "output_type": "stream",
     "text": [
      "[-1, 25, 5, -25, -7]\n"
     ]
    }
   ],
   "source": [
    "print(vector)"
   ]
  },
  {
   "cell_type": "code",
   "execution_count": null,
   "metadata": {},
   "outputs": [],
   "source": []
  },
  {
   "cell_type": "markdown",
   "metadata": {},
   "source": [
    "**E com NumPy?**"
   ]
  },
  {
   "cell_type": "code",
   "execution_count": 7,
   "metadata": {
    "ExecuteTime": {
     "end_time": "2019-02-21T22:48:33.630061Z",
     "start_time": "2019-02-21T22:48:33.620068Z"
    }
   },
   "outputs": [],
   "source": [
    "# mais práticas de programação: vamos importar as bibliotecas agora\n",
    "import numpy as np\n",
    "import matplotlib.pyplot as plt\n",
    "#import utils\n",
    "import pandas as pd\n",
    "\n",
    "%matplotlib inline"
   ]
  },
  {
   "cell_type": "code",
   "execution_count": 8,
   "metadata": {
    "ExecuteTime": {
     "end_time": "2019-02-21T22:50:56.390512Z",
     "start_time": "2019-02-21T22:50:56.385514Z"
    }
   },
   "outputs": [],
   "source": [
    "vector_np = np.array(vector)"
   ]
  },
  {
   "cell_type": "code",
   "execution_count": 9,
   "metadata": {
    "ExecuteTime": {
     "end_time": "2019-02-21T22:51:00.711196Z",
     "start_time": "2019-02-21T22:51:00.705203Z"
    }
   },
   "outputs": [
    {
     "name": "stdout",
     "output_type": "stream",
     "text": [
      "<class 'list'>\n",
      "<class 'numpy.ndarray'>\n"
     ]
    }
   ],
   "source": [
    "print(type(vector))\n",
    "print(type(vector_np))"
   ]
  },
  {
   "cell_type": "code",
   "execution_count": 10,
   "metadata": {
    "ExecuteTime": {
     "end_time": "2019-02-21T22:51:55.424759Z",
     "start_time": "2019-02-21T22:51:55.418761Z"
    }
   },
   "outputs": [
    {
     "data": {
      "text/plain": [
       "array([  3,  55,  15, -45,  -9])"
      ]
     },
     "execution_count": 10,
     "metadata": {},
     "output_type": "execute_result"
    }
   ],
   "source": [
    "(vector_np * 2) + 5"
   ]
  },
  {
   "cell_type": "markdown",
   "metadata": {},
   "source": [
    "### Hum, e como o Python entende um vetor do tipo lista??"
   ]
  },
  {
   "cell_type": "code",
   "execution_count": 12,
   "metadata": {
    "ExecuteTime": {
     "end_time": "2019-02-21T22:52:54.969921Z",
     "start_time": "2019-02-21T22:52:54.963927Z"
    }
   },
   "outputs": [
    {
     "data": {
      "text/plain": [
       "[-1, 25, 5, -25, -7, -1, 25, 5, -25, -7]"
      ]
     },
     "execution_count": 12,
     "metadata": {},
     "output_type": "execute_result"
    }
   ],
   "source": [
    "vector * 2\n",
    "#\n",
    "\"\"\"\n",
    "uidsuhduhud\n",
    "djosidosjosij\n",
    "ojidsijdois\n",
    "\"\"\""
   ]
  },
  {
   "cell_type": "markdown",
   "metadata": {},
   "source": [
    "#### A vida é mais bonita e natural com NumPy\n",
    "\n",
    "![img](http://gifs.eco.br/wp-content/uploads/2017/12/Gif-de-Cora%C3%A7%C3%A3o-Batendo.gif)\n",
    "\n",
    "### Mãos na massa\n",
    "Você é responsável pelo estoque de uma distribuidora e precisa calcular o preço total de uma compra. Como faz? (Nota: pensar em algoritmos é quebrar um grande problema em problemas menores.)\n",
    "* Cada item tem um preço.\n",
    "* Se mais de uma unidade de um item é comprada, o preço é multiplicado pela quantidade de itens.\n",
    "* Total da compra é a soma da multiplicação."
   ]
  },
  {
   "cell_type": "code",
   "execution_count": 1,
   "metadata": {
    "ExecuteTime": {
     "end_time": "2019-05-16T22:58:14.231170Z",
     "start_time": "2019-05-16T22:58:14.224175Z"
    }
   },
   "outputs": [],
   "source": [
    "n_items = np.array([101,   42,   18,   12,   5,  134])           # quantidade de itens comprados\n",
    "prices  = np.array([12.2, 3.9, 15.0, 2.75, 1.1, 0.99])"
   ]
  },
  {
   "cell_type": "markdown",
   "metadata": {},
   "source": [
    "![image.png](https://www.ethic.ninja/wp-content/uploads/2017/11/challenge-accepted-gif-9.gif)"
   ]
  },
  {
   "cell_type": "code",
   "execution_count": 18,
   "metadata": {
    "ExecuteTime": {
     "end_time": "2019-02-21T23:06:08.576673Z",
     "start_time": "2019-02-21T23:06:08.566687Z"
    }
   },
   "outputs": [
    {
     "data": {
      "text/plain": [
       "1837.1599999999999"
      ]
     },
     "execution_count": 18,
     "metadata": {},
     "output_type": "execute_result"
    }
   ],
   "source": [
    "# sem vantagens NumPy\n",
    "cost = 0\n",
    "for i in range(len(n_items)):\n",
    "    cost += n_items[i] * prices[i]\n",
    "    \n",
    "cost"
   ]
  },
  {
   "cell_type": "code",
   "execution_count": 19,
   "metadata": {
    "ExecuteTime": {
     "end_time": "2019-02-21T23:06:57.727684Z",
     "start_time": "2019-02-21T23:06:57.720691Z"
    }
   },
   "outputs": [
    {
     "data": {
      "text/plain": [
       "1837.1599999999999"
      ]
     },
     "execution_count": 19,
     "metadata": {},
     "output_type": "execute_result"
    }
   ],
   "source": [
    "# com vantagens NumPy\n",
    "np.sum(n_items * prices)"
   ]
  },
  {
   "cell_type": "markdown",
   "metadata": {},
   "source": [
    "#### Convencidos?\n",
    "E a mágica não para por aí...\n",
    "\n",
    "Podemos definir _arrays_ NumPy passando listas, como já vimos:"
   ]
  },
  {
   "cell_type": "code",
   "execution_count": null,
   "metadata": {},
   "outputs": [],
   "source": [
    "#-- bibliotecas para instalar\n",
    "#!pip install pandas-datareader\n",
    "#!conda install -c anaconda pandas-datareader "
   ]
  },
  {
   "cell_type": "code",
   "execution_count": null,
   "metadata": {},
   "outputs": [],
   "source": [
    "import sys\n",
    "!conda install --yes --prefix {sys.prefix} pandas-datareader"
   ]
  },
  {
   "cell_type": "code",
   "execution_count": 1,
   "metadata": {
    "ExecuteTime": {
     "end_time": "2019-02-21T23:14:11.582958Z",
     "start_time": "2019-02-21T23:14:07.974022Z"
    }
   },
   "outputs": [],
   "source": [
    "from datetime import date\n",
    "from pandas_datareader.data import DataReader"
   ]
  },
  {
   "cell_type": "code",
   "execution_count": 2,
   "metadata": {
    "ExecuteTime": {
     "end_time": "2019-02-21T23:19:48.648910Z",
     "start_time": "2019-02-21T23:19:48.641913Z"
    }
   },
   "outputs": [],
   "source": [
    "#-- difinindo as datas de exportação\n",
    "start = date(2019, 3, 1)\n",
    "end = date(2019, 4, 30)"
   ]
  },
  {
   "cell_type": "code",
   "execution_count": 3,
   "metadata": {
    "ExecuteTime": {
     "end_time": "2019-02-21T23:20:47.157192Z",
     "start_time": "2019-02-21T23:20:46.514242Z"
    }
   },
   "outputs": [],
   "source": [
    "#-- pegando os dados do google\n",
    "ticker = 'GOOG'\n",
    "data_source = 'yahoo'\n",
    "stock_data_google = DataReader(ticker, data_source, start, end)"
   ]
  },
  {
   "cell_type": "code",
   "execution_count": 4,
   "metadata": {
    "ExecuteTime": {
     "end_time": "2019-02-21T23:20:50.438789Z",
     "start_time": "2019-02-21T23:20:50.331848Z"
    }
   },
   "outputs": [
    {
     "data": {
      "text/html": [
       "<div>\n",
       "<style scoped>\n",
       "    .dataframe tbody tr th:only-of-type {\n",
       "        vertical-align: middle;\n",
       "    }\n",
       "\n",
       "    .dataframe tbody tr th {\n",
       "        vertical-align: top;\n",
       "    }\n",
       "\n",
       "    .dataframe thead th {\n",
       "        text-align: right;\n",
       "    }\n",
       "</style>\n",
       "<table border=\"1\" class=\"dataframe\">\n",
       "  <thead>\n",
       "    <tr style=\"text-align: right;\">\n",
       "      <th></th>\n",
       "      <th>High</th>\n",
       "      <th>Low</th>\n",
       "      <th>Open</th>\n",
       "      <th>Close</th>\n",
       "      <th>Volume</th>\n",
       "      <th>Adj Close</th>\n",
       "    </tr>\n",
       "    <tr>\n",
       "      <th>Date</th>\n",
       "      <th></th>\n",
       "      <th></th>\n",
       "      <th></th>\n",
       "      <th></th>\n",
       "      <th></th>\n",
       "      <th></th>\n",
       "    </tr>\n",
       "  </thead>\n",
       "  <tbody>\n",
       "    <tr>\n",
       "      <th>2019-03-01</th>\n",
       "      <td>1142.969971</td>\n",
       "      <td>1124.750000</td>\n",
       "      <td>1124.900024</td>\n",
       "      <td>1140.989990</td>\n",
       "      <td>1450300</td>\n",
       "      <td>1140.989990</td>\n",
       "    </tr>\n",
       "    <tr>\n",
       "      <th>2019-03-04</th>\n",
       "      <td>1158.280029</td>\n",
       "      <td>1130.689941</td>\n",
       "      <td>1146.989990</td>\n",
       "      <td>1147.800049</td>\n",
       "      <td>1446000</td>\n",
       "      <td>1147.800049</td>\n",
       "    </tr>\n",
       "    <tr>\n",
       "      <th>2019-03-05</th>\n",
       "      <td>1169.609985</td>\n",
       "      <td>1146.194946</td>\n",
       "      <td>1150.060059</td>\n",
       "      <td>1162.030029</td>\n",
       "      <td>1443200</td>\n",
       "      <td>1162.030029</td>\n",
       "    </tr>\n",
       "    <tr>\n",
       "      <th>2019-03-06</th>\n",
       "      <td>1167.566040</td>\n",
       "      <td>1155.489990</td>\n",
       "      <td>1162.489990</td>\n",
       "      <td>1157.859985</td>\n",
       "      <td>1099300</td>\n",
       "      <td>1157.859985</td>\n",
       "    </tr>\n",
       "    <tr>\n",
       "      <th>2019-03-07</th>\n",
       "      <td>1156.755005</td>\n",
       "      <td>1134.910034</td>\n",
       "      <td>1155.719971</td>\n",
       "      <td>1143.300049</td>\n",
       "      <td>1166100</td>\n",
       "      <td>1143.300049</td>\n",
       "    </tr>\n",
       "    <tr>\n",
       "      <th>2019-03-08</th>\n",
       "      <td>1147.079956</td>\n",
       "      <td>1123.300049</td>\n",
       "      <td>1126.729980</td>\n",
       "      <td>1142.319946</td>\n",
       "      <td>1212400</td>\n",
       "      <td>1142.319946</td>\n",
       "    </tr>\n",
       "    <tr>\n",
       "      <th>2019-03-11</th>\n",
       "      <td>1176.189941</td>\n",
       "      <td>1144.449951</td>\n",
       "      <td>1144.449951</td>\n",
       "      <td>1175.760010</td>\n",
       "      <td>1719200</td>\n",
       "      <td>1175.760010</td>\n",
       "    </tr>\n",
       "    <tr>\n",
       "      <th>2019-03-12</th>\n",
       "      <td>1200.000000</td>\n",
       "      <td>1178.260010</td>\n",
       "      <td>1178.260010</td>\n",
       "      <td>1193.199951</td>\n",
       "      <td>2013100</td>\n",
       "      <td>1193.199951</td>\n",
       "    </tr>\n",
       "    <tr>\n",
       "      <th>2019-03-13</th>\n",
       "      <td>1200.930054</td>\n",
       "      <td>1191.939941</td>\n",
       "      <td>1200.645020</td>\n",
       "      <td>1193.319946</td>\n",
       "      <td>1435900</td>\n",
       "      <td>1193.319946</td>\n",
       "    </tr>\n",
       "    <tr>\n",
       "      <th>2019-03-14</th>\n",
       "      <td>1197.880005</td>\n",
       "      <td>1184.479980</td>\n",
       "      <td>1194.510010</td>\n",
       "      <td>1185.550049</td>\n",
       "      <td>1172800</td>\n",
       "      <td>1185.550049</td>\n",
       "    </tr>\n",
       "    <tr>\n",
       "      <th>2019-03-15</th>\n",
       "      <td>1196.569946</td>\n",
       "      <td>1182.609985</td>\n",
       "      <td>1193.380005</td>\n",
       "      <td>1184.459961</td>\n",
       "      <td>2461800</td>\n",
       "      <td>1184.459961</td>\n",
       "    </tr>\n",
       "    <tr>\n",
       "      <th>2019-03-18</th>\n",
       "      <td>1190.000000</td>\n",
       "      <td>1177.421021</td>\n",
       "      <td>1183.300049</td>\n",
       "      <td>1184.260010</td>\n",
       "      <td>1292600</td>\n",
       "      <td>1184.260010</td>\n",
       "    </tr>\n",
       "    <tr>\n",
       "      <th>2019-03-19</th>\n",
       "      <td>1200.000000</td>\n",
       "      <td>1185.869995</td>\n",
       "      <td>1188.810059</td>\n",
       "      <td>1198.849976</td>\n",
       "      <td>1520700</td>\n",
       "      <td>1198.849976</td>\n",
       "    </tr>\n",
       "    <tr>\n",
       "      <th>2019-03-20</th>\n",
       "      <td>1227.140015</td>\n",
       "      <td>1196.170044</td>\n",
       "      <td>1197.349976</td>\n",
       "      <td>1223.969971</td>\n",
       "      <td>2227400</td>\n",
       "      <td>1223.969971</td>\n",
       "    </tr>\n",
       "    <tr>\n",
       "      <th>2019-03-21</th>\n",
       "      <td>1231.790039</td>\n",
       "      <td>1213.150024</td>\n",
       "      <td>1216.000000</td>\n",
       "      <td>1231.540039</td>\n",
       "      <td>1204000</td>\n",
       "      <td>1231.540039</td>\n",
       "    </tr>\n",
       "    <tr>\n",
       "      <th>2019-03-22</th>\n",
       "      <td>1230.000000</td>\n",
       "      <td>1202.824951</td>\n",
       "      <td>1226.319946</td>\n",
       "      <td>1205.500000</td>\n",
       "      <td>1714200</td>\n",
       "      <td>1205.500000</td>\n",
       "    </tr>\n",
       "    <tr>\n",
       "      <th>2019-03-25</th>\n",
       "      <td>1206.397949</td>\n",
       "      <td>1187.040039</td>\n",
       "      <td>1196.930054</td>\n",
       "      <td>1193.000000</td>\n",
       "      <td>1496800</td>\n",
       "      <td>1193.000000</td>\n",
       "    </tr>\n",
       "    <tr>\n",
       "      <th>2019-03-26</th>\n",
       "      <td>1202.829956</td>\n",
       "      <td>1176.719971</td>\n",
       "      <td>1198.530029</td>\n",
       "      <td>1184.619995</td>\n",
       "      <td>1901200</td>\n",
       "      <td>1184.619995</td>\n",
       "    </tr>\n",
       "    <tr>\n",
       "      <th>2019-03-27</th>\n",
       "      <td>1187.558960</td>\n",
       "      <td>1159.369995</td>\n",
       "      <td>1185.500000</td>\n",
       "      <td>1173.020020</td>\n",
       "      <td>1400200</td>\n",
       "      <td>1173.020020</td>\n",
       "    </tr>\n",
       "    <tr>\n",
       "      <th>2019-03-28</th>\n",
       "      <td>1171.564941</td>\n",
       "      <td>1159.431030</td>\n",
       "      <td>1171.540039</td>\n",
       "      <td>1168.489990</td>\n",
       "      <td>1012400</td>\n",
       "      <td>1168.489990</td>\n",
       "    </tr>\n",
       "    <tr>\n",
       "      <th>2019-03-29</th>\n",
       "      <td>1178.989990</td>\n",
       "      <td>1162.880005</td>\n",
       "      <td>1174.900024</td>\n",
       "      <td>1173.310059</td>\n",
       "      <td>1269900</td>\n",
       "      <td>1173.310059</td>\n",
       "    </tr>\n",
       "    <tr>\n",
       "      <th>2019-04-01</th>\n",
       "      <td>1196.660034</td>\n",
       "      <td>1182.000000</td>\n",
       "      <td>1184.099976</td>\n",
       "      <td>1194.430054</td>\n",
       "      <td>1252500</td>\n",
       "      <td>1194.430054</td>\n",
       "    </tr>\n",
       "    <tr>\n",
       "      <th>2019-04-02</th>\n",
       "      <td>1201.349976</td>\n",
       "      <td>1185.709961</td>\n",
       "      <td>1195.319946</td>\n",
       "      <td>1200.489990</td>\n",
       "      <td>827900</td>\n",
       "      <td>1200.489990</td>\n",
       "    </tr>\n",
       "    <tr>\n",
       "      <th>2019-04-03</th>\n",
       "      <td>1216.300049</td>\n",
       "      <td>1200.500000</td>\n",
       "      <td>1207.479980</td>\n",
       "      <td>1205.920044</td>\n",
       "      <td>1017800</td>\n",
       "      <td>1205.920044</td>\n",
       "    </tr>\n",
       "    <tr>\n",
       "      <th>2019-04-04</th>\n",
       "      <td>1215.670044</td>\n",
       "      <td>1204.130005</td>\n",
       "      <td>1205.939941</td>\n",
       "      <td>1215.000000</td>\n",
       "      <td>950000</td>\n",
       "      <td>1215.000000</td>\n",
       "    </tr>\n",
       "    <tr>\n",
       "      <th>2019-04-05</th>\n",
       "      <td>1216.219971</td>\n",
       "      <td>1205.030029</td>\n",
       "      <td>1214.989990</td>\n",
       "      <td>1207.150024</td>\n",
       "      <td>907200</td>\n",
       "      <td>1207.150024</td>\n",
       "    </tr>\n",
       "    <tr>\n",
       "      <th>2019-04-08</th>\n",
       "      <td>1208.689941</td>\n",
       "      <td>1199.859985</td>\n",
       "      <td>1207.890015</td>\n",
       "      <td>1203.839966</td>\n",
       "      <td>860200</td>\n",
       "      <td>1203.839966</td>\n",
       "    </tr>\n",
       "    <tr>\n",
       "      <th>2019-04-09</th>\n",
       "      <td>1202.290039</td>\n",
       "      <td>1193.079956</td>\n",
       "      <td>1196.000000</td>\n",
       "      <td>1197.250000</td>\n",
       "      <td>876400</td>\n",
       "      <td>1197.250000</td>\n",
       "    </tr>\n",
       "    <tr>\n",
       "      <th>2019-04-10</th>\n",
       "      <td>1203.785034</td>\n",
       "      <td>1196.435059</td>\n",
       "      <td>1200.680054</td>\n",
       "      <td>1202.160034</td>\n",
       "      <td>724600</td>\n",
       "      <td>1202.160034</td>\n",
       "    </tr>\n",
       "    <tr>\n",
       "      <th>2019-04-11</th>\n",
       "      <td>1207.959961</td>\n",
       "      <td>1200.130005</td>\n",
       "      <td>1203.959961</td>\n",
       "      <td>1204.619995</td>\n",
       "      <td>710200</td>\n",
       "      <td>1204.619995</td>\n",
       "    </tr>\n",
       "    <tr>\n",
       "      <th>2019-04-12</th>\n",
       "      <td>1218.349976</td>\n",
       "      <td>1208.109985</td>\n",
       "      <td>1210.000000</td>\n",
       "      <td>1217.869995</td>\n",
       "      <td>933400</td>\n",
       "      <td>1217.869995</td>\n",
       "    </tr>\n",
       "    <tr>\n",
       "      <th>2019-04-15</th>\n",
       "      <td>1224.199951</td>\n",
       "      <td>1209.109985</td>\n",
       "      <td>1218.000000</td>\n",
       "      <td>1221.099976</td>\n",
       "      <td>1187400</td>\n",
       "      <td>1221.099976</td>\n",
       "    </tr>\n",
       "    <tr>\n",
       "      <th>2019-04-16</th>\n",
       "      <td>1230.819946</td>\n",
       "      <td>1220.119995</td>\n",
       "      <td>1225.000000</td>\n",
       "      <td>1227.130005</td>\n",
       "      <td>856300</td>\n",
       "      <td>1227.130005</td>\n",
       "    </tr>\n",
       "    <tr>\n",
       "      <th>2019-04-17</th>\n",
       "      <td>1240.560059</td>\n",
       "      <td>1227.819946</td>\n",
       "      <td>1233.000000</td>\n",
       "      <td>1236.339966</td>\n",
       "      <td>1221900</td>\n",
       "      <td>1236.339966</td>\n",
       "    </tr>\n",
       "    <tr>\n",
       "      <th>2019-04-18</th>\n",
       "      <td>1242.000000</td>\n",
       "      <td>1234.609985</td>\n",
       "      <td>1239.180054</td>\n",
       "      <td>1236.369995</td>\n",
       "      <td>1331800</td>\n",
       "      <td>1236.369995</td>\n",
       "    </tr>\n",
       "    <tr>\n",
       "      <th>2019-04-22</th>\n",
       "      <td>1249.089966</td>\n",
       "      <td>1228.310059</td>\n",
       "      <td>1235.989990</td>\n",
       "      <td>1248.839966</td>\n",
       "      <td>807300</td>\n",
       "      <td>1248.839966</td>\n",
       "    </tr>\n",
       "    <tr>\n",
       "      <th>2019-04-23</th>\n",
       "      <td>1269.000000</td>\n",
       "      <td>1246.380005</td>\n",
       "      <td>1250.689941</td>\n",
       "      <td>1264.550049</td>\n",
       "      <td>1319900</td>\n",
       "      <td>1264.550049</td>\n",
       "    </tr>\n",
       "    <tr>\n",
       "      <th>2019-04-24</th>\n",
       "      <td>1268.010010</td>\n",
       "      <td>1255.000000</td>\n",
       "      <td>1264.119995</td>\n",
       "      <td>1256.000000</td>\n",
       "      <td>1018800</td>\n",
       "      <td>1256.000000</td>\n",
       "    </tr>\n",
       "    <tr>\n",
       "      <th>2019-04-25</th>\n",
       "      <td>1267.407959</td>\n",
       "      <td>1252.030029</td>\n",
       "      <td>1264.770020</td>\n",
       "      <td>1263.449951</td>\n",
       "      <td>1107300</td>\n",
       "      <td>1263.449951</td>\n",
       "    </tr>\n",
       "    <tr>\n",
       "      <th>2019-04-26</th>\n",
       "      <td>1273.069946</td>\n",
       "      <td>1260.319946</td>\n",
       "      <td>1269.000000</td>\n",
       "      <td>1272.180054</td>\n",
       "      <td>1241400</td>\n",
       "      <td>1272.180054</td>\n",
       "    </tr>\n",
       "    <tr>\n",
       "      <th>2019-04-29</th>\n",
       "      <td>1289.270020</td>\n",
       "      <td>1266.295044</td>\n",
       "      <td>1274.000000</td>\n",
       "      <td>1287.579956</td>\n",
       "      <td>2499400</td>\n",
       "      <td>1287.579956</td>\n",
       "    </tr>\n",
       "    <tr>\n",
       "      <th>2019-04-30</th>\n",
       "      <td>1192.810059</td>\n",
       "      <td>1175.000000</td>\n",
       "      <td>1185.000000</td>\n",
       "      <td>1188.479980</td>\n",
       "      <td>6207000</td>\n",
       "      <td>1188.479980</td>\n",
       "    </tr>\n",
       "    <tr>\n",
       "      <th>2019-05-01</th>\n",
       "      <td>1188.050049</td>\n",
       "      <td>1167.180054</td>\n",
       "      <td>1188.050049</td>\n",
       "      <td>1168.079956</td>\n",
       "      <td>2639200</td>\n",
       "      <td>1168.079956</td>\n",
       "    </tr>\n",
       "  </tbody>\n",
       "</table>\n",
       "</div>"
      ],
      "text/plain": [
       "                   High          Low         Open        Close   Volume  \\\n",
       "Date                                                                      \n",
       "2019-03-01  1142.969971  1124.750000  1124.900024  1140.989990  1450300   \n",
       "2019-03-04  1158.280029  1130.689941  1146.989990  1147.800049  1446000   \n",
       "2019-03-05  1169.609985  1146.194946  1150.060059  1162.030029  1443200   \n",
       "2019-03-06  1167.566040  1155.489990  1162.489990  1157.859985  1099300   \n",
       "2019-03-07  1156.755005  1134.910034  1155.719971  1143.300049  1166100   \n",
       "2019-03-08  1147.079956  1123.300049  1126.729980  1142.319946  1212400   \n",
       "2019-03-11  1176.189941  1144.449951  1144.449951  1175.760010  1719200   \n",
       "2019-03-12  1200.000000  1178.260010  1178.260010  1193.199951  2013100   \n",
       "2019-03-13  1200.930054  1191.939941  1200.645020  1193.319946  1435900   \n",
       "2019-03-14  1197.880005  1184.479980  1194.510010  1185.550049  1172800   \n",
       "2019-03-15  1196.569946  1182.609985  1193.380005  1184.459961  2461800   \n",
       "2019-03-18  1190.000000  1177.421021  1183.300049  1184.260010  1292600   \n",
       "2019-03-19  1200.000000  1185.869995  1188.810059  1198.849976  1520700   \n",
       "2019-03-20  1227.140015  1196.170044  1197.349976  1223.969971  2227400   \n",
       "2019-03-21  1231.790039  1213.150024  1216.000000  1231.540039  1204000   \n",
       "2019-03-22  1230.000000  1202.824951  1226.319946  1205.500000  1714200   \n",
       "2019-03-25  1206.397949  1187.040039  1196.930054  1193.000000  1496800   \n",
       "2019-03-26  1202.829956  1176.719971  1198.530029  1184.619995  1901200   \n",
       "2019-03-27  1187.558960  1159.369995  1185.500000  1173.020020  1400200   \n",
       "2019-03-28  1171.564941  1159.431030  1171.540039  1168.489990  1012400   \n",
       "2019-03-29  1178.989990  1162.880005  1174.900024  1173.310059  1269900   \n",
       "2019-04-01  1196.660034  1182.000000  1184.099976  1194.430054  1252500   \n",
       "2019-04-02  1201.349976  1185.709961  1195.319946  1200.489990   827900   \n",
       "2019-04-03  1216.300049  1200.500000  1207.479980  1205.920044  1017800   \n",
       "2019-04-04  1215.670044  1204.130005  1205.939941  1215.000000   950000   \n",
       "2019-04-05  1216.219971  1205.030029  1214.989990  1207.150024   907200   \n",
       "2019-04-08  1208.689941  1199.859985  1207.890015  1203.839966   860200   \n",
       "2019-04-09  1202.290039  1193.079956  1196.000000  1197.250000   876400   \n",
       "2019-04-10  1203.785034  1196.435059  1200.680054  1202.160034   724600   \n",
       "2019-04-11  1207.959961  1200.130005  1203.959961  1204.619995   710200   \n",
       "2019-04-12  1218.349976  1208.109985  1210.000000  1217.869995   933400   \n",
       "2019-04-15  1224.199951  1209.109985  1218.000000  1221.099976  1187400   \n",
       "2019-04-16  1230.819946  1220.119995  1225.000000  1227.130005   856300   \n",
       "2019-04-17  1240.560059  1227.819946  1233.000000  1236.339966  1221900   \n",
       "2019-04-18  1242.000000  1234.609985  1239.180054  1236.369995  1331800   \n",
       "2019-04-22  1249.089966  1228.310059  1235.989990  1248.839966   807300   \n",
       "2019-04-23  1269.000000  1246.380005  1250.689941  1264.550049  1319900   \n",
       "2019-04-24  1268.010010  1255.000000  1264.119995  1256.000000  1018800   \n",
       "2019-04-25  1267.407959  1252.030029  1264.770020  1263.449951  1107300   \n",
       "2019-04-26  1273.069946  1260.319946  1269.000000  1272.180054  1241400   \n",
       "2019-04-29  1289.270020  1266.295044  1274.000000  1287.579956  2499400   \n",
       "2019-04-30  1192.810059  1175.000000  1185.000000  1188.479980  6207000   \n",
       "2019-05-01  1188.050049  1167.180054  1188.050049  1168.079956  2639200   \n",
       "\n",
       "              Adj Close  \n",
       "Date                     \n",
       "2019-03-01  1140.989990  \n",
       "2019-03-04  1147.800049  \n",
       "2019-03-05  1162.030029  \n",
       "2019-03-06  1157.859985  \n",
       "2019-03-07  1143.300049  \n",
       "2019-03-08  1142.319946  \n",
       "2019-03-11  1175.760010  \n",
       "2019-03-12  1193.199951  \n",
       "2019-03-13  1193.319946  \n",
       "2019-03-14  1185.550049  \n",
       "2019-03-15  1184.459961  \n",
       "2019-03-18  1184.260010  \n",
       "2019-03-19  1198.849976  \n",
       "2019-03-20  1223.969971  \n",
       "2019-03-21  1231.540039  \n",
       "2019-03-22  1205.500000  \n",
       "2019-03-25  1193.000000  \n",
       "2019-03-26  1184.619995  \n",
       "2019-03-27  1173.020020  \n",
       "2019-03-28  1168.489990  \n",
       "2019-03-29  1173.310059  \n",
       "2019-04-01  1194.430054  \n",
       "2019-04-02  1200.489990  \n",
       "2019-04-03  1205.920044  \n",
       "2019-04-04  1215.000000  \n",
       "2019-04-05  1207.150024  \n",
       "2019-04-08  1203.839966  \n",
       "2019-04-09  1197.250000  \n",
       "2019-04-10  1202.160034  \n",
       "2019-04-11  1204.619995  \n",
       "2019-04-12  1217.869995  \n",
       "2019-04-15  1221.099976  \n",
       "2019-04-16  1227.130005  \n",
       "2019-04-17  1236.339966  \n",
       "2019-04-18  1236.369995  \n",
       "2019-04-22  1248.839966  \n",
       "2019-04-23  1264.550049  \n",
       "2019-04-24  1256.000000  \n",
       "2019-04-25  1263.449951  \n",
       "2019-04-26  1272.180054  \n",
       "2019-04-29  1287.579956  \n",
       "2019-04-30  1188.479980  \n",
       "2019-05-01  1168.079956  "
      ]
     },
     "execution_count": 4,
     "metadata": {},
     "output_type": "execute_result"
    }
   ],
   "source": [
    "stock_data_google"
   ]
  },
  {
   "cell_type": "code",
   "execution_count": 8,
   "metadata": {
    "ExecuteTime": {
     "end_time": "2019-02-21T23:26:56.750548Z",
     "start_time": "2019-02-21T23:26:56.746550Z"
    }
   },
   "outputs": [],
   "source": [
    "np_google_close = np.array(stock_data_google.loc[:,'Close'])"
   ]
  },
  {
   "cell_type": "code",
   "execution_count": 9,
   "metadata": {
    "ExecuteTime": {
     "end_time": "2019-02-21T23:27:43.668012Z",
     "start_time": "2019-02-21T23:27:43.662035Z"
    }
   },
   "outputs": [
    {
     "data": {
      "text/plain": [
       "array([1140.98999023, 1147.80004883, 1162.0300293 , 1157.85998535,\n",
       "       1143.30004883, 1142.31994629, 1175.76000977, 1193.19995117,\n",
       "       1193.31994629, 1185.55004883, 1184.45996094, 1184.26000977,\n",
       "       1198.84997559, 1223.9699707 , 1231.54003906, 1205.5       ,\n",
       "       1193.        , 1184.61999512, 1173.02001953, 1168.48999023,\n",
       "       1173.31005859, 1194.43005371, 1200.48999023, 1205.92004395,\n",
       "       1215.        , 1207.15002441, 1203.83996582, 1197.25      ,\n",
       "       1202.16003418, 1204.61999512, 1217.86999512, 1221.09997559,\n",
       "       1227.13000488, 1236.33996582, 1236.36999512, 1248.83996582,\n",
       "       1264.55004883, 1256.        , 1263.44995117, 1272.18005371,\n",
       "       1287.57995605, 1188.47998047, 1168.07995605])"
      ]
     },
     "execution_count": 9,
     "metadata": {},
     "output_type": "execute_result"
    }
   ],
   "source": [
    "np_google_close"
   ]
  },
  {
   "cell_type": "code",
   "execution_count": null,
   "metadata": {
    "ExecuteTime": {
     "end_time": "2019-02-19T09:56:31.831211Z",
     "start_time": "2019-02-19T09:56:31.823214Z"
    }
   },
   "outputs": [],
   "source": [
    "#-- np_google_close\n",
    "\"\"\"np.array([1140.98999023, 1147.80004883, 1162.0300293 , 1157.85998535,\n",
    "       1143.30004883, 1142.31994629, 1175.76000977, 1193.19995117,\n",
    "       1193.31994629, 1185.55004883, 1184.45996094, 1184.26000977,\n",
    "       1198.84997559, 1223.9699707 , 1231.54003906, 1205.5       ,\n",
    "       1193.        , 1184.61999512, 1173.02001953, 1168.48999023,\n",
    "       1173.31005859, 1194.43005371, 1200.48999023, 1205.92004395,\n",
    "       1215.        , 1207.15002441, 1203.83996582, 1197.25      ,\n",
    "       1202.16003418, 1204.61999512, 1217.86999512, 1221.09997559,\n",
    "       1227.13000488, 1236.33996582, 1236.36999512, 1248.83996582,\n",
    "       1264.55004883, 1256.        , 1263.44995117, 1272.18005371,\n",
    "       1287.57995605, 1188.47998047, 1168.07995605])"
   ]
  },
  {
   "cell_type": "code",
   "execution_count": 10,
   "metadata": {
    "ExecuteTime": {
     "end_time": "2019-02-21T23:28:13.449311Z",
     "start_time": "2019-02-21T23:28:13.442315Z"
    }
   },
   "outputs": [],
   "source": [
    "np_google_2d = np.array(stock_data_google.loc[:,['Close','Volume']])"
   ]
  },
  {
   "cell_type": "code",
   "execution_count": 11,
   "metadata": {
    "ExecuteTime": {
     "end_time": "2019-02-21T23:28:15.360697Z",
     "start_time": "2019-02-21T23:28:15.352701Z"
    }
   },
   "outputs": [
    {
     "data": {
      "text/plain": [
       "array([[1.14098999e+03, 1.45030000e+06],\n",
       "       [1.14780005e+03, 1.44600000e+06],\n",
       "       [1.16203003e+03, 1.44320000e+06],\n",
       "       [1.15785999e+03, 1.09930000e+06],\n",
       "       [1.14330005e+03, 1.16610000e+06],\n",
       "       [1.14231995e+03, 1.21240000e+06],\n",
       "       [1.17576001e+03, 1.71920000e+06],\n",
       "       [1.19319995e+03, 2.01310000e+06],\n",
       "       [1.19331995e+03, 1.43590000e+06],\n",
       "       [1.18555005e+03, 1.17280000e+06],\n",
       "       [1.18445996e+03, 2.46180000e+06],\n",
       "       [1.18426001e+03, 1.29260000e+06],\n",
       "       [1.19884998e+03, 1.52070000e+06],\n",
       "       [1.22396997e+03, 2.22740000e+06],\n",
       "       [1.23154004e+03, 1.20400000e+06],\n",
       "       [1.20550000e+03, 1.71420000e+06],\n",
       "       [1.19300000e+03, 1.49680000e+06],\n",
       "       [1.18462000e+03, 1.90120000e+06],\n",
       "       [1.17302002e+03, 1.40020000e+06],\n",
       "       [1.16848999e+03, 1.01240000e+06],\n",
       "       [1.17331006e+03, 1.26990000e+06],\n",
       "       [1.19443005e+03, 1.25250000e+06],\n",
       "       [1.20048999e+03, 8.27900000e+05],\n",
       "       [1.20592004e+03, 1.01780000e+06],\n",
       "       [1.21500000e+03, 9.50000000e+05],\n",
       "       [1.20715002e+03, 9.07200000e+05],\n",
       "       [1.20383997e+03, 8.60200000e+05],\n",
       "       [1.19725000e+03, 8.76400000e+05],\n",
       "       [1.20216003e+03, 7.24600000e+05],\n",
       "       [1.20462000e+03, 7.10200000e+05],\n",
       "       [1.21787000e+03, 9.33400000e+05],\n",
       "       [1.22109998e+03, 1.18740000e+06],\n",
       "       [1.22713000e+03, 8.56300000e+05],\n",
       "       [1.23633997e+03, 1.22190000e+06],\n",
       "       [1.23637000e+03, 1.33180000e+06],\n",
       "       [1.24883997e+03, 8.07300000e+05],\n",
       "       [1.26455005e+03, 1.31990000e+06],\n",
       "       [1.25600000e+03, 1.01880000e+06],\n",
       "       [1.26344995e+03, 1.10730000e+06],\n",
       "       [1.27218005e+03, 1.24140000e+06],\n",
       "       [1.28757996e+03, 2.49940000e+06],\n",
       "       [1.18847998e+03, 6.20700000e+06],\n",
       "       [1.16807996e+03, 2.63920000e+06]])"
      ]
     },
     "execution_count": 11,
     "metadata": {},
     "output_type": "execute_result"
    }
   ],
   "source": [
    "np_google_2d"
   ]
  },
  {
   "cell_type": "code",
   "execution_count": null,
   "metadata": {
    "ExecuteTime": {
     "end_time": "2019-02-19T09:56:15.998324Z",
     "start_time": "2019-02-19T09:56:15.984333Z"
    }
   },
   "outputs": [],
   "source": [
    "#-- np_google_2d\n",
    "\"\"\"np.array([[1.14098999e+03, 1.45030000e+06],\n",
    "       [1.14780005e+03, 1.44600000e+06],\n",
    "       [1.16203003e+03, 1.44320000e+06],\n",
    "       [1.15785999e+03, 1.09930000e+06],\n",
    "       [1.14330005e+03, 1.16610000e+06],\n",
    "       [1.14231995e+03, 1.21240000e+06],\n",
    "       [1.17576001e+03, 1.71920000e+06],\n",
    "       [1.19319995e+03, 2.01310000e+06],\n",
    "       [1.19331995e+03, 1.43590000e+06],\n",
    "       [1.18555005e+03, 1.17280000e+06],\n",
    "       [1.18445996e+03, 2.46180000e+06],\n",
    "       [1.18426001e+03, 1.29260000e+06],\n",
    "       [1.19884998e+03, 1.52070000e+06],\n",
    "       [1.22396997e+03, 2.22740000e+06],\n",
    "       [1.23154004e+03, 1.20400000e+06],\n",
    "       [1.20550000e+03, 1.71420000e+06],\n",
    "       [1.19300000e+03, 1.49680000e+06],\n",
    "       [1.18462000e+03, 1.90120000e+06],\n",
    "       [1.17302002e+03, 1.40020000e+06],\n",
    "       [1.16848999e+03, 1.01240000e+06],\n",
    "       [1.17331006e+03, 1.26990000e+06],\n",
    "       [1.19443005e+03, 1.25250000e+06],\n",
    "       [1.20048999e+03, 8.27900000e+05],\n",
    "       [1.20592004e+03, 1.01780000e+06],\n",
    "       [1.21500000e+03, 9.50000000e+05],\n",
    "       [1.20715002e+03, 9.07200000e+05],\n",
    "       [1.20383997e+03, 8.60200000e+05],\n",
    "       [1.19725000e+03, 8.76400000e+05],\n",
    "       [1.20216003e+03, 7.24600000e+05],\n",
    "       [1.20462000e+03, 7.10200000e+05],\n",
    "       [1.21787000e+03, 9.33400000e+05],\n",
    "       [1.22109998e+03, 1.18740000e+06],\n",
    "       [1.22713000e+03, 8.56300000e+05],\n",
    "       [1.23633997e+03, 1.22190000e+06],\n",
    "       [1.23637000e+03, 1.33180000e+06],\n",
    "       [1.24883997e+03, 8.07300000e+05],\n",
    "       [1.26455005e+03, 1.31990000e+06],\n",
    "       [1.25600000e+03, 1.01880000e+06],\n",
    "       [1.26344995e+03, 1.10730000e+06],\n",
    "       [1.27218005e+03, 1.24140000e+06],\n",
    "       [1.28757996e+03, 2.49940000e+06],\n",
    "       [1.18847998e+03, 6.20700000e+06],\n",
    "       [1.16807996e+03, 2.63920000e+06]])"
   ]
  },
  {
   "cell_type": "code",
   "execution_count": 14,
   "metadata": {
    "ExecuteTime": {
     "end_time": "2019-02-21T23:28:42.028503Z",
     "start_time": "2019-02-21T23:28:42.021510Z"
    }
   },
   "outputs": [],
   "source": [
    "google = np.array(stock_data_google.loc[:,['Close', 'Volume', 'Open']])"
   ]
  },
  {
   "cell_type": "code",
   "execution_count": 15,
   "metadata": {
    "ExecuteTime": {
     "end_time": "2019-02-21T23:28:46.331075Z",
     "start_time": "2019-02-21T23:28:46.313086Z"
    }
   },
   "outputs": [
    {
     "data": {
      "text/plain": [
       "array([[1.14098999e+03, 1.45030000e+06, 1.12490002e+03],\n",
       "       [1.14780005e+03, 1.44600000e+06, 1.14698999e+03],\n",
       "       [1.16203003e+03, 1.44320000e+06, 1.15006006e+03],\n",
       "       [1.15785999e+03, 1.09930000e+06, 1.16248999e+03],\n",
       "       [1.14330005e+03, 1.16610000e+06, 1.15571997e+03],\n",
       "       [1.14231995e+03, 1.21240000e+06, 1.12672998e+03],\n",
       "       [1.17576001e+03, 1.71920000e+06, 1.14444995e+03],\n",
       "       [1.19319995e+03, 2.01310000e+06, 1.17826001e+03],\n",
       "       [1.19331995e+03, 1.43590000e+06, 1.20064502e+03],\n",
       "       [1.18555005e+03, 1.17280000e+06, 1.19451001e+03],\n",
       "       [1.18445996e+03, 2.46180000e+06, 1.19338000e+03],\n",
       "       [1.18426001e+03, 1.29260000e+06, 1.18330005e+03],\n",
       "       [1.19884998e+03, 1.52070000e+06, 1.18881006e+03],\n",
       "       [1.22396997e+03, 2.22740000e+06, 1.19734998e+03],\n",
       "       [1.23154004e+03, 1.20400000e+06, 1.21600000e+03],\n",
       "       [1.20550000e+03, 1.71420000e+06, 1.22631995e+03],\n",
       "       [1.19300000e+03, 1.49680000e+06, 1.19693005e+03],\n",
       "       [1.18462000e+03, 1.90120000e+06, 1.19853003e+03],\n",
       "       [1.17302002e+03, 1.40020000e+06, 1.18550000e+03],\n",
       "       [1.16848999e+03, 1.01240000e+06, 1.17154004e+03],\n",
       "       [1.17331006e+03, 1.26990000e+06, 1.17490002e+03],\n",
       "       [1.19443005e+03, 1.25250000e+06, 1.18409998e+03],\n",
       "       [1.20048999e+03, 8.27900000e+05, 1.19531995e+03],\n",
       "       [1.20592004e+03, 1.01780000e+06, 1.20747998e+03],\n",
       "       [1.21500000e+03, 9.50000000e+05, 1.20593994e+03],\n",
       "       [1.20715002e+03, 9.07200000e+05, 1.21498999e+03],\n",
       "       [1.20383997e+03, 8.60200000e+05, 1.20789001e+03],\n",
       "       [1.19725000e+03, 8.76400000e+05, 1.19600000e+03],\n",
       "       [1.20216003e+03, 7.24600000e+05, 1.20068005e+03],\n",
       "       [1.20462000e+03, 7.10200000e+05, 1.20395996e+03],\n",
       "       [1.21787000e+03, 9.33400000e+05, 1.21000000e+03],\n",
       "       [1.22109998e+03, 1.18740000e+06, 1.21800000e+03],\n",
       "       [1.22713000e+03, 8.56300000e+05, 1.22500000e+03],\n",
       "       [1.23633997e+03, 1.22190000e+06, 1.23300000e+03],\n",
       "       [1.23637000e+03, 1.33180000e+06, 1.23918005e+03],\n",
       "       [1.24883997e+03, 8.07300000e+05, 1.23598999e+03],\n",
       "       [1.26455005e+03, 1.31990000e+06, 1.25068994e+03],\n",
       "       [1.25600000e+03, 1.01880000e+06, 1.26412000e+03],\n",
       "       [1.26344995e+03, 1.10730000e+06, 1.26477002e+03],\n",
       "       [1.27218005e+03, 1.24140000e+06, 1.26900000e+03],\n",
       "       [1.28757996e+03, 2.49940000e+06, 1.27400000e+03],\n",
       "       [1.18847998e+03, 6.20700000e+06, 1.18500000e+03],\n",
       "       [1.16807996e+03, 2.63920000e+06, 1.18805005e+03]])"
      ]
     },
     "execution_count": 15,
     "metadata": {},
     "output_type": "execute_result"
    }
   ],
   "source": [
    "google"
   ]
  },
  {
   "cell_type": "code",
   "execution_count": null,
   "metadata": {
    "ExecuteTime": {
     "end_time": "2019-02-19T09:55:27.165770Z",
     "start_time": "2019-02-19T09:55:27.152781Z"
    }
   },
   "outputs": [],
   "source": [
    "#-- google\n",
    "\"\"\"np.array([[1.14098999e+03, 1.45030000e+06, 1.12490002e+03],\n",
    "       [1.14780005e+03, 1.44600000e+06, 1.14698999e+03],\n",
    "       [1.16203003e+03, 1.44320000e+06, 1.15006006e+03],\n",
    "       [1.15785999e+03, 1.09930000e+06, 1.16248999e+03],\n",
    "       [1.14330005e+03, 1.16610000e+06, 1.15571997e+03],\n",
    "       [1.14231995e+03, 1.21240000e+06, 1.12672998e+03],\n",
    "       [1.17576001e+03, 1.71920000e+06, 1.14444995e+03],\n",
    "       [1.19319995e+03, 2.01310000e+06, 1.17826001e+03],\n",
    "       [1.19331995e+03, 1.43590000e+06, 1.20064502e+03],\n",
    "       [1.18555005e+03, 1.17280000e+06, 1.19451001e+03],\n",
    "       [1.18445996e+03, 2.46180000e+06, 1.19338000e+03],\n",
    "       [1.18426001e+03, 1.29260000e+06, 1.18330005e+03],\n",
    "       [1.19884998e+03, 1.52070000e+06, 1.18881006e+03],\n",
    "       [1.22396997e+03, 2.22740000e+06, 1.19734998e+03],\n",
    "       [1.23154004e+03, 1.20400000e+06, 1.21600000e+03],\n",
    "       [1.20550000e+03, 1.71420000e+06, 1.22631995e+03],\n",
    "       [1.19300000e+03, 1.49680000e+06, 1.19693005e+03],\n",
    "       [1.18462000e+03, 1.90120000e+06, 1.19853003e+03],\n",
    "       [1.17302002e+03, 1.40020000e+06, 1.18550000e+03],\n",
    "       [1.16848999e+03, 1.01240000e+06, 1.17154004e+03],\n",
    "       [1.17331006e+03, 1.26990000e+06, 1.17490002e+03],\n",
    "       [1.19443005e+03, 1.25250000e+06, 1.18409998e+03],\n",
    "       [1.20048999e+03, 8.27900000e+05, 1.19531995e+03],\n",
    "       [1.20592004e+03, 1.01780000e+06, 1.20747998e+03],\n",
    "       [1.21500000e+03, 9.50000000e+05, 1.20593994e+03],\n",
    "       [1.20715002e+03, 9.07200000e+05, 1.21498999e+03],\n",
    "       [1.20383997e+03, 8.60200000e+05, 1.20789001e+03],\n",
    "       [1.19725000e+03, 8.76400000e+05, 1.19600000e+03],\n",
    "       [1.20216003e+03, 7.24600000e+05, 1.20068005e+03],\n",
    "       [1.20462000e+03, 7.10200000e+05, 1.20395996e+03],\n",
    "       [1.21787000e+03, 9.33400000e+05, 1.21000000e+03],\n",
    "       [1.22109998e+03, 1.18740000e+06, 1.21800000e+03],\n",
    "       [1.22713000e+03, 8.56300000e+05, 1.22500000e+03],\n",
    "       [1.23633997e+03, 1.22190000e+06, 1.23300000e+03],\n",
    "       [1.23637000e+03, 1.33180000e+06, 1.23918005e+03],\n",
    "       [1.24883997e+03, 8.07300000e+05, 1.23598999e+03],\n",
    "       [1.26455005e+03, 1.31990000e+06, 1.25068994e+03],\n",
    "       [1.25600000e+03, 1.01880000e+06, 1.26412000e+03],\n",
    "       [1.26344995e+03, 1.10730000e+06, 1.26477002e+03],\n",
    "       [1.27218005e+03, 1.24140000e+06, 1.26900000e+03],\n",
    "       [1.28757996e+03, 2.49940000e+06, 1.27400000e+03],\n",
    "       [1.18847998e+03, 6.20700000e+06, 1.18500000e+03],\n",
    "       [1.16807996e+03, 2.63920000e+06, 1.18805005e+03]])"
   ]
  },
  {
   "cell_type": "markdown",
   "metadata": {},
   "source": [
    "### Ferramentas legais\n",
    "**Dimensões (_rank_) de um _array_:**\n",
    "* Calendário: 2 dimensões\n",
    "* Gasto com alimentação todo mês: 1 dimensão\n",
    "* Jogo da velha ou batalha naval: 2 dimensões"
   ]
  },
  {
   "cell_type": "code",
   "execution_count": 38,
   "metadata": {
    "ExecuteTime": {
     "end_time": "2019-02-21T23:31:07.356866Z",
     "start_time": "2019-02-21T23:31:07.350873Z"
    }
   },
   "outputs": [
    {
     "data": {
      "text/plain": [
       "1"
      ]
     },
     "execution_count": 38,
     "metadata": {},
     "output_type": "execute_result"
    }
   ],
   "source": [
    "np_google_close.ndim"
   ]
  },
  {
   "cell_type": "code",
   "execution_count": 39,
   "metadata": {
    "ExecuteTime": {
     "end_time": "2019-02-21T23:31:15.977659Z",
     "start_time": "2019-02-21T23:31:15.972664Z"
    },
    "scrolled": true
   },
   "outputs": [
    {
     "data": {
      "text/plain": [
       "2"
      ]
     },
     "execution_count": 39,
     "metadata": {},
     "output_type": "execute_result"
    }
   ],
   "source": [
    "np_google_2d.ndim"
   ]
  },
  {
   "cell_type": "markdown",
   "metadata": {},
   "source": [
    "**Formato (_shape_) do _array_:**\n",
    "* Calendário: 5 x 7 (mas varia)\n",
    "* Gasto com alimentação todo mês: 12\n",
    "* Jogo da velha: 3 x 3\n",
    "* Sudoku: 9 x 9"
   ]
  },
  {
   "cell_type": "code",
   "execution_count": 40,
   "metadata": {
    "ExecuteTime": {
     "end_time": "2019-02-21T23:31:41.325674Z",
     "start_time": "2019-02-21T23:31:41.321683Z"
    }
   },
   "outputs": [
    {
     "data": {
      "text/plain": [
       "(27,)"
      ]
     },
     "execution_count": 40,
     "metadata": {},
     "output_type": "execute_result"
    }
   ],
   "source": [
    "np_google_close.shape"
   ]
  },
  {
   "cell_type": "code",
   "execution_count": 41,
   "metadata": {
    "ExecuteTime": {
     "end_time": "2019-02-21T23:31:57.975488Z",
     "start_time": "2019-02-21T23:31:57.968494Z"
    }
   },
   "outputs": [
    {
     "data": {
      "text/plain": [
       "(27, 2)"
      ]
     },
     "execution_count": 41,
     "metadata": {},
     "output_type": "execute_result"
    }
   ],
   "source": [
    "np_google_2d.shape"
   ]
  },
  {
   "cell_type": "markdown",
   "metadata": {},
   "source": [
    "### Indexação e atribuições\n",
    "Para acessar o i-ésimo elemento de um _array_, basta fazer `a[i]`. Não se esqueça que todos os índices começam em zero!"
   ]
  },
  {
   "cell_type": "code",
   "execution_count": 59,
   "metadata": {
    "ExecuteTime": {
     "end_time": "2019-02-21T23:42:54.787655Z",
     "start_time": "2019-02-21T23:42:54.782640Z"
    }
   },
   "outputs": [],
   "source": [
    "a = np.array([0, 10, 20, 30, 40, 50])"
   ]
  },
  {
   "cell_type": "code",
   "execution_count": 60,
   "metadata": {
    "ExecuteTime": {
     "end_time": "2019-02-21T23:43:06.317561Z",
     "start_time": "2019-02-21T23:43:06.311565Z"
    }
   },
   "outputs": [
    {
     "data": {
      "text/plain": [
       "40"
      ]
     },
     "execution_count": 60,
     "metadata": {},
     "output_type": "execute_result"
    }
   ],
   "source": [
    "a[4]"
   ]
  },
  {
   "cell_type": "markdown",
   "metadata": {},
   "source": [
    "Da mesma forma, se temos duas dimensões e queremos acessar o elemento na linha `i` e coluna `j`, basta fazer `a[i, j]`."
   ]
  },
  {
   "cell_type": "code",
   "execution_count": 63,
   "metadata": {
    "ExecuteTime": {
     "end_time": "2019-02-21T23:44:55.247328Z",
     "start_time": "2019-02-21T23:44:55.241330Z"
    }
   },
   "outputs": [
    {
     "data": {
      "text/plain": [
       "array([[ 1,  2,  3,  4],\n",
       "       [ 5,  6,  7,  8],\n",
       "       [ 9, 10, 11, 12]])"
      ]
     },
     "execution_count": 63,
     "metadata": {},
     "output_type": "execute_result"
    }
   ],
   "source": [
    "a = np.array([[1,2,3,4], [5,6,7,8], [9,10,11,12]])\n",
    "a"
   ]
  },
  {
   "cell_type": "code",
   "execution_count": 64,
   "metadata": {
    "ExecuteTime": {
     "end_time": "2019-02-21T23:45:04.791242Z",
     "start_time": "2019-02-21T23:45:04.783245Z"
    }
   },
   "outputs": [
    {
     "data": {
      "text/plain": [
       "11"
      ]
     },
     "execution_count": 64,
     "metadata": {},
     "output_type": "execute_result"
    }
   ],
   "source": [
    "a[2,2]"
   ]
  },
  {
   "cell_type": "markdown",
   "metadata": {},
   "source": [
    "### Como podemos fazer para acessar o número 3?"
   ]
  },
  {
   "cell_type": "code",
   "execution_count": 65,
   "metadata": {
    "ExecuteTime": {
     "end_time": "2019-02-21T23:45:42.765184Z",
     "start_time": "2019-02-21T23:45:42.759206Z"
    }
   },
   "outputs": [
    {
     "data": {
      "text/plain": [
       "3"
      ]
     },
     "execution_count": 65,
     "metadata": {},
     "output_type": "execute_result"
    }
   ],
   "source": [
    "#-- escreva o código aqui\n",
    "a[0,2]"
   ]
  },
  {
   "cell_type": "markdown",
   "metadata": {},
   "source": [
    "E ainda por cima posso usar a indexação para fazer atribuições!"
   ]
  },
  {
   "cell_type": "code",
   "execution_count": 66,
   "metadata": {
    "ExecuteTime": {
     "end_time": "2019-02-21T23:45:56.275108Z",
     "start_time": "2019-02-21T23:45:56.268093Z"
    }
   },
   "outputs": [
    {
     "data": {
      "text/plain": [
       "array([0, 0, 0, 0, 0, 0, 0, 0, 0, 0])"
      ]
     },
     "execution_count": 66,
     "metadata": {},
     "output_type": "execute_result"
    }
   ],
   "source": [
    "z = np.zeros(10, dtype = int)\n",
    "z"
   ]
  },
  {
   "cell_type": "code",
   "execution_count": 67,
   "metadata": {
    "ExecuteTime": {
     "end_time": "2019-02-21T23:46:07.040795Z",
     "start_time": "2019-02-21T23:46:07.034800Z"
    }
   },
   "outputs": [
    {
     "data": {
      "text/plain": [
       "array([0, 0, 0, 0, 1, 0, 0, 0, 0, 0])"
      ]
     },
     "execution_count": 67,
     "metadata": {},
     "output_type": "execute_result"
    }
   ],
   "source": [
    "z[4] = 1\n",
    "z"
   ]
  },
  {
   "cell_type": "markdown",
   "metadata": {},
   "source": [
    "### _Slicing_\n",
    "É uma sintaxe que permite indexar intervalos e acessar sub-_arrays_ (fatias de _ arrays_)."
   ]
  },
  {
   "cell_type": "code",
   "execution_count": 72,
   "metadata": {
    "ExecuteTime": {
     "end_time": "2019-02-21T23:49:56.271801Z",
     "start_time": "2019-02-21T23:49:56.265803Z"
    }
   },
   "outputs": [
    {
     "data": {
      "text/plain": [
       "array([[0.79750766, 0.1087028 , 0.42730353, 0.58109246, 0.87493285],\n",
       "       [0.43285614, 0.18335001, 0.02532592, 0.38723871, 0.13978185],\n",
       "       [0.69961041, 0.14576583, 0.17063918, 0.54766809, 0.80113638],\n",
       "       [0.65637441, 0.82920152, 0.29341955, 0.94425901, 0.51619761],\n",
       "       [0.12505506, 0.55765013, 0.74947335, 0.65499536, 0.90962559],\n",
       "       [0.44509014, 0.17423172, 0.55739628, 0.35856368, 0.80982286],\n",
       "       [0.63648132, 0.44976171, 0.07344321, 0.08150897, 0.40158001],\n",
       "       [0.74781076, 0.61307908, 0.24738856, 0.90190068, 0.72300925],\n",
       "       [0.27207727, 0.30123166, 0.45853728, 0.65660462, 0.63160791],\n",
       "       [0.96279014, 0.66919348, 0.8524396 , 0.81447852, 0.72668437]])"
      ]
     },
     "execution_count": 72,
     "metadata": {},
     "output_type": "execute_result"
    }
   ],
   "source": [
    "m = np.random.random((10,5))\n",
    "m"
   ]
  },
  {
   "cell_type": "markdown",
   "metadata": {},
   "source": [
    "Para acessar as três primeiras linhas e as duas últimas colunas, "
   ]
  },
  {
   "cell_type": "code",
   "execution_count": 74,
   "metadata": {
    "ExecuteTime": {
     "end_time": "2019-02-21T23:51:06.931362Z",
     "start_time": "2019-02-21T23:51:06.926368Z"
    }
   },
   "outputs": [],
   "source": [
    "n = m[0:3, 3:]"
   ]
  },
  {
   "cell_type": "markdown",
   "metadata": {},
   "source": [
    "Você também pode ignorar um dos limites:"
   ]
  },
  {
   "cell_type": "code",
   "execution_count": 76,
   "metadata": {
    "ExecuteTime": {
     "end_time": "2019-02-21T23:51:45.894228Z",
     "start_time": "2019-02-21T23:51:45.889230Z"
    }
   },
   "outputs": [
    {
     "data": {
      "text/plain": [
       "array([[0.58109246, 0.87493285],\n",
       "       [0.38723871, 0.13978185],\n",
       "       [0.54766809, 0.80113638],\n",
       "       [0.94425901, 0.51619761],\n",
       "       [0.65499536, 0.90962559],\n",
       "       [0.35856368, 0.80982286],\n",
       "       [0.08150897, 0.40158001],\n",
       "       [0.90190068, 0.72300925],\n",
       "       [0.65660462, 0.63160791],\n",
       "       [0.81447852, 0.72668437]])"
      ]
     },
     "execution_count": 76,
     "metadata": {},
     "output_type": "execute_result"
    }
   ],
   "source": [
    "m[:, 3:5]"
   ]
  },
  {
   "cell_type": "markdown",
   "metadata": {},
   "source": [
    "Ou usar índices negativos!"
   ]
  },
  {
   "cell_type": "code",
   "execution_count": 77,
   "metadata": {
    "ExecuteTime": {
     "end_time": "2019-02-21T23:51:55.853478Z",
     "start_time": "2019-02-21T23:51:55.845483Z"
    }
   },
   "outputs": [
    {
     "data": {
      "text/plain": [
       "array([[0.58109246, 0.87493285],\n",
       "       [0.38723871, 0.13978185],\n",
       "       [0.54766809, 0.80113638]])"
      ]
     },
     "execution_count": 77,
     "metadata": {},
     "output_type": "execute_result"
    }
   ],
   "source": [
    "m[:3, -2:]"
   ]
  },
  {
   "cell_type": "markdown",
   "metadata": {},
   "source": [
    "E combinar _slicing_ com índices:"
   ]
  },
  {
   "cell_type": "code",
   "execution_count": 78,
   "metadata": {
    "ExecuteTime": {
     "end_time": "2019-02-21T23:52:15.628959Z",
     "start_time": "2019-02-21T23:52:15.622964Z"
    }
   },
   "outputs": [
    {
     "data": {
      "text/plain": [
       "array([0.79750766, 0.1087028 , 0.42730353])"
      ]
     },
     "execution_count": 78,
     "metadata": {},
     "output_type": "execute_result"
    }
   ],
   "source": [
    "m[0, :3]"
   ]
  },
  {
   "cell_type": "markdown",
   "metadata": {},
   "source": [
    "Note que isso reduz a dimensão do seu _array_:"
   ]
  },
  {
   "cell_type": "code",
   "execution_count": 79,
   "metadata": {
    "ExecuteTime": {
     "end_time": "2019-02-21T23:52:38.685748Z",
     "start_time": "2019-02-21T23:52:38.678753Z"
    }
   },
   "outputs": [
    {
     "name": "stdout",
     "output_type": "stream",
     "text": [
      "2\n",
      "1\n",
      "1\n",
      "0\n"
     ]
    }
   ],
   "source": [
    "print(m.ndim)\n",
    "print(m[0].ndim)\n",
    "print(m[:2, 0].ndim)\n",
    "print(m[0,0].ndim)"
   ]
  },
  {
   "cell_type": "code",
   "execution_count": 80,
   "metadata": {
    "ExecuteTime": {
     "end_time": "2019-02-21T23:52:41.477373Z",
     "start_time": "2019-02-21T23:52:41.471377Z"
    }
   },
   "outputs": [
    {
     "name": "stdout",
     "output_type": "stream",
     "text": [
      "(10, 5)\n",
      "(5,)\n",
      "(2,)\n",
      "()\n"
     ]
    }
   ],
   "source": [
    "print(m.shape)\n",
    "print(m[0].shape)\n",
    "print(m[:2, 0].shape)\n",
    "print(m[0,0].shape)"
   ]
  },
  {
   "cell_type": "markdown",
   "metadata": {},
   "source": [
    "E atribuições com _slicing_? Pode também!"
   ]
  },
  {
   "cell_type": "code",
   "execution_count": 81,
   "metadata": {
    "ExecuteTime": {
     "end_time": "2019-02-21T23:53:05.501244Z",
     "start_time": "2019-02-21T23:53:05.494251Z"
    }
   },
   "outputs": [
    {
     "data": {
      "text/plain": [
       "array([[0.42672978, 0.08011658, 0.06372146],\n",
       "       [0.88794764, 0.15568353, 0.77320301],\n",
       "       [0.29760096, 0.22806141, 0.44534028]])"
      ]
     },
     "execution_count": 81,
     "metadata": {},
     "output_type": "execute_result"
    }
   ],
   "source": [
    "m = np.random.random((3,3))\n",
    "m"
   ]
  },
  {
   "cell_type": "code",
   "execution_count": 82,
   "metadata": {
    "ExecuteTime": {
     "end_time": "2019-02-21T23:53:07.799246Z",
     "start_time": "2019-02-21T23:53:07.793252Z"
    }
   },
   "outputs": [
    {
     "data": {
      "text/plain": [
       "array([[0.42672978, 0.08011658, 0.06372146],\n",
       "       [0.        , 0.        , 0.        ],\n",
       "       [0.29760096, 0.22806141, 0.44534028]])"
      ]
     },
     "execution_count": 82,
     "metadata": {},
     "output_type": "execute_result"
    }
   ],
   "source": [
    "m[1, ] = 0\n",
    "m"
   ]
  },
  {
   "cell_type": "markdown",
   "metadata": {},
   "source": [
    "Se as dimensões batem, ainda podemos atribuir um _array_ num _slice_ de outro _array_:"
   ]
  },
  {
   "cell_type": "code",
   "execution_count": 83,
   "metadata": {
    "ExecuteTime": {
     "end_time": "2019-02-21T23:53:23.895209Z",
     "start_time": "2019-02-21T23:53:23.889212Z"
    }
   },
   "outputs": [
    {
     "data": {
      "text/plain": [
       "array([[0., 0., 0., 0., 0.],\n",
       "       [0., 0., 0., 0., 0.],\n",
       "       [0., 0., 0., 0., 0.],\n",
       "       [0., 0., 0., 0., 0.]])"
      ]
     },
     "execution_count": 83,
     "metadata": {},
     "output_type": "execute_result"
    }
   ],
   "source": [
    "m = np.zeros((4, 5))\n",
    "m"
   ]
  },
  {
   "cell_type": "code",
   "execution_count": 84,
   "metadata": {
    "ExecuteTime": {
     "end_time": "2019-02-21T23:53:32.547575Z",
     "start_time": "2019-02-21T23:53:32.541582Z"
    }
   },
   "outputs": [
    {
     "data": {
      "text/plain": [
       "array([[0., 0., 0., 0., 1.],\n",
       "       [1., 2., 3., 4., 1.],\n",
       "       [0., 0., 0., 0., 1.],\n",
       "       [0., 0., 0., 0., 1.]])"
      ]
     },
     "execution_count": 84,
     "metadata": {},
     "output_type": "execute_result"
    }
   ],
   "source": [
    "m[1] = [1, 2, 3, 4, 5]\n",
    "m[:, -1] = np.ones(4)\n",
    "\n",
    "m"
   ]
  },
  {
   "cell_type": "markdown",
   "metadata": {},
   "source": [
    "## Bora trabalhar?\n",
    "Crie uma matriz com 5 colunas e 3 linhas de valores aleatórios entre 0 e 1. Depois, imprima o valor da segunda linha, terceira coluna."
   ]
  },
  {
   "cell_type": "code",
   "execution_count": 85,
   "metadata": {
    "ExecuteTime": {
     "end_time": "2019-02-22T00:16:41.245159Z",
     "start_time": "2019-02-22T00:16:41.241160Z"
    }
   },
   "outputs": [],
   "source": [
    "m = np.random.randint(0, 2, (3, 5))"
   ]
  },
  {
   "cell_type": "code",
   "execution_count": 86,
   "metadata": {
    "ExecuteTime": {
     "end_time": "2019-02-22T00:17:05.158594Z",
     "start_time": "2019-02-22T00:17:05.153598Z"
    }
   },
   "outputs": [
    {
     "data": {
      "text/plain": [
       "array([[0, 1, 0, 0, 1],\n",
       "       [0, 1, 0, 1, 0],\n",
       "       [0, 1, 1, 0, 1]])"
      ]
     },
     "execution_count": 86,
     "metadata": {},
     "output_type": "execute_result"
    }
   ],
   "source": [
    "m"
   ]
  },
  {
   "cell_type": "code",
   "execution_count": 87,
   "metadata": {
    "ExecuteTime": {
     "end_time": "2019-02-22T00:17:48.543705Z",
     "start_time": "2019-02-22T00:17:48.537708Z"
    }
   },
   "outputs": [
    {
     "data": {
      "text/plain": [
       "0"
      ]
     },
     "execution_count": 87,
     "metadata": {},
     "output_type": "execute_result"
    }
   ],
   "source": [
    "m[1, 2]"
   ]
  },
  {
   "cell_type": "markdown",
   "metadata": {},
   "source": [
    "Crie um _array_ que vai de 2 a 10 (inclusivos) com incrementos de 0.5 em 0.5 (Dica: `np.arange` e `np.linspace`)."
   ]
  },
  {
   "cell_type": "code",
   "execution_count": 17,
   "metadata": {
    "ExecuteTime": {
     "end_time": "2019-02-22T00:18:33.028822Z",
     "start_time": "2019-02-22T00:18:33.021829Z"
    }
   },
   "outputs": [
    {
     "data": {
      "text/plain": [
       "array([ 2. ,  2.5,  3. ,  3.5,  4. ,  4.5,  5. ,  5.5,  6. ,  6.5,  7. ,\n",
       "        7.5,  8. ,  8.5,  9. ,  9.5, 10. ])"
      ]
     },
     "execution_count": 17,
     "metadata": {},
     "output_type": "execute_result"
    }
   ],
   "source": [
    "np.arange(2, 11, 0.5)\n",
    "np.linspace(2,10,17)"
   ]
  },
  {
   "cell_type": "markdown",
   "metadata": {},
   "source": [
    "Crie um _array_ 2D com quatro linhas e cinco colunas de zeros, mas com a coluna central de uns."
   ]
  },
  {
   "cell_type": "code",
   "execution_count": 90,
   "metadata": {
    "ExecuteTime": {
     "end_time": "2019-02-22T00:19:46.785825Z",
     "start_time": "2019-02-22T00:19:46.778818Z"
    }
   },
   "outputs": [
    {
     "data": {
      "text/plain": [
       "array([[0, 0, 0, 0, 0],\n",
       "       [0, 0, 0, 0, 0],\n",
       "       [0, 0, 0, 0, 0],\n",
       "       [0, 0, 0, 0, 0]], dtype=int64)"
      ]
     },
     "execution_count": 90,
     "metadata": {},
     "output_type": "execute_result"
    }
   ],
   "source": [
    "a = np.zeros((4, 5), dtype= np.int64)\n",
    "a"
   ]
  },
  {
   "cell_type": "code",
   "execution_count": 99,
   "metadata": {
    "ExecuteTime": {
     "end_time": "2019-02-22T00:25:10.205637Z",
     "start_time": "2019-02-22T00:25:10.200637Z"
    }
   },
   "outputs": [
    {
     "data": {
      "text/plain": [
       "array([ True,  True,  True,  True])"
      ]
     },
     "execution_count": 99,
     "metadata": {},
     "output_type": "execute_result"
    }
   ],
   "source": [
    "a[:, 2] == 1\n"
   ]
  },
  {
   "cell_type": "markdown",
   "metadata": {},
   "source": [
    "Crie uma matriz 10 x 10 com valores aleatórios inteiros entre 0 e 9:"
   ]
  },
  {
   "cell_type": "code",
   "execution_count": 18,
   "metadata": {
    "ExecuteTime": {
     "end_time": "2019-02-22T00:21:59.543332Z",
     "start_time": "2019-02-22T00:21:59.536337Z"
    }
   },
   "outputs": [
    {
     "data": {
      "text/plain": [
       "array([[0, 7, 1, 1, 7, 8, 8, 0, 9, 9],\n",
       "       [0, 2, 6, 0, 4, 4, 0, 8, 9, 1],\n",
       "       [0, 5, 6, 8, 8, 3, 0, 3, 7, 6],\n",
       "       [2, 2, 8, 9, 7, 5, 7, 2, 8, 9],\n",
       "       [8, 9, 0, 9, 5, 3, 5, 3, 1, 1],\n",
       "       [8, 7, 8, 0, 7, 0, 1, 6, 1, 7],\n",
       "       [2, 9, 8, 2, 2, 6, 5, 3, 4, 6],\n",
       "       [1, 6, 3, 4, 2, 8, 4, 4, 9, 0],\n",
       "       [9, 2, 2, 9, 1, 0, 3, 2, 0, 9],\n",
       "       [7, 7, 6, 3, 3, 2, 7, 0, 9, 3]])"
      ]
     },
     "execution_count": 18,
     "metadata": {},
     "output_type": "execute_result"
    }
   ],
   "source": [
    "m = np.random.randint(0,10, (10,10))\n",
    "m"
   ]
  },
  {
   "cell_type": "markdown",
   "metadata": {},
   "source": [
    "Imprima os três últimos elementos da última linha:"
   ]
  },
  {
   "cell_type": "code",
   "execution_count": 19,
   "metadata": {
    "ExecuteTime": {
     "end_time": "2019-02-22T00:22:57.798209Z",
     "start_time": "2019-02-22T00:22:57.791212Z"
    }
   },
   "outputs": [
    {
     "data": {
      "text/plain": [
       "array([0, 9, 3])"
      ]
     },
     "execution_count": 19,
     "metadata": {},
     "output_type": "execute_result"
    }
   ],
   "source": [
    "m[-1, -3:]"
   ]
  },
  {
   "cell_type": "markdown",
   "metadata": {},
   "source": [
    "Atribua esses elementos aos 3 primeiros da última linha:"
   ]
  },
  {
   "cell_type": "code",
   "execution_count": 20,
   "metadata": {
    "ExecuteTime": {
     "end_time": "2019-02-22T00:23:35.413096Z",
     "start_time": "2019-02-22T00:23:35.405102Z"
    }
   },
   "outputs": [
    {
     "data": {
      "text/plain": [
       "array([[0, 7, 1, 1, 7, 8, 8, 0, 9, 9],\n",
       "       [0, 2, 6, 0, 4, 4, 0, 8, 9, 1],\n",
       "       [0, 5, 6, 8, 8, 3, 0, 3, 7, 6],\n",
       "       [2, 2, 8, 9, 7, 5, 7, 2, 8, 9],\n",
       "       [8, 9, 0, 9, 5, 3, 5, 3, 1, 1],\n",
       "       [8, 7, 8, 0, 7, 0, 1, 6, 1, 7],\n",
       "       [2, 9, 8, 2, 2, 6, 5, 3, 4, 6],\n",
       "       [1, 6, 3, 4, 2, 8, 4, 4, 9, 0],\n",
       "       [9, 2, 2, 9, 1, 0, 3, 2, 0, 9],\n",
       "       [0, 9, 3, 3, 3, 2, 7, 0, 9, 3]])"
      ]
     },
     "execution_count": 20,
     "metadata": {},
     "output_type": "execute_result"
    }
   ],
   "source": [
    "m[-1, :3] = m[-1, -3:]\n",
    "m"
   ]
  },
  {
   "cell_type": "markdown",
   "metadata": {},
   "source": [
    "E se eu quiser esses mesmos 3 elementos nos três últimos de todas as linhas?"
   ]
  },
  {
   "cell_type": "code",
   "execution_count": 23,
   "metadata": {
    "ExecuteTime": {
     "end_time": "2019-02-22T00:24:37.345871Z",
     "start_time": "2019-02-22T00:24:37.339875Z"
    }
   },
   "outputs": [
    {
     "data": {
      "text/plain": [
       "array([[0, 7, 1, 1, 7, 8, 8, 0, 9, 3],\n",
       "       [0, 2, 6, 0, 4, 4, 0, 0, 9, 3],\n",
       "       [0, 5, 6, 8, 8, 3, 0, 0, 9, 3],\n",
       "       [2, 2, 8, 9, 7, 5, 7, 0, 9, 3],\n",
       "       [8, 9, 0, 9, 5, 3, 5, 0, 9, 3],\n",
       "       [8, 7, 8, 0, 7, 0, 1, 0, 9, 3],\n",
       "       [2, 9, 8, 2, 2, 6, 5, 0, 9, 3],\n",
       "       [1, 6, 3, 4, 2, 8, 4, 0, 9, 3],\n",
       "       [9, 2, 2, 9, 1, 0, 3, 0, 9, 3],\n",
       "       [0, 9, 3, 3, 3, 2, 7, 0, 9, 3]])"
      ]
     },
     "execution_count": 23,
     "metadata": {},
     "output_type": "execute_result"
    }
   ],
   "source": [
    "m[:, -3:] = m[-1, -3:]\n",
    "m"
   ]
  },
  {
   "cell_type": "markdown",
   "metadata": {},
   "source": [
    "Parece estranho, eu sei... mas é bastante útil e fará sentido em breve!\n",
    "\n",
    "#### Lembrete rápido sobre _slicing_\n",
    "* Se você ignorar um dos limites, ele considera todo o restante\n",
    "* O limite inferior é inclusivo, já o limite superior é exclusivo\n",
    "* Você pode usar índices negativos\n",
    "* Diferente da indexação direta, índices inválidos vão retornar um _array_ vazio, e não um erro\n",
    "* _Slincing_ e acessos diretos podem ser combinados, porém lembre-se que seu _array_ perde dimensões com cada acesso\n",
    "\n",
    "### Operações matemáticas com _arrays_\n",
    "Já vimos como o NumPy facilita a vida ao lidar com operações matemáticas em _arrays_ de forma natural. NumPy suporta todas as operações tradicionais e mais muitas outras!\n",
    "\n",
    "A maioria das operações que fazemos é elemento por elemento (_element-wise_), ou seja, se C = A + B, temos que `A.shape == B.shape == C.shape` e para todo i, j temos que `C[i,j] = A[i,j] + B[i,j]`"
   ]
  },
  {
   "cell_type": "code",
   "execution_count": 107,
   "metadata": {
    "ExecuteTime": {
     "end_time": "2019-02-22T00:30:48.712029Z",
     "start_time": "2019-02-22T00:30:48.689042Z"
    }
   },
   "outputs": [
    {
     "data": {
      "text/html": [
       "<div>\n",
       "<style scoped>\n",
       "    .dataframe tbody tr th:only-of-type {\n",
       "        vertical-align: middle;\n",
       "    }\n",
       "\n",
       "    .dataframe tbody tr th {\n",
       "        vertical-align: top;\n",
       "    }\n",
       "\n",
       "    .dataframe thead th {\n",
       "        text-align: right;\n",
       "    }\n",
       "</style>\n",
       "<table border=\"1\" class=\"dataframe\">\n",
       "  <thead>\n",
       "    <tr style=\"text-align: right;\">\n",
       "      <th></th>\n",
       "      <th>Close</th>\n",
       "      <th>Volume</th>\n",
       "      <th>Open</th>\n",
       "    </tr>\n",
       "    <tr>\n",
       "      <th>Date</th>\n",
       "      <th></th>\n",
       "      <th></th>\n",
       "      <th></th>\n",
       "    </tr>\n",
       "  </thead>\n",
       "  <tbody>\n",
       "    <tr>\n",
       "      <th>2019-01-02</th>\n",
       "      <td>1045.849976</td>\n",
       "      <td>1532600</td>\n",
       "      <td>1016.570007</td>\n",
       "    </tr>\n",
       "    <tr>\n",
       "      <th>2019-01-03</th>\n",
       "      <td>1016.059998</td>\n",
       "      <td>1841100</td>\n",
       "      <td>1041.000000</td>\n",
       "    </tr>\n",
       "    <tr>\n",
       "      <th>2019-01-04</th>\n",
       "      <td>1070.709961</td>\n",
       "      <td>2093900</td>\n",
       "      <td>1032.589966</td>\n",
       "    </tr>\n",
       "    <tr>\n",
       "      <th>2019-01-07</th>\n",
       "      <td>1068.390015</td>\n",
       "      <td>1981900</td>\n",
       "      <td>1071.500000</td>\n",
       "    </tr>\n",
       "    <tr>\n",
       "      <th>2019-01-08</th>\n",
       "      <td>1076.280029</td>\n",
       "      <td>1764900</td>\n",
       "      <td>1076.109985</td>\n",
       "    </tr>\n",
       "    <tr>\n",
       "      <th>2019-01-09</th>\n",
       "      <td>1074.660034</td>\n",
       "      <td>1199300</td>\n",
       "      <td>1081.650024</td>\n",
       "    </tr>\n",
       "    <tr>\n",
       "      <th>2019-01-10</th>\n",
       "      <td>1070.329956</td>\n",
       "      <td>1456400</td>\n",
       "      <td>1067.660034</td>\n",
       "    </tr>\n",
       "    <tr>\n",
       "      <th>2019-01-11</th>\n",
       "      <td>1057.189941</td>\n",
       "      <td>1520800</td>\n",
       "      <td>1063.180054</td>\n",
       "    </tr>\n",
       "    <tr>\n",
       "      <th>2019-01-14</th>\n",
       "      <td>1044.689941</td>\n",
       "      <td>1144300</td>\n",
       "      <td>1046.920044</td>\n",
       "    </tr>\n",
       "    <tr>\n",
       "      <th>2019-01-15</th>\n",
       "      <td>1077.150024</td>\n",
       "      <td>1463600</td>\n",
       "      <td>1050.170044</td>\n",
       "    </tr>\n",
       "    <tr>\n",
       "      <th>2019-01-16</th>\n",
       "      <td>1080.969971</td>\n",
       "      <td>1331800</td>\n",
       "      <td>1080.000000</td>\n",
       "    </tr>\n",
       "    <tr>\n",
       "      <th>2019-01-17</th>\n",
       "      <td>1089.900024</td>\n",
       "      <td>1242700</td>\n",
       "      <td>1079.469971</td>\n",
       "    </tr>\n",
       "    <tr>\n",
       "      <th>2019-01-18</th>\n",
       "      <td>1098.260010</td>\n",
       "      <td>1955600</td>\n",
       "      <td>1100.000000</td>\n",
       "    </tr>\n",
       "    <tr>\n",
       "      <th>2019-01-22</th>\n",
       "      <td>1070.520020</td>\n",
       "      <td>1613500</td>\n",
       "      <td>1088.000000</td>\n",
       "    </tr>\n",
       "    <tr>\n",
       "      <th>2019-01-23</th>\n",
       "      <td>1075.569946</td>\n",
       "      <td>967000</td>\n",
       "      <td>1077.349976</td>\n",
       "    </tr>\n",
       "    <tr>\n",
       "      <th>2019-01-24</th>\n",
       "      <td>1073.900024</td>\n",
       "      <td>1361300</td>\n",
       "      <td>1076.479980</td>\n",
       "    </tr>\n",
       "    <tr>\n",
       "      <th>2019-01-25</th>\n",
       "      <td>1090.989990</td>\n",
       "      <td>1119100</td>\n",
       "      <td>1085.000000</td>\n",
       "    </tr>\n",
       "    <tr>\n",
       "      <th>2019-01-28</th>\n",
       "      <td>1070.079956</td>\n",
       "      <td>1284300</td>\n",
       "      <td>1080.109985</td>\n",
       "    </tr>\n",
       "    <tr>\n",
       "      <th>2019-01-29</th>\n",
       "      <td>1060.619995</td>\n",
       "      <td>1021800</td>\n",
       "      <td>1072.680054</td>\n",
       "    </tr>\n",
       "    <tr>\n",
       "      <th>2019-01-30</th>\n",
       "      <td>1089.060059</td>\n",
       "      <td>1279800</td>\n",
       "      <td>1068.430054</td>\n",
       "    </tr>\n",
       "    <tr>\n",
       "      <th>2019-01-31</th>\n",
       "      <td>1116.369995</td>\n",
       "      <td>1538300</td>\n",
       "      <td>1103.000000</td>\n",
       "    </tr>\n",
       "    <tr>\n",
       "      <th>2019-02-01</th>\n",
       "      <td>1110.750000</td>\n",
       "      <td>1462200</td>\n",
       "      <td>1112.400024</td>\n",
       "    </tr>\n",
       "    <tr>\n",
       "      <th>2019-02-04</th>\n",
       "      <td>1132.800049</td>\n",
       "      <td>2576500</td>\n",
       "      <td>1112.660034</td>\n",
       "    </tr>\n",
       "    <tr>\n",
       "      <th>2019-02-05</th>\n",
       "      <td>1145.989990</td>\n",
       "      <td>3552200</td>\n",
       "      <td>1124.839966</td>\n",
       "    </tr>\n",
       "    <tr>\n",
       "      <th>2019-02-06</th>\n",
       "      <td>1115.229980</td>\n",
       "      <td>2105600</td>\n",
       "      <td>1139.569946</td>\n",
       "    </tr>\n",
       "    <tr>\n",
       "      <th>2019-02-07</th>\n",
       "      <td>1098.709961</td>\n",
       "      <td>2044800</td>\n",
       "      <td>1104.160034</td>\n",
       "    </tr>\n",
       "    <tr>\n",
       "      <th>2019-02-08</th>\n",
       "      <td>1095.060059</td>\n",
       "      <td>1075800</td>\n",
       "      <td>1087.000000</td>\n",
       "    </tr>\n",
       "  </tbody>\n",
       "</table>\n",
       "</div>"
      ],
      "text/plain": [
       "                  Close   Volume         Open\n",
       "Date                                         \n",
       "2019-01-02  1045.849976  1532600  1016.570007\n",
       "2019-01-03  1016.059998  1841100  1041.000000\n",
       "2019-01-04  1070.709961  2093900  1032.589966\n",
       "2019-01-07  1068.390015  1981900  1071.500000\n",
       "2019-01-08  1076.280029  1764900  1076.109985\n",
       "2019-01-09  1074.660034  1199300  1081.650024\n",
       "2019-01-10  1070.329956  1456400  1067.660034\n",
       "2019-01-11  1057.189941  1520800  1063.180054\n",
       "2019-01-14  1044.689941  1144300  1046.920044\n",
       "2019-01-15  1077.150024  1463600  1050.170044\n",
       "2019-01-16  1080.969971  1331800  1080.000000\n",
       "2019-01-17  1089.900024  1242700  1079.469971\n",
       "2019-01-18  1098.260010  1955600  1100.000000\n",
       "2019-01-22  1070.520020  1613500  1088.000000\n",
       "2019-01-23  1075.569946   967000  1077.349976\n",
       "2019-01-24  1073.900024  1361300  1076.479980\n",
       "2019-01-25  1090.989990  1119100  1085.000000\n",
       "2019-01-28  1070.079956  1284300  1080.109985\n",
       "2019-01-29  1060.619995  1021800  1072.680054\n",
       "2019-01-30  1089.060059  1279800  1068.430054\n",
       "2019-01-31  1116.369995  1538300  1103.000000\n",
       "2019-02-01  1110.750000  1462200  1112.400024\n",
       "2019-02-04  1132.800049  2576500  1112.660034\n",
       "2019-02-05  1145.989990  3552200  1124.839966\n",
       "2019-02-06  1115.229980  2105600  1139.569946\n",
       "2019-02-07  1098.709961  2044800  1104.160034\n",
       "2019-02-08  1095.060059  1075800  1087.000000"
      ]
     },
     "execution_count": 107,
     "metadata": {},
     "output_type": "execute_result"
    }
   ],
   "source": [
    "google"
   ]
  },
  {
   "cell_type": "code",
   "execution_count": 108,
   "metadata": {
    "ExecuteTime": {
     "end_time": "2019-02-22T00:31:03.583129Z",
     "start_time": "2019-02-22T00:31:03.578136Z"
    }
   },
   "outputs": [],
   "source": [
    "google_np = np.array(google)"
   ]
  },
  {
   "cell_type": "code",
   "execution_count": 109,
   "metadata": {
    "ExecuteTime": {
     "end_time": "2019-02-22T00:31:06.488644Z",
     "start_time": "2019-02-22T00:31:06.481647Z"
    }
   },
   "outputs": [
    {
     "data": {
      "text/plain": [
       "array([[1.04584998e+03, 1.53260000e+06, 1.01657001e+03],\n",
       "       [1.01606000e+03, 1.84110000e+06, 1.04100000e+03],\n",
       "       [1.07070996e+03, 2.09390000e+06, 1.03258997e+03],\n",
       "       [1.06839001e+03, 1.98190000e+06, 1.07150000e+03],\n",
       "       [1.07628003e+03, 1.76490000e+06, 1.07610999e+03],\n",
       "       [1.07466003e+03, 1.19930000e+06, 1.08165002e+03],\n",
       "       [1.07032996e+03, 1.45640000e+06, 1.06766003e+03],\n",
       "       [1.05718994e+03, 1.52080000e+06, 1.06318005e+03],\n",
       "       [1.04468994e+03, 1.14430000e+06, 1.04692004e+03],\n",
       "       [1.07715002e+03, 1.46360000e+06, 1.05017004e+03],\n",
       "       [1.08096997e+03, 1.33180000e+06, 1.08000000e+03],\n",
       "       [1.08990002e+03, 1.24270000e+06, 1.07946997e+03],\n",
       "       [1.09826001e+03, 1.95560000e+06, 1.10000000e+03],\n",
       "       [1.07052002e+03, 1.61350000e+06, 1.08800000e+03],\n",
       "       [1.07556995e+03, 9.67000000e+05, 1.07734998e+03],\n",
       "       [1.07390002e+03, 1.36130000e+06, 1.07647998e+03],\n",
       "       [1.09098999e+03, 1.11910000e+06, 1.08500000e+03],\n",
       "       [1.07007996e+03, 1.28430000e+06, 1.08010999e+03],\n",
       "       [1.06062000e+03, 1.02180000e+06, 1.07268005e+03],\n",
       "       [1.08906006e+03, 1.27980000e+06, 1.06843005e+03],\n",
       "       [1.11637000e+03, 1.53830000e+06, 1.10300000e+03],\n",
       "       [1.11075000e+03, 1.46220000e+06, 1.11240002e+03],\n",
       "       [1.13280005e+03, 2.57650000e+06, 1.11266003e+03],\n",
       "       [1.14598999e+03, 3.55220000e+06, 1.12483997e+03],\n",
       "       [1.11522998e+03, 2.10560000e+06, 1.13956995e+03],\n",
       "       [1.09870996e+03, 2.04480000e+06, 1.10416003e+03],\n",
       "       [1.09506006e+03, 1.07580000e+06, 1.08700000e+03]])"
      ]
     },
     "execution_count": 109,
     "metadata": {},
     "output_type": "execute_result"
    }
   ],
   "source": [
    "google_np"
   ]
  },
  {
   "cell_type": "code",
   "execution_count": 177,
   "metadata": {
    "ExecuteTime": {
     "end_time": "2019-02-22T01:14:33.205969Z",
     "start_time": "2019-02-22T01:14:33.200974Z"
    }
   },
   "outputs": [],
   "source": [
    "x = google_np[:, 0]\n",
    "y = google_np[:, 1]\n",
    "z = google_np[:, 2]"
   ]
  },
  {
   "cell_type": "code",
   "execution_count": 178,
   "metadata": {
    "ExecuteTime": {
     "end_time": "2019-02-22T01:14:33.924760Z",
     "start_time": "2019-02-22T01:14:33.918748Z"
    }
   },
   "outputs": [
    {
     "data": {
      "text/plain": [
       "array([1045.84997559, 1016.05999756, 1070.70996094, 1068.39001465,\n",
       "       1076.2800293 , 1074.66003418, 1070.32995605, 1057.18994141,\n",
       "       1044.68994141, 1077.15002441, 1080.9699707 , 1089.90002441,\n",
       "       1098.26000977, 1070.52001953, 1075.56994629, 1073.90002441,\n",
       "       1090.98999023, 1070.07995605, 1060.61999512, 1089.06005859,\n",
       "       1116.36999512, 1110.75      , 1132.80004883, 1145.98999023,\n",
       "       1115.22998047, 1098.70996094, 1095.06005859])"
      ]
     },
     "execution_count": 178,
     "metadata": {},
     "output_type": "execute_result"
    }
   ],
   "source": [
    "x"
   ]
  },
  {
   "cell_type": "code",
   "execution_count": 112,
   "metadata": {
    "ExecuteTime": {
     "end_time": "2019-02-22T00:31:44.042013Z",
     "start_time": "2019-02-22T00:31:44.034018Z"
    }
   },
   "outputs": [
    {
     "data": {
      "text/plain": [
       "array([1532600., 1841100., 2093900., 1981900., 1764900., 1199300.,\n",
       "       1456400., 1520800., 1144300., 1463600., 1331800., 1242700.,\n",
       "       1955600., 1613500.,  967000., 1361300., 1119100., 1284300.,\n",
       "       1021800., 1279800., 1538300., 1462200., 2576500., 3552200.,\n",
       "       2105600., 2044800., 1075800.])"
      ]
     },
     "execution_count": 112,
     "metadata": {},
     "output_type": "execute_result"
    }
   ],
   "source": [
    "y"
   ]
  },
  {
   "cell_type": "code",
   "execution_count": 179,
   "metadata": {
    "ExecuteTime": {
     "end_time": "2019-02-22T01:14:35.983022Z",
     "start_time": "2019-02-22T01:14:35.977008Z"
    }
   },
   "outputs": [
    {
     "data": {
      "text/plain": [
       "array([1016.57000732, 1041.        , 1032.58996582, 1071.5       ,\n",
       "       1076.10998535, 1081.65002441, 1067.66003418, 1063.18005371,\n",
       "       1046.92004395, 1050.17004395, 1080.        , 1079.4699707 ,\n",
       "       1100.        , 1088.        , 1077.34997559, 1076.47998047,\n",
       "       1085.        , 1080.10998535, 1072.68005371, 1068.43005371,\n",
       "       1103.        , 1112.40002441, 1112.66003418, 1124.83996582,\n",
       "       1139.56994629, 1104.16003418, 1087.        ])"
      ]
     },
     "execution_count": 179,
     "metadata": {},
     "output_type": "execute_result"
    }
   ],
   "source": [
    "z"
   ]
  },
  {
   "cell_type": "markdown",
   "metadata": {
    "ExecuteTime": {
     "end_time": "2019-02-17T11:21:30.490753Z",
     "start_time": "2019-02-17T11:21:30.482755Z"
    }
   },
   "source": [
    "### Valorização?"
   ]
  },
  {
   "cell_type": "code",
   "execution_count": 114,
   "metadata": {
    "ExecuteTime": {
     "end_time": "2019-02-22T00:32:05.555832Z",
     "start_time": "2019-02-22T00:32:05.550836Z"
    }
   },
   "outputs": [
    {
     "data": {
      "text/plain": [
       "array([ 29.27996826, -24.94000244,  38.11999512,  -3.10998535,\n",
       "         0.17004395,  -6.98999023,   2.66992188,  -5.9901123 ,\n",
       "        -2.23010254,  26.97998047,   0.9699707 ,  10.43005371,\n",
       "        -1.73999023, -17.47998047,  -1.7800293 ,  -2.57995605,\n",
       "         5.98999023, -10.0300293 , -12.06005859,  20.63000488,\n",
       "        13.36999512,  -1.65002441,  20.14001465,  21.15002441,\n",
       "       -24.33996582,  -5.45007324,   8.06005859])"
      ]
     },
     "execution_count": 114,
     "metadata": {},
     "output_type": "execute_result"
    }
   ],
   "source": [
    "x - z"
   ]
  },
  {
   "cell_type": "markdown",
   "metadata": {},
   "source": [
    "### Valor total ganho por dia de operação?"
   ]
  },
  {
   "cell_type": "code",
   "execution_count": 115,
   "metadata": {
    "ExecuteTime": {
     "end_time": "2019-02-22T00:32:29.492190Z",
     "start_time": "2019-02-22T00:32:29.484192Z"
    }
   },
   "outputs": [
    {
     "data": {
      "text/plain": [
       "array([ 44874479.35791016, -45917038.49487305,  79819457.7758789 ,\n",
       "        -6163679.96826172,    300110.55908203,  -8383095.28808594,\n",
       "         3888474.21875   ,  -9109762.79296875,  -2551906.33544922,\n",
       "        39487899.4140625 ,   1291806.98242188,  12961427.74658203,\n",
       "        -3402724.90234375, -28203948.48632812,  -1721288.33007812,\n",
       "        -3512094.17724609,   6703398.07128906, -12881566.62597656,\n",
       "       -12322967.87109375,  26402280.24902344,  20567063.48876953,\n",
       "        -2412665.69824219,  51890747.74169922,  75129116.72363281,\n",
       "       -51250232.03125   , -11144309.765625  ,   8671011.03515625])"
      ]
     },
     "execution_count": 115,
     "metadata": {},
     "output_type": "execute_result"
    }
   ],
   "source": [
    "(x - z)*y"
   ]
  },
  {
   "cell_type": "markdown",
   "metadata": {},
   "source": [
    "Há também outras formas de se operar _arrays_:"
   ]
  },
  {
   "cell_type": "code",
   "execution_count": 116,
   "metadata": {
    "ExecuteTime": {
     "end_time": "2019-02-22T00:32:50.664725Z",
     "start_time": "2019-02-22T00:32:50.656730Z"
    }
   },
   "outputs": [
    {
     "data": {
      "text/plain": [
       "array([ 29.27996826, -24.94000244,  38.11999512,  -3.10998535,\n",
       "         0.17004395,  -6.98999023,   2.66992188,  -5.9901123 ,\n",
       "        -2.23010254,  26.97998047,   0.9699707 ,  10.43005371,\n",
       "        -1.73999023, -17.47998047,  -1.7800293 ,  -2.57995605,\n",
       "         5.98999023, -10.0300293 , -12.06005859,  20.63000488,\n",
       "        13.36999512,  -1.65002441,  20.14001465,  21.15002441,\n",
       "       -24.33996582,  -5.45007324,   8.06005859])"
      ]
     },
     "execution_count": 116,
     "metadata": {},
     "output_type": "execute_result"
    }
   ],
   "source": [
    "np.subtract(x, z)"
   ]
  },
  {
   "cell_type": "code",
   "execution_count": 117,
   "metadata": {
    "ExecuteTime": {
     "end_time": "2019-02-22T00:33:04.478501Z",
     "start_time": "2019-02-22T00:33:04.470507Z"
    }
   },
   "outputs": [
    {
     "data": {
      "text/plain": [
       "array([1.60286967e+09, 1.87066806e+09, 2.24195959e+09, 2.11744217e+09,\n",
       "       1.89952662e+09, 1.28883978e+09, 1.55882855e+09, 1.60777446e+09,\n",
       "       1.19543870e+09, 1.57651678e+09, 1.43963581e+09, 1.35441876e+09,\n",
       "       2.14775728e+09, 1.72728405e+09, 1.04007614e+09, 1.46190010e+09,\n",
       "       1.22092690e+09, 1.37430369e+09, 1.08374151e+09, 1.39377906e+09,\n",
       "       1.71731196e+09, 1.62413865e+09, 2.91865933e+09, 4.07078564e+09,\n",
       "       2.34822825e+09, 2.24664213e+09, 1.17806561e+09])"
      ]
     },
     "execution_count": 117,
     "metadata": {},
     "output_type": "execute_result"
    }
   ],
   "source": [
    "np.multiply(x, y)"
   ]
  },
  {
   "cell_type": "markdown",
   "metadata": {},
   "source": [
    "Também podemos fazer operações entre um escalar e um _array_, aí o escalar é aplicado a todos os elementos do _array_."
   ]
  },
  {
   "cell_type": "code",
   "execution_count": 118,
   "metadata": {
    "ExecuteTime": {
     "end_time": "2019-02-22T00:33:33.655051Z",
     "start_time": "2019-02-22T00:33:33.648056Z"
    }
   },
   "outputs": [
    {
     "data": {
      "text/plain": [
       "array([7.81123956e+08, 9.60407987e+08, 1.08328127e+09, 1.06409248e+09,\n",
       "       9.51929648e+08, 6.50936249e+08, 7.79755534e+08, 8.10690079e+08,\n",
       "       6.01182717e+08, 7.70776820e+08, 7.21506895e+08, 6.73081695e+08,\n",
       "       1.07799617e+09, 8.80073452e+08, 5.23216244e+08, 7.35018162e+08,\n",
       "       6.09479198e+08, 6.95904235e+08, 5.50307651e+08, 6.86015560e+08,\n",
       "       8.50835162e+08, 8.15746855e+08, 1.43590513e+09, 2.00040637e+09,\n",
       "       1.20228100e+09, 1.13131952e+09, 5.87077961e+08])"
      ]
     },
     "execution_count": 118,
     "metadata": {},
     "output_type": "execute_result"
    }
   ],
   "source": [
    "(2*x + y/2)*z"
   ]
  },
  {
   "cell_type": "markdown",
   "metadata": {},
   "source": [
    "NumPy também tem várias funções de comparação:"
   ]
  },
  {
   "cell_type": "code",
   "execution_count": 119,
   "metadata": {
    "ExecuteTime": {
     "end_time": "2019-02-22T00:33:48.366103Z",
     "start_time": "2019-02-22T00:33:48.359107Z"
    }
   },
   "outputs": [
    {
     "data": {
      "text/plain": [
       "1145.989990234375"
      ]
     },
     "execution_count": 119,
     "metadata": {},
     "output_type": "execute_result"
    }
   ],
   "source": [
    "np.max(x)"
   ]
  },
  {
   "cell_type": "code",
   "execution_count": 120,
   "metadata": {
    "ExecuteTime": {
     "end_time": "2019-02-22T00:33:56.689514Z",
     "start_time": "2019-02-22T00:33:56.682522Z"
    }
   },
   "outputs": [
    {
     "data": {
      "text/plain": [
       "array([1045.84997559, 1041.        , 1070.70996094, 1071.5       ,\n",
       "       1076.2800293 , 1081.65002441, 1070.32995605, 1063.18005371,\n",
       "       1046.92004395, 1077.15002441, 1080.9699707 , 1089.90002441,\n",
       "       1100.        , 1088.        , 1077.34997559, 1076.47998047,\n",
       "       1090.98999023, 1080.10998535, 1072.68005371, 1089.06005859,\n",
       "       1116.36999512, 1112.40002441, 1132.80004883, 1145.98999023,\n",
       "       1139.56994629, 1104.16003418, 1095.06005859])"
      ]
     },
     "execution_count": 120,
     "metadata": {},
     "output_type": "execute_result"
    }
   ],
   "source": [
    "np.maximum(x, z)"
   ]
  },
  {
   "cell_type": "code",
   "execution_count": 121,
   "metadata": {
    "ExecuteTime": {
     "end_time": "2019-02-22T00:34:49.076275Z",
     "start_time": "2019-02-22T00:34:49.070277Z"
    }
   },
   "outputs": [
    {
     "data": {
      "text/plain": [
       "array([1016.57000732, 1016.05999756, 1032.58996582, 1068.39001465,\n",
       "       1076.10998535, 1074.66003418, 1067.66003418, 1057.18994141,\n",
       "       1044.68994141, 1050.17004395, 1080.        , 1079.4699707 ,\n",
       "       1098.26000977, 1070.52001953, 1075.56994629, 1073.90002441,\n",
       "       1085.        , 1070.07995605, 1060.61999512, 1068.43005371,\n",
       "       1103.        , 1110.75      , 1112.66003418, 1124.83996582,\n",
       "       1115.22998047, 1098.70996094, 1087.        ])"
      ]
     },
     "execution_count": 121,
     "metadata": {},
     "output_type": "execute_result"
    }
   ],
   "source": [
    "np.minimum(x, z)"
   ]
  },
  {
   "cell_type": "markdown",
   "metadata": {},
   "source": [
    "### Operações lógicas\n",
    "Operações lógicas são bastante comuns em _arrays_ também:"
   ]
  },
  {
   "cell_type": "code",
   "execution_count": 122,
   "metadata": {
    "ExecuteTime": {
     "end_time": "2019-02-22T00:35:07.313550Z",
     "start_time": "2019-02-22T00:35:07.307554Z"
    }
   },
   "outputs": [
    {
     "data": {
      "text/plain": [
       "array([ True, False,  True, False,  True, False,  True, False, False,\n",
       "        True,  True,  True, False, False, False, False,  True, False,\n",
       "       False,  True,  True, False,  True,  True, False, False,  True])"
      ]
     },
     "execution_count": 122,
     "metadata": {},
     "output_type": "execute_result"
    }
   ],
   "source": [
    "x > z"
   ]
  },
  {
   "cell_type": "code",
   "execution_count": 125,
   "metadata": {
    "ExecuteTime": {
     "end_time": "2019-02-22T00:36:23.292824Z",
     "start_time": "2019-02-22T00:36:23.285830Z"
    }
   },
   "outputs": [
    {
     "data": {
      "text/plain": [
       "array([False,  True, False,  True, False,  True, False,  True,  True,\n",
       "       False, False, False,  True,  True,  True,  True, False,  True,\n",
       "        True, False, False,  True, False, False,  True,  True, False])"
      ]
     },
     "execution_count": 125,
     "metadata": {},
     "output_type": "execute_result"
    }
   ],
   "source": [
    "(z > x) & (y > x)"
   ]
  },
  {
   "cell_type": "markdown",
   "metadata": {},
   "source": [
    "São úteis para contar valores que tornam alguma condição verdade (isso porque o NumPy considera `True = 1` e `False = 0`)"
   ]
  },
  {
   "cell_type": "code",
   "execution_count": 126,
   "metadata": {
    "ExecuteTime": {
     "end_time": "2019-02-22T00:36:33.507430Z",
     "start_time": "2019-02-22T00:36:33.499434Z"
    }
   },
   "outputs": [
    {
     "data": {
      "text/plain": [
       "14"
      ]
     },
     "execution_count": 126,
     "metadata": {},
     "output_type": "execute_result"
    }
   ],
   "source": [
    "np.sum(x < z)"
   ]
  },
  {
   "cell_type": "markdown",
   "metadata": {},
   "source": [
    "Também são incrivelmente úteis para indexação e atribuição:"
   ]
  },
  {
   "cell_type": "code",
   "execution_count": 127,
   "metadata": {
    "ExecuteTime": {
     "end_time": "2019-02-22T00:37:47.808873Z",
     "start_time": "2019-02-22T00:37:47.802880Z"
    }
   },
   "outputs": [
    {
     "data": {
      "text/plain": [
       "array([1045.84997559, 1070.70996094, 1076.2800293 , 1070.32995605,\n",
       "       1077.15002441, 1080.9699707 , 1089.90002441, 1090.98999023,\n",
       "       1089.06005859, 1116.36999512, 1132.80004883, 1145.98999023,\n",
       "       1095.06005859])"
      ]
     },
     "execution_count": 127,
     "metadata": {},
     "output_type": "execute_result"
    }
   ],
   "source": [
    "x[x > z]"
   ]
  },
  {
   "cell_type": "markdown",
   "metadata": {},
   "source": [
    "### Exercícios!\n",
    "Dado o array abaixo, o que é retornado por `a[[True, False, False, False, True]]`? (pense antes de rodar)"
   ]
  },
  {
   "cell_type": "code",
   "execution_count": 128,
   "metadata": {
    "ExecuteTime": {
     "end_time": "2019-02-22T00:42:32.256121Z",
     "start_time": "2019-02-22T00:42:32.248107Z"
    }
   },
   "outputs": [
    {
     "data": {
      "text/plain": [
       "array([[ 0,  1,  2,  3],\n",
       "       [ 4,  5,  6,  7],\n",
       "       [ 8,  9, 10, 11],\n",
       "       [12, 13, 14, 15],\n",
       "       [16, 17, 18, 19]])"
      ]
     },
     "execution_count": 128,
     "metadata": {},
     "output_type": "execute_result"
    }
   ],
   "source": [
    "a = np.arange(20).reshape(5,4)\n",
    "a"
   ]
  },
  {
   "cell_type": "code",
   "execution_count": 129,
   "metadata": {
    "ExecuteTime": {
     "end_time": "2019-02-22T00:43:03.189570Z",
     "start_time": "2019-02-22T00:43:03.182580Z"
    }
   },
   "outputs": [
    {
     "data": {
      "text/plain": [
       "array([[ 0,  1,  2,  3],\n",
       "       [16, 17, 18, 19]])"
      ]
     },
     "execution_count": 129,
     "metadata": {},
     "output_type": "execute_result"
    }
   ],
   "source": [
    "a[[True, False, False, False, True]]"
   ]
  },
  {
   "cell_type": "markdown",
   "metadata": {},
   "source": [
    "Quantos elementos estão entre 40 e 60?"
   ]
  },
  {
   "cell_type": "code",
   "execution_count": 130,
   "metadata": {
    "ExecuteTime": {
     "end_time": "2019-02-22T00:43:12.355016Z",
     "start_time": "2019-02-22T00:43:12.347022Z"
    }
   },
   "outputs": [],
   "source": [
    "a = np.array([[17, 18, 34, 78, 65],\n",
    "              [26, 92, 48, 56,  6],\n",
    "              [19, 41, 97, 52, 43],\n",
    "              [62, 49, 74, 97,  5],\n",
    "              [65, 93,  3, 15, 22]])"
   ]
  },
  {
   "cell_type": "code",
   "execution_count": 132,
   "metadata": {
    "ExecuteTime": {
     "end_time": "2019-02-22T00:44:45.900335Z",
     "start_time": "2019-02-22T00:44:45.892338Z"
    }
   },
   "outputs": [
    {
     "data": {
      "text/plain": [
       "6"
      ]
     },
     "execution_count": 132,
     "metadata": {},
     "output_type": "execute_result"
    }
   ],
   "source": [
    "np.sum((a >= 40) & (a <= 60))"
   ]
  },
  {
   "cell_type": "markdown",
   "metadata": {},
   "source": [
    "Divida o array a em b e c, onde b tem as linhas que começam com valores menores que 5 e c as linhas que começam com valores maiores ou iguais a 5:"
   ]
  },
  {
   "cell_type": "code",
   "execution_count": 133,
   "metadata": {
    "ExecuteTime": {
     "end_time": "2019-02-22T00:45:01.056596Z",
     "start_time": "2019-02-22T00:45:01.049582Z"
    }
   },
   "outputs": [
    {
     "data": {
      "text/plain": [
       "array([[4, 9, 7, 5, 8, 7],\n",
       "       [4, 9, 3, 3, 9, 6],\n",
       "       [1, 8, 3, 8, 2, 6],\n",
       "       [7, 3, 1, 2, 8, 3],\n",
       "       [8, 7, 5, 9, 8, 2],\n",
       "       [4, 5, 5, 3, 9, 8],\n",
       "       [3, 7, 6, 5, 7, 6],\n",
       "       [2, 7, 7, 3, 4, 9],\n",
       "       [4, 5, 3, 5, 9, 6],\n",
       "       [2, 4, 6, 8, 6, 8],\n",
       "       [1, 6, 8, 7, 5, 6],\n",
       "       [6, 4, 1, 4, 8, 8],\n",
       "       [6, 4, 4, 7, 7, 4],\n",
       "       [8, 9, 4, 6, 7, 7],\n",
       "       [8, 3, 9, 7, 6, 8]])"
      ]
     },
     "execution_count": 133,
     "metadata": {},
     "output_type": "execute_result"
    }
   ],
   "source": [
    "a = np.random.randint(1, 10, 90).reshape(15,6)\n",
    "a"
   ]
  },
  {
   "cell_type": "code",
   "execution_count": 136,
   "metadata": {
    "ExecuteTime": {
     "end_time": "2019-02-22T00:46:50.653035Z",
     "start_time": "2019-02-22T00:46:50.646043Z"
    }
   },
   "outputs": [
    {
     "data": {
      "text/plain": [
       "array([[4, 9, 7, 5, 8, 7],\n",
       "       [4, 9, 3, 3, 9, 6],\n",
       "       [1, 8, 3, 8, 2, 6],\n",
       "       [4, 5, 5, 3, 9, 8],\n",
       "       [3, 7, 6, 5, 7, 6],\n",
       "       [2, 7, 7, 3, 4, 9],\n",
       "       [4, 5, 3, 5, 9, 6],\n",
       "       [2, 4, 6, 8, 6, 8],\n",
       "       [1, 6, 8, 7, 5, 6]])"
      ]
     },
     "execution_count": 136,
     "metadata": {},
     "output_type": "execute_result"
    }
   ],
   "source": [
    "b_mask = a[:, 0] < 5\n",
    "a[b_mask]"
   ]
  },
  {
   "cell_type": "code",
   "execution_count": 134,
   "metadata": {
    "ExecuteTime": {
     "end_time": "2019-02-22T00:46:05.303710Z",
     "start_time": "2019-02-22T00:46:05.296714Z"
    }
   },
   "outputs": [
    {
     "data": {
      "text/plain": [
       "array([[4, 9, 7, 5, 8, 7],\n",
       "       [4, 9, 3, 3, 9, 6],\n",
       "       [1, 8, 3, 8, 2, 6],\n",
       "       [4, 5, 5, 3, 9, 8],\n",
       "       [3, 7, 6, 5, 7, 6],\n",
       "       [2, 7, 7, 3, 4, 9],\n",
       "       [4, 5, 3, 5, 9, 6],\n",
       "       [2, 4, 6, 8, 6, 8],\n",
       "       [1, 6, 8, 7, 5, 6]])"
      ]
     },
     "execution_count": 134,
     "metadata": {},
     "output_type": "execute_result"
    }
   ],
   "source": [
    "b = a[a[:, 0 ] < 5]\n",
    "b"
   ]
  },
  {
   "cell_type": "code",
   "execution_count": 137,
   "metadata": {
    "ExecuteTime": {
     "end_time": "2019-02-22T00:47:15.647372Z",
     "start_time": "2019-02-22T00:47:15.638379Z"
    }
   },
   "outputs": [
    {
     "data": {
      "text/plain": [
       "array([[7, 3, 1, 2, 8, 3],\n",
       "       [8, 7, 5, 9, 8, 2],\n",
       "       [6, 4, 1, 4, 8, 8],\n",
       "       [6, 4, 4, 7, 7, 4],\n",
       "       [8, 9, 4, 6, 7, 7],\n",
       "       [8, 3, 9, 7, 6, 8]])"
      ]
     },
     "execution_count": 137,
     "metadata": {},
     "output_type": "execute_result"
    }
   ],
   "source": [
    "c = a[a[:, 0 ] >= 5]\n",
    "c"
   ]
  },
  {
   "cell_type": "markdown",
   "metadata": {},
   "source": [
    "Crie uma matriz 5 x 5 com números inteiros entre 0 e 9. Agora retorne a primeira linha somada com a última, subtraída pelo número exatamente no centro da matriz:"
   ]
  },
  {
   "cell_type": "code",
   "execution_count": 138,
   "metadata": {
    "ExecuteTime": {
     "end_time": "2019-02-22T00:48:12.764222Z",
     "start_time": "2019-02-22T00:48:12.759223Z"
    }
   },
   "outputs": [
    {
     "data": {
      "text/plain": [
       "array([[2, 0, 3, 2, 6],\n",
       "       [8, 0, 3, 0, 5],\n",
       "       [1, 5, 2, 4, 5],\n",
       "       [5, 4, 2, 4, 4],\n",
       "       [4, 7, 7, 0, 4]])"
      ]
     },
     "execution_count": 138,
     "metadata": {},
     "output_type": "execute_result"
    }
   ],
   "source": [
    "m5_5 = np.random.randint(0, 9, (5,5))\n",
    "m5_5"
   ]
  },
  {
   "cell_type": "code",
   "execution_count": 139,
   "metadata": {
    "ExecuteTime": {
     "end_time": "2019-02-22T00:48:39.761027Z",
     "start_time": "2019-02-22T00:48:39.755028Z"
    }
   },
   "outputs": [
    {
     "data": {
      "text/plain": [
       "array([2, 0, 3, 2, 6])"
      ]
     },
     "execution_count": 139,
     "metadata": {},
     "output_type": "execute_result"
    }
   ],
   "source": [
    "m5_5[0, ]"
   ]
  },
  {
   "cell_type": "code",
   "execution_count": 140,
   "metadata": {
    "ExecuteTime": {
     "end_time": "2019-02-22T00:48:53.082908Z",
     "start_time": "2019-02-22T00:48:53.077912Z"
    }
   },
   "outputs": [
    {
     "data": {
      "text/plain": [
       "array([4, 7, 7, 0, 4])"
      ]
     },
     "execution_count": 140,
     "metadata": {},
     "output_type": "execute_result"
    }
   ],
   "source": [
    "m5_5[-1, ]"
   ]
  },
  {
   "cell_type": "code",
   "execution_count": 141,
   "metadata": {
    "ExecuteTime": {
     "end_time": "2019-02-22T00:49:47.275870Z",
     "start_time": "2019-02-22T00:49:47.267875Z"
    }
   },
   "outputs": [
    {
     "data": {
      "text/plain": [
       "array([4, 5, 8, 0, 8])"
      ]
     },
     "execution_count": 141,
     "metadata": {},
     "output_type": "execute_result"
    }
   ],
   "source": [
    "(m5_5[0, ] + m5_5[-1, ]) - m5_5[2, 2]"
   ]
  },
  {
   "cell_type": "markdown",
   "metadata": {},
   "source": [
    "### _Views_ vs _Copy_\n",
    "NumPy evita fazer cópias desnecessárias dos dados. Apesar disso ser super eficiente, também facilita para cometermos erros:"
   ]
  },
  {
   "cell_type": "code",
   "execution_count": 142,
   "metadata": {
    "ExecuteTime": {
     "end_time": "2019-02-22T00:50:06.515255Z",
     "start_time": "2019-02-22T00:50:06.510260Z"
    }
   },
   "outputs": [
    {
     "data": {
      "text/plain": [
       "array([[ 0,  1,  2,  3],\n",
       "       [ 4,  5,  6,  7],\n",
       "       [ 8,  9, 10, 11]])"
      ]
     },
     "execution_count": 142,
     "metadata": {},
     "output_type": "execute_result"
    }
   ],
   "source": [
    "a = np.arange(12).reshape(3,4)\n",
    "a"
   ]
  },
  {
   "cell_type": "code",
   "execution_count": 143,
   "metadata": {
    "ExecuteTime": {
     "end_time": "2019-02-22T00:51:37.857417Z",
     "start_time": "2019-02-22T00:51:37.850421Z"
    }
   },
   "outputs": [
    {
     "data": {
      "text/plain": [
       "array([[ 1,  2],\n",
       "       [ 5,  6],\n",
       "       [ 9, 10]])"
      ]
     },
     "execution_count": 143,
     "metadata": {},
     "output_type": "execute_result"
    }
   ],
   "source": [
    "v = a[:,1:3]\n",
    "v"
   ]
  },
  {
   "cell_type": "markdown",
   "metadata": {},
   "source": [
    "`v` é uma _view_ de `a` (um pedaço), mas não uma cópia."
   ]
  },
  {
   "cell_type": "code",
   "execution_count": 144,
   "metadata": {
    "ExecuteTime": {
     "end_time": "2019-02-22T00:51:49.883729Z",
     "start_time": "2019-02-22T00:51:49.876735Z"
    }
   },
   "outputs": [
    {
     "data": {
      "text/plain": [
       "array([[100, 100],\n",
       "       [100, 100],\n",
       "       [100, 100]])"
      ]
     },
     "execution_count": 144,
     "metadata": {},
     "output_type": "execute_result"
    }
   ],
   "source": [
    "v[:] = 100\n",
    "v"
   ]
  },
  {
   "cell_type": "markdown",
   "metadata": {},
   "source": [
    "O que isso significa?"
   ]
  },
  {
   "cell_type": "code",
   "execution_count": null,
   "metadata": {},
   "outputs": [],
   "source": [
    "\"\"\"\n",
    ".\n",
    ".\n",
    ".\n",
    ".\n",
    ".\n",
    ".\n",
    ".\n",
    ".\n",
    ".\n",
    ".\n",
    ".\n",
    ".\n",
    ".\n",
    ".\n",
    ".\n",
    ".\n",
    ".\n",
    ".\n",
    ".\n",
    ".\n",
    ".\n",
    ".\n",
    ".\n",
    ".\n",
    ".\n",
    ".\n",
    ".\n",
    ".\n",
    ".\n",
    ".\n",
    ".\n",
    ".\n",
    ".\n",
    ".\n",
    ".\n",
    ".\n",
    ".\n",
    ".\n",
    ".\n",
    ".\n",
    ".\n",
    ".\"\"\""
   ]
  },
  {
   "cell_type": "code",
   "execution_count": 145,
   "metadata": {
    "ExecuteTime": {
     "end_time": "2019-02-22T00:52:20.736563Z",
     "start_time": "2019-02-22T00:52:20.730566Z"
    }
   },
   "outputs": [
    {
     "data": {
      "text/plain": [
       "array([[  0, 100, 100,   3],\n",
       "       [  4, 100, 100,   7],\n",
       "       [  8, 100, 100,  11]])"
      ]
     },
     "execution_count": 145,
     "metadata": {},
     "output_type": "execute_result"
    }
   ],
   "source": [
    "a"
   ]
  },
  {
   "cell_type": "markdown",
   "metadata": {},
   "source": [
    "Para resolver isso, você pode usar o método `copy` (mas só se precisar mesmo):"
   ]
  },
  {
   "cell_type": "code",
   "execution_count": 146,
   "metadata": {
    "ExecuteTime": {
     "end_time": "2019-02-22T00:52:48.726078Z",
     "start_time": "2019-02-22T00:52:48.718084Z"
    }
   },
   "outputs": [
    {
     "data": {
      "text/plain": [
       "array([[ 1,  2],\n",
       "       [ 5,  6],\n",
       "       [ 9, 10]])"
      ]
     },
     "execution_count": 146,
     "metadata": {},
     "output_type": "execute_result"
    }
   ],
   "source": [
    "a = np.arange(12).reshape(3,4)\n",
    "\n",
    "c = a[:,1:3].copy()\n",
    "c"
   ]
  },
  {
   "cell_type": "markdown",
   "metadata": {},
   "source": [
    "Agora `c` é uma cópia de `a`."
   ]
  },
  {
   "cell_type": "code",
   "execution_count": 147,
   "metadata": {
    "ExecuteTime": {
     "end_time": "2019-02-22T00:52:50.770963Z",
     "start_time": "2019-02-22T00:52:50.763967Z"
    }
   },
   "outputs": [
    {
     "data": {
      "text/plain": [
       "array([[ 0,  1,  2,  3],\n",
       "       [ 4,  5,  6,  7],\n",
       "       [ 8,  9, 10, 11]])"
      ]
     },
     "execution_count": 147,
     "metadata": {},
     "output_type": "execute_result"
    }
   ],
   "source": [
    "c[:] = 100\n",
    "a"
   ]
  },
  {
   "cell_type": "markdown",
   "metadata": {},
   "source": [
    "## Funções\n",
    "NumPy oferece várias funções matemáticas clássicas e todas estão prontas para operar em _arrays_, elemento a elemento:"
   ]
  },
  {
   "cell_type": "code",
   "execution_count": 163,
   "metadata": {
    "ExecuteTime": {
     "end_time": "2019-02-22T01:09:59.687210Z",
     "start_time": "2019-02-22T01:09:59.681216Z"
    }
   },
   "outputs": [
    {
     "data": {
      "text/plain": [
       "array([ 2,  4,  1, 16])"
      ]
     },
     "execution_count": 163,
     "metadata": {},
     "output_type": "execute_result"
    }
   ],
   "source": [
    "a = np.array([2, 4, 1, 16])\n",
    "a"
   ]
  },
  {
   "cell_type": "code",
   "execution_count": 164,
   "metadata": {
    "ExecuteTime": {
     "end_time": "2019-02-22T01:10:07.766440Z",
     "start_time": "2019-02-22T01:10:07.760443Z"
    }
   },
   "outputs": [
    {
     "data": {
      "text/plain": [
       "array([1., 2., 0., 4.])"
      ]
     },
     "execution_count": 164,
     "metadata": {},
     "output_type": "execute_result"
    }
   ],
   "source": [
    "np.log2(a)"
   ]
  },
  {
   "cell_type": "code",
   "execution_count": 165,
   "metadata": {
    "ExecuteTime": {
     "end_time": "2019-02-22T01:10:10.257220Z",
     "start_time": "2019-02-22T01:10:10.250228Z"
    }
   },
   "outputs": [
    {
     "data": {
      "text/plain": [
       "array([1.41421356, 2.        , 1.        , 4.        ])"
      ]
     },
     "execution_count": 165,
     "metadata": {},
     "output_type": "execute_result"
    }
   ],
   "source": [
    "np.sqrt(a)"
   ]
  },
  {
   "cell_type": "code",
   "execution_count": 166,
   "metadata": {
    "ExecuteTime": {
     "end_time": "2019-02-22T01:10:14.261584Z",
     "start_time": "2019-02-22T01:10:14.255589Z"
    }
   },
   "outputs": [
    {
     "data": {
      "text/plain": [
       "array([  4,  16,   1, 256], dtype=int32)"
      ]
     },
     "execution_count": 166,
     "metadata": {},
     "output_type": "execute_result"
    }
   ],
   "source": [
    "np.power(a, 2)"
   ]
  },
  {
   "cell_type": "code",
   "execution_count": 167,
   "metadata": {
    "ExecuteTime": {
     "end_time": "2019-02-22T01:10:24.473588Z",
     "start_time": "2019-02-22T01:10:24.466593Z"
    }
   },
   "outputs": [
    {
     "data": {
      "text/plain": [
       "array([  4,  16,   1, 256], dtype=int32)"
      ]
     },
     "execution_count": 167,
     "metadata": {},
     "output_type": "execute_result"
    }
   ],
   "source": [
    "a**2"
   ]
  },
  {
   "cell_type": "markdown",
   "metadata": {},
   "source": [
    "## Agregações\n",
    "NumPy oferece funções que agregam múltiplos valores em um único valor, como `sum` e `mean`:"
   ]
  },
  {
   "cell_type": "markdown",
   "metadata": {},
   "source": [
    "> Ah, lembram de Desvio Padrão?"
   ]
  },
  {
   "cell_type": "code",
   "execution_count": null,
   "metadata": {},
   "outputs": [],
   "source": [
    "\"\"\"\n",
    ".\n",
    ".\n",
    ".\n",
    ".\n",
    ".\n",
    ".\n",
    ".\n",
    ".\n",
    ".\n",
    ".\n",
    ".\n",
    ".\n",
    ".\n",
    ".\n",
    ".\n",
    ".\n",
    ".\n",
    ".\n",
    ".\n",
    ".\n",
    ".\n",
    ".\n",
    ".\n",
    ".\n",
    ".\n",
    ".\n",
    ".\n",
    ".\n",
    ".\n",
    ".\n",
    ".\n",
    ".\n",
    ".\n",
    ".\n",
    ".\n",
    ".\n",
    ".\n",
    ".\n",
    ".\n",
    ".\n",
    ".\n",
    ".\"\"\""
   ]
  },
  {
   "cell_type": "markdown",
   "metadata": {},
   "source": [
    "#### Desvio Padrão\n",
    "![image.png](https://calculareconverter.com.br/wp-content/uploads/2018/08/formula-desvio-padrao.png)"
   ]
  },
  {
   "cell_type": "code",
   "execution_count": 184,
   "metadata": {
    "ExecuteTime": {
     "end_time": "2019-02-22T01:18:02.397351Z",
     "start_time": "2019-02-22T01:18:01.865659Z"
    }
   },
   "outputs": [
    {
     "data": {
      "text/plain": [
       "<matplotlib.image.AxesImage at 0x193de81eac8>"
      ]
     },
     "execution_count": 184,
     "metadata": {},
     "output_type": "execute_result"
    },
    {
     "data": {
      "image/png": "[encoded data removed]",
      "text/plain": [
       "<Figure size 1080x1440 with 1 Axes>"
      ]
     },
     "metadata": {
      "needs_background": "light"
     },
     "output_type": "display_data"
    }
   ],
   "source": [
    "img = imread('Desvio Padrão.png')\n",
    "plt.figure(figsize=(15,20))\n",
    "imshow(img)"
   ]
  },
  {
   "cell_type": "code",
   "execution_count": 185,
   "metadata": {
    "ExecuteTime": {
     "end_time": "2019-02-22T01:19:51.688298Z",
     "start_time": "2019-02-22T01:19:51.681301Z"
    }
   },
   "outputs": [
    {
     "name": "stdout",
     "output_type": "stream",
     "text": [
      " sum: 45\n",
      " min: 0\n",
      " max: 9\n",
      " cum: [ 0  1  3  6 10 15 21 28 36 45]\n",
      "mean: 4.5\n",
      " std:  2.8722813232690143\n"
     ]
    }
   ],
   "source": [
    "a = np.arange(10)\n",
    "\n",
    "print(' sum:', a.sum())\n",
    "print(' min:', a.min())\n",
    "print(' max:', a.max())\n",
    "print(' cum:', a.cumsum())\n",
    "print('mean:', a.mean())\n",
    "print(' std: ', a.std())"
   ]
  },
  {
   "cell_type": "markdown",
   "metadata": {},
   "source": [
    "Notem como é possível chamar tanto `np.func(a)`, ou `a.func()`.\n",
    "\n",
    "Quando temos mais de uma dimensão podemos fazer agregações em dimensões específicas usando o argumento `axis`:"
   ]
  },
  {
   "cell_type": "code",
   "execution_count": null,
   "metadata": {},
   "outputs": [],
   "source": [
    "m = np.arange(12).reshape(3,4)\n",
    "m"
   ]
  },
  {
   "cell_type": "code",
   "execution_count": null,
   "metadata": {},
   "outputs": [],
   "source": [
    "np.sum(m, axis=0)"
   ]
  },
  {
   "attachments": {
    "image.png": {
     "image/png": "[encoded data removed]"
    }
   },
   "cell_type": "markdown",
   "metadata": {},
   "source": [
    "![image.png](attachment:image.png)\n",
    "\n",
    "\n",
    "Muitos métodos oferecem um opção `arg`, que ao invés de retornar o valor, retorna o índice:"
   ]
  },
  {
   "cell_type": "code",
   "execution_count": 186,
   "metadata": {
    "ExecuteTime": {
     "end_time": "2019-02-22T01:23:51.726808Z",
     "start_time": "2019-02-22T01:23:51.717817Z"
    }
   },
   "outputs": [
    {
     "data": {
      "text/plain": [
       "(array([1, 2], dtype=int64),)"
      ]
     },
     "execution_count": 186,
     "metadata": {},
     "output_type": "execute_result"
    }
   ],
   "source": [
    "a = np.array([4, 8, 8, 2, 5, 6, 0])\n",
    "np.where(np.max(a) == a)"
   ]
  },
  {
   "cell_type": "markdown",
   "metadata": {},
   "source": [
    "# Análise de dados estruturados"
   ]
  },
  {
   "cell_type": "markdown",
   "metadata": {},
   "source": [
    "![panda](https://media.giphy.com/media/EPcvhM28ER9XW/giphy.gif)"
   ]
  },
  {
   "cell_type": "markdown",
   "metadata": {},
   "source": [
    "## Criar um dataframe a partir de um dicionário"
   ]
  },
  {
   "cell_type": "code",
   "execution_count": null,
   "metadata": {
    "ExecuteTime": {
     "end_time": "2019-07-10T00:47:32.003092Z",
     "start_time": "2019-07-10T00:47:31.997098Z"
    }
   },
   "outputs": [],
   "source": [
    "dict = {\"country\": [\"Brazil\", \"Russia\", \"India\", \"China\", \"South Africa\"],\n",
    "       \"capital\": [\"Brasilia\", \"Moscow\", \"New Dehli\", \"Beijing\", \"Pretoria\"],\n",
    "       \"area\": [8.516, 17.10, 3.286, 9.597, 1.221],\n",
    "       \"population\": [200.4, 143.5, 1252, 1357, 52.98] }"
   ]
  },
  {
   "cell_type": "code",
   "execution_count": null,
   "metadata": {
    "ExecuteTime": {
     "end_time": "2019-07-10T00:47:33.673780Z",
     "start_time": "2019-07-10T00:47:33.632802Z"
    }
   },
   "outputs": [],
   "source": [
    "# Transformar o dicionário em um dataframe\n",
    "brics = pd.DataFrame(dict)"
   ]
  },
  {
   "cell_type": "code",
   "execution_count": null,
   "metadata": {
    "ExecuteTime": {
     "end_time": "2019-07-10T00:47:34.831958Z",
     "start_time": "2019-07-10T00:47:34.814967Z"
    }
   },
   "outputs": [],
   "source": [
    "# Ver os primeiros registros desse dataframe\n",
    "brics.head()"
   ]
  },
  {
   "cell_type": "markdown",
   "metadata": {},
   "source": [
    "## Importar um csv com o pandas"
   ]
  },
  {
   "cell_type": "markdown",
   "metadata": {},
   "source": [
    "Vamos utilizar os dados que o Kaggle lançou no ano de 2017 sobre Cientistas de Dados e Data Science. São 5 datasets diferentes:\n",
    "\n",
    " - **schema.csv**: a CSV file with survey schema. This schema includes the questions that correspond to each column name in both the multipleChoiceResponses.csv and freeformResponses.csv.\n",
    " - **multipleChoiceResponses.csv**: Respondents' answers to multiple choice and ranking questions. These are non-randomized and thus a single row does correspond to all of a single user's answers. \n",
    " -**freeformResponses.csv:** Respondents' freeform answers to Kaggle's survey questions. These responses are randomized within a column, so that reading across a single row does not give a single user's answers.\n",
    " - **conversionRates.csv**: Currency conversion rates (to USD) as accessed from the R package \"quantmod\" on September 14, 2017\n",
    " - **RespondentTypeREADME.txt**: This is a schema for decoding the responses in the \"Asked\" column of the schema.csv file.\n",
    " Link: https://www.kaggle.com/kaggle/kaggle-survey-2017"
   ]
  },
  {
   "cell_type": "code",
   "execution_count": null,
   "metadata": {
    "ExecuteTime": {
     "end_time": "2019-07-10T01:03:52.169097Z",
     "start_time": "2019-07-10T01:03:50.969611Z"
    }
   },
   "outputs": [],
   "source": [
    "# Carregue o dataset multipleChoiceResponses com o pandas \n",
    "db_mcr = pd.read_csv('kaggle-survey-2017/multipleChoiceResponses.csv', encoding=\"ISO-8859-1\")"
   ]
  },
  {
   "cell_type": "code",
   "execution_count": null,
   "metadata": {
    "ExecuteTime": {
     "end_time": "2019-07-10T01:03:57.646339Z",
     "start_time": "2019-07-10T01:03:57.599366Z"
    }
   },
   "outputs": [],
   "source": [
    "# Veja as primeiras linhas do dataset\n",
    "db_mcr.tail(10).T"
   ]
  },
  {
   "cell_type": "code",
   "execution_count": null,
   "metadata": {
    "ExecuteTime": {
     "end_time": "2019-07-11T02:37:09.435437Z",
     "start_time": "2019-07-11T02:37:09.153545Z"
    }
   },
   "outputs": [],
   "source": [
    "#Veja a quantidade de linhas e de colunas do dataset\n",
    "db_mcr.shape"
   ]
  },
  {
   "cell_type": "markdown",
   "metadata": {},
   "source": [
    "Existem 228 colunas!!!\n",
    "![panda](https://media.giphy.com/media/cnbsOTkEJnq0/giphy.gif)"
   ]
  },
  {
   "cell_type": "markdown",
   "metadata": {},
   "source": [
    "Vamos ver do que se tratam essas colunas. Como são MUITAS colunas precisamos alterar a configuração padrão do pandas para visualização de linhas e colunas"
   ]
  },
  {
   "cell_type": "code",
   "execution_count": null,
   "metadata": {
    "ExecuteTime": {
     "end_time": "2019-07-10T01:04:06.162513Z",
     "start_time": "2019-07-10T01:04:06.157516Z"
    }
   },
   "outputs": [],
   "source": [
    "pd.set_option('max_rows', 200)\n",
    "pd.set_option('max_columns', 1000)"
   ]
  },
  {
   "cell_type": "code",
   "execution_count": null,
   "metadata": {
    "ExecuteTime": {
     "end_time": "2019-07-10T01:04:08.419235Z",
     "start_time": "2019-07-10T01:04:08.024259Z"
    }
   },
   "outputs": [],
   "source": [
    "db_mcr.head()"
   ]
  },
  {
   "cell_type": "code",
   "execution_count": null,
   "metadata": {
    "ExecuteTime": {
     "end_time": "2019-07-10T01:05:14.886107Z",
     "start_time": "2019-07-10T01:05:14.850128Z"
    }
   },
   "outputs": [],
   "source": [
    "# Use o columns no dataframe e coloque-o em uma Series para facilitar a visualização\n",
    "pd.Series(db_mcr.columns)"
   ]
  },
  {
   "cell_type": "markdown",
   "metadata": {},
   "source": [
    "Podemos ver mais detalhes do dataset com o `info()`"
   ]
  },
  {
   "cell_type": "code",
   "execution_count": null,
   "metadata": {
    "ExecuteTime": {
     "end_time": "2019-07-10T01:05:26.282265Z",
     "start_time": "2019-07-10T01:05:26.270272Z"
    }
   },
   "outputs": [],
   "source": [
    "db_mcr.info()"
   ]
  },
  {
   "cell_type": "markdown",
   "metadata": {},
   "source": [
    "Podemos dar uma olhada nos tipos de campos que vem em cada uma das colunas númericas com um único comando"
   ]
  },
  {
   "cell_type": "code",
   "execution_count": null,
   "metadata": {
    "ExecuteTime": {
     "end_time": "2019-07-10T01:05:35.286411Z",
     "start_time": "2019-07-10T01:05:34.874818Z"
    }
   },
   "outputs": [],
   "source": [
    "db_mcr.describe()"
   ]
  },
  {
   "cell_type": "markdown",
   "metadata": {},
   "source": [
    "E se eu quiser ver a quantidade de nulos no dataset todo?"
   ]
  },
  {
   "cell_type": "code",
   "execution_count": null,
   "metadata": {
    "ExecuteTime": {
     "end_time": "2019-07-10T01:05:39.749853Z",
     "start_time": "2019-07-10T01:05:39.311276Z"
    }
   },
   "outputs": [],
   "source": [
    "db_mcr.isnull().sum()"
   ]
  },
  {
   "cell_type": "markdown",
   "metadata": {},
   "source": [
    "E se eu quiser fazer a porcentagem de nulos?"
   ]
  },
  {
   "cell_type": "code",
   "execution_count": null,
   "metadata": {
    "ExecuteTime": {
     "end_time": "2019-07-10T01:05:44.357808Z",
     "start_time": "2019-07-10T01:05:43.640182Z"
    }
   },
   "outputs": [],
   "source": [
    "db_mcr.isnull().sum() / len(db_mcr)"
   ]
  },
  {
   "cell_type": "markdown",
   "metadata": {},
   "source": [
    "Nossa quanto nulo!\n",
    "![sad_panda](https://media.giphy.com/media/vO4ik3XWjkQ2A/giphy.gif)"
   ]
  },
  {
   "cell_type": "markdown",
   "metadata": {},
   "source": [
    "O que eu devo fazer se eu quiser ver apenas coluna `JobFactorSalary`?"
   ]
  },
  {
   "cell_type": "code",
   "execution_count": null,
   "metadata": {
    "ExecuteTime": {
     "end_time": "2019-07-10T01:06:29.515605Z",
     "start_time": "2019-07-10T01:06:29.502595Z"
    },
    "scrolled": true
   },
   "outputs": [],
   "source": [
    "db_mcr['JobFactorSalary']"
   ]
  },
  {
   "cell_type": "markdown",
   "metadata": {},
   "source": [
    "Vamos fazer algumas operações com o pandas para contar o número de nulos que existem nessa coluna"
   ]
  },
  {
   "cell_type": "code",
   "execution_count": null,
   "metadata": {
    "ExecuteTime": {
     "end_time": "2019-07-10T01:06:34.928214Z",
     "start_time": "2019-07-10T01:06:34.919219Z"
    }
   },
   "outputs": [],
   "source": [
    "db_mcr['JobFactorSalary'].isnull().sum()"
   ]
  },
  {
   "cell_type": "markdown",
   "metadata": {},
   "source": [
    "Como eu faço se eu só quiser ver os 10 primeiros registros?"
   ]
  },
  {
   "cell_type": "code",
   "execution_count": null,
   "metadata": {
    "ExecuteTime": {
     "end_time": "2019-07-10T01:06:37.633997Z",
     "start_time": "2019-07-10T01:06:37.628002Z"
    }
   },
   "outputs": [],
   "source": [
    "db_mcr['JobFactorSalary'][:10]"
   ]
  },
  {
   "cell_type": "markdown",
   "metadata": {},
   "source": [
    "E se eu quiser ver 2 colunas ao mesmo tempo? (E apenas essas 2 colunas)"
   ]
  },
  {
   "cell_type": "code",
   "execution_count": null,
   "metadata": {},
   "outputs": [],
   "source": [
    "db_mcr[['JobFactorSalary', 'JobFactorLearning']][:10]"
   ]
  },
  {
   "cell_type": "markdown",
   "metadata": {},
   "source": [
    "O quanto que as pessoas dessa pesquisa estão satisfeitas com o trabalhos? Conseguimos saber isso usando só o pandas?"
   ]
  },
  {
   "cell_type": "code",
   "execution_count": null,
   "metadata": {
    "ExecuteTime": {
     "end_time": "2019-07-10T01:09:44.378174Z",
     "start_time": "2019-07-10T01:09:44.333200Z"
    }
   },
   "outputs": [],
   "source": [
    "db_mcr['JobSatisfaction'].value_counts()"
   ]
  },
  {
   "cell_type": "markdown",
   "metadata": {},
   "source": [
    "Agora vamos olhar só as pessoas que estão Super Satisfeitas (Highly Satisfied) com o seu trabalho. Como que eu posso fazer isso?"
   ]
  },
  {
   "cell_type": "code",
   "execution_count": null,
   "metadata": {
    "ExecuteTime": {
     "end_time": "2019-07-10T01:09:58.444534Z",
     "start_time": "2019-07-10T01:09:58.390547Z"
    }
   },
   "outputs": [],
   "source": [
    "# Filtre só quem está com o JobSatisfaction de 10. Guarde isso em uma variável pq é bastante dado\n",
    "highly_satisfied = db_mcr[db_mcr['JobSatisfaction'] == '10 - Highly Satisfied']"
   ]
  },
  {
   "cell_type": "code",
   "execution_count": null,
   "metadata": {
    "ExecuteTime": {
     "end_time": "2019-07-10T01:10:00.433047Z",
     "start_time": "2019-07-10T01:10:00.424170Z"
    }
   },
   "outputs": [],
   "source": [
    "# veja o tamanho do dataset. Ele bateu com a quantidade de pessoas que estão altamente satisfeitas?\n",
    "highly_satisfied.shape"
   ]
  },
  {
   "cell_type": "code",
   "execution_count": null,
   "metadata": {
    "ExecuteTime": {
     "end_time": "2019-07-10T01:10:05.719475Z",
     "start_time": "2019-07-10T01:10:05.466999Z"
    }
   },
   "outputs": [],
   "source": [
    "# Veja os primeiros 3 registros (todas as colunas) das pessoas altamentes satisfeitas\n",
    "highly_satisfied[:3]"
   ]
  },
  {
   "cell_type": "markdown",
   "metadata": {},
   "source": [
    "E se eu quiser ver as pessoas altamente satisfeitas e que trabalham com python?"
   ]
  },
  {
   "cell_type": "code",
   "execution_count": null,
   "metadata": {
    "ExecuteTime": {
     "end_time": "2019-07-10T01:10:20.313180Z",
     "start_time": "2019-07-10T01:10:20.297194Z"
    }
   },
   "outputs": [],
   "source": [
    "db_mcr[(db_mcr['JobSatisfaction'] == '10 - Highly Satisfied') & (db_mcr['LanguageRecommendationSelect'] == 'Python')]"
   ]
  },
  {
   "cell_type": "markdown",
   "metadata": {},
   "source": [
    "E se tentassemos com a idade? Ver só que está abaixo de 30 anos"
   ]
  },
  {
   "cell_type": "code",
   "execution_count": null,
   "metadata": {
    "ExecuteTime": {
     "end_time": "2019-07-10T01:10:28.490187Z",
     "start_time": "2019-07-10T01:10:28.479192Z"
    }
   },
   "outputs": [],
   "source": [
    "highly_satisfied = db_mcr['JobSatisfaction'] == '10 - Highly Satisfied'\n",
    "age = db_mcr['Age'] < 30.0\n",
    "highly_satisfied_and_age = db_mcr[highly_satisfied & age]"
   ]
  },
  {
   "cell_type": "code",
   "execution_count": null,
   "metadata": {
    "ExecuteTime": {
     "end_time": "2019-07-10T01:10:31.649396Z",
     "start_time": "2019-07-10T01:10:31.641746Z"
    }
   },
   "outputs": [],
   "source": [
    "highly_satisfied_and_age.shape"
   ]
  },
  {
   "cell_type": "markdown",
   "metadata": {},
   "source": [
    "Quais são as linguagens que a galera altamente satisfeita recomenda?"
   ]
  },
  {
   "cell_type": "code",
   "execution_count": null,
   "metadata": {
    "ExecuteTime": {
     "end_time": "2019-07-10T01:10:34.793648Z",
     "start_time": "2019-07-10T01:10:34.779639Z"
    }
   },
   "outputs": [],
   "source": [
    "db_mcr[highly_satisfied]['LanguageRecommendationSelect'].value_counts()"
   ]
  },
  {
   "cell_type": "code",
   "execution_count": null,
   "metadata": {
    "ExecuteTime": {
     "end_time": "2019-07-10T01:10:37.962761Z",
     "start_time": "2019-07-10T01:10:37.936776Z"
    }
   },
   "outputs": [],
   "source": [
    "highly_satisfied_languages = db_mcr[highly_satisfied]['LanguageRecommendationSelect'].value_counts()\n",
    "language_counts = db_mcr['JobSatisfaction'][highly_satisfied].notnull().sum()"
   ]
  },
  {
   "cell_type": "code",
   "execution_count": null,
   "metadata": {
    "ExecuteTime": {
     "end_time": "2019-07-10T01:10:40.961031Z",
     "start_time": "2019-07-10T01:10:40.951036Z"
    }
   },
   "outputs": [],
   "source": [
    "language_counts"
   ]
  },
  {
   "cell_type": "code",
   "execution_count": null,
   "metadata": {
    "ExecuteTime": {
     "end_time": "2019-07-10T01:10:43.715039Z",
     "start_time": "2019-07-10T01:10:43.703891Z"
    }
   },
   "outputs": [],
   "source": [
    "(highly_satisfied_languages / language_counts) * 100"
   ]
  },
  {
   "cell_type": "markdown",
   "metadata": {},
   "source": [
    "E se eu quiser ordenar esses valores? Do menor para o maior?"
   ]
  },
  {
   "cell_type": "code",
   "execution_count": null,
   "metadata": {
    "ExecuteTime": {
     "end_time": "2019-07-10T01:10:47.399132Z",
     "start_time": "2019-07-10T01:10:47.390136Z"
    }
   },
   "outputs": [],
   "source": [
    "pd.Series((highly_satisfied_languages / language_counts) * 100).sort_values()"
   ]
  },
  {
   "cell_type": "markdown",
   "metadata": {},
   "source": [
    "### Desafio 1"
   ]
  },
  {
   "cell_type": "markdown",
   "metadata": {},
   "source": [
    "Qual o país que tem a maior quantidade de dados onde as pessoas preencheram a coluna que tem o menor número dos dados?\n",
    "\n",
    "Dica: Você precisará ordenar os campos pela quantidade de nulos (ou não nulos) e depois ver o país dessa galera."
   ]
  },
  {
   "cell_type": "markdown",
   "metadata": {},
   "source": [
    "![arrested_panda](https://media.giphy.com/media/N6funLtVsHW0g/giphy.gif)"
   ]
  },
  {
   "cell_type": "code",
   "execution_count": null,
   "metadata": {
    "ExecuteTime": {
     "end_time": "2019-07-10T01:11:01.386281Z",
     "start_time": "2019-07-10T01:11:00.973191Z"
    }
   },
   "outputs": [],
   "source": [
    "db_mcr.isnull().sum().sort_values(ascending=False)"
   ]
  },
  {
   "cell_type": "code",
   "execution_count": null,
   "metadata": {
    "ExecuteTime": {
     "end_time": "2019-07-10T01:11:05.468024Z",
     "start_time": "2019-07-10T01:11:05.454033Z"
    }
   },
   "outputs": [],
   "source": [
    "db_mcr[db_mcr['WorkToolsFrequencyAngoss'].notnull()]['Country'].value_counts()"
   ]
  },
  {
   "cell_type": "markdown",
   "metadata": {},
   "source": [
    "## Selecionando por index"
   ]
  },
  {
   "cell_type": "markdown",
   "metadata": {},
   "source": [
    "E se eu quiser pegar os valores de uma linha específica do dataframe?"
   ]
  },
  {
   "cell_type": "code",
   "execution_count": null,
   "metadata": {
    "ExecuteTime": {
     "end_time": "2019-07-10T01:11:12.352761Z",
     "start_time": "2019-07-10T01:11:12.337769Z"
    }
   },
   "outputs": [],
   "source": [
    "db_mcr.iloc[10,]"
   ]
  },
  {
   "cell_type": "markdown",
   "metadata": {},
   "source": [
    "Também posso ver só o valor de uma coluna, sem escrever o nome, somente pela sua posição"
   ]
  },
  {
   "cell_type": "code",
   "execution_count": null,
   "metadata": {
    "ExecuteTime": {
     "end_time": "2019-07-10T01:11:18.636778Z",
     "start_time": "2019-07-10T01:11:18.620787Z"
    },
    "scrolled": true
   },
   "outputs": [],
   "source": [
    "db_mcr.iloc[:,0]"
   ]
  },
  {
   "cell_type": "markdown",
   "metadata": {},
   "source": [
    "Mais detalhes sobre `loc`, `iloc` e `ix` podem ser vistas nesse [link](https://www.shanelynn.ie/select-pandas-dataframe-rows-and-columns-using-iloc-loc-and-ix/)"
   ]
  },
  {
   "cell_type": "markdown",
   "metadata": {},
   "source": [
    "### Desafio 2"
   ]
  },
  {
   "cell_type": "markdown",
   "metadata": {},
   "source": [
    "Carregar o data set freeformResponses.csv e repetir algumas funções e slices aplicados no dataset multipleChoiceResponses.csv"
   ]
  },
  {
   "cell_type": "markdown",
   "metadata": {},
   "source": [
    "![challenge_panda](https://media.giphy.com/media/K9z3im98oo9Ve/giphy.gif)"
   ]
  },
  {
   "cell_type": "code",
   "execution_count": null,
   "metadata": {
    "ExecuteTime": {
     "end_time": "2019-07-10T01:30:07.262219Z",
     "start_time": "2019-07-10T01:30:07.079868Z"
    }
   },
   "outputs": [],
   "source": [
    "free_responses = pd.read_csv('kaggle-survey-2017/freeformResponses.csv', encoding=\"ISO-8859-1\")"
   ]
  },
  {
   "cell_type": "code",
   "execution_count": null,
   "metadata": {
    "ExecuteTime": {
     "end_time": "2019-07-10T01:30:09.931720Z",
     "start_time": "2019-07-10T01:30:09.858235Z"
    }
   },
   "outputs": [],
   "source": []
  },
  {
   "cell_type": "code",
   "execution_count": null,
   "metadata": {},
   "outputs": [],
   "source": []
  },
  {
   "cell_type": "code",
   "execution_count": null,
   "metadata": {},
   "outputs": [],
   "source": []
  },
  {
   "cell_type": "code",
   "execution_count": null,
   "metadata": {},
   "outputs": [],
   "source": []
  },
  {
   "cell_type": "code",
   "execution_count": null,
   "metadata": {},
   "outputs": [],
   "source": []
  },
  {
   "cell_type": "code",
   "execution_count": null,
   "metadata": {},
   "outputs": [],
   "source": []
  },
  {
   "cell_type": "markdown",
   "metadata": {},
   "source": [
    "## Alterando o dataset original"
   ]
  },
  {
   "cell_type": "code",
   "execution_count": null,
   "metadata": {
    "ExecuteTime": {
     "end_time": "2019-07-10T01:30:42.043383Z",
     "start_time": "2019-07-10T01:30:42.001981Z"
    }
   },
   "outputs": [],
   "source": [
    "df = multiple_choice.copy()"
   ]
  },
  {
   "cell_type": "code",
   "execution_count": null,
   "metadata": {
    "ExecuteTime": {
     "end_time": "2019-07-10T01:30:45.744933Z",
     "start_time": "2019-07-10T01:30:45.729941Z"
    }
   },
   "outputs": [],
   "source": [
    "df['LearningDataScience'].value_counts()"
   ]
  },
  {
   "cell_type": "code",
   "execution_count": null,
   "metadata": {
    "ExecuteTime": {
     "end_time": "2019-07-10T01:30:48.936430Z",
     "start_time": "2019-07-10T01:30:48.930433Z"
    }
   },
   "outputs": [],
   "source": [
    "def replace_value(row):\n",
    "    if row == \"Yes, I'm focused on learning mostly data science skills\":\n",
    "        return \"yes\"\n",
    "    elif row == \"Yes, but data science is a small part of what I'm focused on learning\":\n",
    "        return \"so so\"\n",
    "    elif row == \"No, I am not focused on learning data science skills\":\n",
    "        return \"no\""
   ]
  },
  {
   "cell_type": "code",
   "execution_count": null,
   "metadata": {
    "ExecuteTime": {
     "end_time": "2019-07-10T01:30:52.419222Z",
     "start_time": "2019-07-10T01:30:52.405230Z"
    }
   },
   "outputs": [],
   "source": [
    "df['LearningDataScienceSimple'] = df['LearningDataScience'].apply(replace_value)"
   ]
  },
  {
   "cell_type": "markdown",
   "metadata": {},
   "source": [
    "Agora podemos ver os novos valores desses campos"
   ]
  },
  {
   "cell_type": "code",
   "execution_count": null,
   "metadata": {
    "ExecuteTime": {
     "end_time": "2019-07-10T01:30:56.507164Z",
     "start_time": "2019-07-10T01:30:56.491173Z"
    }
   },
   "outputs": [],
   "source": [
    "df['LearningDataScienceSimple'].value_counts()"
   ]
  },
  {
   "cell_type": "code",
   "execution_count": null,
   "metadata": {
    "ExecuteTime": {
     "end_time": "2019-07-10T01:31:01.674166Z",
     "start_time": "2019-07-10T01:31:01.665172Z"
    }
   },
   "outputs": [],
   "source": [
    "df.shape"
   ]
  },
  {
   "cell_type": "markdown",
   "metadata": {},
   "source": [
    "E agora que a outra coluna muito complexa não serve mais, podemos descartá-la"
   ]
  },
  {
   "cell_type": "code",
   "execution_count": null,
   "metadata": {
    "ExecuteTime": {
     "end_time": "2019-07-10T01:31:07.365566Z",
     "start_time": "2019-07-10T01:31:07.149344Z"
    }
   },
   "outputs": [],
   "source": [
    "df.drop(['LearningDataScience'], axis=1, inplace=True)"
   ]
  },
  {
   "cell_type": "code",
   "execution_count": null,
   "metadata": {
    "ExecuteTime": {
     "end_time": "2019-07-10T01:31:12.857995Z",
     "start_time": "2019-07-10T01:31:12.851279Z"
    }
   },
   "outputs": [],
   "source": [
    "df.shape"
   ]
  },
  {
   "cell_type": "markdown",
   "metadata": {},
   "source": [
    "Pela quantidade de linhas no dataset percebemos que o `value_counts()` não retorna os valores nulos - e nós temos MUITOS valores nulos nessa coluna. Podemos utilizar um método do pandas para trocar os NAs por uma categoria nossa."
   ]
  },
  {
   "cell_type": "code",
   "execution_count": null,
   "metadata": {
    "ExecuteTime": {
     "end_time": "2019-07-10T01:31:18.307689Z",
     "start_time": "2019-07-10T01:31:18.293697Z"
    }
   },
   "outputs": [],
   "source": [
    "df['LearningDataScienceSimple'].fillna(\"did not answer the question\", inplace=True)"
   ]
  },
  {
   "cell_type": "code",
   "execution_count": null,
   "metadata": {
    "ExecuteTime": {
     "end_time": "2019-07-10T01:31:23.476320Z",
     "start_time": "2019-07-10T01:31:23.459328Z"
    }
   },
   "outputs": [],
   "source": [
    "df['LearningDataScienceSimple'].value_counts()"
   ]
  },
  {
   "cell_type": "markdown",
   "metadata": {},
   "source": [
    "Outra forma de alterar o dataset é utilizando funções _in place_ para isso utilizaremos o `lambda`"
   ]
  },
  {
   "cell_type": "markdown",
   "metadata": {},
   "source": [
    "Por exemplo: E se eu quiser atualizar a idade dos participantes? O dataset foi coletado em 2017 e já estamos em 2018"
   ]
  },
  {
   "cell_type": "code",
   "execution_count": null,
   "metadata": {
    "ExecuteTime": {
     "end_time": "2019-07-10T01:31:28.943338Z",
     "start_time": "2019-07-10T01:31:28.922468Z"
    }
   },
   "outputs": [],
   "source": [
    "df['NewAge'] = df['Age'].apply(lambda x: x + 1)"
   ]
  },
  {
   "cell_type": "markdown",
   "metadata": {},
   "source": [
    "Vamos ver se funcionou? Vamos dar uma olhada nos primeiros 5 registros, com a coluna 'Age' e a 'NewAge' lado a lado"
   ]
  },
  {
   "cell_type": "code",
   "execution_count": null,
   "metadata": {
    "ExecuteTime": {
     "end_time": "2019-07-10T01:31:34.279424Z",
     "start_time": "2019-07-10T01:31:34.254438Z"
    }
   },
   "outputs": [],
   "source": [
    "df[['Age','NewAge']][:5]"
   ]
  },
  {
   "cell_type": "markdown",
   "metadata": {},
   "source": [
    "Ficou mais claro a proporção de pessoas que não responderam agora o/"
   ]
  },
  {
   "cell_type": "markdown",
   "metadata": {},
   "source": [
    "### Merge\n",
    "\n",
    "Link: https://pandas.pydata.org/pandas-docs/stable/reference/api/pandas.DataFrame.merge.html"
   ]
  },
  {
   "cell_type": "code",
   "execution_count": null,
   "metadata": {
    "ExecuteTime": {
     "end_time": "2019-07-10T01:45:43.652348Z",
     "start_time": "2019-07-10T01:45:39.138102Z"
    }
   },
   "outputs": [],
   "source": [
    "pd.merge(left=multiple_choice, right=free_responses, left_index=True, right_index=True, how='left')"
   ]
  }
 ],
 "metadata": {
  "kernelspec": {
   "display_name": "Python 3",
   "language": "python",
   "name": "python3"
  },
  "language_info": {
   "codemirror_mode": {
    "name": "ipython",
    "version": 3
   },
   "file_extension": ".py",
   "mimetype": "text/x-python",
   "name": "python",
   "nbconvert_exporter": "python",
   "pygments_lexer": "ipython3",
   "version": "3.6.8"
  },
  "toc": {
   "base_numbering": 1,
   "nav_menu": {},
   "number_sections": true,
   "sideBar": true,
   "skip_h1_title": false,
   "title_cell": "Table of Contents",
   "title_sidebar": "Contents",
   "toc_cell": false,
   "toc_position": {
    "height": "calc(100% - 180px)",
    "left": "10px",
    "top": "150px",
    "width": "426.667px"
   },
   "toc_section_display": true,
   "toc_window_display": false
  },
  "varInspector": {
   "cols": {
    "lenName": 16,
    "lenType": 16,
    "lenVar": 40
   },
   "kernels_config": {
    "python": {
     "delete_cmd_postfix": "",
     "delete_cmd_prefix": "del ",
     "library": "var_list.py",
     "varRefreshCmd": "print(var_dic_list())"
    },
    "r": {
     "delete_cmd_postfix": ") ",
     "delete_cmd_prefix": "rm(",
     "library": "var_list.r",
     "varRefreshCmd": "cat(var_dic_list()) "
    }
   },
   "types_to_exclude": [
    "module",
    "function",
    "builtin_function_or_method",
    "instance",
    "_Feature"
   ],
   "window_display": false
  }
 },
 "nbformat": 4,
 "nbformat_minor": 2
}
