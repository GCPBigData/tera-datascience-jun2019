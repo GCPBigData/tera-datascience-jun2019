{
 "cells": [
  {
   "cell_type": "markdown",
   "metadata": {},
   "source": [
    "# Exploratory Data Analysis\n",
    "\n",
    "\n",
    "## Dataset\n",
    "Dados históricos dos funcionários.\n",
    "\n",
    "##### Warning: Dados sensíveis!!!\n",
    "\n",
    "## Contexto\n",
    "O RH da empresa está se tornando mais seletivo ao contratar novos funcionários. Dessa forma, ele quer entender o perfil de promoção dos funcionários para que no processo de seleção algum desses fatores sejam considerados. Além disso, um modelo de predição poderia ajudar na definição do budget de promoção. Você faz parte da área de **Data Science** dessa empresa, e precisa encontrar alguns insights que subsidiem o RH.\n",
    "\n",
    "## Objetivo\n",
    "Avaliar se existem fatores que influenciam na promoção dos funcionários\n",
    "\n"
   ]
  },
  {
   "cell_type": "code",
   "execution_count": 43,
   "metadata": {
    "ExecuteTime": {
     "end_time": "2019-08-02T23:26:06.271824Z",
     "start_time": "2019-08-02T23:26:06.265428Z"
    }
   },
   "outputs": [],
   "source": [
    "import pandas as pd\n",
    "import numpy as np\n",
    "import seaborn as sns\n",
    "import matplotlib.pyplot as plt\n",
    "\n",
    "from sklearn.model_selection import train_test_split\n",
    "from sklearn.linear_model import LogisticRegression, LogisticRegressionCV\n",
    "from sklearn.preprocessing import StandardScaler\n",
    "from sklearn.metrics import (accuracy_score, classification_report,\n",
    "                             roc_auc_score, log_loss)\n",
    "\n",
    "from plotting import (multiple_histograms_plot, bar_plot_with_categorical, \n",
    "                      plot_confusion_matrix, plot_roc)\n",
    "\n",
    "plt.rcParams[\"figure.figsize\"] = (22,15)"
   ]
  },
  {
   "cell_type": "code",
   "execution_count": 2,
   "metadata": {
    "ExecuteTime": {
     "end_time": "2019-08-02T23:23:33.498904Z",
     "start_time": "2019-08-02T23:23:33.411756Z"
    }
   },
   "outputs": [
    {
     "data": {
      "text/html": [
       "<div>\n",
       "<style scoped>\n",
       "    .dataframe tbody tr th:only-of-type {\n",
       "        vertical-align: middle;\n",
       "    }\n",
       "\n",
       "    .dataframe tbody tr th {\n",
       "        vertical-align: top;\n",
       "    }\n",
       "\n",
       "    .dataframe thead th {\n",
       "        text-align: right;\n",
       "    }\n",
       "</style>\n",
       "<table border=\"1\" class=\"dataframe\">\n",
       "  <thead>\n",
       "    <tr style=\"text-align: right;\">\n",
       "      <th></th>\n",
       "      <th>ADP</th>\n",
       "      <th>Admissão</th>\n",
       "      <th>Desligamento</th>\n",
       "      <th>Desligado?</th>\n",
       "      <th>Iniciativa Desligamento</th>\n",
       "      <th>Tempo de Casa</th>\n",
       "      <th>Cod.Cargo</th>\n",
       "      <th>Cargo</th>\n",
       "      <th>Cod.Cargo Admissão</th>\n",
       "      <th>Cargo Admissão</th>\n",
       "      <th>...</th>\n",
       "      <th>MERITO 2015</th>\n",
       "      <th>MERITO 2016</th>\n",
       "      <th>MERITO 2017</th>\n",
       "      <th>PROMOÇÃO 2012</th>\n",
       "      <th>PROMOÇÃO 2013</th>\n",
       "      <th>PROMOÇÃO 2014</th>\n",
       "      <th>PROMOÇÃO 2015</th>\n",
       "      <th>PROMOÇÃO 2016</th>\n",
       "      <th>PROMOÇÃO 2017</th>\n",
       "      <th>PROMOVIDO</th>\n",
       "    </tr>\n",
       "  </thead>\n",
       "  <tbody>\n",
       "    <tr>\n",
       "      <th>0</th>\n",
       "      <td>1</td>\n",
       "      <td>10/1/2001</td>\n",
       "      <td></td>\n",
       "      <td>N</td>\n",
       "      <td>NaN</td>\n",
       "      <td>17.3</td>\n",
       "      <td>762</td>\n",
       "      <td>DIRETORIA</td>\n",
       "      <td>698</td>\n",
       "      <td>GERENTE</td>\n",
       "      <td>...</td>\n",
       "      <td>Y</td>\n",
       "      <td>NaN</td>\n",
       "      <td>NaN</td>\n",
       "      <td>NaN</td>\n",
       "      <td>NaN</td>\n",
       "      <td>NaN</td>\n",
       "      <td>NaN</td>\n",
       "      <td>NaN</td>\n",
       "      <td>NaN</td>\n",
       "      <td>0</td>\n",
       "    </tr>\n",
       "    <tr>\n",
       "      <th>1</th>\n",
       "      <td>5</td>\n",
       "      <td>10/1/2001</td>\n",
       "      <td>12/3/2012</td>\n",
       "      <td>Y</td>\n",
       "      <td>Funcionário</td>\n",
       "      <td>11.2</td>\n",
       "      <td>736</td>\n",
       "      <td>DIRETORIA</td>\n",
       "      <td>699</td>\n",
       "      <td>GERENTE</td>\n",
       "      <td>...</td>\n",
       "      <td>NaN</td>\n",
       "      <td>NaN</td>\n",
       "      <td>NaN</td>\n",
       "      <td>NaN</td>\n",
       "      <td>NaN</td>\n",
       "      <td>NaN</td>\n",
       "      <td>NaN</td>\n",
       "      <td>NaN</td>\n",
       "      <td>NaN</td>\n",
       "      <td>0</td>\n",
       "    </tr>\n",
       "    <tr>\n",
       "      <th>2</th>\n",
       "      <td>10</td>\n",
       "      <td>10/1/2001</td>\n",
       "      <td></td>\n",
       "      <td>N</td>\n",
       "      <td>NaN</td>\n",
       "      <td>17.3</td>\n",
       "      <td>734</td>\n",
       "      <td>GERENTE SR</td>\n",
       "      <td>626</td>\n",
       "      <td>COORDENADOR</td>\n",
       "      <td>...</td>\n",
       "      <td>Y</td>\n",
       "      <td>NaN</td>\n",
       "      <td>Y</td>\n",
       "      <td>NaN</td>\n",
       "      <td>NaN</td>\n",
       "      <td>NaN</td>\n",
       "      <td>NaN</td>\n",
       "      <td>NaN</td>\n",
       "      <td>NaN</td>\n",
       "      <td>0</td>\n",
       "    </tr>\n",
       "    <tr>\n",
       "      <th>3</th>\n",
       "      <td>14</td>\n",
       "      <td>10/1/2001</td>\n",
       "      <td>5/31/2011</td>\n",
       "      <td>Y</td>\n",
       "      <td>Funcionário</td>\n",
       "      <td>9.7</td>\n",
       "      <td>643</td>\n",
       "      <td>GERENTE</td>\n",
       "      <td>630</td>\n",
       "      <td>COORDENADOR</td>\n",
       "      <td>...</td>\n",
       "      <td>NaN</td>\n",
       "      <td>NaN</td>\n",
       "      <td>NaN</td>\n",
       "      <td>NaN</td>\n",
       "      <td>NaN</td>\n",
       "      <td>NaN</td>\n",
       "      <td>NaN</td>\n",
       "      <td>NaN</td>\n",
       "      <td>NaN</td>\n",
       "      <td>0</td>\n",
       "    </tr>\n",
       "    <tr>\n",
       "      <th>4</th>\n",
       "      <td>19</td>\n",
       "      <td>10/1/2001</td>\n",
       "      <td>9/1/2010</td>\n",
       "      <td>Y</td>\n",
       "      <td>Empregador</td>\n",
       "      <td>8.9</td>\n",
       "      <td>681</td>\n",
       "      <td>DIRETORIA</td>\n",
       "      <td>681</td>\n",
       "      <td>DIRETORIA</td>\n",
       "      <td>...</td>\n",
       "      <td>NaN</td>\n",
       "      <td>NaN</td>\n",
       "      <td>NaN</td>\n",
       "      <td>NaN</td>\n",
       "      <td>NaN</td>\n",
       "      <td>NaN</td>\n",
       "      <td>NaN</td>\n",
       "      <td>NaN</td>\n",
       "      <td>NaN</td>\n",
       "      <td>0</td>\n",
       "    </tr>\n",
       "  </tbody>\n",
       "</table>\n",
       "<p>5 rows × 63 columns</p>\n",
       "</div>"
      ],
      "text/plain": [
       "   ADP   Admissão Desligamento Desligado? Iniciativa Desligamento  \\\n",
       "0    1  10/1/2001                       N                     NaN   \n",
       "1    5  10/1/2001    12/3/2012          Y             Funcionário   \n",
       "2   10  10/1/2001                       N                     NaN   \n",
       "3   14  10/1/2001    5/31/2011          Y             Funcionário   \n",
       "4   19  10/1/2001     9/1/2010          Y             Empregador    \n",
       "\n",
       "   Tempo de Casa  Cod.Cargo       Cargo  Cod.Cargo Admissão Cargo Admissão  \\\n",
       "0           17.3        762   DIRETORIA                 698        GERENTE   \n",
       "1           11.2        736   DIRETORIA                 699        GERENTE   \n",
       "2           17.3        734  GERENTE SR                 626    COORDENADOR   \n",
       "3            9.7        643     GERENTE                 630    COORDENADOR   \n",
       "4            8.9        681   DIRETORIA                 681      DIRETORIA   \n",
       "\n",
       "   ...  MERITO 2015 MERITO 2016 MERITO 2017 PROMOÇÃO 2012 PROMOÇÃO 2013  \\\n",
       "0  ...            Y         NaN         NaN           NaN           NaN   \n",
       "1  ...          NaN         NaN         NaN           NaN           NaN   \n",
       "2  ...            Y         NaN           Y           NaN           NaN   \n",
       "3  ...          NaN         NaN         NaN           NaN           NaN   \n",
       "4  ...          NaN         NaN         NaN           NaN           NaN   \n",
       "\n",
       "   PROMOÇÃO 2014  PROMOÇÃO 2015 PROMOÇÃO 2016  PROMOÇÃO 2017 PROMOVIDO  \n",
       "0            NaN            NaN           NaN            NaN         0  \n",
       "1            NaN            NaN           NaN            NaN         0  \n",
       "2            NaN            NaN           NaN            NaN         0  \n",
       "3            NaN            NaN           NaN            NaN         0  \n",
       "4            NaN            NaN           NaN            NaN         0  \n",
       "\n",
       "[5 rows x 63 columns]"
      ]
     },
     "execution_count": 2,
     "metadata": {},
     "output_type": "execute_result"
    }
   ],
   "source": [
    "df = pd.read_csv('data/Base Analytics.csv')\n",
    "df.head()"
   ]
  },
  {
   "cell_type": "code",
   "execution_count": 3,
   "metadata": {
    "ExecuteTime": {
     "end_time": "2019-08-02T23:23:33.508708Z",
     "start_time": "2019-08-02T23:23:33.502183Z"
    }
   },
   "outputs": [
    {
     "data": {
      "text/plain": [
       "(597, 63)"
      ]
     },
     "execution_count": 3,
     "metadata": {},
     "output_type": "execute_result"
    }
   ],
   "source": [
    "df.shape"
   ]
  },
  {
   "cell_type": "code",
   "execution_count": 4,
   "metadata": {
    "ExecuteTime": {
     "end_time": "2019-08-02T23:23:33.552782Z",
     "start_time": "2019-08-02T23:23:33.512503Z"
    }
   },
   "outputs": [
    {
     "data": {
      "text/html": [
       "<div>\n",
       "<style scoped>\n",
       "    .dataframe tbody tr th:only-of-type {\n",
       "        vertical-align: middle;\n",
       "    }\n",
       "\n",
       "    .dataframe tbody tr th {\n",
       "        vertical-align: top;\n",
       "    }\n",
       "\n",
       "    .dataframe thead th {\n",
       "        text-align: right;\n",
       "    }\n",
       "</style>\n",
       "<table border=\"1\" class=\"dataframe\">\n",
       "  <thead>\n",
       "    <tr style=\"text-align: right;\">\n",
       "      <th></th>\n",
       "      <th>0</th>\n",
       "      <th>1</th>\n",
       "      <th>2</th>\n",
       "      <th>3</th>\n",
       "      <th>4</th>\n",
       "    </tr>\n",
       "  </thead>\n",
       "  <tbody>\n",
       "    <tr>\n",
       "      <th>ADP</th>\n",
       "      <td>1</td>\n",
       "      <td>5</td>\n",
       "      <td>10</td>\n",
       "      <td>14</td>\n",
       "      <td>19</td>\n",
       "    </tr>\n",
       "    <tr>\n",
       "      <th>Admissão</th>\n",
       "      <td>10/1/2001</td>\n",
       "      <td>10/1/2001</td>\n",
       "      <td>10/1/2001</td>\n",
       "      <td>10/1/2001</td>\n",
       "      <td>10/1/2001</td>\n",
       "    </tr>\n",
       "    <tr>\n",
       "      <th>Desligamento</th>\n",
       "      <td></td>\n",
       "      <td>12/3/2012</td>\n",
       "      <td></td>\n",
       "      <td>5/31/2011</td>\n",
       "      <td>9/1/2010</td>\n",
       "    </tr>\n",
       "    <tr>\n",
       "      <th>Desligado?</th>\n",
       "      <td>N</td>\n",
       "      <td>Y</td>\n",
       "      <td>N</td>\n",
       "      <td>Y</td>\n",
       "      <td>Y</td>\n",
       "    </tr>\n",
       "    <tr>\n",
       "      <th>Iniciativa Desligamento</th>\n",
       "      <td>NaN</td>\n",
       "      <td>Funcionário</td>\n",
       "      <td>NaN</td>\n",
       "      <td>Funcionário</td>\n",
       "      <td>Empregador</td>\n",
       "    </tr>\n",
       "    <tr>\n",
       "      <th>Tempo de Casa</th>\n",
       "      <td>17.3</td>\n",
       "      <td>11.2</td>\n",
       "      <td>17.3</td>\n",
       "      <td>9.7</td>\n",
       "      <td>8.9</td>\n",
       "    </tr>\n",
       "    <tr>\n",
       "      <th>Cod.Cargo</th>\n",
       "      <td>762</td>\n",
       "      <td>736</td>\n",
       "      <td>734</td>\n",
       "      <td>643</td>\n",
       "      <td>681</td>\n",
       "    </tr>\n",
       "    <tr>\n",
       "      <th>Cargo</th>\n",
       "      <td>DIRETORIA</td>\n",
       "      <td>DIRETORIA</td>\n",
       "      <td>GERENTE SR</td>\n",
       "      <td>GERENTE</td>\n",
       "      <td>DIRETORIA</td>\n",
       "    </tr>\n",
       "    <tr>\n",
       "      <th>Cod.Cargo Admissão</th>\n",
       "      <td>698</td>\n",
       "      <td>699</td>\n",
       "      <td>626</td>\n",
       "      <td>630</td>\n",
       "      <td>681</td>\n",
       "    </tr>\n",
       "    <tr>\n",
       "      <th>Cargo Admissão</th>\n",
       "      <td>GERENTE</td>\n",
       "      <td>GERENTE</td>\n",
       "      <td>COORDENADOR</td>\n",
       "      <td>COORDENADOR</td>\n",
       "      <td>DIRETORIA</td>\n",
       "    </tr>\n",
       "    <tr>\n",
       "      <th>CC</th>\n",
       "      <td>1120</td>\n",
       "      <td>1121</td>\n",
       "      <td>1220</td>\n",
       "      <td>1010</td>\n",
       "      <td>1010</td>\n",
       "    </tr>\n",
       "    <tr>\n",
       "      <th>Area</th>\n",
       "      <td>Strategy &amp; New Products</td>\n",
       "      <td>Latam</td>\n",
       "      <td>Engineering</td>\n",
       "      <td>Accounting &amp; Tax</td>\n",
       "      <td>Accounting &amp; Tax</td>\n",
       "    </tr>\n",
       "    <tr>\n",
       "      <th>Diretoria</th>\n",
       "      <td>Strategy &amp; New Products</td>\n",
       "      <td>Latam</td>\n",
       "      <td>Operations</td>\n",
       "      <td>Finance</td>\n",
       "      <td>Finance</td>\n",
       "    </tr>\n",
       "    <tr>\n",
       "      <th>Estado Civil</th>\n",
       "      <td>CASADO</td>\n",
       "      <td>CASADO</td>\n",
       "      <td>CASADO</td>\n",
       "      <td>CASADO</td>\n",
       "      <td>SEPARADO</td>\n",
       "    </tr>\n",
       "    <tr>\n",
       "      <th>Educação</th>\n",
       "      <td>PÓS GRADUAÇÃO</td>\n",
       "      <td>PÓS GRADUAÇÃO</td>\n",
       "      <td>SUPERIOR COMPLETO</td>\n",
       "      <td>PÓS GRADUAÇÃO</td>\n",
       "      <td>PÓS GRADUAÇÃO</td>\n",
       "    </tr>\n",
       "    <tr>\n",
       "      <th>Idade Atual/ Desligamento</th>\n",
       "      <td>52</td>\n",
       "      <td>42.8466</td>\n",
       "      <td>42</td>\n",
       "      <td>43.0795</td>\n",
       "      <td>43.6822</td>\n",
       "    </tr>\n",
       "    <tr>\n",
       "      <th>Idade na Admissão</th>\n",
       "      <td>36.7288</td>\n",
       "      <td>31.6658</td>\n",
       "      <td>27.0685</td>\n",
       "      <td>33.411</td>\n",
       "      <td>34.7589</td>\n",
       "    </tr>\n",
       "    <tr>\n",
       "      <th>Sexo</th>\n",
       "      <td>H</td>\n",
       "      <td>H</td>\n",
       "      <td>M</td>\n",
       "      <td>H</td>\n",
       "      <td>H</td>\n",
       "    </tr>\n",
       "    <tr>\n",
       "      <th>Banda</th>\n",
       "      <td>700</td>\n",
       "      <td>700</td>\n",
       "      <td>650</td>\n",
       "      <td>600</td>\n",
       "      <td>700</td>\n",
       "    </tr>\n",
       "    <tr>\n",
       "      <th>Nivel</th>\n",
       "      <td>Organizational Leaders</td>\n",
       "      <td>Organizational Leaders</td>\n",
       "      <td>SR Mgmt &amp; Experts</td>\n",
       "      <td>SR Mgmt &amp; Experts</td>\n",
       "      <td>Organizational Leaders</td>\n",
       "    </tr>\n",
       "    <tr>\n",
       "      <th>Hora Extra 2016</th>\n",
       "      <td>NaN</td>\n",
       "      <td>NaN</td>\n",
       "      <td>NaN</td>\n",
       "      <td>NaN</td>\n",
       "      <td>NaN</td>\n",
       "    </tr>\n",
       "    <tr>\n",
       "      <th>Hora Negativa 2016</th>\n",
       "      <td>NaN</td>\n",
       "      <td>NaN</td>\n",
       "      <td>NaN</td>\n",
       "      <td>NaN</td>\n",
       "      <td>NaN</td>\n",
       "    </tr>\n",
       "    <tr>\n",
       "      <th>Ad. Noturno 2016</th>\n",
       "      <td>NaN</td>\n",
       "      <td>NaN</td>\n",
       "      <td>NaN</td>\n",
       "      <td>NaN</td>\n",
       "      <td>NaN</td>\n",
       "    </tr>\n",
       "    <tr>\n",
       "      <th>Absenteísmo 2016</th>\n",
       "      <td>0</td>\n",
       "      <td>NaN</td>\n",
       "      <td>0</td>\n",
       "      <td>NaN</td>\n",
       "      <td>NaN</td>\n",
       "    </tr>\n",
       "    <tr>\n",
       "      <th>Hora Extra 2017</th>\n",
       "      <td>NaN</td>\n",
       "      <td>NaN</td>\n",
       "      <td>NaN</td>\n",
       "      <td>NaN</td>\n",
       "      <td>NaN</td>\n",
       "    </tr>\n",
       "    <tr>\n",
       "      <th>Hora Negativa 2017</th>\n",
       "      <td>NaN</td>\n",
       "      <td>NaN</td>\n",
       "      <td>NaN</td>\n",
       "      <td>NaN</td>\n",
       "      <td>NaN</td>\n",
       "    </tr>\n",
       "    <tr>\n",
       "      <th>Ad. Noturno 2017</th>\n",
       "      <td>NaN</td>\n",
       "      <td>NaN</td>\n",
       "      <td>NaN</td>\n",
       "      <td>NaN</td>\n",
       "      <td>NaN</td>\n",
       "    </tr>\n",
       "    <tr>\n",
       "      <th>Absenteísmo 2017</th>\n",
       "      <td>0</td>\n",
       "      <td>NaN</td>\n",
       "      <td>0</td>\n",
       "      <td>NaN</td>\n",
       "      <td>NaN</td>\n",
       "    </tr>\n",
       "    <tr>\n",
       "      <th>2012/13 Rating</th>\n",
       "      <td>E</td>\n",
       "      <td>NaN</td>\n",
       "      <td>Q</td>\n",
       "      <td>NaN</td>\n",
       "      <td>NaN</td>\n",
       "    </tr>\n",
       "    <tr>\n",
       "      <th>2012/13 Goal Achievement</th>\n",
       "      <td>NaN</td>\n",
       "      <td>NaN</td>\n",
       "      <td>NaN</td>\n",
       "      <td>NaN</td>\n",
       "      <td>NaN</td>\n",
       "    </tr>\n",
       "    <tr>\n",
       "      <th>...</th>\n",
       "      <td>...</td>\n",
       "      <td>...</td>\n",
       "      <td>...</td>\n",
       "      <td>...</td>\n",
       "      <td>...</td>\n",
       "    </tr>\n",
       "    <tr>\n",
       "      <th>2014/15 Goal Achievement</th>\n",
       "      <td>103.6</td>\n",
       "      <td>NaN</td>\n",
       "      <td>108.1</td>\n",
       "      <td>NaN</td>\n",
       "      <td>NaN</td>\n",
       "    </tr>\n",
       "    <tr>\n",
       "      <th>2015/16 Rating</th>\n",
       "      <td>Q</td>\n",
       "      <td>NaN</td>\n",
       "      <td>E</td>\n",
       "      <td>NaN</td>\n",
       "      <td>NaN</td>\n",
       "    </tr>\n",
       "    <tr>\n",
       "      <th>2015/16 Goal Achievement</th>\n",
       "      <td>109</td>\n",
       "      <td>NaN</td>\n",
       "      <td>108</td>\n",
       "      <td>NaN</td>\n",
       "      <td>NaN</td>\n",
       "    </tr>\n",
       "    <tr>\n",
       "      <th>2016/17 Rating</th>\n",
       "      <td>Q</td>\n",
       "      <td>NaN</td>\n",
       "      <td>E</td>\n",
       "      <td>NaN</td>\n",
       "      <td>NaN</td>\n",
       "    </tr>\n",
       "    <tr>\n",
       "      <th>2016/17 Goal Achievement</th>\n",
       "      <td>106.6</td>\n",
       "      <td>NaN</td>\n",
       "      <td>105.5</td>\n",
       "      <td>NaN</td>\n",
       "      <td>NaN</td>\n",
       "    </tr>\n",
       "    <tr>\n",
       "      <th>AUMENTO 2012</th>\n",
       "      <td>NaN</td>\n",
       "      <td>NaN</td>\n",
       "      <td>NaN</td>\n",
       "      <td>NaN</td>\n",
       "      <td>NaN</td>\n",
       "    </tr>\n",
       "    <tr>\n",
       "      <th>AUMENTO 2013</th>\n",
       "      <td>NaN</td>\n",
       "      <td>NaN</td>\n",
       "      <td>NaN</td>\n",
       "      <td>NaN</td>\n",
       "      <td>NaN</td>\n",
       "    </tr>\n",
       "    <tr>\n",
       "      <th>AUMENTO 2014</th>\n",
       "      <td>NaN</td>\n",
       "      <td>NaN</td>\n",
       "      <td>NaN</td>\n",
       "      <td>NaN</td>\n",
       "      <td>NaN</td>\n",
       "    </tr>\n",
       "    <tr>\n",
       "      <th>AUMENTO 2015</th>\n",
       "      <td>NaN</td>\n",
       "      <td>NaN</td>\n",
       "      <td>NaN</td>\n",
       "      <td>NaN</td>\n",
       "      <td>NaN</td>\n",
       "    </tr>\n",
       "    <tr>\n",
       "      <th>AUMENTO 2016</th>\n",
       "      <td>NaN</td>\n",
       "      <td>NaN</td>\n",
       "      <td>NaN</td>\n",
       "      <td>NaN</td>\n",
       "      <td>NaN</td>\n",
       "    </tr>\n",
       "    <tr>\n",
       "      <th>AUMENTO 2017</th>\n",
       "      <td>NaN</td>\n",
       "      <td>NaN</td>\n",
       "      <td>NaN</td>\n",
       "      <td>NaN</td>\n",
       "      <td>NaN</td>\n",
       "    </tr>\n",
       "    <tr>\n",
       "      <th>DISSIDIO 2012</th>\n",
       "      <td>Y</td>\n",
       "      <td>Y</td>\n",
       "      <td>Y</td>\n",
       "      <td>NaN</td>\n",
       "      <td>NaN</td>\n",
       "    </tr>\n",
       "    <tr>\n",
       "      <th>DISSIDIO 2013</th>\n",
       "      <td>Y</td>\n",
       "      <td>NaN</td>\n",
       "      <td>Y</td>\n",
       "      <td>NaN</td>\n",
       "      <td>NaN</td>\n",
       "    </tr>\n",
       "    <tr>\n",
       "      <th>DISSIDIO 2014</th>\n",
       "      <td>Y</td>\n",
       "      <td>NaN</td>\n",
       "      <td>Y</td>\n",
       "      <td>NaN</td>\n",
       "      <td>NaN</td>\n",
       "    </tr>\n",
       "    <tr>\n",
       "      <th>DISSIDIO 2015</th>\n",
       "      <td>Y</td>\n",
       "      <td>NaN</td>\n",
       "      <td>Y</td>\n",
       "      <td>NaN</td>\n",
       "      <td>NaN</td>\n",
       "    </tr>\n",
       "    <tr>\n",
       "      <th>DISSIDIO 2016</th>\n",
       "      <td>Y</td>\n",
       "      <td>NaN</td>\n",
       "      <td>Y</td>\n",
       "      <td>NaN</td>\n",
       "      <td>NaN</td>\n",
       "    </tr>\n",
       "    <tr>\n",
       "      <th>DISSIDIO 2017</th>\n",
       "      <td>NaN</td>\n",
       "      <td>NaN</td>\n",
       "      <td>NaN</td>\n",
       "      <td>NaN</td>\n",
       "      <td>NaN</td>\n",
       "    </tr>\n",
       "    <tr>\n",
       "      <th>MERITO 2012</th>\n",
       "      <td>Y</td>\n",
       "      <td>Y</td>\n",
       "      <td>Y</td>\n",
       "      <td>NaN</td>\n",
       "      <td>NaN</td>\n",
       "    </tr>\n",
       "    <tr>\n",
       "      <th>MERITO 2013</th>\n",
       "      <td>Y</td>\n",
       "      <td>NaN</td>\n",
       "      <td>Y</td>\n",
       "      <td>NaN</td>\n",
       "      <td>NaN</td>\n",
       "    </tr>\n",
       "    <tr>\n",
       "      <th>MERITO 2014</th>\n",
       "      <td>Y</td>\n",
       "      <td>NaN</td>\n",
       "      <td>Y</td>\n",
       "      <td>NaN</td>\n",
       "      <td>NaN</td>\n",
       "    </tr>\n",
       "    <tr>\n",
       "      <th>MERITO 2015</th>\n",
       "      <td>Y</td>\n",
       "      <td>NaN</td>\n",
       "      <td>Y</td>\n",
       "      <td>NaN</td>\n",
       "      <td>NaN</td>\n",
       "    </tr>\n",
       "    <tr>\n",
       "      <th>MERITO 2016</th>\n",
       "      <td>NaN</td>\n",
       "      <td>NaN</td>\n",
       "      <td>NaN</td>\n",
       "      <td>NaN</td>\n",
       "      <td>NaN</td>\n",
       "    </tr>\n",
       "    <tr>\n",
       "      <th>MERITO 2017</th>\n",
       "      <td>NaN</td>\n",
       "      <td>NaN</td>\n",
       "      <td>Y</td>\n",
       "      <td>NaN</td>\n",
       "      <td>NaN</td>\n",
       "    </tr>\n",
       "    <tr>\n",
       "      <th>PROMOÇÃO 2012</th>\n",
       "      <td>NaN</td>\n",
       "      <td>NaN</td>\n",
       "      <td>NaN</td>\n",
       "      <td>NaN</td>\n",
       "      <td>NaN</td>\n",
       "    </tr>\n",
       "    <tr>\n",
       "      <th>PROMOÇÃO 2013</th>\n",
       "      <td>NaN</td>\n",
       "      <td>NaN</td>\n",
       "      <td>NaN</td>\n",
       "      <td>NaN</td>\n",
       "      <td>NaN</td>\n",
       "    </tr>\n",
       "    <tr>\n",
       "      <th>PROMOÇÃO 2014</th>\n",
       "      <td>NaN</td>\n",
       "      <td>NaN</td>\n",
       "      <td>NaN</td>\n",
       "      <td>NaN</td>\n",
       "      <td>NaN</td>\n",
       "    </tr>\n",
       "    <tr>\n",
       "      <th>PROMOÇÃO 2015</th>\n",
       "      <td>NaN</td>\n",
       "      <td>NaN</td>\n",
       "      <td>NaN</td>\n",
       "      <td>NaN</td>\n",
       "      <td>NaN</td>\n",
       "    </tr>\n",
       "    <tr>\n",
       "      <th>PROMOÇÃO 2016</th>\n",
       "      <td>NaN</td>\n",
       "      <td>NaN</td>\n",
       "      <td>NaN</td>\n",
       "      <td>NaN</td>\n",
       "      <td>NaN</td>\n",
       "    </tr>\n",
       "    <tr>\n",
       "      <th>PROMOÇÃO 2017</th>\n",
       "      <td>NaN</td>\n",
       "      <td>NaN</td>\n",
       "      <td>NaN</td>\n",
       "      <td>NaN</td>\n",
       "      <td>NaN</td>\n",
       "    </tr>\n",
       "    <tr>\n",
       "      <th>PROMOVIDO</th>\n",
       "      <td>0</td>\n",
       "      <td>0</td>\n",
       "      <td>0</td>\n",
       "      <td>0</td>\n",
       "      <td>0</td>\n",
       "    </tr>\n",
       "  </tbody>\n",
       "</table>\n",
       "<p>63 rows × 5 columns</p>\n",
       "</div>"
      ],
      "text/plain": [
       "                                                             0  \\\n",
       "ADP                                                          1   \n",
       "Admissão                                             10/1/2001   \n",
       "Desligamento                                                     \n",
       "Desligado?                                                   N   \n",
       "Iniciativa Desligamento                                    NaN   \n",
       "Tempo de Casa                                             17.3   \n",
       "Cod.Cargo                                                  762   \n",
       "Cargo                                                DIRETORIA   \n",
       "Cod.Cargo Admissão                                         698   \n",
       "Cargo Admissão                                         GERENTE   \n",
       "CC                                                        1120   \n",
       "Area                                   Strategy & New Products   \n",
       "Diretoria                              Strategy & New Products   \n",
       "Estado Civil                                            CASADO   \n",
       "Educação                   PÓS GRADUAÇÃO                         \n",
       "Idade Atual/ Desligamento                                   52   \n",
       "Idade na Admissão                                      36.7288   \n",
       "Sexo                                                         H   \n",
       "Banda                                                      700   \n",
       "Nivel                                   Organizational Leaders   \n",
       "Hora Extra 2016                                            NaN   \n",
       "Hora Negativa 2016                                         NaN   \n",
       "Ad. Noturno 2016                                           NaN   \n",
       "Absenteísmo 2016                                             0   \n",
       "Hora Extra 2017                                            NaN   \n",
       "Hora Negativa 2017                                         NaN   \n",
       "Ad. Noturno 2017                                           NaN   \n",
       "Absenteísmo 2017                                             0   \n",
       "2012/13 Rating                                               E   \n",
       "2012/13 Goal Achievement                                   NaN   \n",
       "...                                                        ...   \n",
       "2014/15 Goal Achievement                                 103.6   \n",
       "2015/16 Rating                                               Q   \n",
       "2015/16 Goal Achievement                                   109   \n",
       "2016/17 Rating                                               Q   \n",
       "2016/17 Goal Achievement                                 106.6   \n",
       "AUMENTO 2012                                               NaN   \n",
       "AUMENTO 2013                                               NaN   \n",
       "AUMENTO 2014                                               NaN   \n",
       "AUMENTO 2015                                               NaN   \n",
       "AUMENTO 2016                                               NaN   \n",
       "AUMENTO 2017                                               NaN   \n",
       "DISSIDIO 2012                                                Y   \n",
       "DISSIDIO 2013                                                Y   \n",
       "DISSIDIO 2014                                                Y   \n",
       "DISSIDIO 2015                                                Y   \n",
       "DISSIDIO 2016                                                Y   \n",
       "DISSIDIO 2017                                              NaN   \n",
       "MERITO 2012                                                  Y   \n",
       "MERITO 2013                                                  Y   \n",
       "MERITO 2014                                                  Y   \n",
       "MERITO 2015                                                  Y   \n",
       "MERITO 2016                                                NaN   \n",
       "MERITO 2017                                                NaN   \n",
       "PROMOÇÃO 2012                                              NaN   \n",
       "PROMOÇÃO 2013                                              NaN   \n",
       "PROMOÇÃO 2014                                              NaN   \n",
       "PROMOÇÃO 2015                                              NaN   \n",
       "PROMOÇÃO 2016                                              NaN   \n",
       "PROMOÇÃO 2017                                              NaN   \n",
       "PROMOVIDO                                                    0   \n",
       "\n",
       "                                                             1  \\\n",
       "ADP                                                          5   \n",
       "Admissão                                             10/1/2001   \n",
       "Desligamento                                         12/3/2012   \n",
       "Desligado?                                                   Y   \n",
       "Iniciativa Desligamento                            Funcionário   \n",
       "Tempo de Casa                                             11.2   \n",
       "Cod.Cargo                                                  736   \n",
       "Cargo                                                DIRETORIA   \n",
       "Cod.Cargo Admissão                                         699   \n",
       "Cargo Admissão                                         GERENTE   \n",
       "CC                                                        1121   \n",
       "Area                                                     Latam   \n",
       "Diretoria                                                Latam   \n",
       "Estado Civil                                            CASADO   \n",
       "Educação                   PÓS GRADUAÇÃO                         \n",
       "Idade Atual/ Desligamento                              42.8466   \n",
       "Idade na Admissão                                      31.6658   \n",
       "Sexo                                                         H   \n",
       "Banda                                                      700   \n",
       "Nivel                                   Organizational Leaders   \n",
       "Hora Extra 2016                                            NaN   \n",
       "Hora Negativa 2016                                         NaN   \n",
       "Ad. Noturno 2016                                           NaN   \n",
       "Absenteísmo 2016                                           NaN   \n",
       "Hora Extra 2017                                            NaN   \n",
       "Hora Negativa 2017                                         NaN   \n",
       "Ad. Noturno 2017                                           NaN   \n",
       "Absenteísmo 2017                                           NaN   \n",
       "2012/13 Rating                                             NaN   \n",
       "2012/13 Goal Achievement                                   NaN   \n",
       "...                                                        ...   \n",
       "2014/15 Goal Achievement                                   NaN   \n",
       "2015/16 Rating                                             NaN   \n",
       "2015/16 Goal Achievement                                   NaN   \n",
       "2016/17 Rating                                             NaN   \n",
       "2016/17 Goal Achievement                                   NaN   \n",
       "AUMENTO 2012                                               NaN   \n",
       "AUMENTO 2013                                               NaN   \n",
       "AUMENTO 2014                                               NaN   \n",
       "AUMENTO 2015                                               NaN   \n",
       "AUMENTO 2016                                               NaN   \n",
       "AUMENTO 2017                                               NaN   \n",
       "DISSIDIO 2012                                                Y   \n",
       "DISSIDIO 2013                                              NaN   \n",
       "DISSIDIO 2014                                              NaN   \n",
       "DISSIDIO 2015                                              NaN   \n",
       "DISSIDIO 2016                                              NaN   \n",
       "DISSIDIO 2017                                              NaN   \n",
       "MERITO 2012                                                  Y   \n",
       "MERITO 2013                                                NaN   \n",
       "MERITO 2014                                                NaN   \n",
       "MERITO 2015                                                NaN   \n",
       "MERITO 2016                                                NaN   \n",
       "MERITO 2017                                                NaN   \n",
       "PROMOÇÃO 2012                                              NaN   \n",
       "PROMOÇÃO 2013                                              NaN   \n",
       "PROMOÇÃO 2014                                              NaN   \n",
       "PROMOÇÃO 2015                                              NaN   \n",
       "PROMOÇÃO 2016                                              NaN   \n",
       "PROMOÇÃO 2017                                              NaN   \n",
       "PROMOVIDO                                                    0   \n",
       "\n",
       "                                           2  \\\n",
       "ADP                                       10   \n",
       "Admissão                           10/1/2001   \n",
       "Desligamento                                   \n",
       "Desligado?                                 N   \n",
       "Iniciativa Desligamento                  NaN   \n",
       "Tempo de Casa                           17.3   \n",
       "Cod.Cargo                                734   \n",
       "Cargo                             GERENTE SR   \n",
       "Cod.Cargo Admissão                       626   \n",
       "Cargo Admissão                   COORDENADOR   \n",
       "CC                                      1220   \n",
       "Area                             Engineering   \n",
       "Diretoria                         Operations   \n",
       "Estado Civil                          CASADO   \n",
       "Educação                   SUPERIOR COMPLETO   \n",
       "Idade Atual/ Desligamento                 42   \n",
       "Idade na Admissão                    27.0685   \n",
       "Sexo                                       M   \n",
       "Banda                                    650   \n",
       "Nivel                      SR Mgmt & Experts   \n",
       "Hora Extra 2016                          NaN   \n",
       "Hora Negativa 2016                       NaN   \n",
       "Ad. Noturno 2016                         NaN   \n",
       "Absenteísmo 2016                           0   \n",
       "Hora Extra 2017                          NaN   \n",
       "Hora Negativa 2017                       NaN   \n",
       "Ad. Noturno 2017                         NaN   \n",
       "Absenteísmo 2017                           0   \n",
       "2012/13 Rating                             Q   \n",
       "2012/13 Goal Achievement                 NaN   \n",
       "...                                      ...   \n",
       "2014/15 Goal Achievement               108.1   \n",
       "2015/16 Rating                             E   \n",
       "2015/16 Goal Achievement                 108   \n",
       "2016/17 Rating                             E   \n",
       "2016/17 Goal Achievement               105.5   \n",
       "AUMENTO 2012                             NaN   \n",
       "AUMENTO 2013                             NaN   \n",
       "AUMENTO 2014                             NaN   \n",
       "AUMENTO 2015                             NaN   \n",
       "AUMENTO 2016                             NaN   \n",
       "AUMENTO 2017                             NaN   \n",
       "DISSIDIO 2012                              Y   \n",
       "DISSIDIO 2013                              Y   \n",
       "DISSIDIO 2014                              Y   \n",
       "DISSIDIO 2015                              Y   \n",
       "DISSIDIO 2016                              Y   \n",
       "DISSIDIO 2017                            NaN   \n",
       "MERITO 2012                                Y   \n",
       "MERITO 2013                                Y   \n",
       "MERITO 2014                                Y   \n",
       "MERITO 2015                                Y   \n",
       "MERITO 2016                              NaN   \n",
       "MERITO 2017                                Y   \n",
       "PROMOÇÃO 2012                            NaN   \n",
       "PROMOÇÃO 2013                            NaN   \n",
       "PROMOÇÃO 2014                            NaN   \n",
       "PROMOÇÃO 2015                            NaN   \n",
       "PROMOÇÃO 2016                            NaN   \n",
       "PROMOÇÃO 2017                            NaN   \n",
       "PROMOVIDO                                  0   \n",
       "\n",
       "                                                             3  \\\n",
       "ADP                                                         14   \n",
       "Admissão                                             10/1/2001   \n",
       "Desligamento                                         5/31/2011   \n",
       "Desligado?                                                   Y   \n",
       "Iniciativa Desligamento                            Funcionário   \n",
       "Tempo de Casa                                              9.7   \n",
       "Cod.Cargo                                                  643   \n",
       "Cargo                                                  GERENTE   \n",
       "Cod.Cargo Admissão                                         630   \n",
       "Cargo Admissão                                     COORDENADOR   \n",
       "CC                                                        1010   \n",
       "Area                                          Accounting & Tax   \n",
       "Diretoria                                              Finance   \n",
       "Estado Civil                                            CASADO   \n",
       "Educação                   PÓS GRADUAÇÃO                         \n",
       "Idade Atual/ Desligamento                              43.0795   \n",
       "Idade na Admissão                                       33.411   \n",
       "Sexo                                                         H   \n",
       "Banda                                                      600   \n",
       "Nivel                                        SR Mgmt & Experts   \n",
       "Hora Extra 2016                                            NaN   \n",
       "Hora Negativa 2016                                         NaN   \n",
       "Ad. Noturno 2016                                           NaN   \n",
       "Absenteísmo 2016                                           NaN   \n",
       "Hora Extra 2017                                            NaN   \n",
       "Hora Negativa 2017                                         NaN   \n",
       "Ad. Noturno 2017                                           NaN   \n",
       "Absenteísmo 2017                                           NaN   \n",
       "2012/13 Rating                                             NaN   \n",
       "2012/13 Goal Achievement                                   NaN   \n",
       "...                                                        ...   \n",
       "2014/15 Goal Achievement                                   NaN   \n",
       "2015/16 Rating                                             NaN   \n",
       "2015/16 Goal Achievement                                   NaN   \n",
       "2016/17 Rating                                             NaN   \n",
       "2016/17 Goal Achievement                                   NaN   \n",
       "AUMENTO 2012                                               NaN   \n",
       "AUMENTO 2013                                               NaN   \n",
       "AUMENTO 2014                                               NaN   \n",
       "AUMENTO 2015                                               NaN   \n",
       "AUMENTO 2016                                               NaN   \n",
       "AUMENTO 2017                                               NaN   \n",
       "DISSIDIO 2012                                              NaN   \n",
       "DISSIDIO 2013                                              NaN   \n",
       "DISSIDIO 2014                                              NaN   \n",
       "DISSIDIO 2015                                              NaN   \n",
       "DISSIDIO 2016                                              NaN   \n",
       "DISSIDIO 2017                                              NaN   \n",
       "MERITO 2012                                                NaN   \n",
       "MERITO 2013                                                NaN   \n",
       "MERITO 2014                                                NaN   \n",
       "MERITO 2015                                                NaN   \n",
       "MERITO 2016                                                NaN   \n",
       "MERITO 2017                                                NaN   \n",
       "PROMOÇÃO 2012                                              NaN   \n",
       "PROMOÇÃO 2013                                              NaN   \n",
       "PROMOÇÃO 2014                                              NaN   \n",
       "PROMOÇÃO 2015                                              NaN   \n",
       "PROMOÇÃO 2016                                              NaN   \n",
       "PROMOÇÃO 2017                                              NaN   \n",
       "PROMOVIDO                                                    0   \n",
       "\n",
       "                                                             4  \n",
       "ADP                                                         19  \n",
       "Admissão                                             10/1/2001  \n",
       "Desligamento                                          9/1/2010  \n",
       "Desligado?                                                   Y  \n",
       "Iniciativa Desligamento                            Empregador   \n",
       "Tempo de Casa                                              8.9  \n",
       "Cod.Cargo                                                  681  \n",
       "Cargo                                                DIRETORIA  \n",
       "Cod.Cargo Admissão                                         681  \n",
       "Cargo Admissão                                       DIRETORIA  \n",
       "CC                                                        1010  \n",
       "Area                                          Accounting & Tax  \n",
       "Diretoria                                              Finance  \n",
       "Estado Civil                                          SEPARADO  \n",
       "Educação                   PÓS GRADUAÇÃO                        \n",
       "Idade Atual/ Desligamento                              43.6822  \n",
       "Idade na Admissão                                      34.7589  \n",
       "Sexo                                                         H  \n",
       "Banda                                                      700  \n",
       "Nivel                                   Organizational Leaders  \n",
       "Hora Extra 2016                                            NaN  \n",
       "Hora Negativa 2016                                         NaN  \n",
       "Ad. Noturno 2016                                           NaN  \n",
       "Absenteísmo 2016                                           NaN  \n",
       "Hora Extra 2017                                            NaN  \n",
       "Hora Negativa 2017                                         NaN  \n",
       "Ad. Noturno 2017                                           NaN  \n",
       "Absenteísmo 2017                                           NaN  \n",
       "2012/13 Rating                                             NaN  \n",
       "2012/13 Goal Achievement                                   NaN  \n",
       "...                                                        ...  \n",
       "2014/15 Goal Achievement                                   NaN  \n",
       "2015/16 Rating                                             NaN  \n",
       "2015/16 Goal Achievement                                   NaN  \n",
       "2016/17 Rating                                             NaN  \n",
       "2016/17 Goal Achievement                                   NaN  \n",
       "AUMENTO 2012                                               NaN  \n",
       "AUMENTO 2013                                               NaN  \n",
       "AUMENTO 2014                                               NaN  \n",
       "AUMENTO 2015                                               NaN  \n",
       "AUMENTO 2016                                               NaN  \n",
       "AUMENTO 2017                                               NaN  \n",
       "DISSIDIO 2012                                              NaN  \n",
       "DISSIDIO 2013                                              NaN  \n",
       "DISSIDIO 2014                                              NaN  \n",
       "DISSIDIO 2015                                              NaN  \n",
       "DISSIDIO 2016                                              NaN  \n",
       "DISSIDIO 2017                                              NaN  \n",
       "MERITO 2012                                                NaN  \n",
       "MERITO 2013                                                NaN  \n",
       "MERITO 2014                                                NaN  \n",
       "MERITO 2015                                                NaN  \n",
       "MERITO 2016                                                NaN  \n",
       "MERITO 2017                                                NaN  \n",
       "PROMOÇÃO 2012                                              NaN  \n",
       "PROMOÇÃO 2013                                              NaN  \n",
       "PROMOÇÃO 2014                                              NaN  \n",
       "PROMOÇÃO 2015                                              NaN  \n",
       "PROMOÇÃO 2016                                              NaN  \n",
       "PROMOÇÃO 2017                                              NaN  \n",
       "PROMOVIDO                                                    0  \n",
       "\n",
       "[63 rows x 5 columns]"
      ]
     },
     "execution_count": 4,
     "metadata": {},
     "output_type": "execute_result"
    }
   ],
   "source": [
    "df.head().T"
   ]
  },
  {
   "cell_type": "code",
   "execution_count": 5,
   "metadata": {
    "ExecuteTime": {
     "end_time": "2019-08-02T23:23:33.563650Z",
     "start_time": "2019-08-02T23:23:33.557411Z"
    }
   },
   "outputs": [
    {
     "data": {
      "text/plain": [
       "array(['ADP', 'Admissão', 'Desligamento', 'Desligado?',\n",
       "       'Iniciativa Desligamento', 'Tempo de Casa', 'Cod.Cargo', 'Cargo',\n",
       "       'Cod.Cargo Admissão', 'Cargo Admissão', 'CC', 'Area', 'Diretoria',\n",
       "       'Estado Civil', 'Educação', 'Idade Atual/ Desligamento',\n",
       "       'Idade na Admissão', 'Sexo', 'Banda', 'Nivel', 'Hora Extra 2016',\n",
       "       'Hora Negativa 2016', 'Ad. Noturno 2016', 'Absenteísmo 2016',\n",
       "       'Hora Extra 2017', 'Hora Negativa 2017', 'Ad. Noturno 2017',\n",
       "       'Absenteísmo 2017', '2012/13 Rating', '2012/13 Goal Achievement',\n",
       "       '2013/14 Rating', '2013/14 Goal Achievement', '2014/15 Rating',\n",
       "       '2014/15 Goal Achievement', '2015/16 Rating',\n",
       "       '2015/16 Goal Achievement', '2016/17 Rating',\n",
       "       '2016/17 Goal Achievement', 'AUMENTO 2012', 'AUMENTO 2013',\n",
       "       'AUMENTO 2014', 'AUMENTO 2015', 'AUMENTO 2016', 'AUMENTO 2017',\n",
       "       'DISSIDIO 2012', 'DISSIDIO 2013', 'DISSIDIO 2014', 'DISSIDIO 2015',\n",
       "       'DISSIDIO 2016', 'DISSIDIO 2017', 'MERITO 2012', 'MERITO 2013',\n",
       "       'MERITO 2014', 'MERITO 2015', 'MERITO 2016', 'MERITO 2017',\n",
       "       'PROMOÇÃO 2012', 'PROMOÇÃO 2013', 'PROMOÇÃO 2014', 'PROMOÇÃO 2015',\n",
       "       'PROMOÇÃO 2016', 'PROMOÇÃO 2017', 'PROMOVIDO'], dtype=object)"
      ]
     },
     "execution_count": 5,
     "metadata": {},
     "output_type": "execute_result"
    }
   ],
   "source": [
    "df.columns.values"
   ]
  },
  {
   "cell_type": "code",
   "execution_count": 6,
   "metadata": {
    "ExecuteTime": {
     "end_time": "2019-08-02T23:23:33.582274Z",
     "start_time": "2019-08-02T23:23:33.568087Z"
    }
   },
   "outputs": [
    {
     "data": {
      "text/plain": [
       "ADP                            int64\n",
       "Admissão                      object\n",
       "Desligamento                  object\n",
       "Desligado?                    object\n",
       "Iniciativa Desligamento       object\n",
       "Tempo de Casa                float64\n",
       "Cod.Cargo                      int64\n",
       "Cargo                         object\n",
       "Cod.Cargo Admissão             int64\n",
       "Cargo Admissão                object\n",
       "CC                             int64\n",
       "Area                          object\n",
       "Diretoria                     object\n",
       "Estado Civil                  object\n",
       "Educação                      object\n",
       "Idade Atual/ Desligamento    float64\n",
       "Idade na Admissão            float64\n",
       "Sexo                          object\n",
       "Banda                          int64\n",
       "Nivel                         object\n",
       "Hora Extra 2016              float64\n",
       "Hora Negativa 2016           float64\n",
       "Ad. Noturno 2016             float64\n",
       "Absenteísmo 2016             float64\n",
       "Hora Extra 2017              float64\n",
       "Hora Negativa 2017           float64\n",
       "Ad. Noturno 2017             float64\n",
       "Absenteísmo 2017             float64\n",
       "2012/13 Rating                object\n",
       "2012/13 Goal Achievement     float64\n",
       "                              ...   \n",
       "2014/15 Goal Achievement     float64\n",
       "2015/16 Rating                object\n",
       "2015/16 Goal Achievement     float64\n",
       "2016/17 Rating                object\n",
       "2016/17 Goal Achievement     float64\n",
       "AUMENTO 2012                  object\n",
       "AUMENTO 2013                  object\n",
       "AUMENTO 2014                  object\n",
       "AUMENTO 2015                  object\n",
       "AUMENTO 2016                  object\n",
       "AUMENTO 2017                  object\n",
       "DISSIDIO 2012                 object\n",
       "DISSIDIO 2013                 object\n",
       "DISSIDIO 2014                 object\n",
       "DISSIDIO 2015                 object\n",
       "DISSIDIO 2016                 object\n",
       "DISSIDIO 2017                 object\n",
       "MERITO 2012                   object\n",
       "MERITO 2013                   object\n",
       "MERITO 2014                   object\n",
       "MERITO 2015                   object\n",
       "MERITO 2016                   object\n",
       "MERITO 2017                   object\n",
       "PROMOÇÃO 2012                 object\n",
       "PROMOÇÃO 2013                 object\n",
       "PROMOÇÃO 2014                 object\n",
       "PROMOÇÃO 2015                 object\n",
       "PROMOÇÃO 2016                 object\n",
       "PROMOÇÃO 2017                 object\n",
       "PROMOVIDO                      int64\n",
       "Length: 63, dtype: object"
      ]
     },
     "execution_count": 6,
     "metadata": {},
     "output_type": "execute_result"
    }
   ],
   "source": [
    "df.dtypes"
   ]
  },
  {
   "cell_type": "code",
   "execution_count": 7,
   "metadata": {
    "ExecuteTime": {
     "end_time": "2019-08-02T23:23:33.661199Z",
     "start_time": "2019-08-02T23:23:33.584962Z"
    }
   },
   "outputs": [
    {
     "data": {
      "text/html": [
       "<div>\n",
       "<style scoped>\n",
       "    .dataframe tbody tr th:only-of-type {\n",
       "        vertical-align: middle;\n",
       "    }\n",
       "\n",
       "    .dataframe tbody tr th {\n",
       "        vertical-align: top;\n",
       "    }\n",
       "\n",
       "    .dataframe thead th {\n",
       "        text-align: right;\n",
       "    }\n",
       "</style>\n",
       "<table border=\"1\" class=\"dataframe\">\n",
       "  <thead>\n",
       "    <tr style=\"text-align: right;\">\n",
       "      <th></th>\n",
       "      <th>null_amount</th>\n",
       "      <th>null_ratio</th>\n",
       "    </tr>\n",
       "  </thead>\n",
       "  <tbody>\n",
       "    <tr>\n",
       "      <th>2012/13 Goal Achievement</th>\n",
       "      <td>597.0</td>\n",
       "      <td>1.000000</td>\n",
       "    </tr>\n",
       "    <tr>\n",
       "      <th>DISSIDIO 2017</th>\n",
       "      <td>596.0</td>\n",
       "      <td>0.998325</td>\n",
       "    </tr>\n",
       "    <tr>\n",
       "      <th>AUMENTO 2014</th>\n",
       "      <td>589.0</td>\n",
       "      <td>0.986600</td>\n",
       "    </tr>\n",
       "    <tr>\n",
       "      <th>AUMENTO 2012</th>\n",
       "      <td>589.0</td>\n",
       "      <td>0.986600</td>\n",
       "    </tr>\n",
       "    <tr>\n",
       "      <th>PROMOÇÃO 2013</th>\n",
       "      <td>585.0</td>\n",
       "      <td>0.979899</td>\n",
       "    </tr>\n",
       "    <tr>\n",
       "      <th>PROMOÇÃO 2014</th>\n",
       "      <td>582.0</td>\n",
       "      <td>0.974874</td>\n",
       "    </tr>\n",
       "    <tr>\n",
       "      <th>PROMOÇÃO 2012</th>\n",
       "      <td>581.0</td>\n",
       "      <td>0.973199</td>\n",
       "    </tr>\n",
       "    <tr>\n",
       "      <th>AUMENTO 2013</th>\n",
       "      <td>576.0</td>\n",
       "      <td>0.964824</td>\n",
       "    </tr>\n",
       "    <tr>\n",
       "      <th>AUMENTO 2017</th>\n",
       "      <td>573.0</td>\n",
       "      <td>0.959799</td>\n",
       "    </tr>\n",
       "    <tr>\n",
       "      <th>PROMOÇÃO 2016</th>\n",
       "      <td>572.0</td>\n",
       "      <td>0.958124</td>\n",
       "    </tr>\n",
       "    <tr>\n",
       "      <th>PROMOÇÃO 2015</th>\n",
       "      <td>571.0</td>\n",
       "      <td>0.956449</td>\n",
       "    </tr>\n",
       "    <tr>\n",
       "      <th>AUMENTO 2016</th>\n",
       "      <td>564.0</td>\n",
       "      <td>0.944724</td>\n",
       "    </tr>\n",
       "    <tr>\n",
       "      <th>AUMENTO 2015</th>\n",
       "      <td>562.0</td>\n",
       "      <td>0.941374</td>\n",
       "    </tr>\n",
       "    <tr>\n",
       "      <th>MERITO 2012</th>\n",
       "      <td>556.0</td>\n",
       "      <td>0.931323</td>\n",
       "    </tr>\n",
       "    <tr>\n",
       "      <th>PROMOÇÃO 2017</th>\n",
       "      <td>555.0</td>\n",
       "      <td>0.929648</td>\n",
       "    </tr>\n",
       "    <tr>\n",
       "      <th>MERITO 2013</th>\n",
       "      <td>532.0</td>\n",
       "      <td>0.891122</td>\n",
       "    </tr>\n",
       "    <tr>\n",
       "      <th>MERITO 2014</th>\n",
       "      <td>512.0</td>\n",
       "      <td>0.857621</td>\n",
       "    </tr>\n",
       "    <tr>\n",
       "      <th>MERITO 2016</th>\n",
       "      <td>500.0</td>\n",
       "      <td>0.837521</td>\n",
       "    </tr>\n",
       "    <tr>\n",
       "      <th>MERITO 2015</th>\n",
       "      <td>478.0</td>\n",
       "      <td>0.800670</td>\n",
       "    </tr>\n",
       "    <tr>\n",
       "      <th>MERITO 2017</th>\n",
       "      <td>475.0</td>\n",
       "      <td>0.795645</td>\n",
       "    </tr>\n",
       "    <tr>\n",
       "      <th>DISSIDIO 2012</th>\n",
       "      <td>470.0</td>\n",
       "      <td>0.787270</td>\n",
       "    </tr>\n",
       "    <tr>\n",
       "      <th>2012/13 Rating</th>\n",
       "      <td>463.0</td>\n",
       "      <td>0.775544</td>\n",
       "    </tr>\n",
       "    <tr>\n",
       "      <th>2013/14 Rating</th>\n",
       "      <td>442.0</td>\n",
       "      <td>0.740369</td>\n",
       "    </tr>\n",
       "    <tr>\n",
       "      <th>2013/14 Goal Achievement</th>\n",
       "      <td>442.0</td>\n",
       "      <td>0.740369</td>\n",
       "    </tr>\n",
       "    <tr>\n",
       "      <th>DISSIDIO 2013</th>\n",
       "      <td>430.0</td>\n",
       "      <td>0.720268</td>\n",
       "    </tr>\n",
       "    <tr>\n",
       "      <th>2014/15 Goal Achievement</th>\n",
       "      <td>422.0</td>\n",
       "      <td>0.706868</td>\n",
       "    </tr>\n",
       "    <tr>\n",
       "      <th>DISSIDIO 2014</th>\n",
       "      <td>407.0</td>\n",
       "      <td>0.681742</td>\n",
       "    </tr>\n",
       "    <tr>\n",
       "      <th>2014/15 Rating</th>\n",
       "      <td>386.0</td>\n",
       "      <td>0.646566</td>\n",
       "    </tr>\n",
       "    <tr>\n",
       "      <th>Hora Extra 2017</th>\n",
       "      <td>348.0</td>\n",
       "      <td>0.582915</td>\n",
       "    </tr>\n",
       "    <tr>\n",
       "      <th>Ad. Noturno 2017</th>\n",
       "      <td>348.0</td>\n",
       "      <td>0.582915</td>\n",
       "    </tr>\n",
       "    <tr>\n",
       "      <th>...</th>\n",
       "      <td>...</td>\n",
       "      <td>...</td>\n",
       "    </tr>\n",
       "    <tr>\n",
       "      <th>Ad. Noturno 2016</th>\n",
       "      <td>340.0</td>\n",
       "      <td>0.569514</td>\n",
       "    </tr>\n",
       "    <tr>\n",
       "      <th>Hora Extra 2016</th>\n",
       "      <td>339.0</td>\n",
       "      <td>0.567839</td>\n",
       "    </tr>\n",
       "    <tr>\n",
       "      <th>DISSIDIO 2015</th>\n",
       "      <td>303.0</td>\n",
       "      <td>0.507538</td>\n",
       "    </tr>\n",
       "    <tr>\n",
       "      <th>2015/16 Goal Achievement</th>\n",
       "      <td>283.0</td>\n",
       "      <td>0.474037</td>\n",
       "    </tr>\n",
       "    <tr>\n",
       "      <th>2015/16 Rating</th>\n",
       "      <td>283.0</td>\n",
       "      <td>0.474037</td>\n",
       "    </tr>\n",
       "    <tr>\n",
       "      <th>2016/17 Rating</th>\n",
       "      <td>263.0</td>\n",
       "      <td>0.440536</td>\n",
       "    </tr>\n",
       "    <tr>\n",
       "      <th>2016/17 Goal Achievement</th>\n",
       "      <td>263.0</td>\n",
       "      <td>0.440536</td>\n",
       "    </tr>\n",
       "    <tr>\n",
       "      <th>DISSIDIO 2016</th>\n",
       "      <td>258.0</td>\n",
       "      <td>0.432161</td>\n",
       "    </tr>\n",
       "    <tr>\n",
       "      <th>Absenteísmo 2017</th>\n",
       "      <td>229.0</td>\n",
       "      <td>0.383585</td>\n",
       "    </tr>\n",
       "    <tr>\n",
       "      <th>Absenteísmo 2016</th>\n",
       "      <td>226.0</td>\n",
       "      <td>0.378559</td>\n",
       "    </tr>\n",
       "    <tr>\n",
       "      <th>Educação</th>\n",
       "      <td>1.0</td>\n",
       "      <td>0.001675</td>\n",
       "    </tr>\n",
       "    <tr>\n",
       "      <th>Estado Civil</th>\n",
       "      <td>1.0</td>\n",
       "      <td>0.001675</td>\n",
       "    </tr>\n",
       "    <tr>\n",
       "      <th>Cargo Admissão</th>\n",
       "      <td>0.0</td>\n",
       "      <td>0.000000</td>\n",
       "    </tr>\n",
       "    <tr>\n",
       "      <th>Admissão</th>\n",
       "      <td>0.0</td>\n",
       "      <td>0.000000</td>\n",
       "    </tr>\n",
       "    <tr>\n",
       "      <th>Desligamento</th>\n",
       "      <td>0.0</td>\n",
       "      <td>0.000000</td>\n",
       "    </tr>\n",
       "    <tr>\n",
       "      <th>Desligado?</th>\n",
       "      <td>0.0</td>\n",
       "      <td>0.000000</td>\n",
       "    </tr>\n",
       "    <tr>\n",
       "      <th>Tempo de Casa</th>\n",
       "      <td>0.0</td>\n",
       "      <td>0.000000</td>\n",
       "    </tr>\n",
       "    <tr>\n",
       "      <th>Cod.Cargo</th>\n",
       "      <td>0.0</td>\n",
       "      <td>0.000000</td>\n",
       "    </tr>\n",
       "    <tr>\n",
       "      <th>Cargo</th>\n",
       "      <td>0.0</td>\n",
       "      <td>0.000000</td>\n",
       "    </tr>\n",
       "    <tr>\n",
       "      <th>Cod.Cargo Admissão</th>\n",
       "      <td>0.0</td>\n",
       "      <td>0.000000</td>\n",
       "    </tr>\n",
       "    <tr>\n",
       "      <th>PROMOVIDO</th>\n",
       "      <td>0.0</td>\n",
       "      <td>0.000000</td>\n",
       "    </tr>\n",
       "    <tr>\n",
       "      <th>CC</th>\n",
       "      <td>0.0</td>\n",
       "      <td>0.000000</td>\n",
       "    </tr>\n",
       "    <tr>\n",
       "      <th>Area</th>\n",
       "      <td>0.0</td>\n",
       "      <td>0.000000</td>\n",
       "    </tr>\n",
       "    <tr>\n",
       "      <th>Diretoria</th>\n",
       "      <td>0.0</td>\n",
       "      <td>0.000000</td>\n",
       "    </tr>\n",
       "    <tr>\n",
       "      <th>Idade Atual/ Desligamento</th>\n",
       "      <td>0.0</td>\n",
       "      <td>0.000000</td>\n",
       "    </tr>\n",
       "    <tr>\n",
       "      <th>Idade na Admissão</th>\n",
       "      <td>0.0</td>\n",
       "      <td>0.000000</td>\n",
       "    </tr>\n",
       "    <tr>\n",
       "      <th>Sexo</th>\n",
       "      <td>0.0</td>\n",
       "      <td>0.000000</td>\n",
       "    </tr>\n",
       "    <tr>\n",
       "      <th>Banda</th>\n",
       "      <td>0.0</td>\n",
       "      <td>0.000000</td>\n",
       "    </tr>\n",
       "    <tr>\n",
       "      <th>Nivel</th>\n",
       "      <td>0.0</td>\n",
       "      <td>0.000000</td>\n",
       "    </tr>\n",
       "    <tr>\n",
       "      <th>ADP</th>\n",
       "      <td>0.0</td>\n",
       "      <td>0.000000</td>\n",
       "    </tr>\n",
       "  </tbody>\n",
       "</table>\n",
       "<p>63 rows × 2 columns</p>\n",
       "</div>"
      ],
      "text/plain": [
       "                           null_amount  null_ratio\n",
       "2012/13 Goal Achievement         597.0    1.000000\n",
       "DISSIDIO 2017                    596.0    0.998325\n",
       "AUMENTO 2014                     589.0    0.986600\n",
       "AUMENTO 2012                     589.0    0.986600\n",
       "PROMOÇÃO 2013                    585.0    0.979899\n",
       "PROMOÇÃO 2014                    582.0    0.974874\n",
       "PROMOÇÃO 2012                    581.0    0.973199\n",
       "AUMENTO 2013                     576.0    0.964824\n",
       "AUMENTO 2017                     573.0    0.959799\n",
       "PROMOÇÃO 2016                    572.0    0.958124\n",
       "PROMOÇÃO 2015                    571.0    0.956449\n",
       "AUMENTO 2016                     564.0    0.944724\n",
       "AUMENTO 2015                     562.0    0.941374\n",
       "MERITO 2012                      556.0    0.931323\n",
       "PROMOÇÃO 2017                    555.0    0.929648\n",
       "MERITO 2013                      532.0    0.891122\n",
       "MERITO 2014                      512.0    0.857621\n",
       "MERITO 2016                      500.0    0.837521\n",
       "MERITO 2015                      478.0    0.800670\n",
       "MERITO 2017                      475.0    0.795645\n",
       "DISSIDIO 2012                    470.0    0.787270\n",
       "2012/13 Rating                   463.0    0.775544\n",
       "2013/14 Rating                   442.0    0.740369\n",
       "2013/14 Goal Achievement         442.0    0.740369\n",
       "DISSIDIO 2013                    430.0    0.720268\n",
       "2014/15 Goal Achievement         422.0    0.706868\n",
       "DISSIDIO 2014                    407.0    0.681742\n",
       "2014/15 Rating                   386.0    0.646566\n",
       "Hora Extra 2017                  348.0    0.582915\n",
       "Ad. Noturno 2017                 348.0    0.582915\n",
       "...                                ...         ...\n",
       "Ad. Noturno 2016                 340.0    0.569514\n",
       "Hora Extra 2016                  339.0    0.567839\n",
       "DISSIDIO 2015                    303.0    0.507538\n",
       "2015/16 Goal Achievement         283.0    0.474037\n",
       "2015/16 Rating                   283.0    0.474037\n",
       "2016/17 Rating                   263.0    0.440536\n",
       "2016/17 Goal Achievement         263.0    0.440536\n",
       "DISSIDIO 2016                    258.0    0.432161\n",
       "Absenteísmo 2017                 229.0    0.383585\n",
       "Absenteísmo 2016                 226.0    0.378559\n",
       "Educação                           1.0    0.001675\n",
       "Estado Civil                       1.0    0.001675\n",
       "Cargo Admissão                     0.0    0.000000\n",
       "Admissão                           0.0    0.000000\n",
       "Desligamento                       0.0    0.000000\n",
       "Desligado?                         0.0    0.000000\n",
       "Tempo de Casa                      0.0    0.000000\n",
       "Cod.Cargo                          0.0    0.000000\n",
       "Cargo                              0.0    0.000000\n",
       "Cod.Cargo Admissão                 0.0    0.000000\n",
       "PROMOVIDO                          0.0    0.000000\n",
       "CC                                 0.0    0.000000\n",
       "Area                               0.0    0.000000\n",
       "Diretoria                          0.0    0.000000\n",
       "Idade Atual/ Desligamento          0.0    0.000000\n",
       "Idade na Admissão                  0.0    0.000000\n",
       "Sexo                               0.0    0.000000\n",
       "Banda                              0.0    0.000000\n",
       "Nivel                              0.0    0.000000\n",
       "ADP                                0.0    0.000000\n",
       "\n",
       "[63 rows x 2 columns]"
      ]
     },
     "execution_count": 7,
     "metadata": {},
     "output_type": "execute_result"
    }
   ],
   "source": [
    "#-- verificando a quantidade de missing values\n",
    "null_count = df.isnull().sum().sort_values(ascending=False)\n",
    "null_percentage = null_count / len(df)\n",
    "pd.DataFrame(data=[null_count, null_percentage],\n",
    "             index=['null_amount', 'null_ratio']).T"
   ]
  },
  {
   "cell_type": "code",
   "execution_count": 8,
   "metadata": {
    "ExecuteTime": {
     "end_time": "2019-08-02T23:23:33.673135Z",
     "start_time": "2019-08-02T23:23:33.665917Z"
    }
   },
   "outputs": [
    {
     "data": {
      "text/plain": [
       "'1/1/2007'"
      ]
     },
     "execution_count": 8,
     "metadata": {},
     "output_type": "execute_result"
    }
   ],
   "source": [
    "#-- verificando menor data de admissão\n",
    "min(df['Admissão'])"
   ]
  },
  {
   "cell_type": "code",
   "execution_count": 9,
   "metadata": {
    "ExecuteTime": {
     "end_time": "2019-08-02T23:23:33.685908Z",
     "start_time": "2019-08-02T23:23:33.675685Z"
    }
   },
   "outputs": [
    {
     "data": {
      "text/plain": [
       "(356, 63)"
      ]
     },
     "execution_count": 9,
     "metadata": {},
     "output_type": "execute_result"
    }
   ],
   "source": [
    "#-- filtrando pela data de admissão\n",
    "df_ano = df[df['Admissão'] >= '2011-01-01']\n",
    "df_ano.shape"
   ]
  },
  {
   "cell_type": "code",
   "execution_count": 10,
   "metadata": {
    "ExecuteTime": {
     "end_time": "2019-08-02T23:23:33.799952Z",
     "start_time": "2019-08-02T23:23:33.688497Z"
    }
   },
   "outputs": [],
   "source": [
    "df['Admissão'] = pd.to_datetime(df['Admissão'])"
   ]
  },
  {
   "cell_type": "code",
   "execution_count": 11,
   "metadata": {
    "ExecuteTime": {
     "end_time": "2019-08-02T23:23:33.811725Z",
     "start_time": "2019-08-02T23:23:33.802389Z"
    }
   },
   "outputs": [
    {
     "data": {
      "text/plain": [
       "(439, 63)"
      ]
     },
     "execution_count": 11,
     "metadata": {},
     "output_type": "execute_result"
    }
   ],
   "source": [
    "#-- filtrando pela data de admissão\n",
    "df_ano = df[df['Admissão'] >= '2011-01-01']\n",
    "df_ano.shape"
   ]
  },
  {
   "cell_type": "code",
   "execution_count": 12,
   "metadata": {
    "ExecuteTime": {
     "end_time": "2019-08-02T23:23:33.824484Z",
     "start_time": "2019-08-02T23:23:33.814477Z"
    }
   },
   "outputs": [
    {
     "data": {
      "text/plain": [
       "Timestamp('2001-06-18 00:00:00')"
      ]
     },
     "execution_count": 12,
     "metadata": {},
     "output_type": "execute_result"
    }
   ],
   "source": [
    "min(df['Admissão'])"
   ]
  },
  {
   "cell_type": "code",
   "execution_count": 13,
   "metadata": {
    "ExecuteTime": {
     "end_time": "2019-08-02T23:23:33.865104Z",
     "start_time": "2019-08-02T23:23:33.827023Z"
    }
   },
   "outputs": [
    {
     "data": {
      "text/html": [
       "<div>\n",
       "<style scoped>\n",
       "    .dataframe tbody tr th:only-of-type {\n",
       "        vertical-align: middle;\n",
       "    }\n",
       "\n",
       "    .dataframe tbody tr th {\n",
       "        vertical-align: top;\n",
       "    }\n",
       "\n",
       "    .dataframe thead th {\n",
       "        text-align: right;\n",
       "    }\n",
       "</style>\n",
       "<table border=\"1\" class=\"dataframe\">\n",
       "  <thead>\n",
       "    <tr style=\"text-align: right;\">\n",
       "      <th></th>\n",
       "      <th>null_amount</th>\n",
       "      <th>null_ratio</th>\n",
       "    </tr>\n",
       "  </thead>\n",
       "  <tbody>\n",
       "    <tr>\n",
       "      <th>2012/13 Goal Achievement</th>\n",
       "      <td>439.0</td>\n",
       "      <td>1.000000</td>\n",
       "    </tr>\n",
       "    <tr>\n",
       "      <th>DISSIDIO 2017</th>\n",
       "      <td>438.0</td>\n",
       "      <td>0.997722</td>\n",
       "    </tr>\n",
       "    <tr>\n",
       "      <th>PROMOÇÃO 2012</th>\n",
       "      <td>435.0</td>\n",
       "      <td>0.990888</td>\n",
       "    </tr>\n",
       "    <tr>\n",
       "      <th>PROMOÇÃO 2013</th>\n",
       "      <td>434.0</td>\n",
       "      <td>0.988610</td>\n",
       "    </tr>\n",
       "    <tr>\n",
       "      <th>AUMENTO 2012</th>\n",
       "      <td>432.0</td>\n",
       "      <td>0.984055</td>\n",
       "    </tr>\n",
       "    <tr>\n",
       "      <th>AUMENTO 2014</th>\n",
       "      <td>431.0</td>\n",
       "      <td>0.981777</td>\n",
       "    </tr>\n",
       "    <tr>\n",
       "      <th>AUMENTO 2013</th>\n",
       "      <td>430.0</td>\n",
       "      <td>0.979499</td>\n",
       "    </tr>\n",
       "    <tr>\n",
       "      <th>PROMOÇÃO 2014</th>\n",
       "      <td>428.0</td>\n",
       "      <td>0.974943</td>\n",
       "    </tr>\n",
       "    <tr>\n",
       "      <th>MERITO 2012</th>\n",
       "      <td>424.0</td>\n",
       "      <td>0.965831</td>\n",
       "    </tr>\n",
       "    <tr>\n",
       "      <th>AUMENTO 2017</th>\n",
       "      <td>418.0</td>\n",
       "      <td>0.952164</td>\n",
       "    </tr>\n",
       "    <tr>\n",
       "      <th>PROMOÇÃO 2016</th>\n",
       "      <td>417.0</td>\n",
       "      <td>0.949886</td>\n",
       "    </tr>\n",
       "    <tr>\n",
       "      <th>PROMOÇÃO 2015</th>\n",
       "      <td>413.0</td>\n",
       "      <td>0.940774</td>\n",
       "    </tr>\n",
       "    <tr>\n",
       "      <th>AUMENTO 2015</th>\n",
       "      <td>409.0</td>\n",
       "      <td>0.931663</td>\n",
       "    </tr>\n",
       "    <tr>\n",
       "      <th>AUMENTO 2016</th>\n",
       "      <td>408.0</td>\n",
       "      <td>0.929385</td>\n",
       "    </tr>\n",
       "    <tr>\n",
       "      <th>MERITO 2013</th>\n",
       "      <td>403.0</td>\n",
       "      <td>0.917995</td>\n",
       "    </tr>\n",
       "    <tr>\n",
       "      <th>PROMOÇÃO 2017</th>\n",
       "      <td>402.0</td>\n",
       "      <td>0.915718</td>\n",
       "    </tr>\n",
       "    <tr>\n",
       "      <th>DISSIDIO 2012</th>\n",
       "      <td>383.0</td>\n",
       "      <td>0.872437</td>\n",
       "    </tr>\n",
       "    <tr>\n",
       "      <th>MERITO 2014</th>\n",
       "      <td>382.0</td>\n",
       "      <td>0.870159</td>\n",
       "    </tr>\n",
       "    <tr>\n",
       "      <th>2012/13 Rating</th>\n",
       "      <td>359.0</td>\n",
       "      <td>0.817768</td>\n",
       "    </tr>\n",
       "    <tr>\n",
       "      <th>MERITO 2016</th>\n",
       "      <td>355.0</td>\n",
       "      <td>0.808656</td>\n",
       "    </tr>\n",
       "    <tr>\n",
       "      <th>MERITO 2015</th>\n",
       "      <td>353.0</td>\n",
       "      <td>0.804100</td>\n",
       "    </tr>\n",
       "    <tr>\n",
       "      <th>MERITO 2017</th>\n",
       "      <td>339.0</td>\n",
       "      <td>0.772210</td>\n",
       "    </tr>\n",
       "    <tr>\n",
       "      <th>DISSIDIO 2013</th>\n",
       "      <td>328.0</td>\n",
       "      <td>0.747153</td>\n",
       "    </tr>\n",
       "    <tr>\n",
       "      <th>2013/14 Rating</th>\n",
       "      <td>327.0</td>\n",
       "      <td>0.744875</td>\n",
       "    </tr>\n",
       "    <tr>\n",
       "      <th>2013/14 Goal Achievement</th>\n",
       "      <td>327.0</td>\n",
       "      <td>0.744875</td>\n",
       "    </tr>\n",
       "    <tr>\n",
       "      <th>2014/15 Goal Achievement</th>\n",
       "      <td>303.0</td>\n",
       "      <td>0.690205</td>\n",
       "    </tr>\n",
       "    <tr>\n",
       "      <th>Iniciativa Desligamento</th>\n",
       "      <td>302.0</td>\n",
       "      <td>0.687927</td>\n",
       "    </tr>\n",
       "    <tr>\n",
       "      <th>DISSIDIO 2014</th>\n",
       "      <td>294.0</td>\n",
       "      <td>0.669704</td>\n",
       "    </tr>\n",
       "    <tr>\n",
       "      <th>2014/15 Rating</th>\n",
       "      <td>270.0</td>\n",
       "      <td>0.615034</td>\n",
       "    </tr>\n",
       "    <tr>\n",
       "      <th>Hora Extra 2017</th>\n",
       "      <td>210.0</td>\n",
       "      <td>0.478360</td>\n",
       "    </tr>\n",
       "    <tr>\n",
       "      <th>...</th>\n",
       "      <td>...</td>\n",
       "      <td>...</td>\n",
       "    </tr>\n",
       "    <tr>\n",
       "      <th>Ad. Noturno 2016</th>\n",
       "      <td>202.0</td>\n",
       "      <td>0.460137</td>\n",
       "    </tr>\n",
       "    <tr>\n",
       "      <th>Hora Extra 2016</th>\n",
       "      <td>201.0</td>\n",
       "      <td>0.457859</td>\n",
       "    </tr>\n",
       "    <tr>\n",
       "      <th>DISSIDIO 2015</th>\n",
       "      <td>192.0</td>\n",
       "      <td>0.437358</td>\n",
       "    </tr>\n",
       "    <tr>\n",
       "      <th>2015/16 Goal Achievement</th>\n",
       "      <td>171.0</td>\n",
       "      <td>0.389522</td>\n",
       "    </tr>\n",
       "    <tr>\n",
       "      <th>2015/16 Rating</th>\n",
       "      <td>171.0</td>\n",
       "      <td>0.389522</td>\n",
       "    </tr>\n",
       "    <tr>\n",
       "      <th>2016/17 Rating</th>\n",
       "      <td>151.0</td>\n",
       "      <td>0.343964</td>\n",
       "    </tr>\n",
       "    <tr>\n",
       "      <th>2016/17 Goal Achievement</th>\n",
       "      <td>151.0</td>\n",
       "      <td>0.343964</td>\n",
       "    </tr>\n",
       "    <tr>\n",
       "      <th>DISSIDIO 2016</th>\n",
       "      <td>145.0</td>\n",
       "      <td>0.330296</td>\n",
       "    </tr>\n",
       "    <tr>\n",
       "      <th>Absenteísmo 2017</th>\n",
       "      <td>114.0</td>\n",
       "      <td>0.259681</td>\n",
       "    </tr>\n",
       "    <tr>\n",
       "      <th>Absenteísmo 2016</th>\n",
       "      <td>111.0</td>\n",
       "      <td>0.252847</td>\n",
       "    </tr>\n",
       "    <tr>\n",
       "      <th>Educação</th>\n",
       "      <td>1.0</td>\n",
       "      <td>0.002278</td>\n",
       "    </tr>\n",
       "    <tr>\n",
       "      <th>Estado Civil</th>\n",
       "      <td>1.0</td>\n",
       "      <td>0.002278</td>\n",
       "    </tr>\n",
       "    <tr>\n",
       "      <th>Cargo Admissão</th>\n",
       "      <td>0.0</td>\n",
       "      <td>0.000000</td>\n",
       "    </tr>\n",
       "    <tr>\n",
       "      <th>Admissão</th>\n",
       "      <td>0.0</td>\n",
       "      <td>0.000000</td>\n",
       "    </tr>\n",
       "    <tr>\n",
       "      <th>Desligamento</th>\n",
       "      <td>0.0</td>\n",
       "      <td>0.000000</td>\n",
       "    </tr>\n",
       "    <tr>\n",
       "      <th>Desligado?</th>\n",
       "      <td>0.0</td>\n",
       "      <td>0.000000</td>\n",
       "    </tr>\n",
       "    <tr>\n",
       "      <th>Tempo de Casa</th>\n",
       "      <td>0.0</td>\n",
       "      <td>0.000000</td>\n",
       "    </tr>\n",
       "    <tr>\n",
       "      <th>Cod.Cargo</th>\n",
       "      <td>0.0</td>\n",
       "      <td>0.000000</td>\n",
       "    </tr>\n",
       "    <tr>\n",
       "      <th>Cargo</th>\n",
       "      <td>0.0</td>\n",
       "      <td>0.000000</td>\n",
       "    </tr>\n",
       "    <tr>\n",
       "      <th>Cod.Cargo Admissão</th>\n",
       "      <td>0.0</td>\n",
       "      <td>0.000000</td>\n",
       "    </tr>\n",
       "    <tr>\n",
       "      <th>PROMOVIDO</th>\n",
       "      <td>0.0</td>\n",
       "      <td>0.000000</td>\n",
       "    </tr>\n",
       "    <tr>\n",
       "      <th>CC</th>\n",
       "      <td>0.0</td>\n",
       "      <td>0.000000</td>\n",
       "    </tr>\n",
       "    <tr>\n",
       "      <th>Area</th>\n",
       "      <td>0.0</td>\n",
       "      <td>0.000000</td>\n",
       "    </tr>\n",
       "    <tr>\n",
       "      <th>Diretoria</th>\n",
       "      <td>0.0</td>\n",
       "      <td>0.000000</td>\n",
       "    </tr>\n",
       "    <tr>\n",
       "      <th>Idade Atual/ Desligamento</th>\n",
       "      <td>0.0</td>\n",
       "      <td>0.000000</td>\n",
       "    </tr>\n",
       "    <tr>\n",
       "      <th>Idade na Admissão</th>\n",
       "      <td>0.0</td>\n",
       "      <td>0.000000</td>\n",
       "    </tr>\n",
       "    <tr>\n",
       "      <th>Sexo</th>\n",
       "      <td>0.0</td>\n",
       "      <td>0.000000</td>\n",
       "    </tr>\n",
       "    <tr>\n",
       "      <th>Banda</th>\n",
       "      <td>0.0</td>\n",
       "      <td>0.000000</td>\n",
       "    </tr>\n",
       "    <tr>\n",
       "      <th>Nivel</th>\n",
       "      <td>0.0</td>\n",
       "      <td>0.000000</td>\n",
       "    </tr>\n",
       "    <tr>\n",
       "      <th>ADP</th>\n",
       "      <td>0.0</td>\n",
       "      <td>0.000000</td>\n",
       "    </tr>\n",
       "  </tbody>\n",
       "</table>\n",
       "<p>63 rows × 2 columns</p>\n",
       "</div>"
      ],
      "text/plain": [
       "                           null_amount  null_ratio\n",
       "2012/13 Goal Achievement         439.0    1.000000\n",
       "DISSIDIO 2017                    438.0    0.997722\n",
       "PROMOÇÃO 2012                    435.0    0.990888\n",
       "PROMOÇÃO 2013                    434.0    0.988610\n",
       "AUMENTO 2012                     432.0    0.984055\n",
       "AUMENTO 2014                     431.0    0.981777\n",
       "AUMENTO 2013                     430.0    0.979499\n",
       "PROMOÇÃO 2014                    428.0    0.974943\n",
       "MERITO 2012                      424.0    0.965831\n",
       "AUMENTO 2017                     418.0    0.952164\n",
       "PROMOÇÃO 2016                    417.0    0.949886\n",
       "PROMOÇÃO 2015                    413.0    0.940774\n",
       "AUMENTO 2015                     409.0    0.931663\n",
       "AUMENTO 2016                     408.0    0.929385\n",
       "MERITO 2013                      403.0    0.917995\n",
       "PROMOÇÃO 2017                    402.0    0.915718\n",
       "DISSIDIO 2012                    383.0    0.872437\n",
       "MERITO 2014                      382.0    0.870159\n",
       "2012/13 Rating                   359.0    0.817768\n",
       "MERITO 2016                      355.0    0.808656\n",
       "MERITO 2015                      353.0    0.804100\n",
       "MERITO 2017                      339.0    0.772210\n",
       "DISSIDIO 2013                    328.0    0.747153\n",
       "2013/14 Rating                   327.0    0.744875\n",
       "2013/14 Goal Achievement         327.0    0.744875\n",
       "2014/15 Goal Achievement         303.0    0.690205\n",
       "Iniciativa Desligamento          302.0    0.687927\n",
       "DISSIDIO 2014                    294.0    0.669704\n",
       "2014/15 Rating                   270.0    0.615034\n",
       "Hora Extra 2017                  210.0    0.478360\n",
       "...                                ...         ...\n",
       "Ad. Noturno 2016                 202.0    0.460137\n",
       "Hora Extra 2016                  201.0    0.457859\n",
       "DISSIDIO 2015                    192.0    0.437358\n",
       "2015/16 Goal Achievement         171.0    0.389522\n",
       "2015/16 Rating                   171.0    0.389522\n",
       "2016/17 Rating                   151.0    0.343964\n",
       "2016/17 Goal Achievement         151.0    0.343964\n",
       "DISSIDIO 2016                    145.0    0.330296\n",
       "Absenteísmo 2017                 114.0    0.259681\n",
       "Absenteísmo 2016                 111.0    0.252847\n",
       "Educação                           1.0    0.002278\n",
       "Estado Civil                       1.0    0.002278\n",
       "Cargo Admissão                     0.0    0.000000\n",
       "Admissão                           0.0    0.000000\n",
       "Desligamento                       0.0    0.000000\n",
       "Desligado?                         0.0    0.000000\n",
       "Tempo de Casa                      0.0    0.000000\n",
       "Cod.Cargo                          0.0    0.000000\n",
       "Cargo                              0.0    0.000000\n",
       "Cod.Cargo Admissão                 0.0    0.000000\n",
       "PROMOVIDO                          0.0    0.000000\n",
       "CC                                 0.0    0.000000\n",
       "Area                               0.0    0.000000\n",
       "Diretoria                          0.0    0.000000\n",
       "Idade Atual/ Desligamento          0.0    0.000000\n",
       "Idade na Admissão                  0.0    0.000000\n",
       "Sexo                               0.0    0.000000\n",
       "Banda                              0.0    0.000000\n",
       "Nivel                              0.0    0.000000\n",
       "ADP                                0.0    0.000000\n",
       "\n",
       "[63 rows x 2 columns]"
      ]
     },
     "execution_count": 13,
     "metadata": {},
     "output_type": "execute_result"
    }
   ],
   "source": [
    "#-- verificando os missing values do dataset\n",
    "null_count = df_ano.isnull().sum().sort_values(ascending=False)\n",
    "null_percentage = null_count / len(df_ano)\n",
    "pd.DataFrame(data=[null_count, null_percentage],\n",
    "             index=['null_amount', 'null_ratio']).T"
   ]
  },
  {
   "cell_type": "markdown",
   "metadata": {},
   "source": [
    "### Distribuição das Idades"
   ]
  },
  {
   "cell_type": "code",
   "execution_count": 14,
   "metadata": {
    "ExecuteTime": {
     "end_time": "2019-08-02T23:23:34.185042Z",
     "start_time": "2019-08-02T23:23:33.867498Z"
    }
   },
   "outputs": [
    {
     "name": "stderr",
     "output_type": "stream",
     "text": [
      "/Users/macbook/anaconda3/lib/python3.7/site-packages/scipy/stats/stats.py:1713: FutureWarning: Using a non-tuple sequence for multidimensional indexing is deprecated; use `arr[tuple(seq)]` instead of `arr[seq]`. In the future this will be interpreted as an array index, `arr[np.array(seq)]`, which will result either in an error or a different result.\n",
      "  return np.add.reduce(sorted[indexer] * weights, axis=axis) / sumval\n"
     ]
    },
    {
     "data": {
      "text/plain": [
       "<matplotlib.axes._subplots.AxesSubplot at 0x1a246a2cf8>"
      ]
     },
     "execution_count": 14,
     "metadata": {},
     "output_type": "execute_result"
    },
    {
     "data": {
      "image/png": "[encoded data removed]",
      "text/plain": [
       "<Figure size 432x288 with 1 Axes>"
      ]
     },
     "metadata": {
      "needs_background": "light"
     },
     "output_type": "display_data"
    }
   ],
   "source": [
    "#-- pritando um histograma da idade de admissão dos funcionários\n",
    "sns.distplot(df_ano['Idade na Admissão'])"
   ]
  },
  {
   "cell_type": "markdown",
   "metadata": {},
   "source": [
    "### Hora Extra"
   ]
  },
  {
   "cell_type": "code",
   "execution_count": 15,
   "metadata": {
    "ExecuteTime": {
     "end_time": "2019-08-02T23:23:34.634102Z",
     "start_time": "2019-08-02T23:23:34.187809Z"
    }
   },
   "outputs": [
    {
     "name": "stderr",
     "output_type": "stream",
     "text": [
      "/Users/macbook/anaconda3/lib/python3.7/site-packages/scipy/stats/stats.py:1713: FutureWarning: Using a non-tuple sequence for multidimensional indexing is deprecated; use `arr[tuple(seq)]` instead of `arr[seq]`. In the future this will be interpreted as an array index, `arr[np.array(seq)]`, which will result either in an error or a different result.\n",
      "  return np.add.reduce(sorted[indexer] * weights, axis=axis) / sumval\n",
      "/Users/macbook/anaconda3/lib/python3.7/site-packages/numpy/core/_methods.py:28: RuntimeWarning: invalid value encountered in reduce\n",
      "  return umr_maximum(a, axis, None, out, keepdims, initial)\n",
      "/Users/macbook/anaconda3/lib/python3.7/site-packages/numpy/core/_methods.py:32: RuntimeWarning: invalid value encountered in reduce\n",
      "  return umr_minimum(a, axis, None, out, keepdims, initial)\n"
     ]
    },
    {
     "ename": "ValueError",
     "evalue": "cannot convert float NaN to integer",
     "output_type": "error",
     "traceback": [
      "\u001b[0;31m---------------------------------------------------------------------------\u001b[0m",
      "\u001b[0;31mValueError\u001b[0m                                Traceback (most recent call last)",
      "\u001b[0;32m<ipython-input-15-612ccc87fc55>\u001b[0m in \u001b[0;36m<module>\u001b[0;34m()\u001b[0m\n\u001b[1;32m      1\u001b[0m \u001b[0;31m#-- plotando o gráfico das horas extras\u001b[0m\u001b[0;34m\u001b[0m\u001b[0;34m\u001b[0m\u001b[0;34m\u001b[0m\u001b[0m\n\u001b[0;32m----> 2\u001b[0;31m \u001b[0msns\u001b[0m\u001b[0;34m.\u001b[0m\u001b[0mdistplot\u001b[0m\u001b[0;34m(\u001b[0m\u001b[0mdf_ano\u001b[0m\u001b[0;34m[\u001b[0m\u001b[0;34m'Hora Extra 2016'\u001b[0m\u001b[0;34m]\u001b[0m\u001b[0;34m)\u001b[0m\u001b[0;34m\u001b[0m\u001b[0;34m\u001b[0m\u001b[0m\n\u001b[0m",
      "\u001b[0;32m/Users/macbook/anaconda3/lib/python3.7/site-packages/seaborn/distributions.py\u001b[0m in \u001b[0;36mdistplot\u001b[0;34m(a, bins, hist, kde, rug, fit, hist_kws, kde_kws, rug_kws, fit_kws, color, vertical, norm_hist, axlabel, label, ax)\u001b[0m\n\u001b[1;32m    213\u001b[0m     \u001b[0;32mif\u001b[0m \u001b[0mhist\u001b[0m\u001b[0;34m:\u001b[0m\u001b[0;34m\u001b[0m\u001b[0;34m\u001b[0m\u001b[0m\n\u001b[1;32m    214\u001b[0m         \u001b[0;32mif\u001b[0m \u001b[0mbins\u001b[0m \u001b[0;32mis\u001b[0m \u001b[0;32mNone\u001b[0m\u001b[0;34m:\u001b[0m\u001b[0;34m\u001b[0m\u001b[0;34m\u001b[0m\u001b[0m\n\u001b[0;32m--> 215\u001b[0;31m             \u001b[0mbins\u001b[0m \u001b[0;34m=\u001b[0m \u001b[0mmin\u001b[0m\u001b[0;34m(\u001b[0m\u001b[0m_freedman_diaconis_bins\u001b[0m\u001b[0;34m(\u001b[0m\u001b[0ma\u001b[0m\u001b[0;34m)\u001b[0m\u001b[0;34m,\u001b[0m \u001b[0;36m50\u001b[0m\u001b[0;34m)\u001b[0m\u001b[0;34m\u001b[0m\u001b[0;34m\u001b[0m\u001b[0m\n\u001b[0m\u001b[1;32m    216\u001b[0m         \u001b[0mhist_kws\u001b[0m\u001b[0;34m.\u001b[0m\u001b[0msetdefault\u001b[0m\u001b[0;34m(\u001b[0m\u001b[0;34m\"alpha\"\u001b[0m\u001b[0;34m,\u001b[0m \u001b[0;36m0.4\u001b[0m\u001b[0;34m)\u001b[0m\u001b[0;34m\u001b[0m\u001b[0;34m\u001b[0m\u001b[0m\n\u001b[1;32m    217\u001b[0m         \u001b[0;32mif\u001b[0m \u001b[0mLooseVersion\u001b[0m\u001b[0;34m(\u001b[0m\u001b[0mmpl\u001b[0m\u001b[0;34m.\u001b[0m\u001b[0m__version__\u001b[0m\u001b[0;34m)\u001b[0m \u001b[0;34m<\u001b[0m \u001b[0mLooseVersion\u001b[0m\u001b[0;34m(\u001b[0m\u001b[0;34m\"2.2\"\u001b[0m\u001b[0;34m)\u001b[0m\u001b[0;34m:\u001b[0m\u001b[0;34m\u001b[0m\u001b[0;34m\u001b[0m\u001b[0m\n",
      "\u001b[0;32m/Users/macbook/anaconda3/lib/python3.7/site-packages/seaborn/distributions.py\u001b[0m in \u001b[0;36m_freedman_diaconis_bins\u001b[0;34m(a)\u001b[0m\n\u001b[1;32m     37\u001b[0m         \u001b[0;32mreturn\u001b[0m \u001b[0mint\u001b[0m\u001b[0;34m(\u001b[0m\u001b[0mnp\u001b[0m\u001b[0;34m.\u001b[0m\u001b[0msqrt\u001b[0m\u001b[0;34m(\u001b[0m\u001b[0ma\u001b[0m\u001b[0;34m.\u001b[0m\u001b[0msize\u001b[0m\u001b[0;34m)\u001b[0m\u001b[0;34m)\u001b[0m\u001b[0;34m\u001b[0m\u001b[0;34m\u001b[0m\u001b[0m\n\u001b[1;32m     38\u001b[0m     \u001b[0;32melse\u001b[0m\u001b[0;34m:\u001b[0m\u001b[0;34m\u001b[0m\u001b[0;34m\u001b[0m\u001b[0m\n\u001b[0;32m---> 39\u001b[0;31m         \u001b[0;32mreturn\u001b[0m \u001b[0mint\u001b[0m\u001b[0;34m(\u001b[0m\u001b[0mnp\u001b[0m\u001b[0;34m.\u001b[0m\u001b[0mceil\u001b[0m\u001b[0;34m(\u001b[0m\u001b[0;34m(\u001b[0m\u001b[0ma\u001b[0m\u001b[0;34m.\u001b[0m\u001b[0mmax\u001b[0m\u001b[0;34m(\u001b[0m\u001b[0;34m)\u001b[0m \u001b[0;34m-\u001b[0m \u001b[0ma\u001b[0m\u001b[0;34m.\u001b[0m\u001b[0mmin\u001b[0m\u001b[0;34m(\u001b[0m\u001b[0;34m)\u001b[0m\u001b[0;34m)\u001b[0m \u001b[0;34m/\u001b[0m \u001b[0mh\u001b[0m\u001b[0;34m)\u001b[0m\u001b[0;34m)\u001b[0m\u001b[0;34m\u001b[0m\u001b[0;34m\u001b[0m\u001b[0m\n\u001b[0m\u001b[1;32m     40\u001b[0m \u001b[0;34m\u001b[0m\u001b[0m\n\u001b[1;32m     41\u001b[0m \u001b[0;34m\u001b[0m\u001b[0m\n",
      "\u001b[0;31mValueError\u001b[0m: cannot convert float NaN to integer"
     ]
    },
    {
     "data": {
      "image/png": "[encoded data removed]",
      "text/plain": [
       "<Figure size 432x288 with 1 Axes>"
      ]
     },
     "metadata": {
      "needs_background": "light"
     },
     "output_type": "display_data"
    }
   ],
   "source": [
    "#-- plotando o gráfico das horas extras\n",
    "sns.distplot(df_ano['Hora Extra 2016'])"
   ]
  },
  {
   "cell_type": "code",
   "execution_count": 16,
   "metadata": {
    "ExecuteTime": {
     "end_time": "2019-08-02T23:23:45.695635Z",
     "start_time": "2019-08-02T23:23:45.639339Z"
    }
   },
   "outputs": [
    {
     "name": "stderr",
     "output_type": "stream",
     "text": [
      "/Users/macbook/anaconda3/lib/python3.7/site-packages/ipykernel_launcher.py:2: SettingWithCopyWarning: \n",
      "A value is trying to be set on a copy of a slice from a DataFrame.\n",
      "Try using .loc[row_indexer,col_indexer] = value instead\n",
      "\n",
      "See the caveats in the documentation: http://pandas.pydata.org/pandas-docs/stable/indexing.html#indexing-view-versus-copy\n",
      "  \n"
     ]
    }
   ],
   "source": [
    "#-- preenchendo os missing values com flags\n",
    "df_ano['Hora Extra 2016'] = df_ano['Hora Extra 2016'].fillna(-100)"
   ]
  },
  {
   "cell_type": "code",
   "execution_count": 17,
   "metadata": {
    "ExecuteTime": {
     "end_time": "2019-08-02T23:23:46.045493Z",
     "start_time": "2019-08-02T23:23:45.811802Z"
    }
   },
   "outputs": [
    {
     "name": "stderr",
     "output_type": "stream",
     "text": [
      "/Users/macbook/anaconda3/lib/python3.7/site-packages/scipy/stats/stats.py:1713: FutureWarning: Using a non-tuple sequence for multidimensional indexing is deprecated; use `arr[tuple(seq)]` instead of `arr[seq]`. In the future this will be interpreted as an array index, `arr[np.array(seq)]`, which will result either in an error or a different result.\n",
      "  return np.add.reduce(sorted[indexer] * weights, axis=axis) / sumval\n"
     ]
    },
    {
     "data": {
      "text/plain": [
       "<matplotlib.axes._subplots.AxesSubplot at 0x1a24c4b3c8>"
      ]
     },
     "execution_count": 17,
     "metadata": {},
     "output_type": "execute_result"
    },
    {
     "data": {
      "image/png": "[encoded data removed]",
      "text/plain": [
       "<Figure size 432x288 with 1 Axes>"
      ]
     },
     "metadata": {
      "needs_background": "light"
     },
     "output_type": "display_data"
    }
   ],
   "source": [
    "#-- plotando o hostograma das horas extras\n",
    "sns.distplot(df_ano['Hora Extra 2016'])"
   ]
  },
  {
   "cell_type": "markdown",
   "metadata": {},
   "source": [
    "### Qual a idade de desligamento?"
   ]
  },
  {
   "cell_type": "code",
   "execution_count": 18,
   "metadata": {
    "ExecuteTime": {
     "end_time": "2019-08-02T23:23:48.343845Z",
     "start_time": "2019-08-02T23:23:48.114336Z"
    }
   },
   "outputs": [
    {
     "name": "stderr",
     "output_type": "stream",
     "text": [
      "/Users/macbook/anaconda3/lib/python3.7/site-packages/scipy/stats/stats.py:1713: FutureWarning: Using a non-tuple sequence for multidimensional indexing is deprecated; use `arr[tuple(seq)]` instead of `arr[seq]`. In the future this will be interpreted as an array index, `arr[np.array(seq)]`, which will result either in an error or a different result.\n",
      "  return np.add.reduce(sorted[indexer] * weights, axis=axis) / sumval\n"
     ]
    },
    {
     "data": {
      "text/plain": [
       "<matplotlib.axes._subplots.AxesSubplot at 0x1a24c5a198>"
      ]
     },
     "execution_count": 18,
     "metadata": {},
     "output_type": "execute_result"
    },
    {
     "data": {
      "image/png": "[encoded data removed]",
      "text/plain": [
       "<Figure size 432x288 with 1 Axes>"
      ]
     },
     "metadata": {
      "needs_background": "light"
     },
     "output_type": "display_data"
    }
   ],
   "source": [
    "#-- plotando o histograma da idade de desligamento\n",
    "sns.distplot(df_ano['Idade Atual/ Desligamento'])"
   ]
  },
  {
   "cell_type": "code",
   "execution_count": 19,
   "metadata": {
    "ExecuteTime": {
     "end_time": "2019-08-02T23:23:48.763004Z",
     "start_time": "2019-08-02T23:23:48.565283Z"
    }
   },
   "outputs": [
    {
     "data": {
      "text/plain": [
       "<matplotlib.axes._subplots.AxesSubplot at 0x1a24d57860>"
      ]
     },
     "execution_count": 19,
     "metadata": {},
     "output_type": "execute_result"
    },
    {
     "data": {
      "image/png": "[encoded data removed]",
      "text/plain": [
       "<Figure size 432x288 with 1 Axes>"
      ]
     },
     "metadata": {
      "needs_background": "light"
     },
     "output_type": "display_data"
    }
   ],
   "source": [
    "#-- plotando boxplot da promoção pelo tempo de casa\n",
    "sns.boxplot(x=df_ano['PROMOVIDO'], y=df_ano['Tempo de Casa'])"
   ]
  },
  {
   "cell_type": "markdown",
   "metadata": {},
   "source": [
    "## Preparando os dados"
   ]
  },
  {
   "cell_type": "code",
   "execution_count": 20,
   "metadata": {
    "ExecuteTime": {
     "end_time": "2019-08-02T23:23:48.927588Z",
     "start_time": "2019-08-02T23:23:48.919833Z"
    }
   },
   "outputs": [],
   "source": [
    "#-- separando a variável do dataset de análise\n",
    "X = df_ano.drop(columns=['PROMOVIDO'])\n",
    "y = df_ano['PROMOVIDO']"
   ]
  },
  {
   "cell_type": "code",
   "execution_count": 21,
   "metadata": {
    "ExecuteTime": {
     "end_time": "2019-08-02T23:23:49.114631Z",
     "start_time": "2019-08-02T23:23:49.106467Z"
    }
   },
   "outputs": [],
   "source": [
    "#-- separando os dados para treino e teste\n",
    "X_train, X_test, y_train, y_test = train_test_split(X, y, test_size=0.3, \n",
    "                                                    random_state=0)"
   ]
  },
  {
   "cell_type": "markdown",
   "metadata": {},
   "source": [
    "## Aplicando a Regressão Logística"
   ]
  },
  {
   "cell_type": "code",
   "execution_count": 22,
   "metadata": {
    "ExecuteTime": {
     "end_time": "2019-08-02T23:23:49.749964Z",
     "start_time": "2019-08-02T23:23:49.746959Z"
    }
   },
   "outputs": [],
   "source": [
    "#-- guardando o algoritmo de regressão logística\n",
    "logreg = LogisticRegression()"
   ]
  },
  {
   "cell_type": "code",
   "execution_count": 23,
   "metadata": {
    "ExecuteTime": {
     "end_time": "2019-08-02T23:23:49.982794Z",
     "start_time": "2019-08-02T23:23:49.955538Z"
    }
   },
   "outputs": [
    {
     "name": "stderr",
     "output_type": "stream",
     "text": [
      "/Users/macbook/anaconda3/lib/python3.7/site-packages/sklearn/linear_model/logistic.py:433: FutureWarning: Default solver will be changed to 'lbfgs' in 0.22. Specify a solver to silence this warning.\n",
      "  FutureWarning)\n"
     ]
    },
    {
     "ename": "ValueError",
     "evalue": "could not convert string to float: 'Y'",
     "output_type": "error",
     "traceback": [
      "\u001b[0;31m---------------------------------------------------------------------------\u001b[0m",
      "\u001b[0;31mValueError\u001b[0m                                Traceback (most recent call last)",
      "\u001b[0;32m<ipython-input-23-7b26db714f8a>\u001b[0m in \u001b[0;36m<module>\u001b[0;34m()\u001b[0m\n\u001b[1;32m      1\u001b[0m \u001b[0;31m#-- aplicando o algoritmo\u001b[0m\u001b[0;34m\u001b[0m\u001b[0;34m\u001b[0m\u001b[0;34m\u001b[0m\u001b[0m\n\u001b[0;32m----> 2\u001b[0;31m \u001b[0mlogreg\u001b[0m\u001b[0;34m.\u001b[0m\u001b[0mfit\u001b[0m\u001b[0;34m(\u001b[0m\u001b[0mX_train\u001b[0m\u001b[0;34m,\u001b[0m \u001b[0my_train\u001b[0m\u001b[0;34m)\u001b[0m\u001b[0;34m\u001b[0m\u001b[0;34m\u001b[0m\u001b[0m\n\u001b[0m\u001b[1;32m      3\u001b[0m \u001b[0;31m#-- predizendo as respostas\u001b[0m\u001b[0;34m\u001b[0m\u001b[0;34m\u001b[0m\u001b[0;34m\u001b[0m\u001b[0m\n\u001b[1;32m      4\u001b[0m \u001b[0my_pred\u001b[0m \u001b[0;34m=\u001b[0m \u001b[0mlogreg\u001b[0m\u001b[0;34m.\u001b[0m\u001b[0mpredict\u001b[0m\u001b[0;34m(\u001b[0m\u001b[0mX_test\u001b[0m\u001b[0;34m)\u001b[0m\u001b[0;34m\u001b[0m\u001b[0;34m\u001b[0m\u001b[0m\n",
      "\u001b[0;32m/Users/macbook/anaconda3/lib/python3.7/site-packages/sklearn/linear_model/logistic.py\u001b[0m in \u001b[0;36mfit\u001b[0;34m(self, X, y, sample_weight)\u001b[0m\n\u001b[1;32m   1283\u001b[0m \u001b[0;34m\u001b[0m\u001b[0m\n\u001b[1;32m   1284\u001b[0m         X, y = check_X_y(X, y, accept_sparse='csr', dtype=_dtype, order=\"C\",\n\u001b[0;32m-> 1285\u001b[0;31m                          accept_large_sparse=solver != 'liblinear')\n\u001b[0m\u001b[1;32m   1286\u001b[0m         \u001b[0mcheck_classification_targets\u001b[0m\u001b[0;34m(\u001b[0m\u001b[0my\u001b[0m\u001b[0;34m)\u001b[0m\u001b[0;34m\u001b[0m\u001b[0;34m\u001b[0m\u001b[0m\n\u001b[1;32m   1287\u001b[0m         \u001b[0mself\u001b[0m\u001b[0;34m.\u001b[0m\u001b[0mclasses_\u001b[0m \u001b[0;34m=\u001b[0m \u001b[0mnp\u001b[0m\u001b[0;34m.\u001b[0m\u001b[0munique\u001b[0m\u001b[0;34m(\u001b[0m\u001b[0my\u001b[0m\u001b[0;34m)\u001b[0m\u001b[0;34m\u001b[0m\u001b[0;34m\u001b[0m\u001b[0m\n",
      "\u001b[0;32m/Users/macbook/anaconda3/lib/python3.7/site-packages/sklearn/utils/validation.py\u001b[0m in \u001b[0;36mcheck_X_y\u001b[0;34m(X, y, accept_sparse, accept_large_sparse, dtype, order, copy, force_all_finite, ensure_2d, allow_nd, multi_output, ensure_min_samples, ensure_min_features, y_numeric, warn_on_dtype, estimator)\u001b[0m\n\u001b[1;32m    754\u001b[0m                     \u001b[0mensure_min_features\u001b[0m\u001b[0;34m=\u001b[0m\u001b[0mensure_min_features\u001b[0m\u001b[0;34m,\u001b[0m\u001b[0;34m\u001b[0m\u001b[0;34m\u001b[0m\u001b[0m\n\u001b[1;32m    755\u001b[0m                     \u001b[0mwarn_on_dtype\u001b[0m\u001b[0;34m=\u001b[0m\u001b[0mwarn_on_dtype\u001b[0m\u001b[0;34m,\u001b[0m\u001b[0;34m\u001b[0m\u001b[0;34m\u001b[0m\u001b[0m\n\u001b[0;32m--> 756\u001b[0;31m                     estimator=estimator)\n\u001b[0m\u001b[1;32m    757\u001b[0m     \u001b[0;32mif\u001b[0m \u001b[0mmulti_output\u001b[0m\u001b[0;34m:\u001b[0m\u001b[0;34m\u001b[0m\u001b[0;34m\u001b[0m\u001b[0m\n\u001b[1;32m    758\u001b[0m         y = check_array(y, 'csr', force_all_finite=True, ensure_2d=False,\n",
      "\u001b[0;32m/Users/macbook/anaconda3/lib/python3.7/site-packages/sklearn/utils/validation.py\u001b[0m in \u001b[0;36mcheck_array\u001b[0;34m(array, accept_sparse, accept_large_sparse, dtype, order, copy, force_all_finite, ensure_2d, allow_nd, ensure_min_samples, ensure_min_features, warn_on_dtype, estimator)\u001b[0m\n\u001b[1;32m    525\u001b[0m             \u001b[0;32mtry\u001b[0m\u001b[0;34m:\u001b[0m\u001b[0;34m\u001b[0m\u001b[0;34m\u001b[0m\u001b[0m\n\u001b[1;32m    526\u001b[0m                 \u001b[0mwarnings\u001b[0m\u001b[0;34m.\u001b[0m\u001b[0msimplefilter\u001b[0m\u001b[0;34m(\u001b[0m\u001b[0;34m'error'\u001b[0m\u001b[0;34m,\u001b[0m \u001b[0mComplexWarning\u001b[0m\u001b[0;34m)\u001b[0m\u001b[0;34m\u001b[0m\u001b[0;34m\u001b[0m\u001b[0m\n\u001b[0;32m--> 527\u001b[0;31m                 \u001b[0marray\u001b[0m \u001b[0;34m=\u001b[0m \u001b[0mnp\u001b[0m\u001b[0;34m.\u001b[0m\u001b[0masarray\u001b[0m\u001b[0;34m(\u001b[0m\u001b[0marray\u001b[0m\u001b[0;34m,\u001b[0m \u001b[0mdtype\u001b[0m\u001b[0;34m=\u001b[0m\u001b[0mdtype\u001b[0m\u001b[0;34m,\u001b[0m \u001b[0morder\u001b[0m\u001b[0;34m=\u001b[0m\u001b[0morder\u001b[0m\u001b[0;34m)\u001b[0m\u001b[0;34m\u001b[0m\u001b[0;34m\u001b[0m\u001b[0m\n\u001b[0m\u001b[1;32m    528\u001b[0m             \u001b[0;32mexcept\u001b[0m \u001b[0mComplexWarning\u001b[0m\u001b[0;34m:\u001b[0m\u001b[0;34m\u001b[0m\u001b[0;34m\u001b[0m\u001b[0m\n\u001b[1;32m    529\u001b[0m                 raise ValueError(\"Complex data not supported\\n\"\n",
      "\u001b[0;32m/Users/macbook/anaconda3/lib/python3.7/site-packages/numpy/core/numeric.py\u001b[0m in \u001b[0;36masarray\u001b[0;34m(a, dtype, order)\u001b[0m\n\u001b[1;32m    499\u001b[0m \u001b[0;34m\u001b[0m\u001b[0m\n\u001b[1;32m    500\u001b[0m     \"\"\"\n\u001b[0;32m--> 501\u001b[0;31m     \u001b[0;32mreturn\u001b[0m \u001b[0marray\u001b[0m\u001b[0;34m(\u001b[0m\u001b[0ma\u001b[0m\u001b[0;34m,\u001b[0m \u001b[0mdtype\u001b[0m\u001b[0;34m,\u001b[0m \u001b[0mcopy\u001b[0m\u001b[0;34m=\u001b[0m\u001b[0;32mFalse\u001b[0m\u001b[0;34m,\u001b[0m \u001b[0morder\u001b[0m\u001b[0;34m=\u001b[0m\u001b[0morder\u001b[0m\u001b[0;34m)\u001b[0m\u001b[0;34m\u001b[0m\u001b[0;34m\u001b[0m\u001b[0m\n\u001b[0m\u001b[1;32m    502\u001b[0m \u001b[0;34m\u001b[0m\u001b[0m\n\u001b[1;32m    503\u001b[0m \u001b[0;34m\u001b[0m\u001b[0m\n",
      "\u001b[0;31mValueError\u001b[0m: could not convert string to float: 'Y'"
     ]
    }
   ],
   "source": [
    "#-- aplicando o algoritmo \n",
    "logreg.fit(X_train, y_train)\n",
    "#-- predizendo as respostas\n",
    "y_pred = logreg.predict(X_test)"
   ]
  },
  {
   "cell_type": "markdown",
   "metadata": {},
   "source": [
    "#### Filtrando somente os valores numéricos"
   ]
  },
  {
   "cell_type": "code",
   "execution_count": 54,
   "metadata": {
    "ExecuteTime": {
     "end_time": "2019-08-02T23:28:58.749904Z",
     "start_time": "2019-08-02T23:28:58.726376Z"
    }
   },
   "outputs": [
    {
     "data": {
      "text/html": [
       "<div>\n",
       "<style scoped>\n",
       "    .dataframe tbody tr th:only-of-type {\n",
       "        vertical-align: middle;\n",
       "    }\n",
       "\n",
       "    .dataframe tbody tr th {\n",
       "        vertical-align: top;\n",
       "    }\n",
       "\n",
       "    .dataframe thead th {\n",
       "        text-align: right;\n",
       "    }\n",
       "</style>\n",
       "<table border=\"1\" class=\"dataframe\">\n",
       "  <thead>\n",
       "    <tr style=\"text-align: right;\">\n",
       "      <th></th>\n",
       "      <th>123</th>\n",
       "      <th>124</th>\n",
       "      <th>125</th>\n",
       "      <th>126</th>\n",
       "      <th>127</th>\n",
       "    </tr>\n",
       "  </thead>\n",
       "  <tbody>\n",
       "    <tr>\n",
       "      <th>ADP</th>\n",
       "      <td>153.000000</td>\n",
       "      <td>154.000000</td>\n",
       "      <td>155.000000</td>\n",
       "      <td>156.000000</td>\n",
       "      <td>157.000000</td>\n",
       "    </tr>\n",
       "    <tr>\n",
       "      <th>Tempo de Casa</th>\n",
       "      <td>8.000000</td>\n",
       "      <td>7.800000</td>\n",
       "      <td>6.200000</td>\n",
       "      <td>0.500000</td>\n",
       "      <td>7.700000</td>\n",
       "    </tr>\n",
       "    <tr>\n",
       "      <th>Cod.Cargo</th>\n",
       "      <td>955.000000</td>\n",
       "      <td>825.000000</td>\n",
       "      <td>681.000000</td>\n",
       "      <td>791.000000</td>\n",
       "      <td>773.000000</td>\n",
       "    </tr>\n",
       "    <tr>\n",
       "      <th>Cod.Cargo Admissão</th>\n",
       "      <td>743.000000</td>\n",
       "      <td>783.000000</td>\n",
       "      <td>681.000000</td>\n",
       "      <td>791.000000</td>\n",
       "      <td>773.000000</td>\n",
       "    </tr>\n",
       "    <tr>\n",
       "      <th>CC</th>\n",
       "      <td>1100.000000</td>\n",
       "      <td>1016.000000</td>\n",
       "      <td>1120.000000</td>\n",
       "      <td>1100.000000</td>\n",
       "      <td>1040.000000</td>\n",
       "    </tr>\n",
       "    <tr>\n",
       "      <th>Idade Atual/ Desligamento</th>\n",
       "      <td>30.000000</td>\n",
       "      <td>38.000000</td>\n",
       "      <td>47.901370</td>\n",
       "      <td>31.402740</td>\n",
       "      <td>48.000000</td>\n",
       "    </tr>\n",
       "    <tr>\n",
       "      <th>Idade na Admissão</th>\n",
       "      <td>24.178082</td>\n",
       "      <td>32.249315</td>\n",
       "      <td>41.726027</td>\n",
       "      <td>30.950685</td>\n",
       "      <td>42.534247</td>\n",
       "    </tr>\n",
       "    <tr>\n",
       "      <th>Banda</th>\n",
       "      <td>400.000000</td>\n",
       "      <td>300.000000</td>\n",
       "      <td>700.000000</td>\n",
       "      <td>700.000000</td>\n",
       "      <td>700.000000</td>\n",
       "    </tr>\n",
       "    <tr>\n",
       "      <th>Hora Extra 2016</th>\n",
       "      <td>-100.000000</td>\n",
       "      <td>90.566667</td>\n",
       "      <td>-100.000000</td>\n",
       "      <td>-100.000000</td>\n",
       "      <td>-100.000000</td>\n",
       "    </tr>\n",
       "    <tr>\n",
       "      <th>Hora Negativa 2016</th>\n",
       "      <td>NaN</td>\n",
       "      <td>8.500000</td>\n",
       "      <td>NaN</td>\n",
       "      <td>NaN</td>\n",
       "      <td>NaN</td>\n",
       "    </tr>\n",
       "    <tr>\n",
       "      <th>Ad. Noturno 2016</th>\n",
       "      <td>NaN</td>\n",
       "      <td>16.250000</td>\n",
       "      <td>NaN</td>\n",
       "      <td>NaN</td>\n",
       "      <td>NaN</td>\n",
       "    </tr>\n",
       "    <tr>\n",
       "      <th>Absenteísmo 2016</th>\n",
       "      <td>0.000000</td>\n",
       "      <td>0.000000</td>\n",
       "      <td>0.000000</td>\n",
       "      <td>NaN</td>\n",
       "      <td>0.000000</td>\n",
       "    </tr>\n",
       "    <tr>\n",
       "      <th>Hora Extra 2017</th>\n",
       "      <td>NaN</td>\n",
       "      <td>48.933333</td>\n",
       "      <td>NaN</td>\n",
       "      <td>NaN</td>\n",
       "      <td>NaN</td>\n",
       "    </tr>\n",
       "    <tr>\n",
       "      <th>Hora Negativa 2017</th>\n",
       "      <td>NaN</td>\n",
       "      <td>0.000000</td>\n",
       "      <td>NaN</td>\n",
       "      <td>NaN</td>\n",
       "      <td>NaN</td>\n",
       "    </tr>\n",
       "    <tr>\n",
       "      <th>Ad. Noturno 2017</th>\n",
       "      <td>NaN</td>\n",
       "      <td>17.050000</td>\n",
       "      <td>NaN</td>\n",
       "      <td>NaN</td>\n",
       "      <td>NaN</td>\n",
       "    </tr>\n",
       "    <tr>\n",
       "      <th>Absenteísmo 2017</th>\n",
       "      <td>0.000000</td>\n",
       "      <td>0.000000</td>\n",
       "      <td>0.000000</td>\n",
       "      <td>NaN</td>\n",
       "      <td>0.000000</td>\n",
       "    </tr>\n",
       "    <tr>\n",
       "      <th>2012/13 Goal Achievement</th>\n",
       "      <td>NaN</td>\n",
       "      <td>NaN</td>\n",
       "      <td>NaN</td>\n",
       "      <td>NaN</td>\n",
       "      <td>NaN</td>\n",
       "    </tr>\n",
       "    <tr>\n",
       "      <th>2013/14 Goal Achievement</th>\n",
       "      <td>93.500000</td>\n",
       "      <td>95.000000</td>\n",
       "      <td>88.000000</td>\n",
       "      <td>NaN</td>\n",
       "      <td>0.000000</td>\n",
       "    </tr>\n",
       "    <tr>\n",
       "      <th>2014/15 Goal Achievement</th>\n",
       "      <td>115.000000</td>\n",
       "      <td>100.300000</td>\n",
       "      <td>94.900000</td>\n",
       "      <td>NaN</td>\n",
       "      <td>NaN</td>\n",
       "    </tr>\n",
       "    <tr>\n",
       "      <th>2015/16 Goal Achievement</th>\n",
       "      <td>90.900000</td>\n",
       "      <td>100.000000</td>\n",
       "      <td>105.300000</td>\n",
       "      <td>NaN</td>\n",
       "      <td>109.700000</td>\n",
       "    </tr>\n",
       "    <tr>\n",
       "      <th>2016/17 Goal Achievement</th>\n",
       "      <td>108.300000</td>\n",
       "      <td>102.300000</td>\n",
       "      <td>111.500000</td>\n",
       "      <td>NaN</td>\n",
       "      <td>114.600000</td>\n",
       "    </tr>\n",
       "    <tr>\n",
       "      <th>PROMOVIDO</th>\n",
       "      <td>1.000000</td>\n",
       "      <td>1.000000</td>\n",
       "      <td>0.000000</td>\n",
       "      <td>0.000000</td>\n",
       "      <td>0.000000</td>\n",
       "    </tr>\n",
       "  </tbody>\n",
       "</table>\n",
       "</div>"
      ],
      "text/plain": [
       "                                   123          124          125          126  \\\n",
       "ADP                         153.000000   154.000000   155.000000   156.000000   \n",
       "Tempo de Casa                 8.000000     7.800000     6.200000     0.500000   \n",
       "Cod.Cargo                   955.000000   825.000000   681.000000   791.000000   \n",
       "Cod.Cargo Admissão          743.000000   783.000000   681.000000   791.000000   \n",
       "CC                         1100.000000  1016.000000  1120.000000  1100.000000   \n",
       "Idade Atual/ Desligamento    30.000000    38.000000    47.901370    31.402740   \n",
       "Idade na Admissão            24.178082    32.249315    41.726027    30.950685   \n",
       "Banda                       400.000000   300.000000   700.000000   700.000000   \n",
       "Hora Extra 2016            -100.000000    90.566667  -100.000000  -100.000000   \n",
       "Hora Negativa 2016                 NaN     8.500000          NaN          NaN   \n",
       "Ad. Noturno 2016                   NaN    16.250000          NaN          NaN   \n",
       "Absenteísmo 2016              0.000000     0.000000     0.000000          NaN   \n",
       "Hora Extra 2017                    NaN    48.933333          NaN          NaN   \n",
       "Hora Negativa 2017                 NaN     0.000000          NaN          NaN   \n",
       "Ad. Noturno 2017                   NaN    17.050000          NaN          NaN   \n",
       "Absenteísmo 2017              0.000000     0.000000     0.000000          NaN   \n",
       "2012/13 Goal Achievement           NaN          NaN          NaN          NaN   \n",
       "2013/14 Goal Achievement     93.500000    95.000000    88.000000          NaN   \n",
       "2014/15 Goal Achievement    115.000000   100.300000    94.900000          NaN   \n",
       "2015/16 Goal Achievement     90.900000   100.000000   105.300000          NaN   \n",
       "2016/17 Goal Achievement    108.300000   102.300000   111.500000          NaN   \n",
       "PROMOVIDO                     1.000000     1.000000     0.000000     0.000000   \n",
       "\n",
       "                                   127  \n",
       "ADP                         157.000000  \n",
       "Tempo de Casa                 7.700000  \n",
       "Cod.Cargo                   773.000000  \n",
       "Cod.Cargo Admissão          773.000000  \n",
       "CC                         1040.000000  \n",
       "Idade Atual/ Desligamento    48.000000  \n",
       "Idade na Admissão            42.534247  \n",
       "Banda                       700.000000  \n",
       "Hora Extra 2016            -100.000000  \n",
       "Hora Negativa 2016                 NaN  \n",
       "Ad. Noturno 2016                   NaN  \n",
       "Absenteísmo 2016              0.000000  \n",
       "Hora Extra 2017                    NaN  \n",
       "Hora Negativa 2017                 NaN  \n",
       "Ad. Noturno 2017                   NaN  \n",
       "Absenteísmo 2017              0.000000  \n",
       "2012/13 Goal Achievement           NaN  \n",
       "2013/14 Goal Achievement      0.000000  \n",
       "2014/15 Goal Achievement           NaN  \n",
       "2015/16 Goal Achievement    109.700000  \n",
       "2016/17 Goal Achievement    114.600000  \n",
       "PROMOVIDO                     0.000000  "
      ]
     },
     "execution_count": 54,
     "metadata": {},
     "output_type": "execute_result"
    }
   ],
   "source": [
    "#-- selecionadndo apenas as variáveis númericas\n",
    "numerics = ['int16', 'int32', 'int64', 'float16', 'float32', 'float64']\n",
    "df_numeric = df_ano.select_dtypes(include=numerics).copy()\n",
    "df_numeric.head().T"
   ]
  },
  {
   "cell_type": "code",
   "execution_count": 55,
   "metadata": {
    "ExecuteTime": {
     "end_time": "2019-08-02T23:28:59.188534Z",
     "start_time": "2019-08-02T23:28:59.180878Z"
    }
   },
   "outputs": [],
   "source": [
    "df_numeric = (df_numeric.drop(columns=['ADP', 'Cod.Cargo', 'Cod.Cargo Admissão', \n",
    "                                      'CC', 'Hora Extra 2016', 'Hora Negativa 2016', \n",
    "                                      'Ad. Noturno 2016', 'Absenteísmo 2016', 'Hora Extra 2017', \n",
    "                                      'Hora Negativa 2017', 'Ad. Noturno 2017', 'Absenteísmo 2017', 'Banda', \n",
    "                                      '2012/13 Goal Achievement'], axis=1)\n",
    "                        .dropna())"
   ]
  },
  {
   "cell_type": "code",
   "execution_count": 56,
   "metadata": {
    "ExecuteTime": {
     "end_time": "2019-08-02T23:29:00.682217Z",
     "start_time": "2019-08-02T23:29:00.675126Z"
    }
   },
   "outputs": [
    {
     "data": {
      "text/plain": [
       "Tempo de Casa                0\n",
       "Idade Atual/ Desligamento    0\n",
       "Idade na Admissão            0\n",
       "2013/14 Goal Achievement     0\n",
       "2014/15 Goal Achievement     0\n",
       "2015/16 Goal Achievement     0\n",
       "2016/17 Goal Achievement     0\n",
       "PROMOVIDO                    0\n",
       "dtype: int64"
      ]
     },
     "execution_count": 56,
     "metadata": {},
     "output_type": "execute_result"
    }
   ],
   "source": [
    "#-- verificando se ainda existem missing values\n",
    "df_numeric.isnull().sum()"
   ]
  },
  {
   "cell_type": "code",
   "execution_count": 57,
   "metadata": {
    "ExecuteTime": {
     "end_time": "2019-08-02T23:29:02.461934Z",
     "start_time": "2019-08-02T23:29:02.457280Z"
    }
   },
   "outputs": [
    {
     "data": {
      "text/plain": [
       "(77, 8)"
      ]
     },
     "execution_count": 57,
     "metadata": {},
     "output_type": "execute_result"
    }
   ],
   "source": [
    "#-- printando as dimensões\n",
    "df_numeric.shape"
   ]
  },
  {
   "cell_type": "code",
   "execution_count": 58,
   "metadata": {
    "ExecuteTime": {
     "end_time": "2019-08-02T23:29:04.301131Z",
     "start_time": "2019-08-02T23:29:04.292959Z"
    }
   },
   "outputs": [
    {
     "name": "stdout",
     "output_type": "stream",
     "text": [
      "<class 'pandas.core.frame.DataFrame'>\n",
      "Int64Index: 77 entries, 123 to 272\n",
      "Data columns (total 8 columns):\n",
      "Tempo de Casa                77 non-null float64\n",
      "Idade Atual/ Desligamento    77 non-null float64\n",
      "Idade na Admissão            77 non-null float64\n",
      "2013/14 Goal Achievement     77 non-null float64\n",
      "2014/15 Goal Achievement     77 non-null float64\n",
      "2015/16 Goal Achievement     77 non-null float64\n",
      "2016/17 Goal Achievement     77 non-null float64\n",
      "PROMOVIDO                    77 non-null int64\n",
      "dtypes: float64(7), int64(1)\n",
      "memory usage: 5.4 KB\n"
     ]
    }
   ],
   "source": [
    "#-- verificando os tipos das variáveis\n",
    "df_numeric.info()"
   ]
  },
  {
   "cell_type": "code",
   "execution_count": 59,
   "metadata": {
    "ExecuteTime": {
     "end_time": "2019-08-02T23:29:05.705934Z",
     "start_time": "2019-08-02T23:29:05.699654Z"
    }
   },
   "outputs": [],
   "source": [
    "X = df_numeric.drop(columns=['PROMOVIDO'])\n",
    "y = df_numeric['PROMOVIDO']\n",
    "X_train, X_test, y_train, y_test = train_test_split(X, y, test_size=0.3, random_state=0)"
   ]
  },
  {
   "cell_type": "code",
   "execution_count": 60,
   "metadata": {
    "ExecuteTime": {
     "end_time": "2019-08-02T23:29:06.287509Z",
     "start_time": "2019-08-02T23:29:06.280868Z"
    }
   },
   "outputs": [
    {
     "name": "stderr",
     "output_type": "stream",
     "text": [
      "/Users/macbook/anaconda3/lib/python3.7/site-packages/sklearn/linear_model/logistic.py:433: FutureWarning: Default solver will be changed to 'lbfgs' in 0.22. Specify a solver to silence this warning.\n",
      "  FutureWarning)\n"
     ]
    }
   ],
   "source": [
    "logreg.fit(X_train, y_train)\n",
    "y_pred = logreg.predict(X_test)"
   ]
  },
  {
   "cell_type": "markdown",
   "metadata": {},
   "source": [
    "## Avaliação do modelo"
   ]
  },
  {
   "cell_type": "code",
   "execution_count": 61,
   "metadata": {
    "ExecuteTime": {
     "end_time": "2019-08-02T23:29:10.448260Z",
     "start_time": "2019-08-02T23:29:10.443833Z"
    }
   },
   "outputs": [
    {
     "name": "stdout",
     "output_type": "stream",
     "text": [
      "accuracy (test): 41.7%\n"
     ]
    }
   ],
   "source": [
    "accuracy_test = accuracy_score(y_test, y_pred)\n",
    "print(f'accuracy (test): {accuracy_test*100:.1f}%')"
   ]
  },
  {
   "cell_type": "code",
   "execution_count": 65,
   "metadata": {
    "ExecuteTime": {
     "end_time": "2019-08-02T23:30:01.834483Z",
     "start_time": "2019-08-02T23:30:01.480142Z"
    }
   },
   "outputs": [
    {
     "name": "stdout",
     "output_type": "stream",
     "text": [
      "Confusion matrix, without normalization\n",
      "[[ 5 11]\n",
      " [ 3  5]]\n"
     ]
    },
    {
     "data": {
      "image/png": "[encoded data removed]",
      "text/plain": [
       "<Figure size 504x288 with 2 Axes>"
      ]
     },
     "metadata": {
      "needs_background": "light"
     },
     "output_type": "display_data"
    },
    {
     "name": "stdout",
     "output_type": "stream",
     "text": [
      "Normalized confusion matrix\n",
      "[[0.3125 0.6875]\n",
      " [0.375  0.625 ]]\n"
     ]
    },
    {
     "data": {
      "image/png": "[encoded data removed]",
      "text/plain": [
       "<Figure size 504x288 with 2 Axes>"
      ]
     },
     "metadata": {
      "needs_background": "light"
     },
     "output_type": "display_data"
    }
   ],
   "source": [
    "plt.rcParams[\"figure.figsize\"] = (7,4)\n",
    "plot_confusion_matrix(y_test, y_pred)\n",
    "plot_confusion_matrix(y_test, y_pred, normalize=True)"
   ]
  },
  {
   "cell_type": "code",
   "execution_count": 66,
   "metadata": {
    "ExecuteTime": {
     "end_time": "2019-08-02T23:30:10.619100Z",
     "start_time": "2019-08-02T23:30:10.610887Z"
    }
   },
   "outputs": [
    {
     "name": "stdout",
     "output_type": "stream",
     "text": [
      "              precision    recall  f1-score   support\n",
      "\n",
      "           0       0.62      0.31      0.42        16\n",
      "           1       0.31      0.62      0.42         8\n",
      "\n",
      "   micro avg       0.42      0.42      0.42        24\n",
      "   macro avg       0.47      0.47      0.42        24\n",
      "weighted avg       0.52      0.42      0.42        24\n",
      "\n"
     ]
    }
   ],
   "source": [
    "print(classification_report(y_test, y_pred))"
   ]
  },
  {
   "cell_type": "markdown",
   "metadata": {},
   "source": [
    "### E se alterássemos os cortes?"
   ]
  },
  {
   "cell_type": "code",
   "execution_count": 36,
   "metadata": {
    "ExecuteTime": {
     "end_time": "2019-08-02T23:24:04.318464Z",
     "start_time": "2019-08-02T23:24:04.313771Z"
    }
   },
   "outputs": [],
   "source": [
    "y_pred_proba = logreg.predict_proba(X_test)\n",
    "y_pred_proba = y_pred_proba[:, 1]"
   ]
  },
  {
   "cell_type": "code",
   "execution_count": 37,
   "metadata": {
    "ExecuteTime": {
     "end_time": "2019-08-02T23:24:04.628718Z",
     "start_time": "2019-08-02T23:24:04.613257Z"
    }
   },
   "outputs": [
    {
     "data": {
      "text/html": [
       "<div>\n",
       "<style scoped>\n",
       "    .dataframe tbody tr th:only-of-type {\n",
       "        vertical-align: middle;\n",
       "    }\n",
       "\n",
       "    .dataframe tbody tr th {\n",
       "        vertical-align: top;\n",
       "    }\n",
       "\n",
       "    .dataframe thead th {\n",
       "        text-align: right;\n",
       "    }\n",
       "</style>\n",
       "<table border=\"1\" class=\"dataframe\">\n",
       "  <thead>\n",
       "    <tr style=\"text-align: right;\">\n",
       "      <th></th>\n",
       "      <th>Prediction</th>\n",
       "      <th>True Value</th>\n",
       "    </tr>\n",
       "  </thead>\n",
       "  <tbody>\n",
       "    <tr>\n",
       "      <th>0</th>\n",
       "      <td>0.953435</td>\n",
       "      <td>0</td>\n",
       "    </tr>\n",
       "    <tr>\n",
       "      <th>1</th>\n",
       "      <td>0.767354</td>\n",
       "      <td>0</td>\n",
       "    </tr>\n",
       "    <tr>\n",
       "      <th>2</th>\n",
       "      <td>0.343212</td>\n",
       "      <td>0</td>\n",
       "    </tr>\n",
       "    <tr>\n",
       "      <th>3</th>\n",
       "      <td>0.133422</td>\n",
       "      <td>0</td>\n",
       "    </tr>\n",
       "    <tr>\n",
       "      <th>4</th>\n",
       "      <td>0.795719</td>\n",
       "      <td>0</td>\n",
       "    </tr>\n",
       "  </tbody>\n",
       "</table>\n",
       "</div>"
      ],
      "text/plain": [
       "   Prediction True Value\n",
       "0    0.953435          0\n",
       "1    0.767354          0\n",
       "2    0.343212          0\n",
       "3    0.133422          0\n",
       "4    0.795719          0"
      ]
     },
     "execution_count": 37,
     "metadata": {},
     "output_type": "execute_result"
    }
   ],
   "source": [
    "#-- comparando as respostas\n",
    "preds_df = pd.DataFrame(data=[y_pred_proba, y_test.astype(str)],\n",
    "                        index=['Prediction', 'True Value']).T\n",
    "\n",
    "preds_df['Prediction'] = preds_df['Prediction'].astype(float)\n",
    "preds_df['True Value'] = preds_df['True Value'].astype(str)\n",
    "\n",
    "preds_df.head()"
   ]
  },
  {
   "cell_type": "code",
   "execution_count": 38,
   "metadata": {
    "ExecuteTime": {
     "end_time": "2019-08-02T23:24:05.364222Z",
     "start_time": "2019-08-02T23:24:04.819618Z"
    }
   },
   "outputs": [
    {
     "data": {
      "image/png": "[encoded data removed]",
      "text/plain": [
       "<Figure size 1080x576 with 1 Axes>"
      ]
     },
     "metadata": {
      "needs_background": "light"
     },
     "output_type": "display_data"
    }
   ],
   "source": [
    "multiple_histograms_plot(data=preds_df, x='Prediction', hue='True Value',\n",
    "                         bins=np.arange(0, 1.1, 0.025), probability_hist=True)"
   ]
  },
  {
   "cell_type": "code",
   "execution_count": 42,
   "metadata": {
    "ExecuteTime": {
     "end_time": "2019-08-02T23:25:44.948923Z",
     "start_time": "2019-08-02T23:25:44.945899Z"
    }
   },
   "outputs": [],
   "source": [
    "#-- ajustando o corte\n",
    "y_pred_customizado = y_pred_proba >= 0.80"
   ]
  },
  {
   "cell_type": "code",
   "execution_count": 68,
   "metadata": {
    "ExecuteTime": {
     "end_time": "2019-08-02T23:30:48.898299Z",
     "start_time": "2019-08-02T23:30:48.560414Z"
    }
   },
   "outputs": [
    {
     "name": "stdout",
     "output_type": "stream",
     "text": [
      "Confusion matrix, without normalization\n",
      "[[13  3]\n",
      " [ 4  4]]\n"
     ]
    },
    {
     "data": {
      "image/png": "[encoded data removed]",
      "text/plain": [
       "<Figure size 504x288 with 2 Axes>"
      ]
     },
     "metadata": {
      "needs_background": "light"
     },
     "output_type": "display_data"
    },
    {
     "name": "stdout",
     "output_type": "stream",
     "text": [
      "Normalized confusion matrix\n",
      "[[0.8125 0.1875]\n",
      " [0.5    0.5   ]]\n"
     ]
    },
    {
     "data": {
      "image/png": "[encoded data removed]",
      "text/plain": [
       "<Figure size 504x288 with 2 Axes>"
      ]
     },
     "metadata": {
      "needs_background": "light"
     },
     "output_type": "display_data"
    }
   ],
   "source": [
    "#-- pritando a nova matriz de confusão\n",
    "plot_confusion_matrix(y_test, y_pred_customizado)\n",
    "plot_confusion_matrix(y_test, y_pred_customizado, normalize=True)"
   ]
  },
  {
   "cell_type": "code",
   "execution_count": 41,
   "metadata": {
    "ExecuteTime": {
     "end_time": "2019-08-02T23:24:06.572055Z",
     "start_time": "2019-08-02T23:24:06.564301Z"
    }
   },
   "outputs": [
    {
     "name": "stdout",
     "output_type": "stream",
     "text": [
      "              precision    recall  f1-score   support\n",
      "\n",
      "           0       0.76      0.81      0.79        16\n",
      "           1       0.57      0.50      0.53         8\n",
      "\n",
      "   micro avg       0.71      0.71      0.71        24\n",
      "   macro avg       0.67      0.66      0.66        24\n",
      "weighted avg       0.70      0.71      0.70        24\n",
      "\n"
     ]
    }
   ],
   "source": [
    "#-- printando as novas métricas\n",
    "print(classification_report(y_test, y_pred_customizado))"
   ]
  }
 ],
 "metadata": {
  "kernelspec": {
   "display_name": "Python 3",
   "language": "python",
   "name": "python3"
  },
  "language_info": {
   "codemirror_mode": {
    "name": "ipython",
    "version": 3
   },
   "file_extension": ".py",
   "mimetype": "text/x-python",
   "name": "python",
   "nbconvert_exporter": "python",
   "pygments_lexer": "ipython3",
   "version": "3.7.1"
  }
 },
 "nbformat": 4,
 "nbformat_minor": 2
}
