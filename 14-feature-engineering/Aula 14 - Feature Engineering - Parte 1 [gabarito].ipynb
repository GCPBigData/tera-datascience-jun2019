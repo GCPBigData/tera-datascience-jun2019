{
 "cells": [
  {
   "cell_type": "markdown",
   "metadata": {},
   "source": [
    "## Aula 14 - Feature Engineering"
   ]
  },
  {
   "cell_type": "markdown",
   "metadata": {},
   "source": [
    "#### Machine Learning Pipeline\n",
    "![Machine Learning Pipeline](https://cdn-images-1.medium.com/max/1600/1*2T5rbjOBGVFdSvtlhCqlNg.png)\n"
   ]
  },
  {
   "cell_type": "markdown",
   "metadata": {},
   "source": [
    "##### Feature Engineering is an art\n",
    "\n",
    "> \"Each problem is domain specific and better features (suited to the problem) is often the **deciding factor** of the performance of your system.\"\n",
    "> \"Data Scientists often spend 70% of their time in the data preparation phase before modeling.\"               \n",
    "> — [Link 1](https://towardsdatascience.com/understanding-feature-engineering-part-1-continuous-numeric-data-da4e47099a7b) do pré-aula.\n",
    "\n",
    "> “Coming up with features is difficult, time-consuming, requires expert knowledge. ‘Applied machine learning’ is basically feature engineering.\"\n",
    "> — [Prof. Andrew Ng.](https://en.wikipedia.org/wiki/Andrew_Ng) (Stanford)\n",
    "\n",
    "> “Some machine learning projects succeed and some fail. What makes the difference? Easily the most important factor is the features used.”  \n",
    "> — [Prof. Pedro Domingos](https://en.wikipedia.org/wiki/Pedro_Domingos) (University of Washington)\n"
   ]
  },
  {
   "cell_type": "markdown",
   "metadata": {},
   "source": [
    "\n",
    "==============================================\n",
    "#### Dataset: dados históricos dos funcionários.\n",
    "#### Tarefa: prever promoção do funcionário\n",
    "=============================================="
   ]
  },
  {
   "cell_type": "markdown",
   "metadata": {},
   "source": [
    "#### Importando o que precisaremos..."
   ]
  },
  {
   "cell_type": "code",
   "execution_count": 1,
   "metadata": {
    "ExecuteTime": {
     "end_time": "2019-08-02T23:54:33.025333Z",
     "start_time": "2019-08-02T23:54:31.849099Z"
    }
   },
   "outputs": [],
   "source": [
    "import pandas as pd\n",
    "from sklearn.preprocessing import OneHotEncoder, LabelEncoder\n",
    "from sklearn.preprocessing import StandardScaler, RobustScaler\n",
    "from sklearn.model_selection import train_test_split\n",
    "from sklearn.linear_model import LogisticRegression\n",
    "from plotting import plot_confusion_matrix"
   ]
  },
  {
   "cell_type": "code",
   "execution_count": 2,
   "metadata": {
    "ExecuteTime": {
     "end_time": "2019-08-02T23:54:33.116948Z",
     "start_time": "2019-08-02T23:54:33.028038Z"
    }
   },
   "outputs": [
    {
     "data": {
      "text/html": [
       "<div>\n",
       "<style scoped>\n",
       "    .dataframe tbody tr th:only-of-type {\n",
       "        vertical-align: middle;\n",
       "    }\n",
       "\n",
       "    .dataframe tbody tr th {\n",
       "        vertical-align: top;\n",
       "    }\n",
       "\n",
       "    .dataframe thead th {\n",
       "        text-align: right;\n",
       "    }\n",
       "</style>\n",
       "<table border=\"1\" class=\"dataframe\">\n",
       "  <thead>\n",
       "    <tr style=\"text-align: right;\">\n",
       "      <th></th>\n",
       "      <th>ADP</th>\n",
       "      <th>Admissão</th>\n",
       "      <th>Desligamento</th>\n",
       "      <th>Desligado?</th>\n",
       "      <th>Iniciativa Desligamento</th>\n",
       "      <th>Tempo de Casa</th>\n",
       "      <th>Cod.Cargo</th>\n",
       "      <th>Cargo</th>\n",
       "      <th>Cod.Cargo Admissão</th>\n",
       "      <th>Cargo Admissão</th>\n",
       "      <th>...</th>\n",
       "      <th>MERITO 2015</th>\n",
       "      <th>MERITO 2016</th>\n",
       "      <th>MERITO 2017</th>\n",
       "      <th>PROMOÇÃO 2012</th>\n",
       "      <th>PROMOÇÃO 2013</th>\n",
       "      <th>PROMOÇÃO 2014</th>\n",
       "      <th>PROMOÇÃO 2015</th>\n",
       "      <th>PROMOÇÃO 2016</th>\n",
       "      <th>PROMOÇÃO 2017</th>\n",
       "      <th>PROMOVIDO</th>\n",
       "    </tr>\n",
       "  </thead>\n",
       "  <tbody>\n",
       "    <tr>\n",
       "      <th>41</th>\n",
       "      <td>71</td>\n",
       "      <td>8/1/2007</td>\n",
       "      <td></td>\n",
       "      <td>N</td>\n",
       "      <td>NaN</td>\n",
       "      <td>11.4</td>\n",
       "      <td>954</td>\n",
       "      <td>ANALISTA SR</td>\n",
       "      <td>671</td>\n",
       "      <td>ASSISTENTE</td>\n",
       "      <td>...</td>\n",
       "      <td>NaN</td>\n",
       "      <td>NaN</td>\n",
       "      <td>NaN</td>\n",
       "      <td>NaN</td>\n",
       "      <td>NaN</td>\n",
       "      <td>NaN</td>\n",
       "      <td>NaN</td>\n",
       "      <td>NaN</td>\n",
       "      <td>NaN</td>\n",
       "      <td>0</td>\n",
       "    </tr>\n",
       "    <tr>\n",
       "      <th>336</th>\n",
       "      <td>366</td>\n",
       "      <td>8/4/2014</td>\n",
       "      <td>1/19/2015</td>\n",
       "      <td>Y</td>\n",
       "      <td>Funcionário</td>\n",
       "      <td>0.5</td>\n",
       "      <td>891</td>\n",
       "      <td>ANALISTA JR</td>\n",
       "      <td>891</td>\n",
       "      <td>ANALISTA JR</td>\n",
       "      <td>...</td>\n",
       "      <td>NaN</td>\n",
       "      <td>NaN</td>\n",
       "      <td>NaN</td>\n",
       "      <td>NaN</td>\n",
       "      <td>NaN</td>\n",
       "      <td>NaN</td>\n",
       "      <td>NaN</td>\n",
       "      <td>NaN</td>\n",
       "      <td>NaN</td>\n",
       "      <td>0</td>\n",
       "    </tr>\n",
       "    <tr>\n",
       "      <th>314</th>\n",
       "      <td>344</td>\n",
       "      <td>4/22/2014</td>\n",
       "      <td></td>\n",
       "      <td>N</td>\n",
       "      <td>NaN</td>\n",
       "      <td>4.7</td>\n",
       "      <td>958</td>\n",
       "      <td>COORDENADOR</td>\n",
       "      <td>882</td>\n",
       "      <td>ANALISTA PL</td>\n",
       "      <td>...</td>\n",
       "      <td>NaN</td>\n",
       "      <td>Y</td>\n",
       "      <td>NaN</td>\n",
       "      <td>NaN</td>\n",
       "      <td>NaN</td>\n",
       "      <td>NaN</td>\n",
       "      <td>Y</td>\n",
       "      <td>NaN</td>\n",
       "      <td>NaN</td>\n",
       "      <td>1</td>\n",
       "    </tr>\n",
       "    <tr>\n",
       "      <th>476</th>\n",
       "      <td>506</td>\n",
       "      <td>8/3/2015</td>\n",
       "      <td></td>\n",
       "      <td>N</td>\n",
       "      <td>NaN</td>\n",
       "      <td>3.4</td>\n",
       "      <td>909</td>\n",
       "      <td>ANALISTA PL</td>\n",
       "      <td>909</td>\n",
       "      <td>ANALISTA PL</td>\n",
       "      <td>...</td>\n",
       "      <td>NaN</td>\n",
       "      <td>NaN</td>\n",
       "      <td>NaN</td>\n",
       "      <td>NaN</td>\n",
       "      <td>NaN</td>\n",
       "      <td>NaN</td>\n",
       "      <td>NaN</td>\n",
       "      <td>NaN</td>\n",
       "      <td>NaN</td>\n",
       "      <td>0</td>\n",
       "    </tr>\n",
       "    <tr>\n",
       "      <th>220</th>\n",
       "      <td>250</td>\n",
       "      <td>1/21/2013</td>\n",
       "      <td></td>\n",
       "      <td>N</td>\n",
       "      <td>NaN</td>\n",
       "      <td>5.9</td>\n",
       "      <td>744</td>\n",
       "      <td>ANALISTA PL</td>\n",
       "      <td>744</td>\n",
       "      <td>ANALISTA PL</td>\n",
       "      <td>...</td>\n",
       "      <td>Y</td>\n",
       "      <td>Y</td>\n",
       "      <td>Y</td>\n",
       "      <td>NaN</td>\n",
       "      <td>NaN</td>\n",
       "      <td>NaN</td>\n",
       "      <td>NaN</td>\n",
       "      <td>NaN</td>\n",
       "      <td>NaN</td>\n",
       "      <td>0</td>\n",
       "    </tr>\n",
       "  </tbody>\n",
       "</table>\n",
       "<p>5 rows × 63 columns</p>\n",
       "</div>"
      ],
      "text/plain": [
       "     ADP   Admissão Desligamento Desligado? Iniciativa Desligamento  \\\n",
       "41    71   8/1/2007                       N                     NaN   \n",
       "336  366   8/4/2014    1/19/2015          Y             Funcionário   \n",
       "314  344  4/22/2014                       N                     NaN   \n",
       "476  506   8/3/2015                       N                     NaN   \n",
       "220  250  1/21/2013                       N                     NaN   \n",
       "\n",
       "     Tempo de Casa  Cod.Cargo        Cargo  Cod.Cargo Admissão Cargo Admissão  \\\n",
       "41            11.4        954  ANALISTA SR                 671     ASSISTENTE   \n",
       "336            0.5        891  ANALISTA JR                 891    ANALISTA JR   \n",
       "314            4.7        958  COORDENADOR                 882    ANALISTA PL   \n",
       "476            3.4        909  ANALISTA PL                 909    ANALISTA PL   \n",
       "220            5.9        744  ANALISTA PL                 744    ANALISTA PL   \n",
       "\n",
       "     ...  MERITO 2015 MERITO 2016 MERITO 2017 PROMOÇÃO 2012 PROMOÇÃO 2013  \\\n",
       "41   ...          NaN         NaN         NaN           NaN           NaN   \n",
       "336  ...          NaN         NaN         NaN           NaN           NaN   \n",
       "314  ...          NaN           Y         NaN           NaN           NaN   \n",
       "476  ...          NaN         NaN         NaN           NaN           NaN   \n",
       "220  ...            Y           Y           Y           NaN           NaN   \n",
       "\n",
       "     PROMOÇÃO 2014  PROMOÇÃO 2015 PROMOÇÃO 2016  PROMOÇÃO 2017 PROMOVIDO  \n",
       "41             NaN            NaN           NaN            NaN         0  \n",
       "336            NaN            NaN           NaN            NaN         0  \n",
       "314            NaN              Y           NaN            NaN         1  \n",
       "476            NaN            NaN           NaN            NaN         0  \n",
       "220            NaN            NaN           NaN            NaN         0  \n",
       "\n",
       "[5 rows x 63 columns]"
      ]
     },
     "execution_count": 2,
     "metadata": {},
     "output_type": "execute_result"
    }
   ],
   "source": [
    "data = pd.read_csv('data/Base Analytics.csv')\n",
    "data.sample(5)"
   ]
  },
  {
   "cell_type": "markdown",
   "metadata": {},
   "source": [
    "### Numerical Data"
   ]
  },
  {
   "cell_type": "markdown",
   "metadata": {},
   "source": [
    "#### Filtrando numericos e excluindo nulos..."
   ]
  },
  {
   "cell_type": "code",
   "execution_count": 3,
   "metadata": {
    "ExecuteTime": {
     "end_time": "2019-08-02T23:54:33.140988Z",
     "start_time": "2019-08-02T23:54:33.119914Z"
    }
   },
   "outputs": [],
   "source": [
    "numerics = ['int16', 'int32', 'int64', 'float16', 'float32', 'float64']\n",
    "data = data[data['Admissão'] >= '2011-01-01'].reset_index().drop(columns='index')\n",
    "data_num = data.select_dtypes(include=numerics).copy()\n",
    "data_num = data_num.drop(columns=['ADP', 'Cod.Cargo', 'Cod.Cargo Admissão', 'CC', \n",
    "                                              'Hora Extra 2016', 'Hora Negativa 2016', 'Ad. Noturno 2016', \n",
    "                                              'Absenteísmo 2016', 'Hora Extra 2017', 'Hora Negativa 2017', \n",
    "                                              'Ad. Noturno 2017', 'Absenteísmo 2017', 'Banda', \n",
    "                                              '2012/13 Goal Achievement'], axis=1)"
   ]
  },
  {
   "cell_type": "code",
   "execution_count": 4,
   "metadata": {
    "ExecuteTime": {
     "end_time": "2019-08-02T23:54:33.157521Z",
     "start_time": "2019-08-02T23:54:33.147132Z"
    }
   },
   "outputs": [
    {
     "data": {
      "text/plain": [
       "(83, 8)"
      ]
     },
     "execution_count": 4,
     "metadata": {},
     "output_type": "execute_result"
    }
   ],
   "source": [
    "data_old = data_num.dropna()\n",
    "data_old.shape"
   ]
  },
  {
   "cell_type": "code",
   "execution_count": 5,
   "metadata": {
    "ExecuteTime": {
     "end_time": "2019-08-02T23:54:33.183865Z",
     "start_time": "2019-08-02T23:54:33.167679Z"
    }
   },
   "outputs": [
    {
     "name": "stderr",
     "output_type": "stream",
     "text": [
      "/Users/macbook/anaconda3/lib/python3.7/site-packages/sklearn/linear_model/logistic.py:433: FutureWarning: Default solver will be changed to 'lbfgs' in 0.22. Specify a solver to silence this warning.\n",
      "  FutureWarning)\n"
     ]
    }
   ],
   "source": [
    "X = data_old.drop(columns='PROMOVIDO')\n",
    "y = data_old['PROMOVIDO']\n",
    "X_train, X_test, y_train, y_test = train_test_split(X, y, test_size=0.3, random_state=0)\n",
    "logreg = LogisticRegression(random_state=42, class_weight='balanced')\n",
    "logreg.fit(X_train, y_train)\n",
    "y_pred = logreg.predict(X_test)"
   ]
  },
  {
   "cell_type": "code",
   "execution_count": 6,
   "metadata": {
    "ExecuteTime": {
     "end_time": "2019-08-02T23:54:33.536815Z",
     "start_time": "2019-08-02T23:54:33.186344Z"
    }
   },
   "outputs": [
    {
     "name": "stdout",
     "output_type": "stream",
     "text": [
      "Confusion matrix, without normalization\n",
      "[[11  3]\n",
      " [ 4  7]]\n"
     ]
    },
    {
     "data": {
      "image/png": "[encoded data removed]",
      "text/plain": [
       "<Figure size 432x288 with 2 Axes>"
      ]
     },
     "metadata": {
      "needs_background": "light"
     },
     "output_type": "display_data"
    },
    {
     "name": "stdout",
     "output_type": "stream",
     "text": [
      "Normalized confusion matrix\n",
      "[[0.78571429 0.21428571]\n",
      " [0.36363636 0.63636364]]\n"
     ]
    },
    {
     "data": {
      "image/png": "[encoded data removed]",
      "text/plain": [
       "<Figure size 432x288 with 2 Axes>"
      ]
     },
     "metadata": {
      "needs_background": "light"
     },
     "output_type": "display_data"
    }
   ],
   "source": [
    "_ = plot_confusion_matrix(y_test, y_pred)\n",
    "_ = plot_confusion_matrix(y_test, y_pred, normalize='yes')"
   ]
  },
  {
   "cell_type": "markdown",
   "metadata": {},
   "source": [
    "#### E se ao invés de excluir os nulos, substituíssemos pela média?"
   ]
  },
  {
   "cell_type": "code",
   "execution_count": 7,
   "metadata": {
    "ExecuteTime": {
     "end_time": "2019-08-02T23:54:33.579549Z",
     "start_time": "2019-08-02T23:54:33.539097Z"
    }
   },
   "outputs": [
    {
     "data": {
      "text/html": [
       "<div>\n",
       "<style scoped>\n",
       "    .dataframe tbody tr th:only-of-type {\n",
       "        vertical-align: middle;\n",
       "    }\n",
       "\n",
       "    .dataframe tbody tr th {\n",
       "        vertical-align: top;\n",
       "    }\n",
       "\n",
       "    .dataframe thead th {\n",
       "        text-align: right;\n",
       "    }\n",
       "</style>\n",
       "<table border=\"1\" class=\"dataframe\">\n",
       "  <thead>\n",
       "    <tr style=\"text-align: right;\">\n",
       "      <th></th>\n",
       "      <th>Tempo de Casa</th>\n",
       "      <th>Idade Atual/ Desligamento</th>\n",
       "      <th>Idade na Admissão</th>\n",
       "      <th>2013/14 Goal Achievement</th>\n",
       "      <th>2014/15 Goal Achievement</th>\n",
       "      <th>2015/16 Goal Achievement</th>\n",
       "      <th>2016/17 Goal Achievement</th>\n",
       "      <th>PROMOVIDO</th>\n",
       "    </tr>\n",
       "  </thead>\n",
       "  <tbody>\n",
       "    <tr>\n",
       "      <th>count</th>\n",
       "      <td>356.000000</td>\n",
       "      <td>356.000000</td>\n",
       "      <td>356.000000</td>\n",
       "      <td>111.000000</td>\n",
       "      <td>127.000000</td>\n",
       "      <td>208.000000</td>\n",
       "      <td>213.000000</td>\n",
       "      <td>356.000000</td>\n",
       "    </tr>\n",
       "    <tr>\n",
       "      <th>mean</th>\n",
       "      <td>4.228652</td>\n",
       "      <td>35.978875</td>\n",
       "      <td>32.940388</td>\n",
       "      <td>90.718018</td>\n",
       "      <td>106.937795</td>\n",
       "      <td>102.965385</td>\n",
       "      <td>104.440376</td>\n",
       "      <td>0.216292</td>\n",
       "    </tr>\n",
       "    <tr>\n",
       "      <th>std</th>\n",
       "      <td>2.954284</td>\n",
       "      <td>8.589197</td>\n",
       "      <td>8.318959</td>\n",
       "      <td>13.818730</td>\n",
       "      <td>10.135056</td>\n",
       "      <td>8.303672</td>\n",
       "      <td>7.460852</td>\n",
       "      <td>0.412295</td>\n",
       "    </tr>\n",
       "    <tr>\n",
       "      <th>min</th>\n",
       "      <td>0.000000</td>\n",
       "      <td>19.000000</td>\n",
       "      <td>18.734247</td>\n",
       "      <td>0.000000</td>\n",
       "      <td>80.000000</td>\n",
       "      <td>77.100000</td>\n",
       "      <td>75.600000</td>\n",
       "      <td>0.000000</td>\n",
       "    </tr>\n",
       "    <tr>\n",
       "      <th>25%</th>\n",
       "      <td>2.100000</td>\n",
       "      <td>29.899315</td>\n",
       "      <td>26.969863</td>\n",
       "      <td>89.500000</td>\n",
       "      <td>100.000000</td>\n",
       "      <td>99.900000</td>\n",
       "      <td>100.900000</td>\n",
       "      <td>0.000000</td>\n",
       "    </tr>\n",
       "    <tr>\n",
       "      <th>50%</th>\n",
       "      <td>3.600000</td>\n",
       "      <td>34.906849</td>\n",
       "      <td>31.479452</td>\n",
       "      <td>94.000000</td>\n",
       "      <td>105.000000</td>\n",
       "      <td>103.200000</td>\n",
       "      <td>103.800000</td>\n",
       "      <td>0.000000</td>\n",
       "    </tr>\n",
       "    <tr>\n",
       "      <th>75%</th>\n",
       "      <td>5.600000</td>\n",
       "      <td>41.585616</td>\n",
       "      <td>37.808904</td>\n",
       "      <td>97.000000</td>\n",
       "      <td>110.350000</td>\n",
       "      <td>107.500000</td>\n",
       "      <td>107.300000</td>\n",
       "      <td>0.000000</td>\n",
       "    </tr>\n",
       "    <tr>\n",
       "      <th>max</th>\n",
       "      <td>16.400000</td>\n",
       "      <td>65.736986</td>\n",
       "      <td>63.161644</td>\n",
       "      <td>100.000000</td>\n",
       "      <td>135.900000</td>\n",
       "      <td>132.000000</td>\n",
       "      <td>132.200000</td>\n",
       "      <td>1.000000</td>\n",
       "    </tr>\n",
       "  </tbody>\n",
       "</table>\n",
       "</div>"
      ],
      "text/plain": [
       "       Tempo de Casa  Idade Atual/ Desligamento  Idade na Admissão  \\\n",
       "count     356.000000                 356.000000         356.000000   \n",
       "mean        4.228652                  35.978875          32.940388   \n",
       "std         2.954284                   8.589197           8.318959   \n",
       "min         0.000000                  19.000000          18.734247   \n",
       "25%         2.100000                  29.899315          26.969863   \n",
       "50%         3.600000                  34.906849          31.479452   \n",
       "75%         5.600000                  41.585616          37.808904   \n",
       "max        16.400000                  65.736986          63.161644   \n",
       "\n",
       "       2013/14 Goal Achievement  2014/15 Goal Achievement  \\\n",
       "count                111.000000                127.000000   \n",
       "mean                  90.718018                106.937795   \n",
       "std                   13.818730                 10.135056   \n",
       "min                    0.000000                 80.000000   \n",
       "25%                   89.500000                100.000000   \n",
       "50%                   94.000000                105.000000   \n",
       "75%                   97.000000                110.350000   \n",
       "max                  100.000000                135.900000   \n",
       "\n",
       "       2015/16 Goal Achievement  2016/17 Goal Achievement   PROMOVIDO  \n",
       "count                208.000000                213.000000  356.000000  \n",
       "mean                 102.965385                104.440376    0.216292  \n",
       "std                    8.303672                  7.460852    0.412295  \n",
       "min                   77.100000                 75.600000    0.000000  \n",
       "25%                   99.900000                100.900000    0.000000  \n",
       "50%                  103.200000                103.800000    0.000000  \n",
       "75%                  107.500000                107.300000    0.000000  \n",
       "max                  132.000000                132.200000    1.000000  "
      ]
     },
     "execution_count": 7,
     "metadata": {},
     "output_type": "execute_result"
    }
   ],
   "source": [
    "data_num.describe()"
   ]
  },
  {
   "cell_type": "code",
   "execution_count": 8,
   "metadata": {
    "ExecuteTime": {
     "end_time": "2019-08-02T23:54:33.625224Z",
     "start_time": "2019-08-02T23:54:33.582845Z"
    }
   },
   "outputs": [
    {
     "name": "stdout",
     "output_type": "stream",
     "text": [
      "2013/14 Goal Achievement 245\n",
      "2014/15 Goal Achievement 229\n",
      "2015/16 Goal Achievement 148\n",
      "2016/17 Goal Achievement 143\n"
     ]
    }
   ],
   "source": [
    "for col in data_num.columns:\n",
    "    qtt = data_num[col].isnull().sum()\n",
    "    if qtt > 0:\n",
    "        print(col, qtt)\n",
    "        data_num.update(data_num[col].fillna(data_num[col].mean()))"
   ]
  },
  {
   "cell_type": "code",
   "execution_count": 9,
   "metadata": {
    "ExecuteTime": {
     "end_time": "2019-08-02T23:54:33.645946Z",
     "start_time": "2019-08-02T23:54:33.628607Z"
    }
   },
   "outputs": [
    {
     "name": "stderr",
     "output_type": "stream",
     "text": [
      "/Users/macbook/anaconda3/lib/python3.7/site-packages/sklearn/linear_model/logistic.py:433: FutureWarning: Default solver will be changed to 'lbfgs' in 0.22. Specify a solver to silence this warning.\n",
      "  FutureWarning)\n"
     ]
    }
   ],
   "source": [
    "X = data_num.drop(columns=['PROMOVIDO'])\n",
    "y = data_num['PROMOVIDO']\n",
    "X_train, X_test, y_train, y_test = train_test_split(X, y, test_size=0.3, random_state=0)\n",
    "logreg = LogisticRegression(random_state=42, class_weight='balanced')\n",
    "logreg.fit(X_train, y_train)\n",
    "y_pred = logreg.predict(X_test)"
   ]
  },
  {
   "cell_type": "code",
   "execution_count": 10,
   "metadata": {
    "ExecuteTime": {
     "end_time": "2019-08-02T23:54:33.972889Z",
     "start_time": "2019-08-02T23:54:33.649787Z"
    }
   },
   "outputs": [
    {
     "name": "stdout",
     "output_type": "stream",
     "text": [
      "Confusion matrix, without normalization\n",
      "[[67 23]\n",
      " [ 3 14]]\n"
     ]
    },
    {
     "data": {
      "image/png": "[encoded data removed]",
      "text/plain": [
       "<Figure size 432x288 with 2 Axes>"
      ]
     },
     "metadata": {
      "needs_background": "light"
     },
     "output_type": "display_data"
    },
    {
     "name": "stdout",
     "output_type": "stream",
     "text": [
      "Normalized confusion matrix\n",
      "[[0.74444444 0.25555556]\n",
      " [0.17647059 0.82352941]]\n"
     ]
    },
    {
     "data": {
      "image/png": "[encoded data removed]",
      "text/plain": [
       "<Figure size 432x288 with 2 Axes>"
      ]
     },
     "metadata": {
      "needs_background": "light"
     },
     "output_type": "display_data"
    }
   ],
   "source": [
    "_ = plot_confusion_matrix(y_test, y_pred)\n",
    "_ = plot_confusion_matrix(y_test, y_pred, normalize='yes')"
   ]
  },
  {
   "cell_type": "code",
   "execution_count": 11,
   "metadata": {
    "ExecuteTime": {
     "end_time": "2019-08-02T23:54:34.138015Z",
     "start_time": "2019-08-02T23:54:33.975163Z"
    }
   },
   "outputs": [
    {
     "name": "stdout",
     "output_type": "stream",
     "text": [
      "Normalized confusion matrix\n",
      "[[0.74444444 0.25555556]\n",
      " [0.17647059 0.82352941]]\n"
     ]
    },
    {
     "data": {
      "image/png": "[encoded data removed]",
      "text/plain": [
       "<Figure size 432x288 with 2 Axes>"
      ]
     },
     "metadata": {
      "needs_background": "light"
     },
     "output_type": "display_data"
    }
   ],
   "source": [
    "_ = plot_confusion_matrix(y_test, y_pred, normalize='yes')"
   ]
  },
  {
   "cell_type": "markdown",
   "metadata": {},
   "source": [
    "[Scaler](https://scikit-learn.org/0.19/modules/generated/sklearn.preprocessing.StandardScaler.html)"
   ]
  },
  {
   "cell_type": "code",
   "execution_count": 12,
   "metadata": {
    "ExecuteTime": {
     "end_time": "2019-08-02T23:54:34.150389Z",
     "start_time": "2019-08-02T23:54:34.140055Z"
    }
   },
   "outputs": [],
   "source": [
    "scaler = StandardScaler()\n",
    "data_num_scaled = pd.DataFrame(scaler.fit_transform(data_num.drop(columns='PROMOVIDO')),\n",
    "                               columns=list(data_num.drop(columns='PROMOVIDO').columns))"
   ]
  },
  {
   "cell_type": "code",
   "execution_count": 13,
   "metadata": {
    "ExecuteTime": {
     "end_time": "2019-08-02T23:54:34.166589Z",
     "start_time": "2019-08-02T23:54:34.152879Z"
    }
   },
   "outputs": [
    {
     "name": "stderr",
     "output_type": "stream",
     "text": [
      "/Users/macbook/anaconda3/lib/python3.7/site-packages/sklearn/linear_model/logistic.py:433: FutureWarning: Default solver will be changed to 'lbfgs' in 0.22. Specify a solver to silence this warning.\n",
      "  FutureWarning)\n"
     ]
    }
   ],
   "source": [
    "X = data_num_scaled\n",
    "y = data_num['PROMOVIDO']\n",
    "X_train, X_test, y_train, y_test = train_test_split(X, y, test_size=0.3, random_state=0)\n",
    "logreg = LogisticRegression(random_state=42, class_weight='balanced')\n",
    "logreg.fit(X_train, y_train)\n",
    "y_pred = logreg.predict(X_test)"
   ]
  },
  {
   "cell_type": "code",
   "execution_count": 14,
   "metadata": {
    "ExecuteTime": {
     "end_time": "2019-08-02T23:54:34.496448Z",
     "start_time": "2019-08-02T23:54:34.171017Z"
    }
   },
   "outputs": [
    {
     "name": "stdout",
     "output_type": "stream",
     "text": [
      "Confusion matrix, without normalization\n",
      "[[77 13]\n",
      " [ 4 13]]\n"
     ]
    },
    {
     "data": {
      "image/png": "[encoded data removed]",
      "text/plain": [
       "<Figure size 432x288 with 2 Axes>"
      ]
     },
     "metadata": {
      "needs_background": "light"
     },
     "output_type": "display_data"
    },
    {
     "name": "stdout",
     "output_type": "stream",
     "text": [
      "Normalized confusion matrix\n",
      "[[0.85555556 0.14444444]\n",
      " [0.23529412 0.76470588]]\n"
     ]
    },
    {
     "data": {
      "image/png": "[encoded data removed]",
      "text/plain": [
       "<Figure size 432x288 with 2 Axes>"
      ]
     },
     "metadata": {
      "needs_background": "light"
     },
     "output_type": "display_data"
    }
   ],
   "source": [
    "_ = plot_confusion_matrix(y_test, y_pred)\n",
    "_ = plot_confusion_matrix(y_test, y_pred, normalize='yes')"
   ]
  },
  {
   "cell_type": "markdown",
   "metadata": {},
   "source": [
    "[RobustScaler](https://scikit-learn.org/0.19/modules/generated/sklearn.preprocessing.RobustScaler.html)"
   ]
  },
  {
   "cell_type": "code",
   "execution_count": 15,
   "metadata": {
    "ExecuteTime": {
     "end_time": "2019-08-02T23:54:34.511820Z",
     "start_time": "2019-08-02T23:54:34.499051Z"
    }
   },
   "outputs": [],
   "source": [
    "rscaler = RobustScaler()\n",
    "data_num_rscaled = pd.DataFrame(rscaler.fit_transform(data_num.drop(columns='PROMOVIDO')),\n",
    "                               columns=list(data_num.drop(columns='PROMOVIDO').columns))"
   ]
  },
  {
   "cell_type": "code",
   "execution_count": 16,
   "metadata": {
    "ExecuteTime": {
     "end_time": "2019-08-02T23:54:34.525671Z",
     "start_time": "2019-08-02T23:54:34.514656Z"
    }
   },
   "outputs": [
    {
     "name": "stderr",
     "output_type": "stream",
     "text": [
      "/Users/macbook/anaconda3/lib/python3.7/site-packages/sklearn/linear_model/logistic.py:433: FutureWarning: Default solver will be changed to 'lbfgs' in 0.22. Specify a solver to silence this warning.\n",
      "  FutureWarning)\n"
     ]
    }
   ],
   "source": [
    "X = data_num_rscaled\n",
    "y = data_num['PROMOVIDO']\n",
    "X_train, X_test, y_train, y_test = train_test_split(X, y, test_size=0.3, random_state=0)\n",
    "logreg = LogisticRegression(random_state=42, class_weight='balanced')\n",
    "logreg.fit(X_train, y_train)\n",
    "y_pred = logreg.predict(X_test)"
   ]
  },
  {
   "cell_type": "code",
   "execution_count": 17,
   "metadata": {
    "ExecuteTime": {
     "end_time": "2019-08-02T23:54:34.929484Z",
     "start_time": "2019-08-02T23:54:34.527844Z"
    }
   },
   "outputs": [
    {
     "name": "stdout",
     "output_type": "stream",
     "text": [
      "Confusion matrix, without normalization\n",
      "[[77 13]\n",
      " [ 4 13]]\n"
     ]
    },
    {
     "data": {
      "image/png": "[encoded data removed]",
      "text/plain": [
       "<Figure size 432x288 with 2 Axes>"
      ]
     },
     "metadata": {
      "needs_background": "light"
     },
     "output_type": "display_data"
    },
    {
     "name": "stdout",
     "output_type": "stream",
     "text": [
      "Normalized confusion matrix\n",
      "[[0.85555556 0.14444444]\n",
      " [0.23529412 0.76470588]]\n"
     ]
    },
    {
     "data": {
      "image/png": "[encoded data removed]",
      "text/plain": [
       "<Figure size 432x288 with 2 Axes>"
      ]
     },
     "metadata": {
      "needs_background": "light"
     },
     "output_type": "display_data"
    }
   ],
   "source": [
    "_ = plot_confusion_matrix(y_test, y_pred)\n",
    "_ = plot_confusion_matrix(y_test, y_pred, normalize='yes')"
   ]
  },
  {
   "cell_type": "markdown",
   "metadata": {},
   "source": [
    "#### Binarization\n",
    "- Ao invés de um count, por exemplo, usar somente a informação de ter ou não aquela informação.\n",
    "- Exemplo: quantas vezes cada usuário ouviu uma música vs. se ouviu ou não uma música.\n",
    "- No contexto do nosso dataset: se tivéssemos uma coluna que só dissesse quando foi o último aumento do funcionário, poderíamos usar somente a informação se houve aumento ou não."
   ]
  },
  {
   "cell_type": "markdown",
   "metadata": {},
   "source": [
    "#### Interaction between features\n",
    "- Além dos valores individuais, podemos extrair informação importante da interação que pode haver entre features.\n",
    "- No contexto nosso dataset?"
   ]
  },
  {
   "cell_type": "markdown",
   "metadata": {},
   "source": [
    "#### Binning\n",
    "- Podem haver valores muito raros, mas próximos de valores mais numerosos; é relevante a informação granular?\n",
    "- Também podemos ter maior interesse em um grupo - ex: público alvo por idade;\n",
    "- No contexto do nosso dataset?"
   ]
  },
  {
   "cell_type": "markdown",
   "metadata": {},
   "source": [
    "#### Rounding\n",
    "- Mesma ideia do binning\n",
    "- Exemplos?\n",
    "- E no contexto nosso dataset?"
   ]
  },
  {
   "cell_type": "markdown",
   "metadata": {},
   "source": [
    "#### Statistical Transformation \n",
    "- Log: Log transforms are useful when applied to skewed distributions as they tend to expand the values which fall in the range of lower magnitudes and tend to compress or reduce the values which fall in the range of higher magnitudes.\n",
    "- Box-Cox"
   ]
  }
 ],
 "metadata": {
  "kernelspec": {
   "display_name": "Python 3",
   "language": "python",
   "name": "python3"
  },
  "language_info": {
   "codemirror_mode": {
    "name": "ipython",
    "version": 3
   },
   "file_extension": ".py",
   "mimetype": "text/x-python",
   "name": "python",
   "nbconvert_exporter": "python",
   "pygments_lexer": "ipython3",
   "version": "3.7.1"
  }
 },
 "nbformat": 4,
 "nbformat_minor": 2
}
