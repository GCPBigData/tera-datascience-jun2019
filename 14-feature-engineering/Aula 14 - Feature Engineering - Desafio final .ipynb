{
 "cells": [
  {
   "cell_type": "markdown",
   "metadata": {},
   "source": [
    "## Aula 14 - Feature Engineering - Parte 3"
   ]
  },
  {
   "cell_type": "markdown",
   "metadata": {},
   "source": [
    "### Organizando a bagunça..."
   ]
  },
  {
   "cell_type": "code",
   "execution_count": 2,
   "metadata": {},
   "outputs": [],
   "source": [
    "import pandas as pd\n",
    "from sklearn.preprocessing import OneHotEncoder, LabelEncoder\n",
    "from sklearn.preprocessing import StandardScaler, RobustScaler\n",
    "from sklearn.model_selection import train_test_split\n",
    "from sklearn.linear_model import LogisticRegression\n",
    "from confusion_matrix import plot_confusion_matrix"
   ]
  },
  {
   "cell_type": "code",
   "execution_count": 3,
   "metadata": {},
   "outputs": [],
   "source": [
    "def load_data(path):\n",
    "    data = pd.read_csv(path)\n",
    "    return data"
   ]
  },
  {
   "cell_type": "code",
   "execution_count": 4,
   "metadata": {},
   "outputs": [],
   "source": [
    "def filter_numeric(data):\n",
    "    numerics = ['int16', 'int32', 'int64', 'float16', 'float32', 'float64']\n",
    "    data_num = data.select_dtypes(include=numerics).copy()\n",
    "    data_num = data_num.drop(columns=['ADP', 'Cod.Cargo', 'Cod.Cargo Admissão', 'CC', \n",
    "                                              'Hora Extra 2016', 'Hora Negativa 2016', 'Ad. Noturno 2016', \n",
    "                                              'Absenteísmo 2016', 'Hora Extra 2017', 'Hora Negativa 2017', \n",
    "                                              'Ad. Noturno 2017', 'Absenteísmo 2017', 'Banda', \n",
    "                                              '2012/13 Goal Achievement'], axis=1)\n",
    "    return data_num"
   ]
  },
  {
   "cell_type": "code",
   "execution_count": 9,
   "metadata": {},
   "outputs": [],
   "source": [
    "def fillnas_mean(data):\n",
    "    #cuidado com a coluna target!!!\n",
    "    for col in data.columns:\n",
    "        qtt = data[col].isnull().sum()\n",
    "        if qtt > 0:\n",
    "            print(col, qtt)\n",
    "            data.update(data[col].fillna(data[col].mean()))\n",
    "    return data"
   ]
  },
  {
   "cell_type": "code",
   "execution_count": 10,
   "metadata": {},
   "outputs": [],
   "source": [
    "def apply_scaler(data, target_col):\n",
    "    target = data[target_col]\n",
    "    data2scale = data.drop(columns=target_col)\n",
    "    scaler = StandardScaler()\n",
    "    data_scaled = pd.DataFrame(scaler.fit_transform(data2scale), columns=list(data2scale.columns))\n",
    "    # nao precisaria necessariamente reincluir o target!\n",
    "    data_scaled[target_col] = target\n",
    "    return data_scaled"
   ]
  },
  {
   "cell_type": "code",
   "execution_count": 15,
   "metadata": {},
   "outputs": [],
   "source": [
    "def add_cat_onehot(data, cat_series, cat_label):\n",
    "    # Label encoder\n",
    "    le = LabelEncoder()\n",
    "    cat_intlabels = le.fit_transform(cat_series)\n",
    "    data[cat_label] = cat_intlabels\n",
    "    \n",
    "    #One Hot Encoder\n",
    "    ohe = OneHotEncoder()\n",
    "    cat_cols = ohe.fit_transform(data[[cat_label]]).toarray()\n",
    "    data.drop(columns=[cat_label], inplace = True)\n",
    "    \n",
    "    #Add to data df\n",
    "    cat_cols_labels = [cat_label+str(cat_intlabel) for cat_intlabel in set(cat_intlabels)]\n",
    "    cat_df = pd.DataFrame(cat_cols, columns=cat_cols_labels)\n",
    "    return pd.concat([data,cat_df], axis=1)"
   ]
  },
  {
   "cell_type": "code",
   "execution_count": null,
   "metadata": {},
   "outputs": [],
   "source": [
    "# Insira funções que utilizam outros encodings..."
   ]
  },
  {
   "cell_type": "code",
   "execution_count": 31,
   "metadata": {},
   "outputs": [],
   "source": [
    "def train_predict_logreg(data, target_col):\n",
    "    X = data.drop(columns=target_col)\n",
    "    y = data[target_col]\n",
    "    X_train, X_test, y_train, y_test = train_test_split(X, y, test_size=0.3, random_state=0)\n",
    "    logreg = LogisticRegression(random_state=42, class_weight='balanced')\n",
    "    logreg.fit(X_train, y_train)\n",
    "    return logreg.predict(X_test),y_test"
   ]
  },
  {
   "cell_type": "code",
   "execution_count": null,
   "metadata": {},
   "outputs": [],
   "source": [
    "def save_confusion_matrix(fig, path):\n",
    "    fig.savefig(path)"
   ]
  },
  {
   "cell_type": "code",
   "execution_count": 5,
   "metadata": {},
   "outputs": [],
   "source": [
    "original_data_path = 'Base Analytics.csv'\n",
    "target_col = 'PROMOVIDO'"
   ]
  },
  {
   "cell_type": "code",
   "execution_count": 7,
   "metadata": {},
   "outputs": [],
   "source": [
    "original_data = load_data(original_data_path)\n",
    "original_data = original_data[original_data['Admissão'] >= '2011-01-01'].reset_index().drop(columns='index')"
   ]
  },
  {
   "cell_type": "code",
   "execution_count": 8,
   "metadata": {},
   "outputs": [
    {
     "data": {
      "text/html": [
       "<div>\n",
       "<style scoped>\n",
       "    .dataframe tbody tr th:only-of-type {\n",
       "        vertical-align: middle;\n",
       "    }\n",
       "\n",
       "    .dataframe tbody tr th {\n",
       "        vertical-align: top;\n",
       "    }\n",
       "\n",
       "    .dataframe thead th {\n",
       "        text-align: right;\n",
       "    }\n",
       "</style>\n",
       "<table border=\"1\" class=\"dataframe\">\n",
       "  <thead>\n",
       "    <tr style=\"text-align: right;\">\n",
       "      <th></th>\n",
       "      <th>ADP</th>\n",
       "      <th>Admissão</th>\n",
       "      <th>Desligamento</th>\n",
       "      <th>Desligado?</th>\n",
       "      <th>Iniciativa Desligamento</th>\n",
       "      <th>Tempo de Casa</th>\n",
       "      <th>Cod.Cargo</th>\n",
       "      <th>Cargo</th>\n",
       "      <th>Cod.Cargo Admissão</th>\n",
       "      <th>Cargo Admissão</th>\n",
       "      <th>...</th>\n",
       "      <th>MERITO 2015</th>\n",
       "      <th>MERITO 2016</th>\n",
       "      <th>MERITO 2017</th>\n",
       "      <th>PROMOÇÃO 2012</th>\n",
       "      <th>PROMOÇÃO 2013</th>\n",
       "      <th>PROMOÇÃO 2014</th>\n",
       "      <th>PROMOÇÃO 2015</th>\n",
       "      <th>PROMOÇÃO 2016</th>\n",
       "      <th>PROMOÇÃO 2017</th>\n",
       "      <th>PROMOVIDO</th>\n",
       "    </tr>\n",
       "  </thead>\n",
       "  <tbody>\n",
       "    <tr>\n",
       "      <th>0</th>\n",
       "      <td>34</td>\n",
       "      <td>6/18/2001</td>\n",
       "      <td>11/16/2012</td>\n",
       "      <td>Y</td>\n",
       "      <td>Funcionário</td>\n",
       "      <td>11.4</td>\n",
       "      <td>790</td>\n",
       "      <td>DIRETORIA</td>\n",
       "      <td>666</td>\n",
       "      <td>DIRETORIA</td>\n",
       "      <td>...</td>\n",
       "      <td>NaN</td>\n",
       "      <td>NaN</td>\n",
       "      <td>NaN</td>\n",
       "      <td>NaN</td>\n",
       "      <td>NaN</td>\n",
       "      <td>NaN</td>\n",
       "      <td>NaN</td>\n",
       "      <td>NaN</td>\n",
       "      <td>NaN</td>\n",
       "      <td>0</td>\n",
       "    </tr>\n",
       "    <tr>\n",
       "      <th>1</th>\n",
       "      <td>40</td>\n",
       "      <td>9/2/2002</td>\n",
       "      <td>3/23/2012</td>\n",
       "      <td>Y</td>\n",
       "      <td>Funcionário</td>\n",
       "      <td>9.6</td>\n",
       "      <td>803</td>\n",
       "      <td>COORDENADOR</td>\n",
       "      <td>694</td>\n",
       "      <td>ANALISTA JR</td>\n",
       "      <td>...</td>\n",
       "      <td>NaN</td>\n",
       "      <td>NaN</td>\n",
       "      <td>NaN</td>\n",
       "      <td>NaN</td>\n",
       "      <td>NaN</td>\n",
       "      <td>NaN</td>\n",
       "      <td>NaN</td>\n",
       "      <td>NaN</td>\n",
       "      <td>NaN</td>\n",
       "      <td>0</td>\n",
       "    </tr>\n",
       "    <tr>\n",
       "      <th>2</th>\n",
       "      <td>41</td>\n",
       "      <td>9/16/2002</td>\n",
       "      <td></td>\n",
       "      <td>N</td>\n",
       "      <td>NaN</td>\n",
       "      <td>16.3</td>\n",
       "      <td>861</td>\n",
       "      <td>GERENTE</td>\n",
       "      <td>637</td>\n",
       "      <td>ANALISTA PL</td>\n",
       "      <td>...</td>\n",
       "      <td>NaN</td>\n",
       "      <td>NaN</td>\n",
       "      <td>Y</td>\n",
       "      <td>NaN</td>\n",
       "      <td>Y</td>\n",
       "      <td>NaN</td>\n",
       "      <td>NaN</td>\n",
       "      <td>NaN</td>\n",
       "      <td>NaN</td>\n",
       "      <td>1</td>\n",
       "    </tr>\n",
       "    <tr>\n",
       "      <th>3</th>\n",
       "      <td>42</td>\n",
       "      <td>9/26/2002</td>\n",
       "      <td>10/7/2011</td>\n",
       "      <td>Y</td>\n",
       "      <td>Empregador</td>\n",
       "      <td>9.0</td>\n",
       "      <td>786</td>\n",
       "      <td>GERENTE</td>\n",
       "      <td>695</td>\n",
       "      <td>SUPERVISOR</td>\n",
       "      <td>...</td>\n",
       "      <td>NaN</td>\n",
       "      <td>NaN</td>\n",
       "      <td>NaN</td>\n",
       "      <td>NaN</td>\n",
       "      <td>NaN</td>\n",
       "      <td>NaN</td>\n",
       "      <td>NaN</td>\n",
       "      <td>NaN</td>\n",
       "      <td>NaN</td>\n",
       "      <td>0</td>\n",
       "    </tr>\n",
       "    <tr>\n",
       "      <th>4</th>\n",
       "      <td>45</td>\n",
       "      <td>6/26/2001</td>\n",
       "      <td>11/1/2011</td>\n",
       "      <td>Y</td>\n",
       "      <td>Empregador</td>\n",
       "      <td>10.4</td>\n",
       "      <td>677</td>\n",
       "      <td>DIRETORIA</td>\n",
       "      <td>677</td>\n",
       "      <td>DIRETORIA</td>\n",
       "      <td>...</td>\n",
       "      <td>NaN</td>\n",
       "      <td>NaN</td>\n",
       "      <td>NaN</td>\n",
       "      <td>NaN</td>\n",
       "      <td>NaN</td>\n",
       "      <td>NaN</td>\n",
       "      <td>NaN</td>\n",
       "      <td>NaN</td>\n",
       "      <td>NaN</td>\n",
       "      <td>0</td>\n",
       "    </tr>\n",
       "  </tbody>\n",
       "</table>\n",
       "<p>5 rows × 63 columns</p>\n",
       "</div>"
      ],
      "text/plain": [
       "   ADP   Admissão Desligamento Desligado? Iniciativa Desligamento  \\\n",
       "0   34  6/18/2001   11/16/2012          Y             Funcionário   \n",
       "1   40   9/2/2002    3/23/2012          Y             Funcionário   \n",
       "2   41  9/16/2002                       N                     NaN   \n",
       "3   42  9/26/2002    10/7/2011          Y             Empregador    \n",
       "4   45  6/26/2001    11/1/2011          Y             Empregador    \n",
       "\n",
       "   Tempo de Casa  Cod.Cargo        Cargo  Cod.Cargo Admissão Cargo Admissão  \\\n",
       "0           11.4        790    DIRETORIA                 666      DIRETORIA   \n",
       "1            9.6        803  COORDENADOR                 694    ANALISTA JR   \n",
       "2           16.3        861      GERENTE                 637    ANALISTA PL   \n",
       "3            9.0        786      GERENTE                 695     SUPERVISOR   \n",
       "4           10.4        677    DIRETORIA                 677      DIRETORIA   \n",
       "\n",
       "     ...     MERITO 2015 MERITO 2016 MERITO 2017 PROMOÇÃO 2012 PROMOÇÃO 2013  \\\n",
       "0    ...             NaN         NaN         NaN           NaN           NaN   \n",
       "1    ...             NaN         NaN         NaN           NaN           NaN   \n",
       "2    ...             NaN         NaN           Y           NaN             Y   \n",
       "3    ...             NaN         NaN         NaN           NaN           NaN   \n",
       "4    ...             NaN         NaN         NaN           NaN           NaN   \n",
       "\n",
       "   PROMOÇÃO 2014  PROMOÇÃO 2015 PROMOÇÃO 2016  PROMOÇÃO 2017 PROMOVIDO  \n",
       "0            NaN            NaN           NaN            NaN         0  \n",
       "1            NaN            NaN           NaN            NaN         0  \n",
       "2            NaN            NaN           NaN            NaN         1  \n",
       "3            NaN            NaN           NaN            NaN         0  \n",
       "4            NaN            NaN           NaN            NaN         0  \n",
       "\n",
       "[5 rows x 63 columns]"
      ]
     },
     "execution_count": 8,
     "metadata": {},
     "output_type": "execute_result"
    }
   ],
   "source": [
    "original_data.head(5)"
   ]
  },
  {
   "cell_type": "code",
   "execution_count": 19,
   "metadata": {},
   "outputs": [
    {
     "name": "stdout",
     "output_type": "stream",
     "text": [
      "2013/14 Goal Achievement 245\n",
      "2014/15 Goal Achievement 229\n",
      "2015/16 Goal Achievement 148\n",
      "2016/17 Goal Achievement 143\n"
     ]
    }
   ],
   "source": [
    "#filtre os dados numericos usando a função criada\n",
    "data = filter_numeric(original_data)\n",
    "#preencha os nulos usando a função criada\n",
    "data = fillnas_mean(data) \n",
    "#aplique o scaler usando a função criada\n",
    "data = apply_scaler(data, target_col)"
   ]
  },
  {
   "cell_type": "code",
   "execution_count": 20,
   "metadata": {},
   "outputs": [
    {
     "data": {
      "text/html": [
       "<div>\n",
       "<style scoped>\n",
       "    .dataframe tbody tr th:only-of-type {\n",
       "        vertical-align: middle;\n",
       "    }\n",
       "\n",
       "    .dataframe tbody tr th {\n",
       "        vertical-align: top;\n",
       "    }\n",
       "\n",
       "    .dataframe thead th {\n",
       "        text-align: right;\n",
       "    }\n",
       "</style>\n",
       "<table border=\"1\" class=\"dataframe\">\n",
       "  <thead>\n",
       "    <tr style=\"text-align: right;\">\n",
       "      <th></th>\n",
       "      <th>Tempo de Casa</th>\n",
       "      <th>Idade Atual/ Desligamento</th>\n",
       "      <th>Idade na Admissão</th>\n",
       "      <th>2013/14 Goal Achievement</th>\n",
       "      <th>2014/15 Goal Achievement</th>\n",
       "      <th>2015/16 Goal Achievement</th>\n",
       "      <th>2016/17 Goal Achievement</th>\n",
       "      <th>PROMOVIDO</th>\n",
       "    </tr>\n",
       "  </thead>\n",
       "  <tbody>\n",
       "    <tr>\n",
       "      <th>0</th>\n",
       "      <td>2.430857</td>\n",
       "      <td>0.581895</td>\n",
       "      <td>-0.408370</td>\n",
       "      <td>0.000000</td>\n",
       "      <td>-2.356860e-15</td>\n",
       "      <td>2.244346e-15</td>\n",
       "      <td>-2.468248e-15</td>\n",
       "      <td>0</td>\n",
       "    </tr>\n",
       "    <tr>\n",
       "      <th>1</th>\n",
       "      <td>1.820714</td>\n",
       "      <td>-0.135847</td>\n",
       "      <td>-0.925495</td>\n",
       "      <td>0.000000</td>\n",
       "      <td>-2.356860e-15</td>\n",
       "      <td>2.244346e-15</td>\n",
       "      <td>-2.468248e-15</td>\n",
       "      <td>0</td>\n",
       "    </tr>\n",
       "    <tr>\n",
       "      <th>2</th>\n",
       "      <td>4.091799</td>\n",
       "      <td>0.818587</td>\n",
       "      <td>-0.498076</td>\n",
       "      <td>0.687634</td>\n",
       "      <td>-2.550422e-01</td>\n",
       "      <td>8.443278e-02</td>\n",
       "      <td>-6.670254e-01</td>\n",
       "      <td>1</td>\n",
       "    </tr>\n",
       "    <tr>\n",
       "      <th>3</th>\n",
       "      <td>1.617334</td>\n",
       "      <td>0.433364</td>\n",
       "      <td>-0.274472</td>\n",
       "      <td>0.000000</td>\n",
       "      <td>-2.356860e-15</td>\n",
       "      <td>2.244346e-15</td>\n",
       "      <td>-2.468248e-15</td>\n",
       "      <td>0</td>\n",
       "    </tr>\n",
       "    <tr>\n",
       "      <th>4</th>\n",
       "      <td>2.091889</td>\n",
       "      <td>0.683791</td>\n",
       "      <td>-0.174873</td>\n",
       "      <td>-0.158568</td>\n",
       "      <td>-2.356860e-15</td>\n",
       "      <td>2.244346e-15</td>\n",
       "      <td>-2.468248e-15</td>\n",
       "      <td>0</td>\n",
       "    </tr>\n",
       "  </tbody>\n",
       "</table>\n",
       "</div>"
      ],
      "text/plain": [
       "   Tempo de Casa  Idade Atual/ Desligamento  Idade na Admissão  \\\n",
       "0       2.430857                   0.581895          -0.408370   \n",
       "1       1.820714                  -0.135847          -0.925495   \n",
       "2       4.091799                   0.818587          -0.498076   \n",
       "3       1.617334                   0.433364          -0.274472   \n",
       "4       2.091889                   0.683791          -0.174873   \n",
       "\n",
       "   2013/14 Goal Achievement  2014/15 Goal Achievement  \\\n",
       "0                  0.000000             -2.356860e-15   \n",
       "1                  0.000000             -2.356860e-15   \n",
       "2                  0.687634             -2.550422e-01   \n",
       "3                  0.000000             -2.356860e-15   \n",
       "4                 -0.158568             -2.356860e-15   \n",
       "\n",
       "   2015/16 Goal Achievement  2016/17 Goal Achievement  PROMOVIDO  \n",
       "0              2.244346e-15             -2.468248e-15          0  \n",
       "1              2.244346e-15             -2.468248e-15          0  \n",
       "2              8.443278e-02             -6.670254e-01          1  \n",
       "3              2.244346e-15             -2.468248e-15          0  \n",
       "4              2.244346e-15             -2.468248e-15          0  "
      ]
     },
     "execution_count": 20,
     "metadata": {},
     "output_type": "execute_result"
    }
   ],
   "source": [
    "data.head(5)"
   ]
  },
  {
   "cell_type": "code",
   "execution_count": 24,
   "metadata": {},
   "outputs": [
    {
     "data": {
      "text/plain": [
       "(356, 8)"
      ]
     },
     "execution_count": 24,
     "metadata": {},
     "output_type": "execute_result"
    }
   ],
   "source": [
    "data.shape"
   ]
  },
  {
   "cell_type": "code",
   "execution_count": 27,
   "metadata": {},
   "outputs": [],
   "source": [
    "data = add_cat_onehot(data, original_data['Sexo'], 'Sexo_')\n",
    "data = add_cat_onehot(data, original_data['Cargo'], 'Cargo_')\n",
    "data = add_cat_onehot(data, original_data['Area'], 'Area_')\n",
    "data = add_cat_onehot(data, original_data['Diretoria'], 'Diretoria_')"
   ]
  },
  {
   "cell_type": "code",
   "execution_count": 29,
   "metadata": {},
   "outputs": [
    {
     "data": {
      "text/html": [
       "<div>\n",
       "<style scoped>\n",
       "    .dataframe tbody tr th:only-of-type {\n",
       "        vertical-align: middle;\n",
       "    }\n",
       "\n",
       "    .dataframe tbody tr th {\n",
       "        vertical-align: top;\n",
       "    }\n",
       "\n",
       "    .dataframe thead th {\n",
       "        text-align: right;\n",
       "    }\n",
       "</style>\n",
       "<table border=\"1\" class=\"dataframe\">\n",
       "  <thead>\n",
       "    <tr style=\"text-align: right;\">\n",
       "      <th></th>\n",
       "      <th>Tempo de Casa</th>\n",
       "      <th>Idade Atual/ Desligamento</th>\n",
       "      <th>Idade na Admissão</th>\n",
       "      <th>2013/14 Goal Achievement</th>\n",
       "      <th>2014/15 Goal Achievement</th>\n",
       "      <th>2015/16 Goal Achievement</th>\n",
       "      <th>2016/17 Goal Achievement</th>\n",
       "      <th>PROMOVIDO</th>\n",
       "      <th>Sexo_0</th>\n",
       "      <th>Sexo_1</th>\n",
       "      <th>...</th>\n",
       "      <th>Diretoria_1</th>\n",
       "      <th>Diretoria_2</th>\n",
       "      <th>Diretoria_3</th>\n",
       "      <th>Diretoria_4</th>\n",
       "      <th>Diretoria_5</th>\n",
       "      <th>Diretoria_6</th>\n",
       "      <th>Diretoria_7</th>\n",
       "      <th>Diretoria_8</th>\n",
       "      <th>Diretoria_9</th>\n",
       "      <th>Diretoria_10</th>\n",
       "    </tr>\n",
       "  </thead>\n",
       "  <tbody>\n",
       "    <tr>\n",
       "      <th>0</th>\n",
       "      <td>2.430857</td>\n",
       "      <td>0.581895</td>\n",
       "      <td>-0.408370</td>\n",
       "      <td>0.000000</td>\n",
       "      <td>-2.356860e-15</td>\n",
       "      <td>2.244346e-15</td>\n",
       "      <td>-2.468248e-15</td>\n",
       "      <td>0</td>\n",
       "      <td>1.0</td>\n",
       "      <td>0.0</td>\n",
       "      <td>...</td>\n",
       "      <td>0.0</td>\n",
       "      <td>0.0</td>\n",
       "      <td>0.0</td>\n",
       "      <td>0.0</td>\n",
       "      <td>0.0</td>\n",
       "      <td>0.0</td>\n",
       "      <td>0.0</td>\n",
       "      <td>0.0</td>\n",
       "      <td>0.0</td>\n",
       "      <td>0.0</td>\n",
       "    </tr>\n",
       "    <tr>\n",
       "      <th>1</th>\n",
       "      <td>1.820714</td>\n",
       "      <td>-0.135847</td>\n",
       "      <td>-0.925495</td>\n",
       "      <td>0.000000</td>\n",
       "      <td>-2.356860e-15</td>\n",
       "      <td>2.244346e-15</td>\n",
       "      <td>-2.468248e-15</td>\n",
       "      <td>0</td>\n",
       "      <td>0.0</td>\n",
       "      <td>1.0</td>\n",
       "      <td>...</td>\n",
       "      <td>0.0</td>\n",
       "      <td>1.0</td>\n",
       "      <td>0.0</td>\n",
       "      <td>0.0</td>\n",
       "      <td>0.0</td>\n",
       "      <td>0.0</td>\n",
       "      <td>0.0</td>\n",
       "      <td>0.0</td>\n",
       "      <td>0.0</td>\n",
       "      <td>0.0</td>\n",
       "    </tr>\n",
       "    <tr>\n",
       "      <th>2</th>\n",
       "      <td>4.091799</td>\n",
       "      <td>0.818587</td>\n",
       "      <td>-0.498076</td>\n",
       "      <td>0.687634</td>\n",
       "      <td>-2.550422e-01</td>\n",
       "      <td>8.443278e-02</td>\n",
       "      <td>-6.670254e-01</td>\n",
       "      <td>1</td>\n",
       "      <td>0.0</td>\n",
       "      <td>1.0</td>\n",
       "      <td>...</td>\n",
       "      <td>0.0</td>\n",
       "      <td>0.0</td>\n",
       "      <td>0.0</td>\n",
       "      <td>0.0</td>\n",
       "      <td>0.0</td>\n",
       "      <td>1.0</td>\n",
       "      <td>0.0</td>\n",
       "      <td>0.0</td>\n",
       "      <td>0.0</td>\n",
       "      <td>0.0</td>\n",
       "    </tr>\n",
       "    <tr>\n",
       "      <th>3</th>\n",
       "      <td>1.617334</td>\n",
       "      <td>0.433364</td>\n",
       "      <td>-0.274472</td>\n",
       "      <td>0.000000</td>\n",
       "      <td>-2.356860e-15</td>\n",
       "      <td>2.244346e-15</td>\n",
       "      <td>-2.468248e-15</td>\n",
       "      <td>0</td>\n",
       "      <td>1.0</td>\n",
       "      <td>0.0</td>\n",
       "      <td>...</td>\n",
       "      <td>0.0</td>\n",
       "      <td>1.0</td>\n",
       "      <td>0.0</td>\n",
       "      <td>0.0</td>\n",
       "      <td>0.0</td>\n",
       "      <td>0.0</td>\n",
       "      <td>0.0</td>\n",
       "      <td>0.0</td>\n",
       "      <td>0.0</td>\n",
       "      <td>0.0</td>\n",
       "    </tr>\n",
       "    <tr>\n",
       "      <th>4</th>\n",
       "      <td>2.091889</td>\n",
       "      <td>0.683791</td>\n",
       "      <td>-0.174873</td>\n",
       "      <td>-0.158568</td>\n",
       "      <td>-2.356860e-15</td>\n",
       "      <td>2.244346e-15</td>\n",
       "      <td>-2.468248e-15</td>\n",
       "      <td>0</td>\n",
       "      <td>1.0</td>\n",
       "      <td>0.0</td>\n",
       "      <td>...</td>\n",
       "      <td>0.0</td>\n",
       "      <td>0.0</td>\n",
       "      <td>0.0</td>\n",
       "      <td>0.0</td>\n",
       "      <td>1.0</td>\n",
       "      <td>0.0</td>\n",
       "      <td>0.0</td>\n",
       "      <td>0.0</td>\n",
       "      <td>0.0</td>\n",
       "      <td>0.0</td>\n",
       "    </tr>\n",
       "  </tbody>\n",
       "</table>\n",
       "<p>5 rows × 67 columns</p>\n",
       "</div>"
      ],
      "text/plain": [
       "   Tempo de Casa  Idade Atual/ Desligamento  Idade na Admissão  \\\n",
       "0       2.430857                   0.581895          -0.408370   \n",
       "1       1.820714                  -0.135847          -0.925495   \n",
       "2       4.091799                   0.818587          -0.498076   \n",
       "3       1.617334                   0.433364          -0.274472   \n",
       "4       2.091889                   0.683791          -0.174873   \n",
       "\n",
       "   2013/14 Goal Achievement  2014/15 Goal Achievement  \\\n",
       "0                  0.000000             -2.356860e-15   \n",
       "1                  0.000000             -2.356860e-15   \n",
       "2                  0.687634             -2.550422e-01   \n",
       "3                  0.000000             -2.356860e-15   \n",
       "4                 -0.158568             -2.356860e-15   \n",
       "\n",
       "   2015/16 Goal Achievement  2016/17 Goal Achievement  PROMOVIDO  Sexo_0  \\\n",
       "0              2.244346e-15             -2.468248e-15          0     1.0   \n",
       "1              2.244346e-15             -2.468248e-15          0     0.0   \n",
       "2              8.443278e-02             -6.670254e-01          1     0.0   \n",
       "3              2.244346e-15             -2.468248e-15          0     1.0   \n",
       "4              2.244346e-15             -2.468248e-15          0     1.0   \n",
       "\n",
       "   Sexo_1      ...       Diretoria_1  Diretoria_2  Diretoria_3  Diretoria_4  \\\n",
       "0     0.0      ...               0.0          0.0          0.0          0.0   \n",
       "1     1.0      ...               0.0          1.0          0.0          0.0   \n",
       "2     1.0      ...               0.0          0.0          0.0          0.0   \n",
       "3     0.0      ...               0.0          1.0          0.0          0.0   \n",
       "4     0.0      ...               0.0          0.0          0.0          0.0   \n",
       "\n",
       "   Diretoria_5  Diretoria_6  Diretoria_7  Diretoria_8  Diretoria_9  \\\n",
       "0          0.0          0.0          0.0          0.0          0.0   \n",
       "1          0.0          0.0          0.0          0.0          0.0   \n",
       "2          0.0          1.0          0.0          0.0          0.0   \n",
       "3          0.0          0.0          0.0          0.0          0.0   \n",
       "4          1.0          0.0          0.0          0.0          0.0   \n",
       "\n",
       "   Diretoria_10  \n",
       "0           0.0  \n",
       "1           0.0  \n",
       "2           0.0  \n",
       "3           0.0  \n",
       "4           0.0  \n",
       "\n",
       "[5 rows x 67 columns]"
      ]
     },
     "execution_count": 29,
     "metadata": {},
     "output_type": "execute_result"
    }
   ],
   "source": [
    "data.head()"
   ]
  },
  {
   "cell_type": "code",
   "execution_count": 30,
   "metadata": {},
   "outputs": [
    {
     "data": {
      "text/plain": [
       "(356, 67)"
      ]
     },
     "execution_count": 30,
     "metadata": {},
     "output_type": "execute_result"
    }
   ],
   "source": [
    "data.shape"
   ]
  },
  {
   "cell_type": "code",
   "execution_count": 36,
   "metadata": {},
   "outputs": [
    {
     "name": "stdout",
     "output_type": "stream",
     "text": [
      "Confusion matrix, without normalization\n",
      "[[80 10]\n",
      " [ 5 12]]\n",
      "Normalized confusion matrix\n",
      "[[ 0.88888889  0.11111111]\n",
      " [ 0.29411765  0.70588235]]\n"
     ]
    },
    {
     "data": {
      "image/png": "[encoded data removed]",
      "text/plain": [
       "<Figure size 432x288 with 2 Axes>"
      ]
     },
     "execution_count": 36,
     "metadata": {},
     "output_type": "execute_result"
    },
    {
     "data": {
      "image/png": "[encoded data removed]",
      "text/plain": [
       "<Figure size 432x288 with 2 Axes>"
      ]
     },
     "metadata": {
      "needs_background": "light"
     },
     "output_type": "display_data"
    },
    {
     "data": {
      "image/png": "[encoded data removed]",
      "text/plain": [
       "<Figure size 432x288 with 2 Axes>"
      ]
     },
     "metadata": {
      "needs_background": "light"
     },
     "output_type": "display_data"
    }
   ],
   "source": [
    "y_pred, y_test = train_predict_logreg(data, target_col)\n",
    "plot_confusion_matrix(y_test, y_pred)\n",
    "plot_confusion_matrix(y_test, y_pred, normalize='yes')"
   ]
  },
  {
   "cell_type": "code",
   "execution_count": null,
   "metadata": {},
   "outputs": [],
   "source": [
    "r = plot_confusion_matrix(y_test, y_pred, normalize='yes')\n",
    "save_confusion_matrix(r,'test2')"
   ]
  },
  {
   "cell_type": "markdown",
   "metadata": {},
   "source": [
    "### Outros encoders \n",
    "\n",
    "[Mais detalhes sobre outros métodos de Feature Engineering - HJ van Veen](https://www.dropbox.com/s/mebc9i6kxgm516c/feature-engineering-mlmeetup.pdf?dl=0)\n",
    "Incluindo spatial data (Lat, Long, address etc) e Natural Langague Processing\n",
    "\n",
    "##### Links do pré-aula\n",
    "[Continuous Numeric Data](https://towardsdatascience.com/understanding-feature-engineering-part-1-continuous-numeric-data-da4e47099a7b)\n",
    "\n",
    "[Categorical Data](https://towardsdatascience.com/understanding-feature-engineering-part-2-categorical-data-f54324193e63)\n"
   ]
  },
  {
   "cell_type": "markdown",
   "metadata": {},
   "source": [
    "### Missing values\n",
    "[Página documentação Pandas](http://pandas.pydata.org/pandas-docs/version/0.22/missing_data.html)"
   ]
  },
  {
   "cell_type": "markdown",
   "metadata": {},
   "source": [
    "### Forma interessante de executar diferentes combinações de features, encoders, algoritmos\n",
    "\n",
    "[Pipeline](https://scikit-learn.org/0.19/modules/generated/sklearn.pipeline.Pipeline.html)\n",
    "\n"
   ]
  }
 ],
 "metadata": {
  "kernelspec": {
   "display_name": "Python 3",
   "language": "python",
   "name": "python3"
  },
  "language_info": {
   "codemirror_mode": {
    "name": "ipython",
    "version": 3
   },
   "file_extension": ".py",
   "mimetype": "text/x-python",
   "name": "python",
   "nbconvert_exporter": "python",
   "pygments_lexer": "ipython3",
   "version": "3.6.5"
  }
 },
 "nbformat": 4,
 "nbformat_minor": 2
}
