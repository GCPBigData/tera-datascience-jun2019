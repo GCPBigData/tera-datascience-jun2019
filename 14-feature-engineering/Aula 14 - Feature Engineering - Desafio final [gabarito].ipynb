{
 "cells": [
  {
   "cell_type": "markdown",
   "metadata": {},
   "source": [
    "## Aula 14 - Feature Engineering - Parte 3"
   ]
  },
  {
   "cell_type": "markdown",
   "metadata": {},
   "source": [
    "### Organizando a bagunça..."
   ]
  },
  {
   "cell_type": "code",
   "execution_count": 1,
   "metadata": {
    "ExecuteTime": {
     "end_time": "2019-08-02T23:48:55.085088Z",
     "start_time": "2019-08-02T23:48:53.441345Z"
    }
   },
   "outputs": [],
   "source": [
    "import pandas as pd\n",
    "from sklearn.preprocessing import OneHotEncoder, LabelEncoder\n",
    "from sklearn.preprocessing import StandardScaler, RobustScaler\n",
    "from sklearn.model_selection import train_test_split\n",
    "from sklearn.linear_model import LogisticRegression\n",
    "from plotting import plot_confusion_matrix"
   ]
  },
  {
   "cell_type": "code",
   "execution_count": 2,
   "metadata": {
    "ExecuteTime": {
     "end_time": "2019-08-02T23:48:55.092301Z",
     "start_time": "2019-08-02T23:48:55.088135Z"
    }
   },
   "outputs": [],
   "source": [
    "def load_data(path):\n",
    "    return pd.read_csv(path)"
   ]
  },
  {
   "cell_type": "code",
   "execution_count": 3,
   "metadata": {
    "ExecuteTime": {
     "end_time": "2019-08-02T23:48:55.102657Z",
     "start_time": "2019-08-02T23:48:55.095596Z"
    }
   },
   "outputs": [],
   "source": [
    "def filter_numeric(data):\n",
    "    numerics = ['int16', 'int32', 'int64', 'float16', 'float32', 'float64']\n",
    "    data_num = data.select_dtypes(include=numerics).copy()\n",
    "    data_num = data_num.drop(columns=['ADP', 'Cod.Cargo', 'Cod.Cargo Admissão', 'CC', \n",
    "                                              'Hora Extra 2016', 'Hora Negativa 2016', 'Ad. Noturno 2016', \n",
    "                                              'Absenteísmo 2016', 'Hora Extra 2017', 'Hora Negativa 2017', \n",
    "                                              'Ad. Noturno 2017', 'Absenteísmo 2017', 'Banda', \n",
    "                                              '2012/13 Goal Achievement'], axis=1)\n",
    "    return data_num"
   ]
  },
  {
   "cell_type": "code",
   "execution_count": 4,
   "metadata": {
    "ExecuteTime": {
     "end_time": "2019-08-02T23:48:55.137983Z",
     "start_time": "2019-08-02T23:48:55.123917Z"
    }
   },
   "outputs": [],
   "source": [
    "def fillnas_mean(data):\n",
    "    #cuidado com a coluna target!!!\n",
    "    for col in data.columns:\n",
    "        qtt = data[col].isnull().sum()\n",
    "        if qtt > 0:\n",
    "            print(col, qtt)\n",
    "            data.update(data[col].fillna(data[col].mean()))\n",
    "    return data"
   ]
  },
  {
   "cell_type": "code",
   "execution_count": 5,
   "metadata": {
    "ExecuteTime": {
     "end_time": "2019-08-02T23:48:55.158850Z",
     "start_time": "2019-08-02T23:48:55.142926Z"
    }
   },
   "outputs": [],
   "source": [
    "def apply_scaler(data, target_col):\n",
    "    target = data[target_col]\n",
    "    data2scale = data.drop(columns='PROMOVIDO')\n",
    "    scaler = StandardScaler()\n",
    "    data_scaled = pd.DataFrame(scaler.fit_transform(data2scale), columns=list(data2scale.columns))\n",
    "    # nao precisaria necessariamente reincluir o target!\n",
    "    data_scaled[target_col] = target\n",
    "    return data_scaled"
   ]
  },
  {
   "cell_type": "code",
   "execution_count": 6,
   "metadata": {
    "ExecuteTime": {
     "end_time": "2019-08-02T23:48:55.184419Z",
     "start_time": "2019-08-02T23:48:55.161958Z"
    }
   },
   "outputs": [],
   "source": [
    "def add_cat_onehot(data, cat_series, cat_label):\n",
    "    # Label encoder\n",
    "    le = LabelEncoder()\n",
    "    cat_intlabels = le.fit_transform(cat_series)\n",
    "    data[cat_label] = cat_intlabels\n",
    "    \n",
    "    #One Hot Encoder\n",
    "    ohe = OneHotEncoder()\n",
    "    cat_cols = ohe.fit_transform(data[[cat_label]]).toarray()\n",
    "    data.drop(columns=[cat_label], inplace = True)\n",
    "    \n",
    "    #Add to data df\n",
    "    cat_cols_labels = [cat_label+str(cat_intlabel) for cat_intlabel in set(cat_intlabels)]\n",
    "    cat_df = pd.DataFrame(cat_cols, columns=cat_cols_labels)\n",
    "    return pd.concat([data,cat_df], axis=1)"
   ]
  },
  {
   "cell_type": "code",
   "execution_count": 7,
   "metadata": {
    "ExecuteTime": {
     "end_time": "2019-08-02T23:48:55.191958Z",
     "start_time": "2019-08-02T23:48:55.187728Z"
    }
   },
   "outputs": [],
   "source": [
    "# Insira funções que utilizam outros encodings..."
   ]
  },
  {
   "cell_type": "code",
   "execution_count": 8,
   "metadata": {
    "ExecuteTime": {
     "end_time": "2019-08-02T23:48:55.211014Z",
     "start_time": "2019-08-02T23:48:55.198960Z"
    }
   },
   "outputs": [],
   "source": [
    "def train_predict_logreg(data, target_col):\n",
    "    X = data.drop(columns=target_col)\n",
    "    y = data[target_col]\n",
    "    X_train, X_test, y_train, y_test = train_test_split(X, y, test_size=0.3, random_state=0)\n",
    "    logreg = LogisticRegression(random_state=42, class_weight='balanced')\n",
    "    logreg.fit(X_train, y_train)\n",
    "    return logreg.predict(X_test),y_test"
   ]
  },
  {
   "cell_type": "code",
   "execution_count": 9,
   "metadata": {
    "ExecuteTime": {
     "end_time": "2019-08-02T23:48:55.219671Z",
     "start_time": "2019-08-02T23:48:55.213986Z"
    }
   },
   "outputs": [],
   "source": [
    "def save_confusion_matrix(fig, path):\n",
    "    fig.savefig(path)"
   ]
  },
  {
   "cell_type": "code",
   "execution_count": 10,
   "metadata": {
    "ExecuteTime": {
     "end_time": "2019-08-02T23:48:55.228848Z",
     "start_time": "2019-08-02T23:48:55.223084Z"
    }
   },
   "outputs": [],
   "source": [
    "original_data_path = 'data/Base Analytics.csv'\n",
    "target_col = 'PROMOVIDO'"
   ]
  },
  {
   "cell_type": "code",
   "execution_count": 11,
   "metadata": {
    "ExecuteTime": {
     "end_time": "2019-08-02T23:48:55.270967Z",
     "start_time": "2019-08-02T23:48:55.230675Z"
    }
   },
   "outputs": [],
   "source": [
    "original_data = load_data(original_data_path)\n",
    "original_data = original_data[original_data['Admissão'] >= '2011-01-01'].reset_index().drop(columns='index')"
   ]
  },
  {
   "cell_type": "code",
   "execution_count": 12,
   "metadata": {
    "ExecuteTime": {
     "end_time": "2019-08-02T23:48:55.327652Z",
     "start_time": "2019-08-02T23:48:55.272914Z"
    }
   },
   "outputs": [
    {
     "name": "stdout",
     "output_type": "stream",
     "text": [
      "2013/14 Goal Achievement 245\n",
      "2014/15 Goal Achievement 229\n",
      "2015/16 Goal Achievement 148\n",
      "2016/17 Goal Achievement 143\n"
     ]
    }
   ],
   "source": [
    "data = filter_numeric(original_data)\n",
    "data = fillnas_mean(data)\n",
    "data = apply_scaler(data,target_col)"
   ]
  },
  {
   "cell_type": "code",
   "execution_count": 13,
   "metadata": {
    "ExecuteTime": {
     "end_time": "2019-08-02T23:48:55.338609Z",
     "start_time": "2019-08-02T23:48:55.330649Z"
    }
   },
   "outputs": [
    {
     "data": {
      "text/plain": [
       "(356, 8)"
      ]
     },
     "execution_count": 13,
     "metadata": {},
     "output_type": "execute_result"
    }
   ],
   "source": [
    "data.shape"
   ]
  },
  {
   "cell_type": "code",
   "execution_count": 14,
   "metadata": {
    "ExecuteTime": {
     "end_time": "2019-08-02T23:48:55.372407Z",
     "start_time": "2019-08-02T23:48:55.342666Z"
    }
   },
   "outputs": [
    {
     "name": "stderr",
     "output_type": "stream",
     "text": [
      "/Users/macbook/anaconda3/lib/python3.7/site-packages/sklearn/preprocessing/_encoders.py:368: FutureWarning: The handling of integer data will change in version 0.22. Currently, the categories are determined based on the range [0, max(values)], while in the future they will be determined based on the unique values.\n",
      "If you want the future behaviour and silence this warning, you can specify \"categories='auto'\".\n",
      "In case you used a LabelEncoder before this OneHotEncoder to convert the categories to integers, then you can now use the OneHotEncoder directly.\n",
      "  warnings.warn(msg, FutureWarning)\n",
      "/Users/macbook/anaconda3/lib/python3.7/site-packages/sklearn/preprocessing/_encoders.py:368: FutureWarning: The handling of integer data will change in version 0.22. Currently, the categories are determined based on the range [0, max(values)], while in the future they will be determined based on the unique values.\n",
      "If you want the future behaviour and silence this warning, you can specify \"categories='auto'\".\n",
      "In case you used a LabelEncoder before this OneHotEncoder to convert the categories to integers, then you can now use the OneHotEncoder directly.\n",
      "  warnings.warn(msg, FutureWarning)\n"
     ]
    }
   ],
   "source": [
    "data = add_cat_onehot(data, original_data['Sexo'], 'Sexo_')\n",
    "#data = add_cat_onehot(data, original_data['Cargo'], 'Cargo_')\n",
    "data = add_cat_onehot(data, original_data['Area'], 'Area_')\n",
    "#data = add_cat_onehot(data, original_data['Diretoria'], 'Diretoria_')"
   ]
  },
  {
   "cell_type": "code",
   "execution_count": 19,
   "metadata": {
    "ExecuteTime": {
     "end_time": "2019-08-02T23:52:04.475067Z",
     "start_time": "2019-08-02T23:52:04.123624Z"
    }
   },
   "outputs": [
    {
     "name": "stdout",
     "output_type": "stream",
     "text": [
      "Confusion matrix, without normalization\n",
      "[[80 10]\n",
      " [ 4 13]]\n"
     ]
    },
    {
     "name": "stderr",
     "output_type": "stream",
     "text": [
      "/Users/macbook/anaconda3/lib/python3.7/site-packages/sklearn/linear_model/logistic.py:433: FutureWarning: Default solver will be changed to 'lbfgs' in 0.22. Specify a solver to silence this warning.\n",
      "  FutureWarning)\n"
     ]
    },
    {
     "data": {
      "image/png": "[encoded data removed]",
      "text/plain": [
       "<Figure size 432x288 with 2 Axes>"
      ]
     },
     "metadata": {
      "needs_background": "light"
     },
     "output_type": "display_data"
    },
    {
     "name": "stdout",
     "output_type": "stream",
     "text": [
      "Normalized confusion matrix\n",
      "[[0.88888889 0.11111111]\n",
      " [0.23529412 0.76470588]]\n"
     ]
    },
    {
     "data": {
      "image/png": "[encoded data removed]",
      "text/plain": [
       "<Figure size 432x288 with 2 Axes>"
      ]
     },
     "metadata": {
      "needs_background": "light"
     },
     "output_type": "display_data"
    }
   ],
   "source": [
    "y_pred, y_test = train_predict_logreg(data, target_col)\n",
    "_ = plot_confusion_matrix(y_test, y_pred)\n",
    "_ = plot_confusion_matrix(y_test, y_pred, normalize='yes')"
   ]
  },
  {
   "cell_type": "code",
   "execution_count": 16,
   "metadata": {
    "ExecuteTime": {
     "end_time": "2019-08-02T23:48:56.315335Z",
     "start_time": "2019-08-02T23:48:56.142476Z"
    }
   },
   "outputs": [
    {
     "name": "stdout",
     "output_type": "stream",
     "text": [
      "Normalized confusion matrix\n",
      "[[0.88888889 0.11111111]\n",
      " [0.23529412 0.76470588]]\n"
     ]
    },
    {
     "data": {
      "image/png": "[encoded data removed]",
      "text/plain": [
       "<Figure size 432x288 with 2 Axes>"
      ]
     },
     "metadata": {
      "needs_background": "light"
     },
     "output_type": "display_data"
    }
   ],
   "source": [
    "r = plot_confusion_matrix(y_test, y_pred, normalize='yes')"
   ]
  },
  {
   "cell_type": "code",
   "execution_count": 17,
   "metadata": {
    "ExecuteTime": {
     "end_time": "2019-08-02T23:48:56.392083Z",
     "start_time": "2019-08-02T23:48:56.317827Z"
    }
   },
   "outputs": [],
   "source": [
    "save_confusion_matrix(r,'test2')"
   ]
  },
  {
   "cell_type": "code",
   "execution_count": 18,
   "metadata": {
    "ExecuteTime": {
     "end_time": "2019-08-02T23:48:56.430656Z",
     "start_time": "2019-08-02T23:48:56.398221Z"
    }
   },
   "outputs": [
    {
     "data": {
      "text/plain": [
       "(356, 46)"
      ]
     },
     "execution_count": 18,
     "metadata": {},
     "output_type": "execute_result"
    }
   ],
   "source": [
    "data.shape"
   ]
  },
  {
   "cell_type": "markdown",
   "metadata": {},
   "source": [
    "### Outros encoders \n",
    "\n",
    "[Mais detalhes sobre outros métodos de Feature Engineering - HJ van Veen](https://www.dropbox.com/s/mebc9i6kxgm516c/feature-engineering-mlmeetup.pdf?dl=0)\n",
    "Incluindo spatial data (Lat, Long, address etc) e Natural Langague Processing\n",
    "\n",
    "##### Links do pré-aula\n",
    "[Continuous Numeric Data](https://towardsdatascience.com/understanding-feature-engineering-part-1-continuous-numeric-data-da4e47099a7b)\n",
    "\n",
    "[Categorical Data](https://towardsdatascience.com/understanding-feature-engineering-part-2-categorical-data-f54324193e63)\n"
   ]
  },
  {
   "cell_type": "markdown",
   "metadata": {},
   "source": [
    "### Missing values\n",
    "[Página documentação Pandas](http://pandas.pydata.org/pandas-docs/version/0.22/missing_data.html)"
   ]
  },
  {
   "cell_type": "markdown",
   "metadata": {},
   "source": [
    "### Forma interessante de executar diferentes combinações de features, encoders, algoritmos\n",
    "\n",
    "[Pipeline](https://scikit-learn.org/0.19/modules/generated/sklearn.pipeline.Pipeline.html)\n",
    "\n"
   ]
  }
 ],
 "metadata": {
  "kernelspec": {
   "display_name": "Python 3",
   "language": "python",
   "name": "python3"
  },
  "language_info": {
   "codemirror_mode": {
    "name": "ipython",
    "version": 3
   },
   "file_extension": ".py",
   "mimetype": "text/x-python",
   "name": "python",
   "nbconvert_exporter": "python",
   "pygments_lexer": "ipython3",
   "version": "3.7.1"
  }
 },
 "nbformat": 4,
 "nbformat_minor": 2
}
