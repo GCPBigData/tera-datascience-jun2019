{
 "cells": [
  {
   "cell_type": "markdown",
   "metadata": {},
   "source": [
    "## Aula 14 - Feature Engineering - Parte 2"
   ]
  },
  {
   "cell_type": "code",
   "execution_count": null,
   "metadata": {
    "ExecuteTime": {
     "end_time": "2019-08-02T23:49:20.524760Z",
     "start_time": "2019-08-02T23:49:19.529849Z"
    }
   },
   "outputs": [],
   "source": [
    "import pandas as pd\n",
    "from sklearn.preprocessing import OneHotEncoder, LabelEncoder\n",
    "from sklearn.preprocessing import StandardScaler, RobustScaler\n",
    "from sklearn.model_selection import train_test_split\n",
    "from sklearn.linear_model import LogisticRegression\n",
    "from plotting import plot_confusion_matrix"
   ]
  },
  {
   "cell_type": "code",
   "execution_count": null,
   "metadata": {
    "ExecuteTime": {
     "end_time": "2019-08-02T23:49:27.177157Z",
     "start_time": "2019-08-02T23:49:27.155047Z"
    }
   },
   "outputs": [],
   "source": [
    "data = pd.read_csv('data/Base Analytics.csv')"
   ]
  },
  {
   "cell_type": "code",
   "execution_count": null,
   "metadata": {
    "ExecuteTime": {
     "end_time": "2019-08-02T23:49:27.666939Z",
     "start_time": "2019-08-02T23:49:27.642259Z"
    }
   },
   "outputs": [],
   "source": [
    "numerics = ['int16', 'int32', 'int64', 'float16', 'float32', 'float64']\n",
    "data = data[data['Admissão'] >= '2011-01-01'].reset_index().drop(columns='index')\n",
    "data_num = data.select_dtypes(include=numerics).copy()\n",
    "data_num = data_num.drop(columns=['ADP', 'Cod.Cargo', 'Cod.Cargo Admissão', 'CC', \n",
    "                                              'Hora Extra 2016', 'Hora Negativa 2016', 'Ad. Noturno 2016', \n",
    "                                              'Absenteísmo 2016', 'Hora Extra 2017', 'Hora Negativa 2017', \n",
    "                                              'Ad. Noturno 2017', 'Absenteísmo 2017', 'Banda', \n",
    "                                              '2012/13 Goal Achievement'], axis=1)"
   ]
  },
  {
   "cell_type": "code",
   "execution_count": null,
   "metadata": {
    "ExecuteTime": {
     "end_time": "2019-08-02T23:49:27.871866Z",
     "start_time": "2019-08-02T23:49:27.830177Z"
    }
   },
   "outputs": [],
   "source": [
    "# Preenchendo os nulos\n",
    "for col in data_num.columns:\n",
    "    qtt = data_num[col].isnull().sum()\n",
    "    if qtt > 0:\n",
    "        print(col, qtt)\n",
    "        data_num.update(data_num[col].fillna(data_num[col].mean()))"
   ]
  },
  {
   "cell_type": "code",
   "execution_count": null,
   "metadata": {
    "ExecuteTime": {
     "end_time": "2019-08-02T23:49:28.009742Z",
     "start_time": "2019-08-02T23:49:27.998636Z"
    }
   },
   "outputs": [],
   "source": [
    "# Aplicando o StandardScaler \n",
    "scaler = StandardScaler()\n",
    "data_num_scaled = pd.DataFrame(scaler.fit_transform(data_num.drop(columns='PROMOVIDO')),\n",
    "                               columns=list(data_num.drop(columns='PROMOVIDO').columns))"
   ]
  },
  {
   "cell_type": "markdown",
   "metadata": {},
   "source": [
    "#### Quais outras features usar?\n",
    "Quais são os tipos das features desse dataset?\n",
    "\n",
    "Podemos/queremos usar todas elas? \n",
    "\n",
    ".\n",
    "\n",
    ".\n",
    "\n",
    ".\n",
    "\n",
    ".\n",
    "\n",
    ".\n",
    "\n",
    ".\n",
    "\n",
    ".\n",
    "\n",
    ".\n",
    "\n",
    "."
   ]
  },
  {
   "cell_type": "code",
   "execution_count": null,
   "metadata": {
    "ExecuteTime": {
     "end_time": "2019-08-02T23:49:28.681544Z",
     "start_time": "2019-08-02T23:49:28.674091Z"
    }
   },
   "outputs": [],
   "source": [
    "data.columns"
   ]
  },
  {
   "cell_type": "code",
   "execution_count": null,
   "metadata": {
    "ExecuteTime": {
     "end_time": "2019-08-02T23:49:29.094330Z",
     "start_time": "2019-08-02T23:49:29.084850Z"
    }
   },
   "outputs": [],
   "source": [
    "data.isnull().sum()"
   ]
  },
  {
   "cell_type": "markdown",
   "metadata": {},
   "source": [
    "### Categorical Data"
   ]
  },
  {
   "cell_type": "markdown",
   "metadata": {},
   "source": [
    "#### One Hot Encoding"
   ]
  },
  {
   "cell_type": "markdown",
   "metadata": {},
   "source": [
    "![](images/one_hot1.png)\n",
    "![](images/one_hot2.png)"
   ]
  },
  {
   "cell_type": "code",
   "execution_count": null,
   "metadata": {
    "ExecuteTime": {
     "end_time": "2019-08-02T23:49:29.895916Z",
     "start_time": "2019-08-02T23:49:29.891681Z"
    }
   },
   "outputs": [],
   "source": [
    "le = LabelEncoder()\n",
    "sex_intlabels = le.fit_transform(data['Sexo'])\n",
    "data['Sexo_'] = sex_intlabels"
   ]
  },
  {
   "cell_type": "code",
   "execution_count": null,
   "metadata": {
    "ExecuteTime": {
     "end_time": "2019-08-02T23:49:30.137649Z",
     "start_time": "2019-08-02T23:49:30.103520Z"
    }
   },
   "outputs": [],
   "source": [
    "data.sample(5)"
   ]
  },
  {
   "cell_type": "code",
   "execution_count": null,
   "metadata": {
    "ExecuteTime": {
     "end_time": "2019-08-02T23:49:30.411169Z",
     "start_time": "2019-08-02T23:49:30.399006Z"
    }
   },
   "outputs": [],
   "source": [
    "ohe = OneHotEncoder()\n",
    "sex_cols = ohe.fit_transform(data[['Sexo_']]).toarray()\n",
    "sex_cols_labels = ['Sexo_'+str(cls_label) for cls_label in set(sex_intlabels)]\n",
    "sex_df = pd.DataFrame(sex_cols, columns=sex_cols_labels )"
   ]
  },
  {
   "cell_type": "code",
   "execution_count": null,
   "metadata": {
    "ExecuteTime": {
     "end_time": "2019-08-02T23:49:31.116935Z",
     "start_time": "2019-08-02T23:49:30.641978Z"
    }
   },
   "outputs": [],
   "source": [
    "X = pd.concat([data_num_scaled,sex_df], axis=1)\n",
    "y = data_num['PROMOVIDO']\n",
    "X_train, X_test, y_train, y_test = train_test_split(X, y, test_size=0.3, random_state=0)\n",
    "logreg = LogisticRegression(random_state=42, class_weight='balanced')\n",
    "logreg.fit(X_train, y_train)\n",
    "y_pred = logreg.predict(X_test)\n",
    "_ = plot_confusion_matrix(y_test, y_pred)\n",
    "_ = plot_confusion_matrix(y_test, y_pred, normalize='yes')"
   ]
  },
  {
   "cell_type": "markdown",
   "metadata": {},
   "source": [
    "#### Dummies\n",
    "Pandas Dataframe function [*get_dummies*](http://pandas.pydata.org/pandas-docs/version/0.22/generated/pandas.get_dummies.html)"
   ]
  },
  {
   "cell_type": "code",
   "execution_count": null,
   "metadata": {
    "ExecuteTime": {
     "end_time": "2019-08-02T23:49:31.585309Z",
     "start_time": "2019-08-02T23:49:31.580183Z"
    }
   },
   "outputs": [],
   "source": [
    "# Exercício: 3 min\n",
    "# Aplique o StandardScaler na coluna 'Sexo' do dataframe data\n",
    "sex_dummies = "
   ]
  },
  {
   "cell_type": "code",
   "execution_count": null,
   "metadata": {
    "ExecuteTime": {
     "end_time": "2019-08-02T23:49:32.345357Z",
     "start_time": "2019-08-02T23:49:32.329280Z"
    }
   },
   "outputs": [],
   "source": [
    "X = pd.concat([data_num_scaled,sex_dummies], axis=1)\n",
    "X.sample(5)"
   ]
  },
  {
   "cell_type": "code",
   "execution_count": null,
   "metadata": {
    "ExecuteTime": {
     "end_time": "2019-08-02T23:49:32.708402Z",
     "start_time": "2019-08-02T23:49:32.705427Z"
    }
   },
   "outputs": [],
   "source": [
    "# Exercício: 3 min\n",
    "# Crie X e y, separe em train e test e treine a regressão logística\n",
    "# plote a matriz de confusão do modelo treinado"
   ]
  },
  {
   "cell_type": "markdown",
   "metadata": {},
   "source": [
    "#### Effect Coding\n",
    "- Bem similar ao *dummy*;\n",
    "- Substitui por -1 todos os 0s que representam uma das categorias (primeira ou última) no dummy encoding;\n",
    "- Exemplo do [link 2](https://towardsdatascience.com/understanding-feature-engineering-part-2-categorical-data-f54324193e63) do pré-aula:\n",
    "\n",
    "![Example1](images/effect_coding.png)\n",
    "\n",
    "- [Outro exemplo](https://stats.idre.ucla.edu/other/mult-pkg/faq/general/faqwhat-is-effect-coding/)"
   ]
  },
  {
   "cell_type": "markdown",
   "metadata": {},
   "source": [
    "#### Bin-counting \n",
    "- Maldição da dimensionalidade, categorias \"grandes\" (com muitos valores distintos);\n",
    "- Usa probabilidade baseada em informação estatística da relação do valor com o target;\n",
    "- Exemplo simplificado do [link 2](https://towardsdatascience.com/understanding-feature-engineering-part-2-categorical-data-f54324193e63): construir valores de probabilidade de um ataque DDoS ser causado por qualquer um dos endereços IP baseado em **dados históricos** de endereços IP relacionados a ataques DDoS."
   ]
  },
  {
   "cell_type": "markdown",
   "metadata": {},
   "source": [
    "#### Feature Hashing Scheme\n",
    "- Maldição da dimensionalidade;\n",
    "- **Função Hash** tipicamente usada com um número pré-definido de features resultantes (vetor de comprimento pré-definido) de forma que os valores de hash dos valores da categoria sejam usados como índices nesse vetor predefinido e os valores sejam atualizados de acordo.\n",
    "- Funções Hash mapeiam uma grande quantidade de valores em uma quantidade finita (e pequena) de valores -> colisões.\n",
    "- [Explicação básica sobre funções hash](https://www.techtudo.com.br/artigos/noticia/2012/07/o-que-e-hash.html)\n",
    "- [Função Scikit Learn](https://scikit-learn.org/0.19/modules/generated/sklearn.feature_extraction.FeatureHasher.html)"
   ]
  }
 ],
 "metadata": {
  "kernelspec": {
   "display_name": "Python 3",
   "language": "python",
   "name": "python3"
  },
  "language_info": {
   "codemirror_mode": {
    "name": "ipython",
    "version": 3
   },
   "file_extension": ".py",
   "mimetype": "text/x-python",
   "name": "python",
   "nbconvert_exporter": "python",
   "pygments_lexer": "ipython3",
   "version": "3.7.1"
  }
 },
 "nbformat": 4,
 "nbformat_minor": 2
}
