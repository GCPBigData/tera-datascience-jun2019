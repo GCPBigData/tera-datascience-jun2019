{
 "cells": [
  {
   "cell_type": "markdown",
   "metadata": {
    "slideshow": {
     "slide_type": "slide"
    }
   },
   "source": [
    "# Aula 10 - Extração de dados de fontes remotas para visualização e análise\n",
    "\n",
    "<center>\n",
    "<img src=\"./images/extracting-insights-from-data.jpg\" alt=\"drawing\" width=\"700px\"></center>"
   ]
  },
  {
   "cell_type": "markdown",
   "metadata": {
    "slideshow": {
     "slide_type": "slide"
    }
   },
   "source": [
    "# Expectativas\n",
    "\n",
    "<center>\n",
    "<img src=\"./images/expectations.jpg\" alt=\"drawing\" width=\"700px\"></center>"
   ]
  },
  {
   "cell_type": "markdown",
   "metadata": {
    "slideshow": {
     "slide_type": "slide"
    }
   },
   "source": [
    "**Intrutora:** Patrícia Pampanelli (@patriciapampanelli no Slack)\n",
    "\n",
    "**Experiência:**\n",
    "- Cientista da Computação (UFJF)\n",
    "- Mestre em Modelagem Computacional (UFJF)\n",
    "- Doutora em Processamento de Imagens e Visão Computacional (PUC-Rio)\n",
    "- Sênior Data Scientist - Grupo ZAP\n"
   ]
  },
  {
   "cell_type": "markdown",
   "metadata": {
    "slideshow": {
     "slide_type": "slide"
    }
   },
   "source": [
    "**Interesses:**\n",
    "- Carros Autônomos <img src=\"./images/car.png\" alt=\"drawing\" width=\"80px\"> \n",
    "- Visão Computacional <img src=\"./images/eye.png\" alt=\"drawing\" width=\"80px\">\n",
    "- Processamento de Linguagem Natural <img src=\"./images/text.png\" alt=\"drawing\" width=\"80px\">\n",
    "- Intelligent Video Analytics <img src=\"./images/camera.jpg\" alt=\"drawing\" width=\"80px\">"
   ]
  },
  {
   "cell_type": "markdown",
   "metadata": {
    "slideshow": {
     "slide_type": "slide"
    }
   },
   "source": [
    "# Até agora... CSV\n",
    "\n",
    "<img src=\"./images/receive_data.png\" alt=\"drawing\" width=\"400px\">"
   ]
  },
  {
   "cell_type": "markdown",
   "metadata": {
    "slideshow": {
     "slide_type": "subslide"
    }
   },
   "source": [
    "# E se não temos um CSV?! Como extrair?? Soluções?\n",
    "\n",
    "<p align=\"center\">\n",
    "<img src=\"./images/interrogation.jpg\" alt=\"drawing\" width=\"400px\">\n",
    "</p>"
   ]
  },
  {
   "cell_type": "markdown",
   "metadata": {
    "slideshow": {
     "slide_type": "subslide"
    }
   },
   "source": [
    "# Soluções: Banco de Dados e API (Application Programming Interface)\n",
    "\n",
    "<table>\n",
    "<tr>\n",
    "<td> <img src=\"./images/database.png\" width=\"300\" height=\"300\" /></td>  \n",
    "<td> <img src=\"./images/api.png\" width=\"300\" height=\"300\" /> </td> \n",
    "</tr>\n",
    "</table>"
   ]
  },
  {
   "cell_type": "markdown",
   "metadata": {
    "slideshow": {
     "slide_type": "subslide"
    }
   },
   "source": [
    "# O que é uma API?\n",
    "\n",
    "<center>\n",
    "<video controls src=\"whats-is-an-api.mp4\" size=10/></center>\n",
    "Link: https://www.youtube.com/watch?v=s7wmiS2mSXY&t=46s"
   ]
  },
  {
   "cell_type": "markdown",
   "metadata": {
    "slideshow": {
     "slide_type": "subslide"
    }
   },
   "source": [
    "# Dificuldades para se trabalhar com APIs\n",
    "\n",
    "<img src=\"./images/difficulties.png\" width=\"300\" height=\"300\" />\n",
    "\n",
    "- Boas práticas ao se construir APIs são fundamentais!\n",
    "\n",
    "- Dificuldades podem aparecer:\n",
    "    - pouca documentação\n",
    "    - mudança nas interfaces\n",
    "    - dificuldade de processamento dos dados\n",
    "    - falta de padronização no formato dos dados"
   ]
  },
  {
   "cell_type": "markdown",
   "metadata": {
    "slideshow": {
     "slide_type": "slide"
    }
   },
   "source": [
    "# Como são formadas as APIs REST\n",
    "\n",
    "Podemos dizer que uma API é como se fosse uma página da web só que para computadores. Só eles conseguirem acessar, ler e interagir da maneira adequada com as APIs.\n",
    "\n",
    "Como Data Scientists, vocês utilizarão APIs tanto internas (fornecidas pelas próprias empresas em que vocês trabalham) quanto externas.\n",
    "\n",
    "APIs são uma das principais formas que um Data Scientist utiliza para obter os dados que devem ser analisados.\n",
    "\n",
    "<center>\n",
    "<img src=\"./images/data.gif\" alt=\"drawing\" width=\"600px\"></center>"
   ]
  },
  {
   "cell_type": "markdown",
   "metadata": {
    "slideshow": {
     "slide_type": "slide"
    }
   },
   "source": [
    "Como exemplo, ao acessarmos a API da Jsonplaceholder https://jsonplaceholder.typicode.com/posts/1, vemos o retorno abaixo, ao invés de uma página comum:\n",
    "\n",
    "```python\n",
    "{\n",
    "  \"userId\": 1,\n",
    "  \"id\": 1,\n",
    "  \"title\": \"sunt aut facere repellat provident occaecati excepturi optio reprehenderit\",\n",
    "  \"body\": \"quia et suscipit\\nsuscipit recusandae consequuntur expedita et cum\\nreprehenderit molestiae ut ut quas totam\\nnostrum rerum est autem sunt rem eveniet architecto\"\n",
    "}\n",
    "```\n",
    "\n",
    "Esse padrão de resposta é o que chamamos de JSON (*JavaScript Object Notation - Notação de Objetos JavaScript*), e este é o tipo de resposta mais comum entre as APIs.\n",
    "\n",
    "Ele foi feito para que máquinas entendam seus dados e os utilizem como quiser."
   ]
  },
  {
   "cell_type": "markdown",
   "metadata": {
    "slideshow": {
     "slide_type": "slide"
    }
   },
   "source": [
    "# Como funciona o protocolo HTTP\n",
    "\n",
    "A internet trafega através do protocolo **HTTP (*Hypertext Transfer Protocol*)**. O protocolo HTTP foi criado por **Tim Berners-Lee**, o criador da web, enquanto ele trabalhava na CERN em 1989 (sua equipe e ele também foram responsáveis pelo HTML).\n",
    "\n",
    "O HTTP possui duas entidades básicas: a **Request (pedido)** e a **Response (resposta)**\n",
    "\n",
    "Sempre que entramos em uma página, enviamos uma request para o servidor do site e esperamos uma response com o HTML da página."
   ]
  },
  {
   "cell_type": "markdown",
   "metadata": {
    "slideshow": {
     "slide_type": "slide"
    }
   },
   "source": [
    "Sempre que enviamos um ***Request (pedido)*** devemos especificar um método. A tabela abaixo cita os métodos mais comuns e explica brevemente o objetivo de cada um:\n",
    "\n",
    "| Método |        Objetivo       |\n",
    "|:------:|:---------------------:|\n",
    "| GET    | Obter informações     |\n",
    "| POST   | Salvar informações    |\n",
    "| PUT    | Atualizar informações |\n",
    "| DELETE | Deletar informações   |\n",
    "\n",
    "Todos eles são comumente utilizados por APIs.\n",
    "\n",
    "O método ***GET*** é o que seu navegador usa para baixar o HTML da página.\n",
    "\n",
    "O metódo ***POST*** também é muito utilizado sempre que você envia algum formulário em um site.\n",
    "\n",
    "Além do método, as requisições também possuem um **header**:\n",
    "\n",
    "O **Header (cabeçalho)** tem a função de dizer para o servidor diversos dados sobre quem fez a solicitação. Dessa forma, o servidor consegue até permitir que você veja mais informações dependendo do seu nível de acesso."
   ]
  },
  {
   "cell_type": "markdown",
   "metadata": {
    "slideshow": {
     "slide_type": "slide"
    }
   },
   "source": [
    "Todos as respostas possuem, além do conteúdo da resposta, um código de status.\n",
    "\n",
    "Os códigos de status (status code) seguem um padrão.\n",
    "\n",
    "Os mais comuns são:\n",
    "\n",
    "| Código |                                    Significado                                    |\n",
    "|:------:|:---------------------------------------------------------------------------------:|\n",
    "| 200    | Ok                                                                                |\n",
    "| 3XX    | O servidor vai te redirecionar para outra URL                                     |\n",
    "| 4XX    | O recurso não foi encontrado, não está mais disponível, etc                       |\n",
    "| 5XX    | Algum problema aconteceu no servidor e ele não conseguiu processar a sua request  |"
   ]
  },
  {
   "cell_type": "markdown",
   "metadata": {
    "slideshow": {
     "slide_type": "slide"
    }
   },
   "source": [
    "Outra característica das APIs REST é a **divisão dos recursos**. Por exemplo:\n",
    "\n",
    "https://jsonplaceholder.typicode.com/users/1\n",
    "\n",
    "Ao abrirmos esta URL estamos fazendo um GET para obtermos informações do usuário (/users) com código 1 (/1). Podemos trocar o código do usuário para buscar outros usuários.\n",
    "\n",
    "Também podemos pedir todos os usuários digitando:\n",
    "\n",
    "https://jsonplaceholder.typicode.com/users\n"
   ]
  },
  {
   "cell_type": "markdown",
   "metadata": {
    "slideshow": {
     "slide_type": "slide"
    }
   },
   "source": [
    "Também é muito comum o uso de parâmetros na URL para passarmos **filtros para a API**. Por exemplo:\n",
    "\n",
    "https://jsonplaceholder.typicode.com/comments?postId=1\n",
    "\n",
    "Perceba o **\"?postId=1\"** ao final da URL.\n",
    "\n",
    "Sempre que precisamos passar parâmetros, começamos com um ponto de interrogação (?) e depois utilizamos o & para parâmetros futuros. Por exemplo:\n",
    "\n",
    "https://jsonplaceholder.typicode.com/comments?postId=1&id=3"
   ]
  },
  {
   "cell_type": "markdown",
   "metadata": {
    "slideshow": {
     "slide_type": "slide"
    }
   },
   "source": [
    "# Como funciona o pacote Requests\n",
    "\n",
    "Como vimos anteriormente, o pacote requests do Python é utilizado para nos comunicarmos com URLs.\n",
    "\n",
    "Podemos realizar GET, POST, PUT, DELETE e quaisquer outros métodos HTTP com ele."
   ]
  },
  {
   "cell_type": "code",
   "execution_count": 1,
   "metadata": {
    "slideshow": {
     "slide_type": "subslide"
    }
   },
   "outputs": [
    {
     "name": "stdout",
     "output_type": "stream",
     "text": [
      "Leanne Graham (Sincere@april.biz) - hildegard.org\n",
      "Ervin Howell (Shanna@melissa.tv) - anastasia.net\n",
      "Clementine Bauch (Nathan@yesenia.net) - ramiro.info\n",
      "Patricia Lebsack (Julianne.OConner@kory.org) - kale.biz\n",
      "Chelsey Dietrich (Lucio_Hettinger@annie.ca) - demarco.info\n",
      "Mrs. Dennis Schulist (Karley_Dach@jasper.info) - ola.org\n",
      "Kurtis Weissnat (Telly.Hoeger@billy.biz) - elvis.io\n",
      "Nicholas Runolfsdottir V (Sherwood@rosamond.me) - jacynthe.com\n",
      "Glenna Reichert (Chaim_McDermott@dana.io) - conrad.com\n",
      "Clementina DuBuque (Rey.Padberg@karina.biz) - ambrose.net\n"
     ]
    }
   ],
   "source": [
    "# Veja no exemplo abaixo como podemos fazer isso:\n",
    "\n",
    "import requests\n",
    "\n",
    "api = requests.get('https://jsonplaceholder.typicode.com/users')\n",
    "\n",
    "json = api.json()\n",
    "\n",
    "for user in json:\n",
    "    print('{0} ({1}) - {2}'.format(user['name'], user['email'], user['website']))"
   ]
  },
  {
   "cell_type": "markdown",
   "metadata": {
    "slideshow": {
     "slide_type": "slide"
    }
   },
   "source": [
    "# Exercício - Extraindo Dados do CoinMarketCap via API\n",
    "\n",
    "Vamos usar o pacote requests para o acessar a API do CoinMarketCap.\n",
    "\n",
    "As instruções da API estão disponíveis em: https://coinmarketcap.com/api/documentation/v1/\n",
    "\n",
    "Deveremos extrair os seguintes dados:\n",
    "\n",
    "- Nome da moeda\n",
    "- Preço atual CONVERTIDO EM REAIS\n",
    "- O valor de mercado total\n",
    "- O valor atual em circulação\n",
    "- Percentual de mudança nas últimas 24 horas\n",
    "- Também deveremos limitar para que a API traga apenas 5 moedas para trabalharmos\n",
    "\n",
    "*Tempo: 10 minutos*"
   ]
  },
  {
   "cell_type": "code",
   "execution_count": null,
   "metadata": {
    "slideshow": {
     "slide_type": "subslide"
    }
   },
   "outputs": [],
   "source": [
    "import requests\n",
    "\n",
    "api = requests.get('API')\n",
    "\n",
    "json = api.json()\n",
    "\n",
    "for key in json['data']:\n",
    "\n",
    "    moeda = json['data'][key]\n",
    "    \n",
    "    nome = 'moed'\n",
    "    preco = '$222'\n",
    "    valor_mercado = '$555' \n",
    "    em_circulacao = '46465'\n",
    "    percentual_dia = '1.56%'\n",
    "    print('{0}: {1} ({2} / 24h)'.format(nome, preco, percentual_dia))\n",
    "    print('Em circulação: {0}'.format(em_circulacao))\n",
    "    print('Valor de mercado: {0}'.format(valor_mercado))\n",
    "    print('-------------')"
   ]
  },
  {
   "cell_type": "markdown",
   "metadata": {
    "slideshow": {
     "slide_type": "slide"
    }
   },
   "source": [
    "# Como utilizar APIs com autenticação\n",
    "\n",
    "É muito comum encontrarmos APIs que necessitam de autenticação. Isto é, algum identificador que diz para ela quem está requisitando aquela informação.\n",
    "\n",
    "Para realizarmos autenticação em APIs REST nós normalmente utilizamos um Header e um Token de acesso.\n",
    "\n",
    "Porém, algumas APIs também utilizam parâmetros para realizar a autenticação.\n",
    "\n",
    "Abaixo vamos ver como acessar a API da NASA (https://api.nasa.gov/api.html#authentication) utilizando um token.\n",
    "\n",
    "*Aviso para leitores do futuro: se essa key não funcionar, é só entrar no site da NASA e gerar uma nova digitando o seu e-mail.*"
   ]
  },
  {
   "cell_type": "code",
   "execution_count": 2,
   "metadata": {
    "scrolled": true,
    "slideshow": {
     "slide_type": "subslide"
    }
   },
   "outputs": [
    {
     "name": "stdout",
     "output_type": "stream",
     "text": [
      "2018-10-23\n",
      "How did galaxies form in the early universe? To help find out, astronomers surveyed a patch of dark night sky with the Very Large Telescope array in Chile to find and count galaxies that formed when our universe was very young. Analysis of the distribution of some distant galaxies (redshifts near 2.5) found an enormous conglomeration of galaxies that spanned 300 million light years and contained about 5,000 times the mass of our Milky Way Galaxy.  Dubbed Hyperion, it is currently the largest and most massive proto-supercluster yet discovered in the early universe. A proto-supercluster is a group of young galaxies that is gravitationally collapsing to create a supercluster, which itself a group of several galaxy clusters, which itself is a group of hundreds of galaxies, which itself is a group of billions of stars. In the featured visualization, massive galaxies are depicted in white, while regions containing a large amount of smaller galaxies are shaded blue.  Identifying and understanding such large groups of early galaxies contributes to humanity's understanding of the composition and evolution of the universe as a whole.\n"
     ]
    }
   ],
   "source": [
    "import  requests\n",
    "\n",
    "key = {'api_key': 'w7kB3neCQ3nKhTJ8RbX4tgDrWIhiSJl3EtOpcskT'}\n",
    "\n",
    "api = requests.get('https://api.nasa.gov/planetary/apod', params=key)\n",
    "\n",
    "json = api.json()\n",
    "\n",
    "print(json['date'])\n",
    "print(json['explanation'])"
   ]
  },
  {
   "cell_type": "markdown",
   "metadata": {
    "slideshow": {
     "slide_type": "subslide"
    }
   },
   "source": [
    "# Nós podemos inclusive visualizar a imagem do dia na NASA!!!\n",
    "\n",
    "<center>\n",
    "<img src=\"./images/uau.jpg\" alt=\"drawing\" width=\"400px\"></center>"
   ]
  },
  {
   "cell_type": "code",
   "execution_count": 2,
   "metadata": {
    "slideshow": {
     "slide_type": "subslide"
    }
   },
   "outputs": [
    {
     "data": {
      "text/plain": [
       "<matplotlib.image.AxesImage at 0x7f3c26f8e048>"
      ]
     },
     "execution_count": 2,
     "metadata": {},
     "output_type": "execute_result"
    },
    {
     "data": {
      "image/png": "[encoded data removed]",
      "text/plain": [
       "<Figure size 432x288 with 1 Axes>"
      ]
     },
     "metadata": {
      "needs_background": "light"
     },
     "output_type": "display_data"
    }
   ],
   "source": [
    "# Para instalação do pacote scikit-image, descomentar a linha abaixo\n",
    "#!pip3 install scikit-image\n",
    "from skimage import io\n",
    "import matplotlib.pyplot as plt\n",
    "import  requests\n",
    "\n",
    "key = {'api_key': 'w7kB3neCQ3nKhTJ8RbX4tgDrWIhiSJl3EtOpcskT'}\n",
    "\n",
    "api = requests.get('https://api.nasa.gov/planetary/apod', params=key)\n",
    "\n",
    "json = api.json()\n",
    "\n",
    "image = io.imread(json['url'])\n",
    "plt.imshow(image)"
   ]
  },
  {
   "cell_type": "markdown",
   "metadata": {
    "slideshow": {
     "slide_type": "slide"
    }
   },
   "source": [
    "# Escrita e leitura de arquivos em Python\n",
    "\n",
    "Em Python, assim como em outras linguagens de programação, podemos manipular arquivos que estão em nosso disco.\n",
    "\n",
    "Para isso, utilizamos o open para nos trazer um objeto de arquivo.\n",
    "\n",
    "O open precisa saber o nome do arquivo para conseguir ler seu conteúdo:\n",
    "\n",
    "```python\n",
    "open(\"nome_do_arquivo\")\n",
    "```\n",
    "\n",
    "No entanto, existe um segundo argumento que podemos passar para dizer qual o modo que queremos trabalhar com esse arquivo.\n",
    "\n",
    "Abaixo podemos ver exemplos de códigos com os modos mais comuns:\n",
    "\n",
    "```python\n",
    "open('nome_do_arquivo', 'r')  #Apenas leitura - padrão quando o modo é omitido\n",
    "\n",
    "open('nome_do_arquivo', 'r+') #Leitura e escrita\n",
    "\n",
    "open('nome_do_arquivo', 'w')  #Apenas escrita, apaga tudo que tem no arquivo antes de escrever novamente\n",
    "\n",
    "open('nome_do_arquivo', 'a')  #\"Append\", adiciona o que você quiser ao final do arquivo, sem apagar nada\n",
    "```"
   ]
  },
  {
   "cell_type": "markdown",
   "metadata": {
    "slideshow": {
     "slide_type": "slide"
    }
   },
   "source": [
    "Também existe um argumento para passarmos em qual encoding gostaríamos de escrever.\n",
    "\n",
    "```python\n",
    "open('nome_do_arquivo', 'w', encoding='utf-8')\n",
    "```"
   ]
  },
  {
   "cell_type": "markdown",
   "metadata": {
    "slideshow": {
     "slide_type": "slide"
    }
   },
   "source": [
    "Você pode conferir todos os parâmetros do método open aqui: https://docs.python.org/3/library/functions.html#open\n",
    "\n",
    "Todo o processo de escrita e leitura de arquivos deve ser feita com muito cuidado. Como são operações mais lentas, você pode acabar travando seu computador se fizer um loop errado enquanto escreve um arquivo.\n",
    "\n",
    "Por isso, é muito importante se lembrar de SEMPRE fechar o arquivo após o uso dele no Python.\n",
    "\n",
    "Vamos ver um exemplo:\n",
    "\n",
    "```python\n",
    "f = open('arquivo_teste.txt', 'w')\n",
    "\n",
    "f.write('Alô? Alguém me escuta?')\n",
    "\n",
    "f.close()\n",
    "```\n"
   ]
  },
  {
   "cell_type": "markdown",
   "metadata": {
    "slideshow": {
     "slide_type": "slide"
    }
   },
   "source": [
    "# Porque o Context Manager (with) é necessário\n",
    "\n",
    "Em Python, podemos pedir ajuda de um Context Manager para automaticamente fechar o arquivo após o uso.\n",
    "\n",
    "Isso é a recomendação das boas práticas e evita que seu código tenha bugs.\n",
    "\n",
    "Para utilizarmos essa funcionalidade, basta utilizar a palavra reservada with\n",
    "\n",
    "Vamos ver um exemplo:\n",
    "\n",
    "```python\n",
    "with open(('arquivo_teste.txt''arquivo , 'r') as f:\n",
    "    print(f.readline())\n",
    "\n",
    "print('\\n\\nSerá que o arquivo está fechado? {0}'.format(f.closed))\n",
    "```\n"
   ]
  },
  {
   "cell_type": "markdown",
   "metadata": {
    "slideshow": {
     "slide_type": "slide"
    }
   },
   "source": [
    "# O que é um arquivo CSV (*Comma-separated values*)\n",
    "\n",
    "Arquivos CSV são apenas uma coleção de dados separados por um caractere especial (normalmente , ou ;).\n",
    "\n",
    "Eles são muito importantes para fazer movimentações de dados de um lugar para o outro.\n",
    "\n",
    "Todos os softwares de planilha do mercado aceitam arquivos CSV.\n",
    "\n",
    "Alguns cuidados que devemos seguir ao criar um arquivo CSV:\n",
    "\n",
    "- Sempre terminar as linhas com **\\n**\n",
    "- Sempre utilizar o encoding como **utf-8**\n",
    "- Utilizar caracteres que não influenciam no dado (ex.: vírgulas para separar dados númericos que também usam vírgulas)\n",
    "\n",
    "Vamos ver um exemplo de como podemos criar um arquivo CSV em Python a partir do scraping da API do Jsonplaceholder."
   ]
  },
  {
   "cell_type": "code",
   "execution_count": 5,
   "metadata": {
    "slideshow": {
     "slide_type": "subslide"
    }
   },
   "outputs": [
    {
     "name": "stdout",
     "output_type": "stream",
     "text": [
      "Leanne Graham;Sincere@april.biz;hildegard.org\n",
      "\n",
      "Ervin Howell;Shanna@melissa.tv;anastasia.net\n",
      "\n",
      "Clementine Bauch;Nathan@yesenia.net;ramiro.info\n",
      "\n",
      "Patricia Lebsack;Julianne.OConner@kory.org;kale.biz\n",
      "\n",
      "Chelsey Dietrich;Lucio_Hettinger@annie.ca;demarco.info\n",
      "\n",
      "Mrs. Dennis Schulist;Karley_Dach@jasper.info;ola.org\n",
      "\n",
      "Kurtis Weissnat;Telly.Hoeger@billy.biz;elvis.io\n",
      "\n",
      "Nicholas Runolfsdottir V;Sherwood@rosamond.me;jacynthe.com\n",
      "\n",
      "Glenna Reichert;Chaim_McDermott@dana.io;conrad.com\n",
      "\n",
      "Clementina DuBuque;Rey.Padberg@karina.biz;ambrose.net\n",
      "\n"
     ]
    }
   ],
   "source": [
    "import requests\n",
    "\n",
    "api = requests.get('https://jsonplaceholder.typicode.com/users')\n",
    "\n",
    "json = api.json()\n",
    "\n",
    "with open('lista_de_usuarios.csv', 'w', encoding='utf-8') as f:\n",
    "    for user in json:\n",
    "        f.write('{0};{1};{2}\\n'.format(user['name'], user['email'], user['website']))\n",
    "\n",
    "        \n",
    "# Vamos ler nosso arquivo\n",
    "with open('lista_de_usuarios.csv', 'r') as r:\n",
    "    for line in r:\n",
    "        print(line)"
   ]
  },
  {
   "cell_type": "markdown",
   "metadata": {
    "slideshow": {
     "slide_type": "slide"
    }
   },
   "source": [
    "# Exercício - CSV com os dados do CoinMarketCap\n",
    "\n",
    "Vamos usar o pacote requests para o acessar a API do CoinMarketCap e em seguida gravar o retorno em um CSV.\n",
    "\n",
    "As instruções da API estão disponíveis em: https://coinmarketcap.com/api/documentation/v1/\n",
    "\n",
    "Deveremos extrair os seguintes dados:\n",
    "\n",
    "- Nome da moeda\n",
    "- Preço atual CONVERTIDO EM REAIS\n",
    "- O valor de mercado total\n",
    "- O valor atual em circulação\n",
    "- Percentual de mudança nas últimas 24 horas\n",
    "- Não precisaremos limitar a quantidade de moedas para esse exercício\n",
    "\n",
    "*Tempo: 10 minutos*"
   ]
  },
  {
   "cell_type": "code",
   "execution_count": null,
   "metadata": {
    "slideshow": {
     "slide_type": "subslide"
    }
   },
   "outputs": [],
   "source": [
    "import requests\n",
    "\n",
    "api = requests.get('API')\n",
    "\n",
    "json = api.json()\n",
    "\n",
    "# TODO - Abrir arquivo \n",
    "\n",
    "# TODO - Escrever em padrão CSV\n",
    "\n",
    "# TODO - Ler novamento o arquivo salvo e imprimir"
   ]
  },
  {
   "cell_type": "markdown",
   "metadata": {
    "slideshow": {
     "slide_type": "slide"
    }
   },
   "source": [
    "# Nós temos os dados! E agora?\n",
    "\n",
    "<center>\n",
    "<img src=\"./images/what.jpg\" alt=\"drawing\" width=\"800px\"></center>\n"
   ]
  },
  {
   "cell_type": "markdown",
   "metadata": {
    "slideshow": {
     "slide_type": "slide"
    }
   },
   "source": [
    "# Recapitulando...\n",
    "\n",
    "- Aula 7 - Análise de Dados Estruturados\n",
    "- Aula 9 - Visualização de dados para tomada de decisão\n",
    "\n",
    "<center>\n",
    "<img src=\"./images/pandas.gif\" alt=\"drawing\" width=\"500px\"></center>"
   ]
  },
  {
   "cell_type": "markdown",
   "metadata": {
    "slideshow": {
     "slide_type": "slide"
    }
   },
   "source": [
    "# Criando um Pandas Dataframe"
   ]
  },
  {
   "cell_type": "code",
   "execution_count": 6,
   "metadata": {
    "scrolled": true,
    "slideshow": {
     "slide_type": "subslide"
    }
   },
   "outputs": [
    {
     "data": {
      "text/html": [
       "<div>\n",
       "<style scoped>\n",
       "    .dataframe tbody tr th:only-of-type {\n",
       "        vertical-align: middle;\n",
       "    }\n",
       "\n",
       "    .dataframe tbody tr th {\n",
       "        vertical-align: top;\n",
       "    }\n",
       "\n",
       "    .dataframe thead th {\n",
       "        text-align: right;\n",
       "    }\n",
       "</style>\n",
       "<table border=\"1\" class=\"dataframe\">\n",
       "  <thead>\n",
       "    <tr style=\"text-align: right;\">\n",
       "      <th></th>\n",
       "      <th>24h_volume_brl</th>\n",
       "      <th>24h_volume_usd</th>\n",
       "      <th>available_supply</th>\n",
       "      <th>id</th>\n",
       "      <th>last_updated</th>\n",
       "      <th>market_cap_brl</th>\n",
       "      <th>market_cap_usd</th>\n",
       "      <th>max_supply</th>\n",
       "      <th>name</th>\n",
       "      <th>percent_change_1h</th>\n",
       "      <th>percent_change_24h</th>\n",
       "      <th>percent_change_7d</th>\n",
       "      <th>price_brl</th>\n",
       "      <th>price_btc</th>\n",
       "      <th>price_usd</th>\n",
       "      <th>rank</th>\n",
       "      <th>symbol</th>\n",
       "      <th>total_supply</th>\n",
       "    </tr>\n",
       "  </thead>\n",
       "  <tbody>\n",
       "    <tr>\n",
       "      <th>0</th>\n",
       "      <td>13398308023.9</td>\n",
       "      <td>3625377607.47</td>\n",
       "      <td>17338550.0</td>\n",
       "      <td>bitcoin</td>\n",
       "      <td>1540344563</td>\n",
       "      <td>414580479916</td>\n",
       "      <td>112179148718</td>\n",
       "      <td>21000000.0</td>\n",
       "      <td>Bitcoin</td>\n",
       "      <td>-0.13</td>\n",
       "      <td>-0.22</td>\n",
       "      <td>-1.76</td>\n",
       "      <td>23910.9083468</td>\n",
       "      <td>1.0</td>\n",
       "      <td>6469.92676537</td>\n",
       "      <td>1</td>\n",
       "      <td>BTC</td>\n",
       "      <td>17338550.0</td>\n",
       "    </tr>\n",
       "    <tr>\n",
       "      <th>1</th>\n",
       "      <td>4550507797.55</td>\n",
       "      <td>1231297940.19</td>\n",
       "      <td>102759139.0</td>\n",
       "      <td>ethereum</td>\n",
       "      <td>1540344565</td>\n",
       "      <td>77570131163.0</td>\n",
       "      <td>20989293277.0</td>\n",
       "      <td>None</td>\n",
       "      <td>Ethereum</td>\n",
       "      <td>-0.09</td>\n",
       "      <td>-0.12</td>\n",
       "      <td>-2.63</td>\n",
       "      <td>754.873308026</td>\n",
       "      <td>0.03153922</td>\n",
       "      <td>204.257192961</td>\n",
       "      <td>2</td>\n",
       "      <td>ETH</td>\n",
       "      <td>102759139.0</td>\n",
       "    </tr>\n",
       "    <tr>\n",
       "      <th>2</th>\n",
       "      <td>1680690551.37</td>\n",
       "      <td>454769205.122</td>\n",
       "      <td>39997634397.0</td>\n",
       "      <td>ripple</td>\n",
       "      <td>1540344545</td>\n",
       "      <td>68411028299.0</td>\n",
       "      <td>18510979868.0</td>\n",
       "      <td>100000000000</td>\n",
       "      <td>XRP</td>\n",
       "      <td>-0.18</td>\n",
       "      <td>1.87</td>\n",
       "      <td>-1.09</td>\n",
       "      <td>1.7103768593</td>\n",
       "      <td>0.00007146</td>\n",
       "      <td>0.4628018668</td>\n",
       "      <td>3</td>\n",
       "      <td>XRP</td>\n",
       "      <td>99991817275.0</td>\n",
       "    </tr>\n",
       "    <tr>\n",
       "      <th>3</th>\n",
       "      <td>984642263.619</td>\n",
       "      <td>266429164.602</td>\n",
       "      <td>17418838.0</td>\n",
       "      <td>bitcoin-cash</td>\n",
       "      <td>1540344569</td>\n",
       "      <td>28604126297.0</td>\n",
       "      <td>7739839894.0</td>\n",
       "      <td>21000000.0</td>\n",
       "      <td>Bitcoin Cash</td>\n",
       "      <td>0.26</td>\n",
       "      <td>-0.85</td>\n",
       "      <td>-2.75</td>\n",
       "      <td>1642.13750185</td>\n",
       "      <td>0.06860984</td>\n",
       "      <td>444.337338489</td>\n",
       "      <td>4</td>\n",
       "      <td>BCH</td>\n",
       "      <td>17418838.0</td>\n",
       "    </tr>\n",
       "    <tr>\n",
       "      <th>4</th>\n",
       "      <td>1202268461.35</td>\n",
       "      <td>325315491.341</td>\n",
       "      <td>906245118.0</td>\n",
       "      <td>eos</td>\n",
       "      <td>1540344564</td>\n",
       "      <td>18133096310.0</td>\n",
       "      <td>4906539035.0</td>\n",
       "      <td>None</td>\n",
       "      <td>EOS</td>\n",
       "      <td>-0.29</td>\n",
       "      <td>0.08</td>\n",
       "      <td>-0.56</td>\n",
       "      <td>20.0090416576</td>\n",
       "      <td>0.00083599</td>\n",
       "      <td>5.4141412067</td>\n",
       "      <td>5</td>\n",
       "      <td>EOS</td>\n",
       "      <td>1006245120.0</td>\n",
       "    </tr>\n",
       "  </tbody>\n",
       "</table>\n",
       "</div>"
      ],
      "text/plain": [
       "  24h_volume_brl 24h_volume_usd available_supply            id last_updated  \\\n",
       "0  13398308023.9  3625377607.47       17338550.0       bitcoin   1540344563   \n",
       "1  4550507797.55  1231297940.19      102759139.0      ethereum   1540344565   \n",
       "2  1680690551.37  454769205.122    39997634397.0        ripple   1540344545   \n",
       "3  984642263.619  266429164.602       17418838.0  bitcoin-cash   1540344569   \n",
       "4  1202268461.35  325315491.341      906245118.0           eos   1540344564   \n",
       "\n",
       "  market_cap_brl market_cap_usd    max_supply          name percent_change_1h  \\\n",
       "0   414580479916   112179148718    21000000.0       Bitcoin             -0.13   \n",
       "1  77570131163.0  20989293277.0          None      Ethereum             -0.09   \n",
       "2  68411028299.0  18510979868.0  100000000000           XRP             -0.18   \n",
       "3  28604126297.0   7739839894.0    21000000.0  Bitcoin Cash              0.26   \n",
       "4  18133096310.0   4906539035.0          None           EOS             -0.29   \n",
       "\n",
       "  percent_change_24h percent_change_7d      price_brl   price_btc  \\\n",
       "0              -0.22             -1.76  23910.9083468         1.0   \n",
       "1              -0.12             -2.63  754.873308026  0.03153922   \n",
       "2               1.87             -1.09   1.7103768593  0.00007146   \n",
       "3              -0.85             -2.75  1642.13750185  0.06860984   \n",
       "4               0.08             -0.56  20.0090416576  0.00083599   \n",
       "\n",
       "       price_usd rank symbol   total_supply  \n",
       "0  6469.92676537    1    BTC     17338550.0  \n",
       "1  204.257192961    2    ETH    102759139.0  \n",
       "2   0.4628018668    3    XRP  99991817275.0  \n",
       "3  444.337338489    4    BCH     17418838.0  \n",
       "4   5.4141412067    5    EOS   1006245120.0  "
      ]
     },
     "execution_count": 6,
     "metadata": {},
     "output_type": "execute_result"
    }
   ],
   "source": [
    "%matplotlib inline\n",
    "\n",
    "import pandas as pd\n",
    "import requests\n",
    "\n",
    "# Obtendo os dados a partir da API\n",
    "api = requests.get('https://api.coinmarketcap.com/v1/ticker/?convert=BRL')\n",
    "json = api.json()\n",
    "\n",
    "# Criando um pandas Dataframe\n",
    "df = pd.DataFrame.from_records(json)\n",
    "df.head()"
   ]
  },
  {
   "cell_type": "markdown",
   "metadata": {
    "slideshow": {
     "slide_type": "slide"
    }
   },
   "source": [
    "# Descrição do Dataframe"
   ]
  },
  {
   "cell_type": "code",
   "execution_count": 7,
   "metadata": {},
   "outputs": [
    {
     "name": "stdout",
     "output_type": "stream",
     "text": [
      "<class 'pandas.core.frame.DataFrame'>\n",
      "RangeIndex: 100 entries, 0 to 99\n",
      "Data columns (total 18 columns):\n",
      "24h_volume_brl        100 non-null object\n",
      "24h_volume_usd        100 non-null object\n",
      "available_supply      100 non-null object\n",
      "id                    100 non-null object\n",
      "last_updated          100 non-null object\n",
      "market_cap_brl        100 non-null object\n",
      "market_cap_usd        100 non-null object\n",
      "max_supply            29 non-null object\n",
      "name                  100 non-null object\n",
      "percent_change_1h     100 non-null object\n",
      "percent_change_24h    100 non-null object\n",
      "percent_change_7d     100 non-null object\n",
      "price_brl             100 non-null object\n",
      "price_btc             100 non-null object\n",
      "price_usd             100 non-null object\n",
      "rank                  100 non-null object\n",
      "symbol                100 non-null object\n",
      "total_supply          100 non-null object\n",
      "dtypes: object(18)\n",
      "memory usage: 14.1+ KB\n"
     ]
    }
   ],
   "source": [
    "df.info()"
   ]
  },
  {
   "cell_type": "markdown",
   "metadata": {
    "slideshow": {
     "slide_type": "slide"
    }
   },
   "source": [
    "# Quais os tipos dos dados?\n",
    "\n"
   ]
  },
  {
   "cell_type": "code",
   "execution_count": 8,
   "metadata": {
    "slideshow": {
     "slide_type": "subslide"
    }
   },
   "outputs": [
    {
     "data": {
      "text/plain": [
       "24h_volume_brl        object\n",
       "24h_volume_usd        object\n",
       "available_supply      object\n",
       "id                    object\n",
       "last_updated          object\n",
       "market_cap_brl        object\n",
       "market_cap_usd        object\n",
       "max_supply            object\n",
       "name                  object\n",
       "percent_change_1h     object\n",
       "percent_change_24h    object\n",
       "percent_change_7d     object\n",
       "price_brl             object\n",
       "price_btc             object\n",
       "price_usd             object\n",
       "rank                  object\n",
       "symbol                object\n",
       "total_supply          object\n",
       "dtype: object"
      ]
     },
     "execution_count": 8,
     "metadata": {},
     "output_type": "execute_result"
    }
   ],
   "source": [
    "df.dtypes"
   ]
  },
  {
   "cell_type": "markdown",
   "metadata": {
    "slideshow": {
     "slide_type": "slide"
    }
   },
   "source": [
    "# Exercício\n",
    "\n",
    "Objetivos: \n",
    "- Vamos alterar o tipos das colunas para float: 'percent_change_1h', 'percent_change_24h', 'percent_change_7d' ([Função *astype*](https://pandas.pydata.org/pandas-docs/stable/generated/pandas.DataFrame.astype.html))\n",
    "- Visualizar rapidamente com boxplot os dados das colunas acima [Plots utilizando pandas](https://pandas.pydata.org/pandas-docs/stable/generated/pandas.DataFrame.plot.html)\n",
    "- O que podemos observar sobre os dados de porcentagem de variação por hora, dia e semana de cada criptomoeda?\n",
    "\n",
    "*Tempo: 20 minutos*"
   ]
  },
  {
   "cell_type": "code",
   "execution_count": null,
   "metadata": {
    "slideshow": {
     "slide_type": "subslide"
    }
   },
   "outputs": [],
   "source": [
    "import pandas as pd\n",
    "import requests\n",
    "\n",
    "# Obtendo os dados a partir da API\n",
    "api = requests.get('https://api.coinmarketcap.com/v1/ticker/?convert=BRL')\n",
    "json = api.json()\n",
    "\n",
    "# Criando um pandas Dataframe\n",
    "\n",
    "\n",
    "# Convertendo os tipos para float\n",
    "\n",
    "\n",
    "# Plots - Experimente diversos plots e interprete os resultados"
   ]
  },
  {
   "cell_type": "markdown",
   "metadata": {
    "slideshow": {
     "slide_type": "slide"
    }
   },
   "source": [
    "# Exercício\n",
    "\n",
    "Objetivos:\n",
    "\n",
    "- Plotar um gráfico de barras com os preço em bitcoin das 20 primeiras criptomoedas do dataset utilizando o pacote seaborn\n",
    "- Plotar o gráfico horizontal\n",
    "\n",
    "*Tempo: 10 minutos*"
   ]
  },
  {
   "cell_type": "code",
   "execution_count": null,
   "metadata": {},
   "outputs": [],
   "source": [
    "import pandas as pd\n",
    "import requests\n",
    "import seaborn as sns\n",
    "\n",
    "# Obtendo os dados a partir da API\n",
    "api = requests.get('https://api.coinmarketcap.com/v1/ticker/?convert=BRL')\n",
    "json = api.json()\n",
    "\n",
    "# Criando um pandas Dataframe\n",
    "df = pd.DataFrame.from_records(json)\n",
    "\n",
    "# Convertendo para o tipo float\n",
    "\n",
    "# Plot horizontal\n"
   ]
  },
  {
   "cell_type": "markdown",
   "metadata": {
    "slideshow": {
     "slide_type": "slide"
    }
   },
   "source": [
    "# Outras APIs para estudo\n",
    "\n",
    "- https://api.nasa.gov/api.html\n",
    "- https://jobs.github.com/api\n",
    "- http://quotesondesign.com/wp-json/posts?filter[orderby]=rand&filter[posts_per_page]=25\n",
    "- https://carbon-intensity.github.io/api-definitions/\n",
    "- http://www.recipepuppy.com/about/api/\n",
    "- https://app.swaggerhub.com/apis/Bandsintown/PublicAPI/3.0.0"
   ]
  },
  {
   "cell_type": "markdown",
   "metadata": {
    "scrolled": true,
    "slideshow": {
     "slide_type": "slide"
    }
   },
   "source": [
    "# Dúvidas?\n",
    "\n",
    "<center>\n",
    "<img src=\"https://unmeritedlove.files.wordpress.com/2013/11/doubt.jpg?w=334&h=209\" alt=\"drawing\" width=\"500px\"></center>"
   ]
  },
  {
   "cell_type": "code",
   "execution_count": null,
   "metadata": {},
   "outputs": [],
   "source": []
  }
 ],
 "metadata": {
  "celltoolbar": "Slideshow",
  "kernelspec": {
   "display_name": "Python 3",
   "language": "python",
   "name": "python3"
  },
  "language_info": {
   "codemirror_mode": {
    "name": "ipython",
    "version": 3
   },
   "file_extension": ".py",
   "mimetype": "text/x-python",
   "name": "python",
   "nbconvert_exporter": "python",
   "pygments_lexer": "ipython3",
   "version": "3.6.7"
  }
 },
 "nbformat": 4,
 "nbformat_minor": 2
}
